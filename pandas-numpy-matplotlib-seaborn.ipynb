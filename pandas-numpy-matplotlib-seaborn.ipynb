{
  "nbformat": 4,
  "nbformat_minor": 0,
  "metadata": {
    "colab": {
      "provenance": []
    },
    "kernelspec": {
      "name": "python3",
      "display_name": "Python 3"
    },
    "language_info": {
      "name": "python"
    }
  },
  "cells": [
    {
      "cell_type": "code",
      "execution_count": null,
      "metadata": {
        "id": "TT_wy0aSOGgI"
      },
      "outputs": [],
      "source": []
    },
    {
      "cell_type": "markdown",
      "source": [
        "# ---------->> 1. What is NumPy, and why is it widely used in Python\n",
        "\n",
        "---->> NumPy, or Numerical Python, is an open-source Python library that provides support for large, multi-dimensional arrays and matrices. It's used for scientific computing and mathematical operations.\n",
        "\n",
        "# Why is NumPy used in Python?\n",
        "\n",
        "1. Fast numeric computation\n",
        "\n",
        "* NumPy is designed to perform optimized mathematical operations on large arrays quickly.\n",
        "\n",
        "2. Integrates with other libraries\n",
        "\n",
        "* NumPy is the core library for scientific computing and integrates with other Python libraries, like Scikit-learn and SciPy.\n",
        "\n",
        "3. Supports advanced mathematical functions\n",
        "\n",
        "* NumPy includes functions for linear algebra, random simulation, Fourier transforms, trigonometric operations, and statistical operations.\n",
        "\n",
        "4. Can be used with other programming languages\n",
        "\n",
        "* NumPy's C-API allows you to extend access to NumPy functions with C programming.\n",
        "\n",
        "\n",
        "# ------------>> 2.  How does broadcasting work in NumPy\n",
        "\n",
        "Broadcasting in NumPy is a powerful mechanism that allows you to perform operations on arrays with different shapes without explicitly creating intermediate arrays. It effectively \"stretches\" or \"broadcasts\" the smaller array across the larger one, making their shapes compatible for element-wise operations.\n",
        "\n",
        "---> Key Concepts:\n",
        "\n",
        "1 Dimension Compatibility:\n",
        "\n",
        "* Two dimensions are compatible when:\n",
        "\n",
        "* They are equal in size.\n",
        "\n",
        "* One of them has a size of 1.\n",
        "\n",
        "2. Broadcasting Rules:\n",
        "\n",
        "* NumPy compares the shapes of arrays from the trailing (rightmost) dimension and works its way left.\n",
        "\n",
        "* Dimensions are compatible if they meet the conditions mentioned above.\n",
        "\n",
        "* If dimensions are not compatible, an error is raised.\n",
        "\n",
        "#------->> 3.  What is a Pandas DataFrame\n",
        "\n",
        "* pandas DataFrame is a way to represent and work with tabular data. It can be seen as a table that organizes data into rows and columns, making it a two-dimensional data structure. A DataFrame can be created from scratch, or you can use other data structures, like NumPy arrays.\n",
        "\n",
        " # ---------->> Explain the use of the groupby() method in Pandas\n",
        "\n",
        "\n",
        "1. Splitting the Original Object into Groups\n",
        "\n",
        "* At this stage, we call the pandas DataFrame. groupby() function. We use it to split the data into groups based on predefined criteria, along rows (by default, axis=0 ), or columns ( axis=1 ). In other words, this function maps the labels to the names of the groups\n",
        "\n",
        "# ------->> 5 Why is Seaborn preferred for statistical visualizations\n",
        "\n",
        "1. The power of Seaborn lies in its ability to seamlessly integrate with pandas, one of Python's most popular libraries for data manipulation. This integration allows users to visualize pandas DataFrames directly, making the transition from data analysis to data visualization incredibly smooth.10 Sept 2024\n",
        "\n",
        "# ------->> 6  What are the differences between NumPy arrays and Python lists\n",
        "\n",
        "1. The main difference is that NumPy arrays are much faster and have strict requirements on the homogeneity of the objects. Both lists and NumPy arrays have a wide array of built-in methods for performing a variety of tasks including sorting, finding min/max, truncating, appending, concatenating and much more.\n",
        "\n",
        "# ------->> 7  What is a heatmap, and when should it be used\n",
        "\n",
        "---->> A heatmap is a visual representation of data that uses color to show values. Heatmaps are used to analyze data, identify patterns, and communicate relationships between data points.\n",
        "\n",
        "# When to use a heatmap\n",
        "\n",
        "1. User behavior\n",
        "\n",
        "* To analyze how users interact with a website, such as where they click, how far they scroll, or what elements they look at\n",
        "\n",
        "2. Product performance\n",
        "\n",
        "*  To show how products perform in different locations, such as a retail store\n",
        "\n",
        "3. Data exploration\n",
        "\n",
        "* To explore large datasets and identify patterns and correlations\n",
        "\n",
        "4. Decision making\n",
        "\n",
        "* To make informed decisions about inventory management, marketing strategies, and more\n",
        "\n",
        "5. Game analysis\n",
        "\n",
        "* To identify patterns and strategies in a game, and to make decisions to improve\n",
        "performance\n",
        "\n",
        "6. How heatmaps work\n",
        "\n",
        "* Heatmaps use a grid of colored squares to represent values.\n",
        "\n",
        "* Darker colors usually represent higher values, while lighter colors represent lower values.\n",
        "\n",
        "* Heatmaps can use clustering analysis and kernel density estimation methods to show large datasets.\n",
        "\n",
        "# --------->> 8.  What does the term “vectorized operation” mean in NumPy.\n",
        "\n",
        "* Vectorized Operations in NumPy. Vectorization in NumPy is a method of performing operations on entire arrays without explicit loops. This approach leverages NumPy's underlying C implementation for faster and more efficient computations.\n",
        "\n",
        "# --------->>  How does Matplotlib differ from Plotly.\n",
        "\n",
        "* Matplotlib is more explicit in declaring each plot element, making it an ideal place for new Python users to start, while Plotly is well-suited for creating interactive plots to be displayed in a web browser.\n",
        "\n",
        "#--------->> 10.  What is the significance of hierarchical indexing in Pandas.\n",
        "\n",
        "* What are the Advantages of Hierarchical Indexing? In pandas, MultiIndexes can help to provide optimized queries and preserve relationships. MultiIndexes are themselves data values, and pandas handles them as such in queries, but the full contents of a hierarchical index are displayable in the results view.\n",
        "\n",
        "\n",
        "# ----------->> 11.  What is the role of Seaborn’s pairplot() function.\n",
        "\n",
        "* Seaborn Pairplot is a Python data visualization library that allows you to plot pairwise relationships between variables within a data set. Here's how to use it. The Seaborn Pairplot allows us to plot pairwise relationships between variables within a data set.8 May 2024\n",
        "\n",
        "# ---------->> 12.  What is the purpose of the describe() function in Pandas\n",
        "\n",
        "-->> The describe() function in Pandas provides a quick summary of a DataFrame's key statistical metrics. It's used to generate descriptive statistics that summarize the distribution of a dataset.\n",
        "\n",
        "1. What does it do?\n",
        "\n",
        "* Calculates statistical data like the mean, standard deviation, and percentiles\n",
        "\n",
        "* Summarizes the central tendency,\n",
        "dispersion, and shape of a dataset's distribution\n",
        "\n",
        "* Excludes NaN values\n",
        "\n",
        "* Analyzes both numeric and object series\n",
        "\n",
        "2. What does it return?\n",
        "\n",
        "* The count, mean, standard deviation, minimum, 25th percentile, median, 75th percentile, and maximum of the columns\n",
        "\n",
        "3. How does it work?\n",
        "\n",
        "* By default, describe() works with numeric data but can also handle categorical data\n",
        "\n",
        "* The output will vary depending on what is provided\n",
        "\n",
        "# -------->> 13.  Why is handling missing data important in Pandas.\n",
        "\n",
        "--->> Handling missing data in Pandas is important because it can affect the accuracy of your analysis and the conclusions you draw. Missing data can occur for many reasons, including errors in data collection or merging datasets.\n",
        "\n",
        "1. Why is it important to handle missing data?\n",
        "\n",
        "* Incorrect analysis: Missing data can lead to errors in calculations and skew analysis results. For example,\n",
        "calculating the average with missing grades would not provide an accurate picture of student performance.\n",
        "\n",
        "* Misleading conclusions: Missing data can lead to misleading conclusions.\n",
        "\n",
        "* Machine learning models: Machine learning models often struggle with datasets containing missing data.\n",
        "\n",
        "2. How does Pandas handle missing data?\n",
        "\n",
        "* Pandas uses the placeholder NaN (Not a Number) to represent missing data.\n",
        "\n",
        "* Pandas provides functions like dropna(), fillna(), and combine_first() to handle missing values.\n",
        "\n",
        "* The method you use to handle missing data depends on the context and the nature of your dataset.\n",
        "\n",
        "3. How do you choose a method?\n",
        "\n",
        "* Consider the cause of the missing data. For example, technical issues, human errors, privacy concerns, or the nature of the variable itself.\n",
        "\n",
        "* Consider the amount of data you might lose if you drop rows or columns.\n",
        "\n",
        "\n",
        "# ------->> 14.  What are the benefits of using Plotly for data visualization\n",
        "\n",
        "* Simplifies complex data.\n",
        "* Reveals patterns and trends.\n",
        "* Aids in decision making.\n",
        "* Improves retention and engagement.\n",
        "* Increases accessibility.\n",
        "* Real-time monitoring.\n",
        "* Identify areas that need attention or improvement.\n",
        "* Predictive analysis.\n",
        "\n",
        "# --------->> 15 How does NumPy handle multidimensional arrays.\n",
        "\n",
        "--->> NumPy excels at handling multidimensional arrays, providing efficient operations and a powerful indexing system. Here's a breakdown:\n",
        "\n",
        "1. What are Multidimensional Arrays?\n",
        "\n",
        "* Beyond 1D: While a 1D array is a simple list, multidimensional arrays extend this concept.\n",
        "\n",
        "*Common Types:\n",
        "\n",
        "* 2D Array (Matrix): A table of rows and columns, often used for representing data with two variables.\n",
        "\n",
        "* 3D Array (Tensor): Can represent data with three dimensions, like images (height, width, color channels).\n",
        "\n",
        "* Higher Dimensions: Possible for even more complex data structures.\n",
        "\n",
        "2. NumPy's Approach:\n",
        "\n",
        "* ndarray: The fundamental object in NumPy is the ndarray (N-dimensional array). It's designed for efficient storage and manipulation of homogeneous data (all elements of the same data type).\n",
        "\n",
        "* Shape: The shape attribute of an ndarray is a tuple that represents the size of the array along each dimension. For example, a 3x4 matrix would have a shape of (3, 4).\n",
        "\n",
        "* Indexing and Slicing: Powerful mechanisms for accessing and extracting specific elements or subarrays:\n",
        "\n",
        "* Multiple Indices: Use a tuple of indices to access elements at specific positions in each dimension.\n",
        "\n",
        "* Slicing: Use colons (:) to specify ranges along each dimension, similar to Python lists.\n",
        "\n",
        "\n",
        "# --------->>  What is the role of Bokeh in data visualization.\n",
        "\n",
        "--->> Bokeh is a Python library that creates interactive data visualizations. It's used to create graphs, custom charts, and web applications.\n",
        "\n",
        "1. What can Bokeh do?\n",
        "\n",
        "* Create interactive visualizations: Bokeh can create interactive visualizations for modern browsers.\n",
        "\n",
        "* Create dashboards: Bokeh can create dashboards for large, dynamic, or streaming data.\n",
        "\n",
        "* Create custom visualizations: Bokeh can create complex and custom visualizations.\n",
        "\n",
        "* Integrate with web technologies: Bokeh can integrate with web technologies to create interactive and dynamic visualizations.\n",
        "\n",
        "* Support large datasets: Bokeh can support large and streaming datasets.\n",
        "\n",
        "2. How does Bokeh work?\n",
        "\n",
        "* Bokeh uses HTML and JavaScript to create interactive visualizations.\n",
        "\n",
        "* Bokeh has a simple, intuitive interface.\n",
        "\n",
        "* Bokeh can create complex plots with fewer code lines and a higher resolution.\n",
        "\n",
        "# ------>> 17.  Explain the difference between apply() and map() in Pandas.\n",
        "\n",
        "1. What is apply() in pandas?\n",
        "\n",
        "* The apply() method is one of the most common methods of data preprocessing. It simplifies applying a function on each element in a pandas Series and each row or column in a pandas DataFrame.\n",
        "\n",
        "\n",
        "2. What is the map function in pandas?\n",
        "\n",
        "* There are various in-built functions of pandas, one such function is pandas. map(), which is used to map values from two series having one similar column. For mapping two series, the last column of the first should be the same as the index column of the second series, also the values should be unique.\n",
        "\n",
        "# --------->> 18.  What are some advanced features of NumPy.\n",
        "\n",
        "\n",
        "1. NumPy has several advanced features, including:\n",
        "\n",
        "* Universal functions: These functions perform mathematical, logical, and other operations on arrays efficiently. They operate on ndarray objects element-by-element.\n",
        "\n",
        "* Advanced indexing: This feature returns a copy of data instead of a view of it.\n",
        "There are two types of advanced\n",
        "indexing: integer and Boolean.\n",
        "\n",
        "* Multidimensional array objects: NumPy provides powerful, multidimensional array objects (ndarrays).\n",
        "\n",
        "* Efficient array operations: NumPy reduces the need for explicit loops with efficient array operations.\n",
        "\n",
        "* Linear algebra: NumPy has linear algebra routines.\n",
        "\n",
        "* Fourier transforms: NumPy has Fourier transform capabilities.\n",
        "\n",
        "* Random number generators: NumPy has random number generators.\n",
        "\n",
        "---->> NumPy is a Python library that is used for working with arrays. It is a fundamental package for scientific computing with Python.\n",
        "\n",
        "2. Advantages of NumPy\n",
        "\n",
        "* NumPy is faster and more efficient than Python lists.\n",
        "\n",
        "* NumPy consumes less memory and storage space.\n",
        "\n",
        "* NumPy has better support for mathematical operations.\n",
        "\n",
        "\n",
        "# ------------>> 19.  How does Pandas simplify time series analysis?\n",
        "\n",
        "Pandas significantly simplifies time series analysis in Python by providing a powerful and user-friendly set of tools and data structures specifically designed for working with time-stamped data.\n",
        "\n",
        "1. Time Series as First-Class Objects:\n",
        "\n",
        "* DatetimeIndex: Pandas introduces the DatetimeIndex, a specialized index for DataFrames that uses dates and times. This allows for efficient indexing, slicing, and sorting of time series data based on timestamps.\n",
        "\n",
        "* Timestamp: Represents a single point in time with high precision, making it easy to work with specific moments in your data.\n",
        "\n",
        "2. Time-Based Data Manipulation:\n",
        "\n",
        "* Resampling: Easily change the frequency of your time series data (e.g., convert daily data to monthly averages).\n",
        "\n",
        "* Date/Time Arithmetic: Perform operations like adding or subtracting time intervals to timestamps, making it simple to shift, lag, or lead data.\n",
        "\n",
        "* Time-Based Slicing: Select data based on time ranges (e.g., get data for a specific month, year, or between two dates) with intuitive syntax.\n",
        "\n",
        "3. Handling Missing Data:\n",
        "\n",
        "* Flexible Handling: Pandas provides various methods for handling missing values (NaNs) in time series, such as filling them with interpolated values or dropping them.\n",
        "\n",
        "4. Integration with Other Libraries:\n",
        "\n",
        "* Seamless Integration: Pandas integrates well with other libraries like Matplotlib and Plotly for visualization, making it easy to create informative time series plots.\n",
        "\n",
        "\n",
        "\n",
        "\n",
        "\n",
        "\n",
        "\n",
        "\n",
        "\n",
        "\n",
        "\n",
        "\n",
        "\n",
        "\n",
        "\n",
        "\n",
        "\n",
        "\n",
        "\n",
        "\n",
        "\n",
        "\n",
        "\n",
        "\n",
        "\n",
        "\n",
        "\n",
        "\n",
        "\n",
        "\n",
        "\n",
        "\n"
      ],
      "metadata": {
        "id": "ZOnOK8z2OLNf"
      }
    },
    {
      "cell_type": "code",
      "source": [
        "\n",
        "# # Sample time series data\n",
        "# data = {'Date': pd.to_datetime(['2023-01-01', '2023-01-02', '2023-01-03']),\n",
        "#         'Value': [10, 12, 9]}\n",
        "# df = pd.DataFrame(data, index='Date')\n",
        "\n",
        "# # Resample data to daily frequency\n",
        "# df_daily = df.resample('D').mean()\n",
        "\n",
        "# # Select data for a specific date range\n",
        "# df_jan2_3 = df['2023-01-02':'2023-01-03']\n",
        "\n",
        "# # Plot the time series\n",
        "# df.plot()"
      ],
      "metadata": {
        "id": "awU6LeOGpmac"
      },
      "execution_count": 3,
      "outputs": []
    },
    {
      "cell_type": "markdown",
      "source": [
        "# --------->> 20.  What is the role of a pivot table in Pandas\n",
        "\n",
        "--->> In Pandas, a pivot table is a powerful tool that allows you to:\n",
        "\n",
        "* Summarize and aggregate data from a DataFrame in a flexible and concise way.\n",
        "\n",
        "* Create cross-tabulations of data, allowing you to analyze relationships between different variables.\n",
        "\n",
        "* Reshape data by pivoting columns into rows and vice versa.\n",
        "\n",
        "1. Key Concepts:\n",
        "\n",
        "* pivot_table() function: This is the core function used to create pivot tables in Pandas.\n",
        "\n",
        "2. Arguments:\n",
        "\n",
        "\"* data: The DataFrame containing the data to be analyzed.\n",
        "\n",
        "* index: The column(s) to use as the row labels.\n",
        "\n",
        "* columns: The column(s) to use as the column labels.\n",
        "\n",
        "* values: The column(s) containing the values to be aggregated.\n",
        "\n",
        "* aggfunc: The aggregation function to apply (e.g., 'sum', 'mean', 'count', 'max', 'min')."
      ],
      "metadata": {
        "id": "rFZoniSpqCFR"
      }
    },
    {
      "cell_type": "code",
      "source": [
        "import pandas as pd\n",
        "\n",
        "data = {'Region': ['North', 'South', 'North', 'South', 'West'],\n",
        "        'Product': ['A', 'A', 'B', 'B', 'A'],\n",
        "        'Sales': [100, 150, 120, 80, 90]}\n",
        "\n",
        "df = pd.DataFrame(data)\n",
        "\n",
        "# Create a pivot table to sum sales by region and product\n",
        "pivot_table = pd.pivot_table(df, index='Region', columns='Product', values='Sales', aggfunc='sum')\n",
        "\n",
        "print(pivot_table)"
      ],
      "metadata": {
        "colab": {
          "base_uri": "https://localhost:8080/"
        },
        "id": "8cBd4_YIsIXT",
        "outputId": "7137df9a-5318-4f3c-b934-d1c99f661278"
      },
      "execution_count": 4,
      "outputs": [
        {
          "output_type": "stream",
          "name": "stdout",
          "text": [
            "Product      A      B\n",
            "Region               \n",
            "North    100.0  120.0\n",
            "South    150.0   80.0\n",
            "West      90.0    NaN\n"
          ]
        }
      ]
    },
    {
      "cell_type": "markdown",
      "source": [
        "# --------->> 21.  Why is NumPy’s array slicing faster than Python’s list slicing\n",
        "\n",
        "* As the array size increase, Numpy gets around 30 times faster than Python List. Because the Numpy array is densely packed in memory due to its homogeneous type, it also frees the memory faster.\n",
        "\n",
        "\n",
        "# ------>> 22.  What are some common use cases for Seaborn?\n",
        "\n",
        "* Seaborn scatter plots. Scatter plots are used to visualize the relationship between two continuous variables. ...\n",
        "* Seaborn line plots. ...\n",
        "* Seaborn bar plots. ...\n",
        "* Seaborn histograms. ...\n",
        "* Seaborn density plots. ...\n",
        "* Seaborn box plots. ...\n",
        "* Seaborn violin plots. ...\n",
        "* Seaborn heatmaps.\n",
        "\n",
        "\n"
      ],
      "metadata": {
        "id": "HOa-0Lz3sMbS"
      }
    },
    {
      "cell_type": "code",
      "source": [
        "                                                      # Practical\n"
      ],
      "metadata": {
        "id": "u1JMSSNtvgcN"
      },
      "execution_count": 5,
      "outputs": []
    },
    {
      "cell_type": "code",
      "source": [
        " # 1.How do you create a 2D NumPy array and calculate the sum of each row\n",
        "\n",
        "import numpy as np\n",
        "\n",
        "# Create a 2D NumPy array\n",
        "arr = np.array([[1, 2, 3],\n",
        "                [4, 5, 6],\n",
        "                [7, 8, 9]])\n",
        "\n",
        "# Calculate the sum of each row\n",
        "row_sums = arr.sum(axis=1)\n",
        "\n",
        "print(\"2D Array:\")\n",
        "print(arr)\n",
        "print(\"\\nSum of each row:\")\n",
        "print(row_sums)\n"
      ],
      "metadata": {
        "colab": {
          "base_uri": "https://localhost:8080/"
        },
        "id": "ruX3I60UvmWR",
        "outputId": "2b541e57-34ba-422d-f4fd-34f85a942fd0"
      },
      "execution_count": 2,
      "outputs": [
        {
          "output_type": "stream",
          "name": "stdout",
          "text": [
            "2D Array:\n",
            "[[1 2 3]\n",
            " [4 5 6]\n",
            " [7 8 9]]\n",
            "\n",
            "Sum of each row:\n",
            "[ 6 15 24]\n"
          ]
        }
      ]
    },
    {
      "cell_type": "code",
      "source": [
        "# # 2.  Write a Pandas script to find the mean of a specific column in a DataFrame\n",
        "\n",
        "# Explanation:\n",
        "\n",
        "# Import pandas:\n",
        "\n",
        "# import pandas as pd: This line imports the pandas library, which is essential for working with DataFrames in Python.\n",
        "# Create a Sample DataFrame:\n",
        "\n",
        "# data = {'A': [1, 2, 3, 4, 5], 'B': [10, 20, 30, 40, 50], 'C': [100, 200, 300, 400, 500]}: This creates a dictionary where keys represent column names and values represent lists of data for each column.\n",
        "# df = pd.DataFrame(data): This creates a pandas DataFrame from the dictionary.\n",
        "# Calculate the Mean:\n",
        "\n",
        "# df['B']: This selects the entire 'B' column from the DataFrame.\n",
        "# df['B'].mean(): This calculates the mean (average) of the values in the selected column.\n",
        "# Print the Result:\n",
        "\n",
        "# print(f\"Mean of column 'B': {mean_of_column_B}\"): This prints the calculated mean of column 'B' in a formatted string.\n",
        "# This script will output:\n",
        "\n",
        "# Mean of column 'B': 30.0\n",
        "# This demonstrates how to efficiently find the mean of a specific column in a pandas DataFrame using the mean() function.\n",
        "# This script does the following:\n",
        "\n",
        "# Import pandas:\n",
        "\n",
        "# import pandas as pd: This line imports the pandas library and gives it the alias pd for easier use.\n",
        "# Create a Sample DataFrame:\n",
        "\n",
        "# data = {'A': [1, 2, 3, 4, 5], 'B': [10, 20, 30, 40, 50], 'C': [100, 200, 300, 400, 500]}: This creates a Python dictionary where keys represent column names and values are lists containing data for each column.\n",
        "# df = pd.DataFrame(data): This creates a pandas DataFrame named df from the dictionary data.\n",
        "# Calculate the Mean of Column 'B':\n",
        "\n",
        "# df['B']: This selects the column 'B' from the DataFrame.\n",
        "# df['B'].mean(): This calculates the mean (average) of the values in the selected column 'B' and stores it in the variable mean_of_column_B.\n",
        "# Print the Result:\n",
        "\n",
        "# print(f\"Mean of column 'B': {mean_of_column_B}\"): This prints the calculated mean of column 'B' in a formatted string.\n",
        "# This script effectively demonstrates how to find the mean of a specific column in a pandas DataFrame. You can easily adapt this script to find the mean of any other column in your DataFrame by simply changing the column name within the square brackets (df['column_name']).\n"
      ],
      "metadata": {
        "id": "Gwz4ykhmSaCq"
      },
      "execution_count": null,
      "outputs": []
    },
    {
      "cell_type": "code",
      "source": [
        "# 3. Create a scatter plot using Matplotlib\n",
        "\n",
        "\n",
        "import matplotlib.pyplot as plt\n",
        "\n",
        "# Sample data\n",
        "x = [1, 2, 3, 4, 5]\n",
        "y = [2, 4, 1, 5, 3]\n",
        "\n",
        "# Create the scatter plot\n",
        "plt.scatter(x, y)\n",
        "\n",
        "# Add labels and title\n",
        "plt.xlabel(\"X-axis\")\n",
        "plt.ylabel(\"Y-axis\")\n",
        "plt.title(\"Simple Scatter Plot\")\n",
        "\n",
        "# Show the plot\n",
        "plt.show()"
      ],
      "metadata": {
        "colab": {
          "base_uri": "https://localhost:8080/",
          "height": 472
        },
        "id": "f-ne3FT2T5aS",
        "outputId": "731f34cd-18c4-491e-dcec-fa3101a7e73d"
      },
      "execution_count": 3,
      "outputs": [
        {
          "output_type": "display_data",
          "data": {
            "text/plain": [
              "<Figure size 640x480 with 1 Axes>"
            ],
            "image/png": "[encoded data removed]"
          },
          "metadata": {}
        }
      ]
    },
    {
      "cell_type": "code",
      "source": [
        "# 4.  How do you calculate the correlation matrix using Seaborn and visualize it with a heatmap\n",
        "\n",
        "import pandas as pd\n",
        "import seaborn as sns\n",
        "import matplotlib.pyplot as plt\n",
        "\n",
        "# Sample DataFrame (replace with your actual data)\n",
        "data = {'A': [1, 2, 3, 4, 5],\n",
        "        'B': [10, 20, 30, 40, 50],\n",
        "        'C': [100, 200, 150, 250, 300]}\n",
        "df = pd.DataFrame(data)\n",
        "\n",
        "# Calculate the correlation matrix\n",
        "corr_matrix = df.corr()\n",
        "\n",
        "# Create the heatmap\n",
        "sns.heatmap(corr_matrix, annot=True, cmap='coolwarm', vmin=-1, vmax=1)\n",
        "\n",
        "# Show the plot\n",
        "plt.show()"
      ],
      "metadata": {
        "colab": {
          "base_uri": "https://localhost:8080/",
          "height": 435
        },
        "id": "wTB5fag2UtzZ",
        "outputId": "dad7a60a-ff91-45ef-e757-80186df59f3c"
      },
      "execution_count": 5,
      "outputs": [
        {
          "output_type": "display_data",
          "data": {
            "text/plain": [
              "<Figure size 640x480 with 2 Axes>"
            ],
            "image/png": "[encoded data removed]"
          },
          "metadata": {}
        }
      ]
    },
    {
      "cell_type": "code",
      "source": [
        "# 5.  Generate a bar plot using Plotly\n",
        "\n",
        "import plotly.express as px\n",
        "\n",
        "# Sample data\n",
        "categories = ['A', 'B', 'C', 'D', 'E']\n",
        "values = [15, 22, 18, 12, 28]\n",
        "\n",
        "# Create the bar plot using Plotly Express\n",
        "fig = px.bar(x=categories, y=values,\n",
        "             labels={'x': 'Categories', 'y': 'Values'},\n",
        "             title='Simple Bar Plot')\n",
        "\n",
        "# Show the interactive plot\n",
        "fig.show()"
      ],
      "metadata": {
        "colab": {
          "base_uri": "https://localhost:8080/",
          "height": 542
        },
        "id": "briKl67wVAdz",
        "outputId": "b8a58b82-b9de-4069-c4d6-64d71cc6f3cf"
      },
      "execution_count": 6,
      "outputs": [
        {
          "output_type": "display_data",
          "data": {
            "text/html": [
              "<html>\n",
              "<head><meta charset=\"utf-8\" /></head>\n",
              "<body>\n",
              "    <div>            <script src=\"https://cdnjs.cloudflare.com/ajax/libs/mathjax/2.7.5/MathJax.js?config=TeX-AMS-MML_SVG\"></script><script type=\"text/javascript\">if (window.MathJax && window.MathJax.Hub && window.MathJax.Hub.Config) {window.MathJax.Hub.Config({SVG: {font: \"STIX-Web\"}});}</script>                <script type=\"text/javascript\">window.PlotlyConfig = {MathJaxConfig: 'local'};</script>\n",
              "        <script charset=\"utf-8\" src=\"https://cdn.plot.ly/plotly-2.35.2.min.js\"></script>                <div id=\"35e9968e-2eb4-4ec4-9488-c72b3e952cbb\" class=\"plotly-graph-div\" style=\"height:525px; width:100%;\"></div>            <script type=\"text/javascript\">                                    window.PLOTLYENV=window.PLOTLYENV || {};                                    if (document.getElementById(\"35e9968e-2eb4-4ec4-9488-c72b3e952cbb\")) {                    Plotly.newPlot(                        \"35e9968e-2eb4-4ec4-9488-c72b3e952cbb\",                        [{\"alignmentgroup\":\"True\",\"hovertemplate\":\"Categories=%{x}\\u003cbr\\u003eValues=%{y}\\u003cextra\\u003e\\u003c\\u002fextra\\u003e\",\"legendgroup\":\"\",\"marker\":{\"color\":\"#636efa\",\"pattern\":{\"shape\":\"\"}},\"name\":\"\",\"offsetgroup\":\"\",\"orientation\":\"v\",\"showlegend\":false,\"textposition\":\"auto\",\"x\":[\"A\",\"B\",\"C\",\"D\",\"E\"],\"xaxis\":\"x\",\"y\":[15,22,18,12,28],\"yaxis\":\"y\",\"type\":\"bar\"}],                        {\"template\":{\"data\":{\"histogram2dcontour\":[{\"type\":\"histogram2dcontour\",\"colorbar\":{\"outlinewidth\":0,\"ticks\":\"\"},\"colorscale\":[[0.0,\"#0d0887\"],[0.1111111111111111,\"#46039f\"],[0.2222222222222222,\"#7201a8\"],[0.3333333333333333,\"#9c179e\"],[0.4444444444444444,\"#bd3786\"],[0.5555555555555556,\"#d8576b\"],[0.6666666666666666,\"#ed7953\"],[0.7777777777777778,\"#fb9f3a\"],[0.8888888888888888,\"#fdca26\"],[1.0,\"#f0f921\"]]}],\"choropleth\":[{\"type\":\"choropleth\",\"colorbar\":{\"outlinewidth\":0,\"ticks\":\"\"}}],\"histogram2d\":[{\"type\":\"histogram2d\",\"colorbar\":{\"outlinewidth\":0,\"ticks\":\"\"},\"colorscale\":[[0.0,\"#0d0887\"],[0.1111111111111111,\"#46039f\"],[0.2222222222222222,\"#7201a8\"],[0.3333333333333333,\"#9c179e\"],[0.4444444444444444,\"#bd3786\"],[0.5555555555555556,\"#d8576b\"],[0.6666666666666666,\"#ed7953\"],[0.7777777777777778,\"#fb9f3a\"],[0.8888888888888888,\"#fdca26\"],[1.0,\"#f0f921\"]]}],\"heatmap\":[{\"type\":\"heatmap\",\"colorbar\":{\"outlinewidth\":0,\"ticks\":\"\"},\"colorscale\":[[0.0,\"#0d0887\"],[0.1111111111111111,\"#46039f\"],[0.2222222222222222,\"#7201a8\"],[0.3333333333333333,\"#9c179e\"],[0.4444444444444444,\"#bd3786\"],[0.5555555555555556,\"#d8576b\"],[0.6666666666666666,\"#ed7953\"],[0.7777777777777778,\"#fb9f3a\"],[0.8888888888888888,\"#fdca26\"],[1.0,\"#f0f921\"]]}],\"heatmapgl\":[{\"type\":\"heatmapgl\",\"colorbar\":{\"outlinewidth\":0,\"ticks\":\"\"},\"colorscale\":[[0.0,\"#0d0887\"],[0.1111111111111111,\"#46039f\"],[0.2222222222222222,\"#7201a8\"],[0.3333333333333333,\"#9c179e\"],[0.4444444444444444,\"#bd3786\"],[0.5555555555555556,\"#d8576b\"],[0.6666666666666666,\"#ed7953\"],[0.7777777777777778,\"#fb9f3a\"],[0.8888888888888888,\"#fdca26\"],[1.0,\"#f0f921\"]]}],\"contourcarpet\":[{\"type\":\"contourcarpet\",\"colorbar\":{\"outlinewidth\":0,\"ticks\":\"\"}}],\"contour\":[{\"type\":\"contour\",\"colorbar\":{\"outlinewidth\":0,\"ticks\":\"\"},\"colorscale\":[[0.0,\"#0d0887\"],[0.1111111111111111,\"#46039f\"],[0.2222222222222222,\"#7201a8\"],[0.3333333333333333,\"#9c179e\"],[0.4444444444444444,\"#bd3786\"],[0.5555555555555556,\"#d8576b\"],[0.6666666666666666,\"#ed7953\"],[0.7777777777777778,\"#fb9f3a\"],[0.8888888888888888,\"#fdca26\"],[1.0,\"#f0f921\"]]}],\"surface\":[{\"type\":\"surface\",\"colorbar\":{\"outlinewidth\":0,\"ticks\":\"\"},\"colorscale\":[[0.0,\"#0d0887\"],[0.1111111111111111,\"#46039f\"],[0.2222222222222222,\"#7201a8\"],[0.3333333333333333,\"#9c179e\"],[0.4444444444444444,\"#bd3786\"],[0.5555555555555556,\"#d8576b\"],[0.6666666666666666,\"#ed7953\"],[0.7777777777777778,\"#fb9f3a\"],[0.8888888888888888,\"#fdca26\"],[1.0,\"#f0f921\"]]}],\"mesh3d\":[{\"type\":\"mesh3d\",\"colorbar\":{\"outlinewidth\":0,\"ticks\":\"\"}}],\"scatter\":[{\"fillpattern\":{\"fillmode\":\"overlay\",\"size\":10,\"solidity\":0.2},\"type\":\"scatter\"}],\"parcoords\":[{\"type\":\"parcoords\",\"line\":{\"colorbar\":{\"outlinewidth\":0,\"ticks\":\"\"}}}],\"scatterpolargl\":[{\"type\":\"scatterpolargl\",\"marker\":{\"colorbar\":{\"outlinewidth\":0,\"ticks\":\"\"}}}],\"bar\":[{\"error_x\":{\"color\":\"#2a3f5f\"},\"error_y\":{\"color\":\"#2a3f5f\"},\"marker\":{\"line\":{\"color\":\"#E5ECF6\",\"width\":0.5},\"pattern\":{\"fillmode\":\"overlay\",\"size\":10,\"solidity\":0.2}},\"type\":\"bar\"}],\"scattergeo\":[{\"type\":\"scattergeo\",\"marker\":{\"colorbar\":{\"outlinewidth\":0,\"ticks\":\"\"}}}],\"scatterpolar\":[{\"type\":\"scatterpolar\",\"marker\":{\"colorbar\":{\"outlinewidth\":0,\"ticks\":\"\"}}}],\"histogram\":[{\"marker\":{\"pattern\":{\"fillmode\":\"overlay\",\"size\":10,\"solidity\":0.2}},\"type\":\"histogram\"}],\"scattergl\":[{\"type\":\"scattergl\",\"marker\":{\"colorbar\":{\"outlinewidth\":0,\"ticks\":\"\"}}}],\"scatter3d\":[{\"type\":\"scatter3d\",\"line\":{\"colorbar\":{\"outlinewidth\":0,\"ticks\":\"\"}},\"marker\":{\"colorbar\":{\"outlinewidth\":0,\"ticks\":\"\"}}}],\"scattermapbox\":[{\"type\":\"scattermapbox\",\"marker\":{\"colorbar\":{\"outlinewidth\":0,\"ticks\":\"\"}}}],\"scatterternary\":[{\"type\":\"scatterternary\",\"marker\":{\"colorbar\":{\"outlinewidth\":0,\"ticks\":\"\"}}}],\"scattercarpet\":[{\"type\":\"scattercarpet\",\"marker\":{\"colorbar\":{\"outlinewidth\":0,\"ticks\":\"\"}}}],\"carpet\":[{\"aaxis\":{\"endlinecolor\":\"#2a3f5f\",\"gridcolor\":\"white\",\"linecolor\":\"white\",\"minorgridcolor\":\"white\",\"startlinecolor\":\"#2a3f5f\"},\"baxis\":{\"endlinecolor\":\"#2a3f5f\",\"gridcolor\":\"white\",\"linecolor\":\"white\",\"minorgridcolor\":\"white\",\"startlinecolor\":\"#2a3f5f\"},\"type\":\"carpet\"}],\"table\":[{\"cells\":{\"fill\":{\"color\":\"#EBF0F8\"},\"line\":{\"color\":\"white\"}},\"header\":{\"fill\":{\"color\":\"#C8D4E3\"},\"line\":{\"color\":\"white\"}},\"type\":\"table\"}],\"barpolar\":[{\"marker\":{\"line\":{\"color\":\"#E5ECF6\",\"width\":0.5},\"pattern\":{\"fillmode\":\"overlay\",\"size\":10,\"solidity\":0.2}},\"type\":\"barpolar\"}],\"pie\":[{\"automargin\":true,\"type\":\"pie\"}]},\"layout\":{\"autotypenumbers\":\"strict\",\"colorway\":[\"#636efa\",\"#EF553B\",\"#00cc96\",\"#ab63fa\",\"#FFA15A\",\"#19d3f3\",\"#FF6692\",\"#B6E880\",\"#FF97FF\",\"#FECB52\"],\"font\":{\"color\":\"#2a3f5f\"},\"hovermode\":\"closest\",\"hoverlabel\":{\"align\":\"left\"},\"paper_bgcolor\":\"white\",\"plot_bgcolor\":\"#E5ECF6\",\"polar\":{\"bgcolor\":\"#E5ECF6\",\"angularaxis\":{\"gridcolor\":\"white\",\"linecolor\":\"white\",\"ticks\":\"\"},\"radialaxis\":{\"gridcolor\":\"white\",\"linecolor\":\"white\",\"ticks\":\"\"}},\"ternary\":{\"bgcolor\":\"#E5ECF6\",\"aaxis\":{\"gridcolor\":\"white\",\"linecolor\":\"white\",\"ticks\":\"\"},\"baxis\":{\"gridcolor\":\"white\",\"linecolor\":\"white\",\"ticks\":\"\"},\"caxis\":{\"gridcolor\":\"white\",\"linecolor\":\"white\",\"ticks\":\"\"}},\"coloraxis\":{\"colorbar\":{\"outlinewidth\":0,\"ticks\":\"\"}},\"colorscale\":{\"sequential\":[[0.0,\"#0d0887\"],[0.1111111111111111,\"#46039f\"],[0.2222222222222222,\"#7201a8\"],[0.3333333333333333,\"#9c179e\"],[0.4444444444444444,\"#bd3786\"],[0.5555555555555556,\"#d8576b\"],[0.6666666666666666,\"#ed7953\"],[0.7777777777777778,\"#fb9f3a\"],[0.8888888888888888,\"#fdca26\"],[1.0,\"#f0f921\"]],\"sequentialminus\":[[0.0,\"#0d0887\"],[0.1111111111111111,\"#46039f\"],[0.2222222222222222,\"#7201a8\"],[0.3333333333333333,\"#9c179e\"],[0.4444444444444444,\"#bd3786\"],[0.5555555555555556,\"#d8576b\"],[0.6666666666666666,\"#ed7953\"],[0.7777777777777778,\"#fb9f3a\"],[0.8888888888888888,\"#fdca26\"],[1.0,\"#f0f921\"]],\"diverging\":[[0,\"#8e0152\"],[0.1,\"#c51b7d\"],[0.2,\"#de77ae\"],[0.3,\"#f1b6da\"],[0.4,\"#fde0ef\"],[0.5,\"#f7f7f7\"],[0.6,\"#e6f5d0\"],[0.7,\"#b8e186\"],[0.8,\"#7fbc41\"],[0.9,\"#4d9221\"],[1,\"#276419\"]]},\"xaxis\":{\"gridcolor\":\"white\",\"linecolor\":\"white\",\"ticks\":\"\",\"title\":{\"standoff\":15},\"zerolinecolor\":\"white\",\"automargin\":true,\"zerolinewidth\":2},\"yaxis\":{\"gridcolor\":\"white\",\"linecolor\":\"white\",\"ticks\":\"\",\"title\":{\"standoff\":15},\"zerolinecolor\":\"white\",\"automargin\":true,\"zerolinewidth\":2},\"scene\":{\"xaxis\":{\"backgroundcolor\":\"#E5ECF6\",\"gridcolor\":\"white\",\"linecolor\":\"white\",\"showbackground\":true,\"ticks\":\"\",\"zerolinecolor\":\"white\",\"gridwidth\":2},\"yaxis\":{\"backgroundcolor\":\"#E5ECF6\",\"gridcolor\":\"white\",\"linecolor\":\"white\",\"showbackground\":true,\"ticks\":\"\",\"zerolinecolor\":\"white\",\"gridwidth\":2},\"zaxis\":{\"backgroundcolor\":\"#E5ECF6\",\"gridcolor\":\"white\",\"linecolor\":\"white\",\"showbackground\":true,\"ticks\":\"\",\"zerolinecolor\":\"white\",\"gridwidth\":2}},\"shapedefaults\":{\"line\":{\"color\":\"#2a3f5f\"}},\"annotationdefaults\":{\"arrowcolor\":\"#2a3f5f\",\"arrowhead\":0,\"arrowwidth\":1},\"geo\":{\"bgcolor\":\"white\",\"landcolor\":\"#E5ECF6\",\"subunitcolor\":\"white\",\"showland\":true,\"showlakes\":true,\"lakecolor\":\"white\"},\"title\":{\"x\":0.05},\"mapbox\":{\"style\":\"light\"}}},\"xaxis\":{\"anchor\":\"y\",\"domain\":[0.0,1.0],\"title\":{\"text\":\"Categories\"}},\"yaxis\":{\"anchor\":\"x\",\"domain\":[0.0,1.0],\"title\":{\"text\":\"Values\"}},\"legend\":{\"tracegroupgap\":0},\"title\":{\"text\":\"Simple Bar Plot\"},\"barmode\":\"relative\"},                        {\"responsive\": true}                    ).then(function(){\n",
              "                            \n",
              "var gd = document.getElementById('35e9968e-2eb4-4ec4-9488-c72b3e952cbb');\n",
              "var x = new MutationObserver(function (mutations, observer) {{\n",
              "        var display = window.getComputedStyle(gd).display;\n",
              "        if (!display || display === 'none') {{\n",
              "            console.log([gd, 'removed!']);\n",
              "            Plotly.purge(gd);\n",
              "            observer.disconnect();\n",
              "        }}\n",
              "}});\n",
              "\n",
              "// Listen for the removal of the full notebook cells\n",
              "var notebookContainer = gd.closest('#notebook-container');\n",
              "if (notebookContainer) {{\n",
              "    x.observe(notebookContainer, {childList: true});\n",
              "}}\n",
              "\n",
              "// Listen for the clearing of the current output cell\n",
              "var outputEl = gd.closest('.output');\n",
              "if (outputEl) {{\n",
              "    x.observe(outputEl, {childList: true});\n",
              "}}\n",
              "\n",
              "                        })                };                            </script>        </div>\n",
              "</body>\n",
              "</html>"
            ]
          },
          "metadata": {}
        }
      ]
    },
    {
      "cell_type": "code",
      "source": [
        "# 6. Create a DataFrame and add a new column based on an existing column\n",
        "\n",
        "import pandas as pd\n",
        "\n",
        "# Sample DataFrame\n",
        "data = {'A': [1, 2, 3, 4, 5]}\n",
        "df = pd.DataFrame(data)\n",
        "\n",
        "# Add a new column 'B' with values twice the value of column 'A'\n",
        "df['B'] = df['A'] * 2\n",
        "\n",
        "print(df)"
      ],
      "metadata": {
        "colab": {
          "base_uri": "https://localhost:8080/"
        },
        "id": "KWruZy-1VoY_",
        "outputId": "b1a7fee1-7e9c-495e-d3d4-bc66c3c72d92"
      },
      "execution_count": 7,
      "outputs": [
        {
          "output_type": "stream",
          "name": "stdout",
          "text": [
            "   A   B\n",
            "0  1   2\n",
            "1  2   4\n",
            "2  3   6\n",
            "3  4   8\n",
            "4  5  10\n"
          ]
        }
      ]
    },
    {
      "cell_type": "code",
      "source": [
        "# 7.  Write a program to perform element-wise multiplication of two NumPy arrays\n",
        "\n",
        "import numpy as np\n",
        "\n",
        "# Define two sample NumPy arrays\n",
        "arr1 = np.array([1, 2, 3])\n",
        "arr2 = np.array([4, 5, 6])\n",
        "\n",
        "# Perform element-wise multiplication using the * operator\n",
        "result = arr1 * arr2\n",
        "\n",
        "# Print the result\n",
        "print(\"Element-wise multiplication:\")\n",
        "print(result)"
      ],
      "metadata": {
        "colab": {
          "base_uri": "https://localhost:8080/"
        },
        "id": "7PnIu4EWWHKH",
        "outputId": "853e3da2-b60e-4abd-f13a-4ce82ecc4421"
      },
      "execution_count": 8,
      "outputs": [
        {
          "output_type": "stream",
          "name": "stdout",
          "text": [
            "Element-wise multiplication:\n",
            "[ 4 10 18]\n"
          ]
        }
      ]
    },
    {
      "cell_type": "code",
      "source": [
        "# 8.  Create a line plot with multiple lines using Matplotlib\n",
        "\n",
        "import matplotlib.pyplot as plt\n",
        "\n",
        "# Sample data\n",
        "x = [1, 2, 3, 4, 5]\n",
        "y1 = [1, 4, 9, 16, 25]  # Line 1 data\n",
        "y2 = [2, 4, 6, 8, 10]   # Line 2 data\n",
        "\n",
        "# Create the line plot\n",
        "plt.plot(x, y1, label='Line 1')\n",
        "plt.plot(x, y2, label='Line 2')\n",
        "\n",
        "# Add labels and title\n",
        "plt.xlabel('X-axis')\n",
        "plt.ylabel('Y-axis')\n",
        "plt.title('Multiple Lines Plot')\n",
        "\n",
        "# Add legend\n",
        "plt.legend()\n",
        "\n",
        "# Show the plot\n",
        "plt.show()"
      ],
      "metadata": {
        "colab": {
          "base_uri": "https://localhost:8080/",
          "height": 472
        },
        "id": "4lxPV9UQWT7e",
        "outputId": "c190ca02-2694-4b0f-a245-aabf77cf8d22"
      },
      "execution_count": 9,
      "outputs": [
        {
          "output_type": "display_data",
          "data": {
            "text/plain": [
              "<Figure size 640x480 with 1 Axes>"
            ],
            "image/png": "[encoded data removed]"
          },
          "metadata": {}
        }
      ]
    },
    {
      "cell_type": "code",
      "source": [
        "# 9.  Generate a Pandas DataFrame and filter rows where a column value is greater than a threshold\n",
        "\n",
        "import pandas as pd\n",
        "\n",
        "# Sample DataFrame\n",
        "data = {'Name': ['Alice', 'Bob', 'Charlie', 'David'],\n",
        "        'Age': [25, 30, 28, 35],\n",
        "        'Score': [85, 90, 78, 92]}\n",
        "df = pd.DataFrame(data)\n",
        "\n",
        "# Threshold value\n",
        "threshold_age = 30\n",
        "\n",
        "# Filter rows where Age is greater than the threshold\n",
        "filtered_df = df[df['Age'] > threshold_age]\n",
        "\n",
        "# Print the filtered DataFrame\n",
        "print(filtered_df)"
      ],
      "metadata": {
        "colab": {
          "base_uri": "https://localhost:8080/"
        },
        "id": "4vFCHorlWqML",
        "outputId": "7d4c4fb1-3837-4adc-e322-ceb46dcffa8c"
      },
      "execution_count": 10,
      "outputs": [
        {
          "output_type": "stream",
          "name": "stdout",
          "text": [
            "    Name  Age  Score\n",
            "3  David   35     92\n"
          ]
        }
      ]
    },
    {
      "cell_type": "code",
      "source": [
        "# 10.  Create a histogram using Seaborn to visualize a distribution\n",
        "\n",
        "import seaborn as sns\n",
        "import matplotlib.pyplot as plt\n",
        "\n",
        "# Sample data (replace with your actual data)\n",
        "data = [2, 4, 6, 8, 10, 12, 14, 16, 18, 20, 2, 4, 6, 8, 10, 12, 14, 16, 18, 20]\n",
        "\n",
        "# Create the histogram\n",
        "sns.histplot(data, bins=5)  # Adjust the number of bins as needed\n",
        "\n",
        "# Customize the plot (optional)\n",
        "plt.title(\"Histogram of Data\")\n",
        "plt.xlabel(\"Value\")\n",
        "plt.ylabel(\"Frequency\")\n",
        "\n",
        "# Show the plot\n",
        "plt.show()"
      ],
      "metadata": {
        "colab": {
          "base_uri": "https://localhost:8080/",
          "height": 472
        },
        "id": "Q-r-0wKdXKUx",
        "outputId": "29ecee7e-639d-4bb4-fe5f-d83e12dffbd0"
      },
      "execution_count": 11,
      "outputs": [
        {
          "output_type": "display_data",
          "data": {
            "text/plain": [
              "<Figure size 640x480 with 1 Axes>"
            ],
            "image/png": "[encoded data removed]"
          },
          "metadata": {}
        }
      ]
    },
    {
      "cell_type": "code",
      "source": [
        "# 11.  Perform matrix multiplication using NumPy\n",
        "\n",
        "import numpy as np\n",
        "\n",
        "# Define two matrices\n",
        "matrix1 = np.array([[1, 2], [3, 4]])\n",
        "matrix2 = np.array([[5, 6], [7, 8]])\n",
        "\n",
        "# Perform matrix multiplication using np.matmul()\n",
        "result = np.matmul(matrix1, matrix2)\n",
        "\n",
        "# Print the result\n",
        "print(\"Matrix Multiplication Result:\")\n",
        "print(result)"
      ],
      "metadata": {
        "colab": {
          "base_uri": "https://localhost:8080/"
        },
        "id": "pci1-314XaQr",
        "outputId": "d77602cf-14fd-40bb-ba51-76ee7e7890bf"
      },
      "execution_count": 12,
      "outputs": [
        {
          "output_type": "stream",
          "name": "stdout",
          "text": [
            "Matrix Multiplication Result:\n",
            "[[19 22]\n",
            " [43 50]]\n"
          ]
        }
      ]
    },
    {
      "cell_type": "code",
      "source": [
        "# 12.  Use Pandas to load a CSV file and display its first 5 rows\n",
        "\n",
        "\n",
        "# import pandas as pd\n",
        "\n",
        "# # Replace 'your_file.csv' with the actual path to your CSV file\n",
        "# df = pd.read_csv('your_file.csv')\n",
        "\n",
        "# # Display the first 5 rows of the DataFrame\n",
        "# print(df.head())"
      ],
      "metadata": {
        "id": "LKqk7XdQXsXs"
      },
      "execution_count": 14,
      "outputs": []
    },
    {
      "cell_type": "code",
      "source": [
        "# 13.  Create a 3D scatter plot using Plotly.\n",
        "\n",
        "import plotly.express as px\n",
        "\n",
        "# Sample data (replace with your actual data)\n",
        "x = [1, 2, 3, 4, 5]\n",
        "y = [2, 4, 1, 5, 3]\n",
        "z = [10, 5, 15, 8, 12]\n",
        "\n",
        "# Create the 3D scatter plot using Plotly Express\n",
        "fig = px.scatter_3d(x=x, y=y, z=z,\n",
        "                   labels={'x': 'X', 'y': 'Y', 'z': 'Z'},\n",
        "                   title='3D Scatter Plot')\n",
        "\n",
        "# Show the interactive plot\n",
        "fig.show()"
      ],
      "metadata": {
        "colab": {
          "base_uri": "https://localhost:8080/",
          "height": 542
        },
        "id": "T7Ck6HtlYfVO",
        "outputId": "9882968a-819a-4774-ba1e-ab34c208408a"
      },
      "execution_count": 15,
      "outputs": [
        {
          "output_type": "display_data",
          "data": {
            "text/html": [
              "<html>\n",
              "<head><meta charset=\"utf-8\" /></head>\n",
              "<body>\n",
              "    <div>            <script src=\"https://cdnjs.cloudflare.com/ajax/libs/mathjax/2.7.5/MathJax.js?config=TeX-AMS-MML_SVG\"></script><script type=\"text/javascript\">if (window.MathJax && window.MathJax.Hub && window.MathJax.Hub.Config) {window.MathJax.Hub.Config({SVG: {font: \"STIX-Web\"}});}</script>                <script type=\"text/javascript\">window.PlotlyConfig = {MathJaxConfig: 'local'};</script>\n",
              "        <script charset=\"utf-8\" src=\"https://cdn.plot.ly/plotly-2.35.2.min.js\"></script>                <div id=\"30197143-6fe7-4cae-9032-b81519ab41b9\" class=\"plotly-graph-div\" style=\"height:525px; width:100%;\"></div>            <script type=\"text/javascript\">                                    window.PLOTLYENV=window.PLOTLYENV || {};                                    if (document.getElementById(\"30197143-6fe7-4cae-9032-b81519ab41b9\")) {                    Plotly.newPlot(                        \"30197143-6fe7-4cae-9032-b81519ab41b9\",                        [{\"hovertemplate\":\"X=%{x}\\u003cbr\\u003eY=%{y}\\u003cbr\\u003eZ=%{z}\\u003cextra\\u003e\\u003c\\u002fextra\\u003e\",\"legendgroup\":\"\",\"marker\":{\"color\":\"#636efa\",\"symbol\":\"circle\"},\"mode\":\"markers\",\"name\":\"\",\"scene\":\"scene\",\"showlegend\":false,\"x\":[1,2,3,4,5],\"y\":[2,4,1,5,3],\"z\":[10,5,15,8,12],\"type\":\"scatter3d\"}],                        {\"template\":{\"data\":{\"histogram2dcontour\":[{\"type\":\"histogram2dcontour\",\"colorbar\":{\"outlinewidth\":0,\"ticks\":\"\"},\"colorscale\":[[0.0,\"#0d0887\"],[0.1111111111111111,\"#46039f\"],[0.2222222222222222,\"#7201a8\"],[0.3333333333333333,\"#9c179e\"],[0.4444444444444444,\"#bd3786\"],[0.5555555555555556,\"#d8576b\"],[0.6666666666666666,\"#ed7953\"],[0.7777777777777778,\"#fb9f3a\"],[0.8888888888888888,\"#fdca26\"],[1.0,\"#f0f921\"]]}],\"choropleth\":[{\"type\":\"choropleth\",\"colorbar\":{\"outlinewidth\":0,\"ticks\":\"\"}}],\"histogram2d\":[{\"type\":\"histogram2d\",\"colorbar\":{\"outlinewidth\":0,\"ticks\":\"\"},\"colorscale\":[[0.0,\"#0d0887\"],[0.1111111111111111,\"#46039f\"],[0.2222222222222222,\"#7201a8\"],[0.3333333333333333,\"#9c179e\"],[0.4444444444444444,\"#bd3786\"],[0.5555555555555556,\"#d8576b\"],[0.6666666666666666,\"#ed7953\"],[0.7777777777777778,\"#fb9f3a\"],[0.8888888888888888,\"#fdca26\"],[1.0,\"#f0f921\"]]}],\"heatmap\":[{\"type\":\"heatmap\",\"colorbar\":{\"outlinewidth\":0,\"ticks\":\"\"},\"colorscale\":[[0.0,\"#0d0887\"],[0.1111111111111111,\"#46039f\"],[0.2222222222222222,\"#7201a8\"],[0.3333333333333333,\"#9c179e\"],[0.4444444444444444,\"#bd3786\"],[0.5555555555555556,\"#d8576b\"],[0.6666666666666666,\"#ed7953\"],[0.7777777777777778,\"#fb9f3a\"],[0.8888888888888888,\"#fdca26\"],[1.0,\"#f0f921\"]]}],\"heatmapgl\":[{\"type\":\"heatmapgl\",\"colorbar\":{\"outlinewidth\":0,\"ticks\":\"\"},\"colorscale\":[[0.0,\"#0d0887\"],[0.1111111111111111,\"#46039f\"],[0.2222222222222222,\"#7201a8\"],[0.3333333333333333,\"#9c179e\"],[0.4444444444444444,\"#bd3786\"],[0.5555555555555556,\"#d8576b\"],[0.6666666666666666,\"#ed7953\"],[0.7777777777777778,\"#fb9f3a\"],[0.8888888888888888,\"#fdca26\"],[1.0,\"#f0f921\"]]}],\"contourcarpet\":[{\"type\":\"contourcarpet\",\"colorbar\":{\"outlinewidth\":0,\"ticks\":\"\"}}],\"contour\":[{\"type\":\"contour\",\"colorbar\":{\"outlinewidth\":0,\"ticks\":\"\"},\"colorscale\":[[0.0,\"#0d0887\"],[0.1111111111111111,\"#46039f\"],[0.2222222222222222,\"#7201a8\"],[0.3333333333333333,\"#9c179e\"],[0.4444444444444444,\"#bd3786\"],[0.5555555555555556,\"#d8576b\"],[0.6666666666666666,\"#ed7953\"],[0.7777777777777778,\"#fb9f3a\"],[0.8888888888888888,\"#fdca26\"],[1.0,\"#f0f921\"]]}],\"surface\":[{\"type\":\"surface\",\"colorbar\":{\"outlinewidth\":0,\"ticks\":\"\"},\"colorscale\":[[0.0,\"#0d0887\"],[0.1111111111111111,\"#46039f\"],[0.2222222222222222,\"#7201a8\"],[0.3333333333333333,\"#9c179e\"],[0.4444444444444444,\"#bd3786\"],[0.5555555555555556,\"#d8576b\"],[0.6666666666666666,\"#ed7953\"],[0.7777777777777778,\"#fb9f3a\"],[0.8888888888888888,\"#fdca26\"],[1.0,\"#f0f921\"]]}],\"mesh3d\":[{\"type\":\"mesh3d\",\"colorbar\":{\"outlinewidth\":0,\"ticks\":\"\"}}],\"scatter\":[{\"fillpattern\":{\"fillmode\":\"overlay\",\"size\":10,\"solidity\":0.2},\"type\":\"scatter\"}],\"parcoords\":[{\"type\":\"parcoords\",\"line\":{\"colorbar\":{\"outlinewidth\":0,\"ticks\":\"\"}}}],\"scatterpolargl\":[{\"type\":\"scatterpolargl\",\"marker\":{\"colorbar\":{\"outlinewidth\":0,\"ticks\":\"\"}}}],\"bar\":[{\"error_x\":{\"color\":\"#2a3f5f\"},\"error_y\":{\"color\":\"#2a3f5f\"},\"marker\":{\"line\":{\"color\":\"#E5ECF6\",\"width\":0.5},\"pattern\":{\"fillmode\":\"overlay\",\"size\":10,\"solidity\":0.2}},\"type\":\"bar\"}],\"scattergeo\":[{\"type\":\"scattergeo\",\"marker\":{\"colorbar\":{\"outlinewidth\":0,\"ticks\":\"\"}}}],\"scatterpolar\":[{\"type\":\"scatterpolar\",\"marker\":{\"colorbar\":{\"outlinewidth\":0,\"ticks\":\"\"}}}],\"histogram\":[{\"marker\":{\"pattern\":{\"fillmode\":\"overlay\",\"size\":10,\"solidity\":0.2}},\"type\":\"histogram\"}],\"scattergl\":[{\"type\":\"scattergl\",\"marker\":{\"colorbar\":{\"outlinewidth\":0,\"ticks\":\"\"}}}],\"scatter3d\":[{\"type\":\"scatter3d\",\"line\":{\"colorbar\":{\"outlinewidth\":0,\"ticks\":\"\"}},\"marker\":{\"colorbar\":{\"outlinewidth\":0,\"ticks\":\"\"}}}],\"scattermapbox\":[{\"type\":\"scattermapbox\",\"marker\":{\"colorbar\":{\"outlinewidth\":0,\"ticks\":\"\"}}}],\"scatterternary\":[{\"type\":\"scatterternary\",\"marker\":{\"colorbar\":{\"outlinewidth\":0,\"ticks\":\"\"}}}],\"scattercarpet\":[{\"type\":\"scattercarpet\",\"marker\":{\"colorbar\":{\"outlinewidth\":0,\"ticks\":\"\"}}}],\"carpet\":[{\"aaxis\":{\"endlinecolor\":\"#2a3f5f\",\"gridcolor\":\"white\",\"linecolor\":\"white\",\"minorgridcolor\":\"white\",\"startlinecolor\":\"#2a3f5f\"},\"baxis\":{\"endlinecolor\":\"#2a3f5f\",\"gridcolor\":\"white\",\"linecolor\":\"white\",\"minorgridcolor\":\"white\",\"startlinecolor\":\"#2a3f5f\"},\"type\":\"carpet\"}],\"table\":[{\"cells\":{\"fill\":{\"color\":\"#EBF0F8\"},\"line\":{\"color\":\"white\"}},\"header\":{\"fill\":{\"color\":\"#C8D4E3\"},\"line\":{\"color\":\"white\"}},\"type\":\"table\"}],\"barpolar\":[{\"marker\":{\"line\":{\"color\":\"#E5ECF6\",\"width\":0.5},\"pattern\":{\"fillmode\":\"overlay\",\"size\":10,\"solidity\":0.2}},\"type\":\"barpolar\"}],\"pie\":[{\"automargin\":true,\"type\":\"pie\"}]},\"layout\":{\"autotypenumbers\":\"strict\",\"colorway\":[\"#636efa\",\"#EF553B\",\"#00cc96\",\"#ab63fa\",\"#FFA15A\",\"#19d3f3\",\"#FF6692\",\"#B6E880\",\"#FF97FF\",\"#FECB52\"],\"font\":{\"color\":\"#2a3f5f\"},\"hovermode\":\"closest\",\"hoverlabel\":{\"align\":\"left\"},\"paper_bgcolor\":\"white\",\"plot_bgcolor\":\"#E5ECF6\",\"polar\":{\"bgcolor\":\"#E5ECF6\",\"angularaxis\":{\"gridcolor\":\"white\",\"linecolor\":\"white\",\"ticks\":\"\"},\"radialaxis\":{\"gridcolor\":\"white\",\"linecolor\":\"white\",\"ticks\":\"\"}},\"ternary\":{\"bgcolor\":\"#E5ECF6\",\"aaxis\":{\"gridcolor\":\"white\",\"linecolor\":\"white\",\"ticks\":\"\"},\"baxis\":{\"gridcolor\":\"white\",\"linecolor\":\"white\",\"ticks\":\"\"},\"caxis\":{\"gridcolor\":\"white\",\"linecolor\":\"white\",\"ticks\":\"\"}},\"coloraxis\":{\"colorbar\":{\"outlinewidth\":0,\"ticks\":\"\"}},\"colorscale\":{\"sequential\":[[0.0,\"#0d0887\"],[0.1111111111111111,\"#46039f\"],[0.2222222222222222,\"#7201a8\"],[0.3333333333333333,\"#9c179e\"],[0.4444444444444444,\"#bd3786\"],[0.5555555555555556,\"#d8576b\"],[0.6666666666666666,\"#ed7953\"],[0.7777777777777778,\"#fb9f3a\"],[0.8888888888888888,\"#fdca26\"],[1.0,\"#f0f921\"]],\"sequentialminus\":[[0.0,\"#0d0887\"],[0.1111111111111111,\"#46039f\"],[0.2222222222222222,\"#7201a8\"],[0.3333333333333333,\"#9c179e\"],[0.4444444444444444,\"#bd3786\"],[0.5555555555555556,\"#d8576b\"],[0.6666666666666666,\"#ed7953\"],[0.7777777777777778,\"#fb9f3a\"],[0.8888888888888888,\"#fdca26\"],[1.0,\"#f0f921\"]],\"diverging\":[[0,\"#8e0152\"],[0.1,\"#c51b7d\"],[0.2,\"#de77ae\"],[0.3,\"#f1b6da\"],[0.4,\"#fde0ef\"],[0.5,\"#f7f7f7\"],[0.6,\"#e6f5d0\"],[0.7,\"#b8e186\"],[0.8,\"#7fbc41\"],[0.9,\"#4d9221\"],[1,\"#276419\"]]},\"xaxis\":{\"gridcolor\":\"white\",\"linecolor\":\"white\",\"ticks\":\"\",\"title\":{\"standoff\":15},\"zerolinecolor\":\"white\",\"automargin\":true,\"zerolinewidth\":2},\"yaxis\":{\"gridcolor\":\"white\",\"linecolor\":\"white\",\"ticks\":\"\",\"title\":{\"standoff\":15},\"zerolinecolor\":\"white\",\"automargin\":true,\"zerolinewidth\":2},\"scene\":{\"xaxis\":{\"backgroundcolor\":\"#E5ECF6\",\"gridcolor\":\"white\",\"linecolor\":\"white\",\"showbackground\":true,\"ticks\":\"\",\"zerolinecolor\":\"white\",\"gridwidth\":2},\"yaxis\":{\"backgroundcolor\":\"#E5ECF6\",\"gridcolor\":\"white\",\"linecolor\":\"white\",\"showbackground\":true,\"ticks\":\"\",\"zerolinecolor\":\"white\",\"gridwidth\":2},\"zaxis\":{\"backgroundcolor\":\"#E5ECF6\",\"gridcolor\":\"white\",\"linecolor\":\"white\",\"showbackground\":true,\"ticks\":\"\",\"zerolinecolor\":\"white\",\"gridwidth\":2}},\"shapedefaults\":{\"line\":{\"color\":\"#2a3f5f\"}},\"annotationdefaults\":{\"arrowcolor\":\"#2a3f5f\",\"arrowhead\":0,\"arrowwidth\":1},\"geo\":{\"bgcolor\":\"white\",\"landcolor\":\"#E5ECF6\",\"subunitcolor\":\"white\",\"showland\":true,\"showlakes\":true,\"lakecolor\":\"white\"},\"title\":{\"x\":0.05},\"mapbox\":{\"style\":\"light\"}}},\"scene\":{\"domain\":{\"x\":[0.0,1.0],\"y\":[0.0,1.0]},\"xaxis\":{\"title\":{\"text\":\"X\"}},\"yaxis\":{\"title\":{\"text\":\"Y\"}},\"zaxis\":{\"title\":{\"text\":\"Z\"}}},\"legend\":{\"tracegroupgap\":0},\"title\":{\"text\":\"3D Scatter Plot\"}},                        {\"responsive\": true}                    ).then(function(){\n",
              "                            \n",
              "var gd = document.getElementById('30197143-6fe7-4cae-9032-b81519ab41b9');\n",
              "var x = new MutationObserver(function (mutations, observer) {{\n",
              "        var display = window.getComputedStyle(gd).display;\n",
              "        if (!display || display === 'none') {{\n",
              "            console.log([gd, 'removed!']);\n",
              "            Plotly.purge(gd);\n",
              "            observer.disconnect();\n",
              "        }}\n",
              "}});\n",
              "\n",
              "// Listen for the removal of the full notebook cells\n",
              "var notebookContainer = gd.closest('#notebook-container');\n",
              "if (notebookContainer) {{\n",
              "    x.observe(notebookContainer, {childList: true});\n",
              "}}\n",
              "\n",
              "// Listen for the clearing of the current output cell\n",
              "var outputEl = gd.closest('.output');\n",
              "if (outputEl) {{\n",
              "    x.observe(outputEl, {childList: true});\n",
              "}}\n",
              "\n",
              "                        })                };                            </script>        </div>\n",
              "</body>\n",
              "</html>"
            ]
          },
          "metadata": {}
        }
      ]
    },
    {
      "cell_type": "code",
      "source": [],
      "metadata": {
        "id": "2FQTB5O4Yuai"
      },
      "execution_count": null,
      "outputs": []
    }
  ]
}