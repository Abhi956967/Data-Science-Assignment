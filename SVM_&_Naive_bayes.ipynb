{
  "nbformat": 4,
  "nbformat_minor": 0,
  "metadata": {
    "colab": {
      "provenance": []
    },
    "kernelspec": {
      "name": "python3",
      "display_name": "Python 3"
    },
    "language_info": {
      "name": "python"
    }
  },
  "cells": [
    {
      "cell_type": "markdown",
      "source": [
        "1. What is a Support Vector Machine (SVM)\n",
        "\n",
        "  A Support Vector Machine (SVM) is a powerful supervised machine learning algorithm used for both classification and regression tasks. It works by finding the optimal hyperplane that best separates data points into different classes, maximizing the margin between them. Essentially, SVM aims to find the \"best\" line (in 2D), plane (in 3D), or hyperplane (in higher dimensions) that divides the data, ensuring the greatest distance between the hyperplane and the closest data points of each class, which are called \"support vectors\"\n",
        "\n",
        "2. What is the difference between Hard Margin and Soft Margin SVM\n",
        "\n",
        "  In Support Vector Machines (SVM), Hard Margin SVM requires a perfectly linearly separable dataset and aims to find a hyperplane that completely separates the data with no errors, while Soft Margin SVM allows for some misclassifications or data points falling within the margin to accommodate datasets that are not perfectly separable or to prevent overfitting on noisy data.\n",
        "\n",
        "3. What is the mathematical intuition behind SVM\n",
        "\n",
        "  The core idea of a Support Vector Machine (SVM) is to find the optimal hyperplane that best separates data points into different classes, maximizing the margin (distance) between the hyperplane and the closest data points of each class. This maximization of the margin is key to good generalization performance, making SVMs good at avoiding overfitting.\n",
        "\n",
        "4. What is the role of Lagrange Multipliers in SVM\n",
        "\n",
        "\n",
        "  In Support Vector Machines (SVMs), Lagrange multipliers are crucial for transforming the constrained optimization problem into a dual form, enabling efficient computation of the optimal hyperplane. They act as weights that balance the objective function (maximizing the margin) with the constraints imposed by the support vectors. A non-zero Lagrange multiplier for a data point indicates that it's a support vector, crucial for defining the decision boundary.\n",
        "\n",
        "\n",
        "5. What are Support Vectors in SVM\n",
        "\n",
        "  In a Support Vector Machine (SVM), support vectors are the data points that are closest to the decision boundary (hyperplane) separating different classes. These points are crucial because they directly influence the position and orientation of the hyperplane, making them essential for defining the margin of separation between classes.\n",
        "\n",
        "\n",
        "6. What is a Support Vector Classifier (SVC)\n",
        "\n",
        "  A Support Vector Classifier (SVC) is a specific type of Support Vector Machine (SVM) used for classification tasks. It aims to find the optimal hyperplane that best separates data points into different classes, maximizing the margin (distance) between the hyperplane and the closest data points of each class. These closest data points are called \"support vectors\" and are crucial in defining the hyperplane and the margin.\n",
        "\n",
        "7. What is a Support Vector Regressor (SVR)\n",
        "\n",
        "  A Support Vector Regressor (SVR) is a machine learning algorithm used for regression tasks, meaning it predicts continuous numerical values. It's an extension of the Support Vector Machine (SVM) algorithm, but instead of classifying data, it finds a function that best fits the data while minimizing prediction errors\n",
        "\n",
        "8. What is the Kernel Trick in SVM\n",
        "\n",
        "  The kernel trick in Support Vector Machines (SVMs) is a technique that allows SVMs to classify data that is not linearly separable by implicitly mapping the data into a higher-dimensional feature space where a linear separator can be used. Instead of explicitly transforming the data, the kernel trick cleverly uses a kernel function to compute the necessary dot products in the higher-dimensional space, making computations efficient.\n",
        "\n",
        "\n",
        "9. Compare Linear Kernel, Polynomial Kernel, and RBF Kernel\n",
        "\n",
        "  Linear, polynomial, and RBF (Radial Basis Function) kernels are different types of kernel functions used in Support Vector Machines (SVMs) to map data into a higher-dimensional space, enabling the classification of non-linearly separable data. Linear kernels are simple and suitable for linearly separable data, while polynomial and RBF kernels are used for non-linear data, with RBF being a more flexible and commonly used option.\n",
        "\n",
        "\n",
        "10.  What is the effect of the C parameter in SVM\n",
        "\n",
        "  In Support Vector Machines (SVMs), the C parameter controls the trade-off between achieving a low training error and a smooth decision boundary. It acts as a regularization parameter, influencing how much the SVM prioritizes correct classification of training data versus maintaining a wider margin.\n",
        "\n",
        "\n",
        "11. What is the role of the Gamma parameter in RBF Kernel SVM\n",
        "\n",
        "  In RBF (Radial Basis Function) Kernel SVM, the gamma parameter (often represented as γ) controls the influence of individual training examples on the decision boundary. A high gamma value means each data point has a greater influence, potentially leading to a more complex, wiggly decision boundary and overfitting. Conversely, a low gamma value means each point has less influence, resulting in a smoother, less complex decision boundary and potentially underfitting.\n",
        "\n",
        "12. What is the Naïve Bayes classifier, and why is it called \"Naïve\"4\n",
        "\n",
        "  The Naïve Bayes classifier is a simple probabilistic classifier that applies Bayes' theorem with strong independence assumptions between the features. It's called \"Naïve\" because it assumes that the presence of a particular feature in a class is unrelated to the presence of any other feature.\n",
        "\n",
        "13. What is Bayes’ Theorem\n",
        "\n",
        "  Bayes' Theorem is a mathematical formula that describes the probability of an event based on prior knowledge of conditions related to the event. It's a way to update the probability of a hypothesis as new evidence becomes available. Essentially, it helps calculate the probability of a cause given the effect.\n",
        "\n",
        "14. Explain the differences between Gaussian Naïve Bayes, Multinomial Naïve Bayes, and Bernoulli Naïve Bayes:\n",
        "\n",
        "\n",
        "  Gaussian Naive Bayes, Multinomial Naive Bayes, and Bernoulli Naive Bayes are all variations of the Naive Bayes algorithm, differing primarily in how they handle feature data. Gaussian Naive Bayes is suited for continuous data, assuming features follow a normal (Gaussian) distribution. Multinomial Naive Bayes is designed for discrete data, typically counts of events like word frequencies in text. Bernoulli Naive Bayes works with binary or boolean data, where features represent presence or absence of an event.\n",
        "\n",
        "15.  When should you use Gaussian Naïve Bayes over other variants\n",
        "\n",
        "  Gaussian Naive Bayes is best used when dealing with continuous numerical data that follows a Gaussian (normal) distribution. It's particularly useful when the features in your dataset can be reasonably approximated by a bell curve.\n",
        "\n",
        "16. What are the key assumptions made by Naïve Bayes\n",
        "\n",
        "\n",
        "  Naive Bayes classifiers make a strong simplifying assumption that features are conditionally independent given the class label. In other words, they assume that the presence or absence of a particular feature is not related to the presence or absence of any other feature, given the class. This is where the \"naive\" aspect of the algorithm comes from.\n",
        "\n",
        "17. What are the advantages and disadvantages of Naïve Bayes\n",
        "\n",
        "  Naive Bayes classifiers are known for their simplicity and speed, making them efficient for large datasets, particularly in text-based applications. However, they rely on the \"naive\" assumption of feature independence, which is often not true in real-world scenarios and can lead to lower accuracy in complex situations\n",
        "\n",
        "18. Why is Naïve Bayes a good choice for text classification\n",
        "\n",
        "  Naive Bayes is a good choice for text classification because it's simple, fast, and efficient, especially for high-dimensional data like text. It excels at handling large datasets and can achieve good accuracy with relatively little training data. The algorithm's probabilistic foundation, using Bayes' theorem, allows it to calculate the probability of a text belonging to a class based on word frequencies.\n",
        "\n",
        "19. Compare SVM and Naïve Bayes for classification tasks\n",
        "\n",
        "  SVM and Naive Bayes are both popular classification algorithms, but they differ significantly in their approaches and performance characteristics. SVMs, particularly when using kernels, can handle complex, non-linear relationships in data and are less prone to overfitting. Naive Bayes, while simpler, excels with high-dimensional data and when feature independence holds true.\n",
        "\n",
        "20.  How does Laplace Smoothing help in Naïve Bayes\n",
        "\n",
        "  Laplace smoothing, also known as add-one smoothing, is a technique used in Naive Bayes to handle the issue of zero probabilities. It prevents the model from assigning a probability of zero to events that haven't been observed in the training data, which can lead to inaccurate predictions. By adding a small value (usually 1) to all the counts, it ensures that every event has a non-zero probability, making the model more robust and reliable, especially when dealing with limited data or sparse feature spaces.\n",
        "\n",
        "  \n"
      ],
      "metadata": {
        "id": "oGfOFVLASwut"
      }
    },
    {
      "cell_type": "markdown",
      "source": [
        "                                                     ######### Practical"
      ],
      "metadata": {
        "id": "EjkZN1GeWQbT"
      }
    },
    {
      "cell_type": "markdown",
      "source": [
        "21.  Write a Python program to train an SVM Classifier on the Iris dataset and evaluate accuracy"
      ],
      "metadata": {
        "id": "sEYHZ6wwWUSK"
      }
    },
    {
      "cell_type": "code",
      "metadata": {
        "colab": {
          "base_uri": "https://localhost:8080/"
        },
        "id": "3c5908db",
        "outputId": "2e95c2eb-54d2-49eb-ce09-2381912320b2"
      },
      "source": [
        "from sklearn import datasets\n",
        "from sklearn.model_selection import train_test_split\n",
        "from sklearn import svm\n",
        "from sklearn.metrics import accuracy_score\n",
        "\n",
        "# Load the Iris dataset\n",
        "iris = datasets.load_iris()\n",
        "X = iris.data\n",
        "y = iris.target\n",
        "\n",
        "# Split the dataset into training and testing sets\n",
        "X_train, X_test, y_train, y_test = train_test_split(X, y, test_size=0.3, random_state=42)\n",
        "\n",
        "# Create a SVM classifier\n",
        "# We will use a linear kernel for simplicity\n",
        "clf = svm.SVC(kernel='linear')\n",
        "\n",
        "# Train the classifier\n",
        "clf.fit(X_train, y_train)\n",
        "\n",
        "# Make predictions on the test set\n",
        "y_pred = clf.predict(X_test)\n",
        "\n",
        "# Evaluate the accuracy\n",
        "accuracy = accuracy_score(y_test, y_pred)\n",
        "\n",
        "print(f\"Accuracy of the SVM classifier on the Iris dataset: {accuracy:.2f}\")"
      ],
      "execution_count": 1,
      "outputs": [
        {
          "output_type": "stream",
          "name": "stdout",
          "text": [
            "Accuracy of the SVM classifier on the Iris dataset: 1.00\n"
          ]
        }
      ]
    },
    {
      "cell_type": "markdown",
      "source": [
        "22. Write a Python program to train two SVM classifiers with Linear and RBF kernels on the Wine dataset, then\n",
        "compare their accuracies:"
      ],
      "metadata": {
        "id": "AmwL6K54Wdk4"
      }
    },
    {
      "cell_type": "code",
      "metadata": {
        "colab": {
          "base_uri": "https://localhost:8080/"
        },
        "id": "de364ce0",
        "outputId": "9bb38ce2-f6a7-4d04-cd5c-e56be7f6fa21"
      },
      "source": [
        "from sklearn import datasets\n",
        "from sklearn.model_selection import train_test_split\n",
        "from sklearn import svm\n",
        "from sklearn.metrics import accuracy_score\n",
        "\n",
        "# Load the Wine dataset\n",
        "wine = datasets.load_wine()\n",
        "X = wine.data\n",
        "y = wine.target\n",
        "\n",
        "# Split the dataset into training and testing sets\n",
        "X_train, X_test, y_train, y_test = train_test_split(X, y, test_size=0.3, random_state=42)\n",
        "\n",
        "# Create and train a SVM classifier with a Linear kernel\n",
        "linear_clf = svm.SVC(kernel='linear')\n",
        "linear_clf.fit(X_train, y_train)\n",
        "y_pred_linear = linear_clf.predict(X_test)\n",
        "accuracy_linear = accuracy_score(y_test, y_pred_linear)\n",
        "\n",
        "print(f\"Accuracy of the SVM classifier with Linear kernel on the Wine dataset: {accuracy_linear:.2f}\")\n",
        "\n",
        "# Create and train a SVM classifier with an RBF kernel\n",
        "rbf_clf = svm.SVC(kernel='rbf')\n",
        "rbf_clf.fit(X_train, y_train)\n",
        "y_pred_rbf = rbf_clf.predict(X_test)\n",
        "accuracy_rbf = accuracy_score(y_test, y_pred_rbf)\n",
        "\n",
        "print(f\"Accuracy of the SVM classifier with RBF kernel on the Wine dataset: {accuracy_rbf:.2f}\")"
      ],
      "execution_count": 2,
      "outputs": [
        {
          "output_type": "stream",
          "name": "stdout",
          "text": [
            "Accuracy of the SVM classifier with Linear kernel on the Wine dataset: 0.98\n",
            "Accuracy of the SVM classifier with RBF kernel on the Wine dataset: 0.76\n"
          ]
        }
      ]
    },
    {
      "cell_type": "markdown",
      "source": [
        "23. Write a Python program to train an SVM Regressor (SVR) on a housing dataset and evaluate it using Mean\n",
        "Squared Error (MSE):"
      ],
      "metadata": {
        "id": "UBxSZw1gWmDe"
      }
    },
    {
      "cell_type": "code",
      "metadata": {
        "colab": {
          "base_uri": "https://localhost:8080/"
        },
        "id": "6c7420b4",
        "outputId": "5af7dadd-30b1-4fcb-a78e-afa234b62c24"
      },
      "source": [
        "from sklearn.datasets import fetch_california_housing\n",
        "from sklearn.model_selection import train_test_split\n",
        "from sklearn.svm import SVR\n",
        "from sklearn.metrics import mean_squared_error\n",
        "import numpy as np\n",
        "\n",
        "# Load the California Housing dataset\n",
        "housing = fetch_california_housing()\n",
        "X = housing.data\n",
        "y = housing.target\n",
        "\n",
        "# Split the dataset into training and testing sets\n",
        "X_train, X_test, y_train, y_test = train_test_split(X, y, test_size=0.3, random_state=42)\n",
        "\n",
        "# Create an SVR model\n",
        "# We'll use the default RBF kernel for this example\n",
        "svr = SVR(kernel='rbf')\n",
        "\n",
        "# Train the SVR model\n",
        "svr.fit(X_train, y_train)\n",
        "\n",
        "# Make predictions on the test set\n",
        "y_pred = svr.predict(X_test)\n",
        "\n",
        "# Evaluate the model using Mean Squared Error (MSE)\n",
        "mse = mean_squared_error(y_test, y_pred)\n",
        "rmse = np.sqrt(mse)\n",
        "\n",
        "print(f\"Mean Squared Error (MSE) of the SVR model on the housing dataset: {mse:.2f}\")\n",
        "print(f\"Root Mean Squared Error (RMSE) of the SVR model on the housing dataset: {rmse:.2f}\")"
      ],
      "execution_count": 3,
      "outputs": [
        {
          "output_type": "stream",
          "name": "stdout",
          "text": [
            "Mean Squared Error (MSE) of the SVR model on the housing dataset: 1.35\n",
            "Root Mean Squared Error (RMSE) of the SVR model on the housing dataset: 1.16\n"
          ]
        }
      ]
    },
    {
      "cell_type": "markdown",
      "source": [
        "24. Write a Python program to train an SVM Classifier with a Polynomial Kernel and visualize the decision\n",
        "boundary:"
      ],
      "metadata": {
        "id": "0ITQttIGWrl4"
      }
    },
    {
      "cell_type": "code",
      "metadata": {
        "colab": {
          "base_uri": "https://localhost:8080/",
          "height": 472
        },
        "id": "f52d8d7e",
        "outputId": "6546c054-4310-44b7-b6a6-e340da1fe160"
      },
      "source": [
        "import numpy as np\n",
        "import matplotlib.pyplot as plt\n",
        "from sklearn import svm, datasets\n",
        "\n",
        "# Create a synthetic dataset for visualization\n",
        "# We'll use make_classification to create a binary classification dataset\n",
        "from sklearn.datasets import make_classification\n",
        "\n",
        "X, y = make_classification(n_samples=100, n_features=2, n_informative=2, n_redundant=0, random_state=42, n_clusters_per_class=1)\n",
        "\n",
        "# Train an SVM classifier with a polynomial kernel\n",
        "# You can adjust the 'degree' parameter for the polynomial kernel\n",
        "clf = svm.SVC(kernel='poly', degree=3, C=1.0)\n",
        "clf.fit(X, y)\n",
        "\n",
        "# Create a meshgrid to plot the decision boundary\n",
        "x_min, x_max = X[:, 0].min() - 1, X[:, 0].max() + 1\n",
        "y_min, y_max = X[:, 1].min() - 1, X[:, 1].max() + 1\n",
        "xx, yy = np.meshgrid(np.arange(x_min, x_max, 0.02),\n",
        "                     np.arange(y_min, y_max, 0.02))\n",
        "\n",
        "# Predict the class for each point in the meshgrid\n",
        "Z = clf.predict(np.c_[xx.ravel(), yy.ravel()])\n",
        "Z = Z.reshape(xx.shape)\n",
        "\n",
        "# Plot the decision boundary and the data points\n",
        "plt.contourf(xx, yy, Z, cmap=plt.cm.coolwarm, alpha=0.8)\n",
        "plt.scatter(X[:, 0], X[:, 1], c=y, cmap=plt.cm.coolwarm, s=20, edgecolors='k')\n",
        "plt.xlabel('Feature 1')\n",
        "plt.ylabel('Feature 2')\n",
        "plt.title('SVM with Polynomial Kernel Decision Boundary')\n",
        "plt.show()"
      ],
      "execution_count": 4,
      "outputs": [
        {
          "output_type": "display_data",
          "data": {
            "text/plain": [
              "<Figure size 640x480 with 1 Axes>"
            ],
            "image/png": "[encoded data removed]"
          },
          "metadata": {}
        }
      ]
    },
    {
      "cell_type": "markdown",
      "source": [
        "25.  Write a Python program to train a Gaussian Naïve Bayes classifier on the Breast Cancer dataset and\n",
        "evaluate accuracy:"
      ],
      "metadata": {
        "id": "hnP8_TR0W1Hc"
      }
    },
    {
      "cell_type": "code",
      "metadata": {
        "colab": {
          "base_uri": "https://localhost:8080/"
        },
        "id": "2c236d79",
        "outputId": "2fb9c58a-a8ef-4b79-b8ee-df0f809fac9d"
      },
      "source": [
        "from sklearn.datasets import load_breast_cancer\n",
        "from sklearn.model_selection import train_test_split\n",
        "from sklearn.naive_bayes import GaussianNB\n",
        "from sklearn.metrics import accuracy_score\n",
        "\n",
        "# Load the Breast Cancer dataset\n",
        "breast_cancer = load_breast_cancer()\n",
        "X = breast_cancer.data\n",
        "y = breast_cancer.target\n",
        "\n",
        "# Split the dataset into training and testing sets\n",
        "X_train, X_test, y_train, y_test = train_test_split(X, y, test_size=0.3, random_state=42)\n",
        "\n",
        "# Create a Gaussian Naïve Bayes classifier\n",
        "gnb = GaussianNB()\n",
        "\n",
        "# Train the classifier\n",
        "gnb.fit(X_train, y_train)\n",
        "\n",
        "# Make predictions on the test set\n",
        "y_pred = gnb.predict(X_test)\n",
        "\n",
        "# Evaluate the accuracy\n",
        "accuracy = accuracy_score(y_test, y_pred)\n",
        "\n",
        "print(f\"Accuracy of the Gaussian Naïve Bayes classifier on the Breast Cancer dataset: {accuracy:.2f}\")"
      ],
      "execution_count": 5,
      "outputs": [
        {
          "output_type": "stream",
          "name": "stdout",
          "text": [
            "Accuracy of the Gaussian Naïve Bayes classifier on the Breast Cancer dataset: 0.94\n"
          ]
        }
      ]
    },
    {
      "cell_type": "markdown",
      "source": [
        "26.  Write a Python program to train a Multinomial Naïve Bayes classifier for text classification using the 20\n",
        "Newsgroups dataset"
      ],
      "metadata": {
        "id": "iEofCqyGW8IO"
      }
    },
    {
      "cell_type": "code",
      "metadata": {
        "colab": {
          "base_uri": "https://localhost:8080/"
        },
        "id": "1b66e4e4",
        "outputId": "6d87a8d7-c2bf-44b7-b997-bcdc0c1270a1"
      },
      "source": [
        "from sklearn.datasets import fetch_20newsgroups\n",
        "from sklearn.feature_extraction.text import TfidfVectorizer\n",
        "from sklearn.model_selection import train_test_split\n",
        "from sklearn.naive_bayes import MultinomialNB\n",
        "from sklearn.metrics import accuracy_score, classification_report\n",
        "\n",
        "# Load the 20 Newsgroups dataset\n",
        "# We'll load a subset of categories for faster processing\n",
        "categories = ['alt.atheism', 'soc.religion.christian', 'comp.graphics', 'sci.med']\n",
        "newsgroups_train = fetch_20newsgroups(subset='train', categories=categories, shuffle=True, random_state=42)\n",
        "newsgroups_test = fetch_20newsgroups(subset='test', categories=categories, shuffle=True, random_state=42)\n",
        "\n",
        "X_train_text = newsgroups_train.data\n",
        "y_train = newsgroups_train.target\n",
        "X_test_text = newsgroups_test.data\n",
        "y_test = newsgroups_test.target\n",
        "\n",
        "# Convert text data to TF-IDF features\n",
        "vectorizer = TfidfVectorizer()\n",
        "X_train = vectorizer.fit_transform(X_train_text)\n",
        "X_test = vectorizer.transform(X_test_text)\n",
        "\n",
        "# Create a Multinomial Naïve Bayes classifier\n",
        "mnb = MultinomialNB()\n",
        "\n",
        "# Train the classifier\n",
        "mnb.fit(X_train, y_train)\n",
        "\n",
        "# Make predictions on the test set\n",
        "y_pred = mnb.predict(X_test)\n",
        "\n",
        "# Evaluate the accuracy and display a classification report\n",
        "accuracy = accuracy_score(y_test, y_pred)\n",
        "print(f\"Accuracy of the Multinomial Naïve Bayes classifier: {accuracy:.2f}\")\n",
        "\n",
        "print(\"\\nClassification Report:\")\n",
        "print(classification_report(y_test, y_pred, target_names=newsgroups_test.target_names))"
      ],
      "execution_count": 6,
      "outputs": [
        {
          "output_type": "stream",
          "name": "stdout",
          "text": [
            "Accuracy of the Multinomial Naïve Bayes classifier: 0.83\n",
            "\n",
            "Classification Report:\n",
            "                        precision    recall  f1-score   support\n",
            "\n",
            "           alt.atheism       0.97      0.60      0.74       319\n",
            "         comp.graphics       0.96      0.89      0.92       389\n",
            "               sci.med       0.97      0.81      0.88       396\n",
            "soc.religion.christian       0.65      0.99      0.78       398\n",
            "\n",
            "              accuracy                           0.83      1502\n",
            "             macro avg       0.89      0.82      0.83      1502\n",
            "          weighted avg       0.88      0.83      0.84      1502\n",
            "\n"
          ]
        }
      ]
    },
    {
      "cell_type": "markdown",
      "source": [
        "27. Write a Python program to train an SVM Classifier with different C values and compare the decision\n",
        "boundaries visually"
      ],
      "metadata": {
        "id": "zZyQEcDhXG9t"
      }
    },
    {
      "cell_type": "code",
      "metadata": {
        "colab": {
          "base_uri": "https://localhost:8080/",
          "height": 979
        },
        "id": "27f37a79",
        "outputId": "3f7ac80e-4558-4103-e1ee-1517fa1dcac3"
      },
      "source": [
        "import numpy as np\n",
        "import matplotlib.pyplot as plt\n",
        "from sklearn import svm, datasets\n",
        "\n",
        "# Create a synthetic dataset for visualization\n",
        "X = np.c_[(.4, -.7),\n",
        "          (-1.5, -1),\n",
        "          (-1.4, -.9),\n",
        "          (-1.3, -1.2),\n",
        "          (-1.1, -.2),\n",
        "          (-1.2, -.4),\n",
        "          (-.5, 1.2),\n",
        "          (-1.5, 2.1),\n",
        "          (1, 1),\n",
        "          (1.3, .8),\n",
        "          (1.2, .5),\n",
        "          (.2, -2),\n",
        "          (1.5, -1.2),\n",
        "          (2.2, -1)].T\n",
        "Y = [0] * 8 + [1] * 6\n",
        "\n",
        "# Define a range of C values to experiment with\n",
        "C_values = [0.001, 0.01, 0.1, 1, 10, 100]\n",
        "\n",
        "# Create a mesh to plot in\n",
        "x_min, x_max = X[:, 0].min() - 1, X[:, 0].max() + 1\n",
        "y_min, y_max = X[:, 1].min() - 1, X[:, 1].max() + 1\n",
        "xx, yy = np.meshgrid(np.arange(x_min, x_max, 0.02),\n",
        "                     np.arange(y_min, y_max, 0.02))\n",
        "\n",
        "# Train SVMs with different C values and plot decision boundaries\n",
        "plt.figure(figsize=(12, 10))\n",
        "\n",
        "for i, C in enumerate(C_values):\n",
        "    # Create and train the SVM model with a linear kernel\n",
        "    # We use a linear kernel here to clearly see the effect of C on margin and errors\n",
        "    clf = svm.SVC(kernel='linear', C=C)\n",
        "    clf.fit(X, Y)\n",
        "\n",
        "    # Predict the class for each point in the meshgrid\n",
        "    Z = clf.predict(np.c_[xx.ravel(), yy.ravel()])\n",
        "    Z = Z.reshape(xx.shape)\n",
        "\n",
        "    # Plot the decision boundary\n",
        "    plt.subplot(3, 2, i + 1)\n",
        "    plt.contourf(xx, yy, Z, cmap=plt.cm.coolwarm, alpha=0.8)\n",
        "\n",
        "    # Plot the data points\n",
        "    plt.scatter(X[:, 0], X[:, 1], c=Y, cmap=plt.cm.coolwarm, s=20, edgecolors='k')\n",
        "    plt.xlabel('Feature 1')\n",
        "    plt.ylabel('Feature 2')\n",
        "    plt.title(f'SVM with C = {C}')\n",
        "\n",
        "plt.tight_layout()\n",
        "plt.show()"
      ],
      "execution_count": 7,
      "outputs": [
        {
          "output_type": "display_data",
          "data": {
            "text/plain": [
              "<Figure size 1200x1000 with 6 Axes>"
            ],
            "image/png": "[encoded data removed]"
          },
          "metadata": {}
        }
      ]
    },
    {
      "cell_type": "markdown",
      "source": [
        "28. Write a Python program to train a Bernoulli Naïve Bayes classifier for binary classification on a dataset with\n",
        "binary features"
      ],
      "metadata": {
        "id": "7jDzvFQxXMXB"
      }
    },
    {
      "cell_type": "code",
      "metadata": {
        "colab": {
          "base_uri": "https://localhost:8080/"
        },
        "id": "3d8d14e4",
        "outputId": "14bd37dc-45b8-408b-932e-7defdddf3784"
      },
      "source": [
        "import numpy as np\n",
        "from sklearn.model_selection import train_test_split\n",
        "from sklearn.naive_bayes import BernoulliNB\n",
        "from sklearn.metrics import accuracy_score, classification_report\n",
        "\n",
        "# Create a synthetic dataset with binary features\n",
        "# Each feature represents the presence (1) or absence (0) of a characteristic\n",
        "X = np.random.randint(0, 2, size=(100, 5)) # 100 samples, 5 binary features\n",
        "y = np.random.randint(0, 2, size=100) # Binary target variable\n",
        "\n",
        "# Split the dataset into training and testing sets\n",
        "X_train, X_test, y_train, y_test = train_test_split(X, y, test_size=0.3, random_state=42)\n",
        "\n",
        "# Create a Bernoulli Naïve Bayes classifier\n",
        "bnb = BernoulliNB()\n",
        "\n",
        "# Train the classifier\n",
        "bnb.fit(X_train, y_train)\n",
        "\n",
        "# Make predictions on the test set\n",
        "y_pred = bnb.predict(X_test)\n",
        "\n",
        "# Evaluate the accuracy and display a classification report\n",
        "accuracy = accuracy_score(y_test, y_pred)\n",
        "print(f\"Accuracy of the Bernoulli Naïve Bayes classifier: {accuracy:.2f}\")\n",
        "\n",
        "print(\"\\nClassification Report:\")\n",
        "print(classification_report(y_test, y_pred))"
      ],
      "execution_count": 8,
      "outputs": [
        {
          "output_type": "stream",
          "name": "stdout",
          "text": [
            "Accuracy of the Bernoulli Naïve Bayes classifier: 0.57\n",
            "\n",
            "Classification Report:\n",
            "              precision    recall  f1-score   support\n",
            "\n",
            "           0       0.52      1.00      0.68        14\n",
            "           1       1.00      0.19      0.32        16\n",
            "\n",
            "    accuracy                           0.57        30\n",
            "   macro avg       0.76      0.59      0.50        30\n",
            "weighted avg       0.78      0.57      0.49        30\n",
            "\n"
          ]
        }
      ]
    },
    {
      "cell_type": "markdown",
      "source": [
        "29. Write a Python program to apply feature scaling before training an SVM model and compare results with\n",
        "unscaled data"
      ],
      "metadata": {
        "id": "AKxB0qXwXQ26"
      }
    },
    {
      "cell_type": "code",
      "metadata": {
        "colab": {
          "base_uri": "https://localhost:8080/"
        },
        "id": "2a39ca7e",
        "outputId": "1f902b72-8450-40c3-b983-80a24ad237a7"
      },
      "source": [
        "from sklearn.datasets import load_iris\n",
        "from sklearn.model_selection import train_test_split\n",
        "from sklearn.svm import SVC\n",
        "from sklearn.metrics import accuracy_score\n",
        "from sklearn.preprocessing import StandardScaler\n",
        "\n",
        "# Load the Iris dataset\n",
        "iris = load_iris()\n",
        "X = iris.data\n",
        "y = iris.target\n",
        "\n",
        "# Split the dataset into training and testing sets\n",
        "X_train, X_test, y_train, y_test = train_test_split(X, y, test_size=0.3, random_state=42)\n",
        "\n",
        "# --- Train SVM on unscaled data ---\n",
        "svm_unscaled = SVC(kernel='rbf', random_state=42)\n",
        "svm_unscaled.fit(X_train, y_train)\n",
        "y_pred_unscaled = svm_unscaled.predict(X_test)\n",
        "accuracy_unscaled = accuracy_score(y_test, y_pred_unscaled)\n",
        "print(f\"Accuracy of SVM on unscaled data: {accuracy_unscaled:.2f}\")\n",
        "\n",
        "# --- Apply Feature Scaling ---\n",
        "scaler = StandardScaler()\n",
        "X_train_scaled = scaler.fit_transform(X_train)\n",
        "X_test_scaled = scaler.transform(X_test)\n",
        "\n",
        "# --- Train SVM on scaled data ---\n",
        "svm_scaled = SVC(kernel='rbf', random_state=42)\n",
        "svm_scaled.fit(X_train_scaled, y_train)\n",
        "y_pred_scaled = svm_scaled.predict(X_test_scaled)\n",
        "accuracy_scaled = accuracy_score(y_test, y_pred_scaled)\n",
        "print(f\"Accuracy of SVM on scaled data: {accuracy_scaled:.2f}\")"
      ],
      "execution_count": 9,
      "outputs": [
        {
          "output_type": "stream",
          "name": "stdout",
          "text": [
            "Accuracy of SVM on unscaled data: 1.00\n",
            "Accuracy of SVM on scaled data: 1.00\n"
          ]
        }
      ]
    },
    {
      "cell_type": "markdown",
      "source": [
        "30. Write a Python program to train a Gaussian Naïve Bayes model and compare the predictions before and\n",
        "after Laplace Smoothing"
      ],
      "metadata": {
        "id": "EAazWMgXXYtq"
      }
    },
    {
      "cell_type": "code",
      "source": [
        "from sklearn.naive_bayes import GaussianNB\n",
        "from sklearn.model_selection import train_test_split\n",
        "from sklearn.metrics import accuracy_score\n",
        "import numpy as np\n",
        "\n",
        "# Generate some synthetic data\n",
        "X = np.array([[-1, -1], [-2, -1], [-3, -2], [1, 1], [2, 1], [3, 2]])\n",
        "y = np.array([1, 1, 1, 2, 2, 2])\n",
        "\n",
        "# Split data into training and testing sets\n",
        "X_train, X_test, y_train, y_test = train_test_split(X, y, test_size=0.3, random_state=42)\n",
        "\n",
        "# 1. Gaussian Naive Bayes without Laplace Smoothing\n",
        "gnb = GaussianNB()\n",
        "gnb.fit(X_train, y_train)\n",
        "y_pred_no_smooth = gnb.predict(X_test)\n",
        "accuracy_no_smooth = accuracy_score(y_test, y_pred_no_smooth)\n",
        "\n",
        "# 2. Gaussian Naive Bayes with Laplace Smoothing\n",
        "gnb_smooth = GaussianNB()\n",
        "gnb_smooth.fit(X_train, y_train)\n",
        "# Manually apply Laplace Smoothing (alpha=1)\n",
        "for i in range(len(gnb_smooth.classes_)):\n",
        "    for j in range(X.shape[1]):\n",
        "        gnb_smooth.theta_[i, j] = (gnb_smooth.theta_[i, j] * len(X_train) + 1) / (len(X_train) + 2)  # Add 1 to count and 2 to number of classes\n",
        "        gnb_smooth.var_[i, j] = (gnb_smooth.var_[i, j] * len(X_train) + 1) / (len(X_train) + 2)  # Add 1 to variance count and 2 to number of classes\n",
        "y_pred_smooth = gnb_smooth.predict(X_test)\n",
        "accuracy_smooth = accuracy_score(y_test, y_pred_smooth)\n",
        "\n",
        "# Compare predictions and accuracy\n",
        "print(\"Predictions without Laplace Smoothing:\", y_pred_no_smooth)\n",
        "print(\"Predictions with Laplace Smoothing:\", y_pred_smooth)\n",
        "print(\"Accuracy without Laplace Smoothing:\", accuracy_no_smooth)\n",
        "print(\"Accuracy with Laplace Smoothing:\", accuracy_smooth)"
      ],
      "metadata": {
        "colab": {
          "base_uri": "https://localhost:8080/"
        },
        "id": "o_QqhR6BcCfo",
        "outputId": "51f369be-69ae-48b4-fb6c-8cd13aaef87c"
      },
      "execution_count": 10,
      "outputs": [
        {
          "output_type": "stream",
          "name": "stdout",
          "text": [
            "Predictions without Laplace Smoothing: [2 2]\n",
            "Predictions with Laplace Smoothing: [1 1]\n",
            "Accuracy without Laplace Smoothing: 0.0\n",
            "Accuracy with Laplace Smoothing: 1.0\n"
          ]
        }
      ]
    },
    {
      "cell_type": "markdown",
      "source": [
        "31. Write a Python program to train an SVM Classifier and use GridSearchCV to tune the hyperparameters (C,\n",
        "gamma, kernel)"
      ],
      "metadata": {
        "id": "wFiZSOLYfJSg"
      }
    },
    {
      "cell_type": "code",
      "metadata": {
        "colab": {
          "base_uri": "https://localhost:8080/"
        },
        "id": "5133b7f5",
        "outputId": "974a327a-a253-4202-8cab-af2d345f93fe"
      },
      "source": [
        "from sklearn.datasets import load_iris\n",
        "from sklearn.model_selection import train_test_split, GridSearchCV\n",
        "from sklearn.svm import SVC\n",
        "from sklearn.metrics import accuracy_score\n",
        "\n",
        "# Load the Iris dataset\n",
        "iris = load_iris()\n",
        "X = iris.data\n",
        "y = iris.target\n",
        "\n",
        "# Split the dataset into training and testing sets\n",
        "X_train, X_test, y_train, y_test = train_test_split(X, y, test_size=0.3, random_state=42)\n",
        "\n",
        "# Define the parameter grid to search\n",
        "param_grid = {\n",
        "    'C': [0.1, 1, 10, 100],\n",
        "    'gamma': [1, 0.1, 0.01, 0.001],\n",
        "    'kernel': ['rbf', 'linear']\n",
        "}\n",
        "\n",
        "# Create a GridSearchCV object\n",
        "# cv=5 means 5-fold cross-validation\n",
        "grid_search = GridSearchCV(SVC(), param_grid, cv=5, scoring='accuracy')\n",
        "\n",
        "# Fit GridSearchCV to the training data\n",
        "grid_search.fit(X_train, y_train)\n",
        "\n",
        "# Print the best parameters and the best score\n",
        "print(\"Best parameters found by GridSearchCV:\")\n",
        "print(grid_search.best_params_)\n",
        "print(\"\\nBest cross-validation accuracy:\")\n",
        "print(f\"{grid_search.best_score_:.2f}\")\n",
        "\n",
        "# Evaluate the best model on the test set\n",
        "best_svm_model = grid_search.best_estimator_\n",
        "y_pred = best_svm_model.predict(X_test)\n",
        "test_accuracy = accuracy_score(y_test, y_pred)\n",
        "\n",
        "print(f\"\\nAccuracy of the best SVM model on the test set: {test_accuracy:.2f}\")"
      ],
      "execution_count": 12,
      "outputs": [
        {
          "output_type": "stream",
          "name": "stdout",
          "text": [
            "Best parameters found by GridSearchCV:\n",
            "{'C': 100, 'gamma': 0.01, 'kernel': 'rbf'}\n",
            "\n",
            "Best cross-validation accuracy:\n",
            "0.97\n",
            "\n",
            "Accuracy of the best SVM model on the test set: 1.00\n"
          ]
        }
      ]
    },
    {
      "cell_type": "markdown",
      "source": [
        "32. Write a Python program to train an SVM Classifier on an imbalanced dataset and apply class weighting and\n",
        "check it improve accuracy"
      ],
      "metadata": {
        "id": "Qn1g72xzfY7T"
      }
    },
    {
      "cell_type": "code",
      "metadata": {
        "colab": {
          "base_uri": "https://localhost:8080/"
        },
        "id": "09c465b2",
        "outputId": "06b9484e-4096-43c0-d973-1da4cac363ac"
      },
      "source": [
        "import numpy as np\n",
        "from sklearn.datasets import make_classification\n",
        "from sklearn.model_selection import train_test_split\n",
        "from sklearn.svm import SVC\n",
        "from sklearn.metrics import accuracy_score, classification_report\n",
        "\n",
        "# Create a synthetic imbalanced dataset\n",
        "# We'll create a dataset with 1000 samples, 2 features, and 2 classes\n",
        "# with a class imbalance ratio of 10:1 (900 samples in class 0, 100 in class 1)\n",
        "X, y = make_classification(n_samples=1000, n_features=2, n_informative=2,\n",
        "                           n_redundant=0, n_clusters_per_class=1, weights=[0.9, 0.1],\n",
        "                           flip_y=0, random_state=42)\n",
        "\n",
        "# Split the dataset into training and testing sets\n",
        "X_train, X_test, y_train, y_test = train_test_split(X, y, test_size=0.3, random_state=42, stratify=y) # Use stratify to maintain imbalance ratio in splits\n",
        "\n",
        "# --- Train SVM on imbalanced data without class weighting ---\n",
        "svm_no_weight = SVC(kernel='linear', random_state=42)\n",
        "svm_no_weight.fit(X_train, y_train)\n",
        "y_pred_no_weight = svm_no_weight.predict(X_test)\n",
        "accuracy_no_weight = accuracy_score(y_test, y_pred_no_weight)\n",
        "\n",
        "print(\"--- Results without Class Weighting ---\")\n",
        "print(f\"Accuracy: {accuracy_no_weight:.2f}\")\n",
        "print(\"Classification Report:\")\n",
        "print(classification_report(y_test, y_pred_no_weight))\n",
        "\n",
        "# --- Train SVM on imbalanced data with class weighting ---\n",
        "# 'balanced' mode automatically adjusts weights inversely proportional to class frequencies\n",
        "svm_weighted = SVC(kernel='linear', class_weight='balanced', random_state=42)\n",
        "svm_weighted.fit(X_train, y_train)\n",
        "y_pred_weighted = svm_weighted.predict(X_test)\n",
        "accuracy_weighted = accuracy_score(y_test, y_pred_weighted)\n",
        "\n",
        "print(\"\\n--- Results with Class Weighting ---\")\n",
        "print(f\"Accuracy: {accuracy_weighted:.2f}\")\n",
        "print(\"Classification Report:\")\n",
        "print(classification_report(y_test, y_pred_weighted))"
      ],
      "execution_count": 13,
      "outputs": [
        {
          "output_type": "stream",
          "name": "stdout",
          "text": [
            "--- Results without Class Weighting ---\n",
            "Accuracy: 0.99\n",
            "Classification Report:\n",
            "              precision    recall  f1-score   support\n",
            "\n",
            "           0       0.99      1.00      1.00       270\n",
            "           1       1.00      0.93      0.97        30\n",
            "\n",
            "    accuracy                           0.99       300\n",
            "   macro avg       1.00      0.97      0.98       300\n",
            "weighted avg       0.99      0.99      0.99       300\n",
            "\n",
            "\n",
            "--- Results with Class Weighting ---\n",
            "Accuracy: 0.98\n",
            "Classification Report:\n",
            "              precision    recall  f1-score   support\n",
            "\n",
            "           0       0.99      0.99      0.99       270\n",
            "           1       0.88      0.93      0.90        30\n",
            "\n",
            "    accuracy                           0.98       300\n",
            "   macro avg       0.93      0.96      0.95       300\n",
            "weighted avg       0.98      0.98      0.98       300\n",
            "\n"
          ]
        }
      ]
    },
    {
      "cell_type": "markdown",
      "source": [
        "33. Write a Python program to implement a Naïve Bayes classifier for spam detection using email data=\n"
      ],
      "metadata": {
        "id": "mUf3UqY8gYLE"
      }
    },
    {
      "cell_type": "code",
      "metadata": {
        "colab": {
          "base_uri": "https://localhost:8080/"
        },
        "id": "106232f8",
        "outputId": "fdd2cf14-4ca2-4e47-a1d3-f91b460ddeb7"
      },
      "source": [
        "import pandas as pd\n",
        "from sklearn.model_selection import train_test_split\n",
        "from sklearn.feature_extraction.text import CountVectorizer\n",
        "from sklearn.naive_bayes import MultinomialNB\n",
        "from sklearn.metrics import accuracy_score, classification_report\n",
        "\n",
        "# Create a simple synthetic dataset for demonstration\n",
        "data = {'email': ['Hey, check out this amazing offer!',\n",
        "                  'Meeting reminder for tomorrow at 10 AM.',\n",
        "                  'WIN a free cruise now!',\n",
        "                  'Just wanted to follow up on our discussion.',\n",
        "                  'Claim your prize - click here!',\n",
        "                  'Hello, hope you are doing well.',\n",
        "                  'URGENT: Your account has been compromised!',\n",
        "                  'Project status update.',\n",
        "                  'Special discount just for you!',\n",
        "                  'Can we reschedule our call?'],\n",
        "        'label': ['spam', 'not spam', 'spam', 'not spam', 'spam', 'not spam', 'spam', 'not spam', 'spam', 'not spam']}\n",
        "\n",
        "df = pd.DataFrame(data)\n",
        "\n",
        "# Split data into features (X) and target (y)\n",
        "X = df['email']\n",
        "y = df['label']\n",
        "\n",
        "# Split the dataset into training and testing sets\n",
        "X_train, X_test, y_train, y_test = train_test_split(X, y, test_size=0.3, random_state=42)\n",
        "\n",
        "# Convert text data to numerical features using CountVectorizer\n",
        "vectorizer = CountVectorizer()\n",
        "X_train_counts = vectorizer.fit_transform(X_train)\n",
        "X_test_counts = vectorizer.transform(X_test)\n",
        "\n",
        "# Create a Multinomial Naïve Bayes classifier\n",
        "# Multinomial Naive Bayes is suitable for discrete counts like word frequencies\n",
        "mnb = MultinomialNB()\n",
        "\n",
        "# Train the classifier\n",
        "mnb.fit(X_train_counts, y_train)\n",
        "\n",
        "# Make predictions on the test set\n",
        "y_pred = mnb.predict(X_test_counts)\n",
        "\n",
        "# Evaluate the accuracy and display a classification report\n",
        "accuracy = accuracy_score(y_test, y_pred)\n",
        "print(f\"Accuracy of the Naïve Bayes classifier for spam detection: {accuracy:.2f}\")\n",
        "\n",
        "print(\"\\nClassification Report:\")\n",
        "print(classification_report(y_test, y_pred))"
      ],
      "execution_count": 14,
      "outputs": [
        {
          "output_type": "stream",
          "name": "stdout",
          "text": [
            "Accuracy of the Naïve Bayes classifier for spam detection: 0.00\n",
            "\n",
            "Classification Report:\n",
            "              precision    recall  f1-score   support\n",
            "\n",
            "    not spam       0.00      0.00      0.00       2.0\n",
            "        spam       0.00      0.00      0.00       1.0\n",
            "\n",
            "    accuracy                           0.00       3.0\n",
            "   macro avg       0.00      0.00      0.00       3.0\n",
            "weighted avg       0.00      0.00      0.00       3.0\n",
            "\n"
          ]
        }
      ]
    },
    {
      "cell_type": "markdown",
      "source": [
        "34. Write a Python program to train an SVM Classifier and a Naïve Bayes Classifier on the same dataset and\n",
        "compare their accuracy"
      ],
      "metadata": {
        "id": "rHEGVqP4giMd"
      }
    },
    {
      "cell_type": "code",
      "metadata": {
        "colab": {
          "base_uri": "https://localhost:8080/"
        },
        "id": "24d9c210",
        "outputId": "21c00089-ed47-4d2c-bc28-d6972e8d4b6b"
      },
      "source": [
        "from sklearn.datasets import load_iris\n",
        "from sklearn.model_selection import train_test_split\n",
        "from sklearn.svm import SVC\n",
        "from sklearn.naive_bayes import GaussianNB # Using Gaussian Naive Bayes for this dataset\n",
        "from sklearn.metrics import accuracy_score\n",
        "\n",
        "# Load the Iris dataset\n",
        "iris = load_iris()\n",
        "X = iris.data\n",
        "y = iris.target\n",
        "\n",
        "# Split the dataset into training and testing sets\n",
        "X_train, X_test, y_train, y_test = train_test_split(X, y, test_size=0.3, random_state=42)\n",
        "\n",
        "# --- Train SVM Classifier ---\n",
        "svm_clf = SVC(kernel='linear', random_state=42) # Using a linear kernel for simplicity\n",
        "svm_clf.fit(X_train, y_train)\n",
        "y_pred_svm = svm_clf.predict(X_test)\n",
        "accuracy_svm = accuracy_score(y_test, y_pred_svm)\n",
        "\n",
        "print(f\"Accuracy of the SVM Classifier: {accuracy_svm:.2f}\")\n",
        "\n",
        "# --- Train Naïve Bayes Classifier (Gaussian) ---\n",
        "gnb_clf = GaussianNB()\n",
        "gnb_clf.fit(X_train, y_train)\n",
        "y_pred_gnb = gnb_clf.predict(X_test)\n",
        "accuracy_gnb = accuracy_score(y_test, y_pred_gnb)\n",
        "\n",
        "print(f\"Accuracy of the Gaussian Naïve Bayes Classifier: {accuracy_gnb:.2f}\")\n",
        "\n",
        "# Compare accuracies\n",
        "print(\"\\nComparison of Accuracies:\")\n",
        "print(f\"SVM Classifier Accuracy: {accuracy_svm:.2f}\")\n",
        "print(f\"Gaussian Naïve Bayes Classifier Accuracy: {accuracy_gnb:.2f}\")"
      ],
      "execution_count": 15,
      "outputs": [
        {
          "output_type": "stream",
          "name": "stdout",
          "text": [
            "Accuracy of the SVM Classifier: 1.00\n",
            "Accuracy of the Gaussian Naïve Bayes Classifier: 0.98\n",
            "\n",
            "Comparison of Accuracies:\n",
            "SVM Classifier Accuracy: 1.00\n",
            "Gaussian Naïve Bayes Classifier Accuracy: 0.98\n"
          ]
        }
      ]
    },
    {
      "cell_type": "markdown",
      "source": [
        "35.  Write a Python program to perform feature selection before training a Naïve Bayes classifier and compare\n",
        "results"
      ],
      "metadata": {
        "id": "ofr_KtAZgvYM"
      }
    },
    {
      "cell_type": "code",
      "metadata": {
        "colab": {
          "base_uri": "https://localhost:8080/"
        },
        "id": "75e1a5a7",
        "outputId": "9c80e2b3-0500-4d8e-ba7e-ec92ea82b51f"
      },
      "source": [
        "from sklearn.datasets import load_breast_cancer\n",
        "from sklearn.model_selection import train_test_split\n",
        "from sklearn.naive_bayes import GaussianNB\n",
        "from sklearn.metrics import accuracy_score\n",
        "from sklearn.feature_selection import SelectKBest, chi2\n",
        "import numpy as np\n",
        "\n",
        "# Load the Breast Cancer dataset\n",
        "breast_cancer = load_breast_cancer()\n",
        "X = breast_cancer.data\n",
        "y = breast_cancer.target\n",
        "\n",
        "# Split the dataset into training and testing sets\n",
        "X_train, X_test, y_train, y_test = train_test_split(X, y, test_size=0.3, random_state=42)\n",
        "\n",
        "# --- Train Naïve Bayes on original data ---\n",
        "gnb_original = GaussianNB()\n",
        "gnb_original.fit(X_train, y_train)\n",
        "y_pred_original = gnb_original.predict(X_test)\n",
        "accuracy_original = accuracy_score(y_test, y_pred_original)\n",
        "\n",
        "print(f\"Accuracy of Naïve Bayes on original data: {accuracy_original:.2f}\")\n",
        "\n",
        "# --- Perform Feature Selection ---\n",
        "# Use SelectKBest to select the top k features\n",
        "# chi2 is suitable for non-negative features (like those in the Breast Cancer dataset)\n",
        "# We'll select, for example, the top 15 features\n",
        "selector = SelectKBest(chi2, k=15)\n",
        "X_train_selected = selector.fit_transform(X_train, y_train)\n",
        "X_test_selected = selector.transform(X_test)\n",
        "\n",
        "print(f\"\\nOriginal number of features: {X_train.shape[1]}\")\n",
        "print(f\"Number of features after selection: {X_train_selected.shape[1]}\")\n",
        "\n",
        "# --- Train Naïve Bayes on selected features ---\n",
        "gnb_selected = GaussianNB()\n",
        "gnb_selected.fit(X_train_selected, y_train)\n",
        "y_pred_selected = gnb_selected.predict(X_test_selected)\n",
        "accuracy_selected = accuracy_score(y_test, y_pred_selected)\n",
        "\n",
        "print(f\"\\nAccuracy of Naïve Bayes on selected features: {accuracy_selected:.2f}\")\n",
        "\n",
        "# Compare accuracies\n",
        "print(\"\\nComparison of Accuracies:\")\n",
        "print(f\"Accuracy on original data: {accuracy_original:.2f}\")\n",
        "print(f\"Accuracy on selected features: {accuracy_selected:.2f}\")"
      ],
      "execution_count": 16,
      "outputs": [
        {
          "output_type": "stream",
          "name": "stdout",
          "text": [
            "Accuracy of Naïve Bayes on original data: 0.94\n",
            "\n",
            "Original number of features: 30\n",
            "Number of features after selection: 15\n",
            "\n",
            "Accuracy of Naïve Bayes on selected features: 0.96\n",
            "\n",
            "Comparison of Accuracies:\n",
            "Accuracy on original data: 0.94\n",
            "Accuracy on selected features: 0.96\n"
          ]
        }
      ]
    },
    {
      "cell_type": "markdown",
      "source": [
        "36. Write a Python program to train an SVM Classifier using One-vs-Rest (OvR) and One-vs-One (OvO)\n",
        "strategies on the Wine dataset and compare their accuracy"
      ],
      "metadata": {
        "id": "gUfoorLhhCJ3"
      }
    },
    {
      "cell_type": "code",
      "metadata": {
        "colab": {
          "base_uri": "https://localhost:8080/"
        },
        "id": "26740b35",
        "outputId": "24461e4c-e791-444a-e4d0-fc3eab241798"
      },
      "source": [
        "from sklearn.datasets import load_wine\n",
        "from sklearn.model_selection import train_test_split\n",
        "from sklearn.svm import SVC\n",
        "from sklearn.metrics import accuracy_score\n",
        "\n",
        "# Load the Wine dataset\n",
        "wine = load_wine()\n",
        "X = wine.data\n",
        "y = wine.target\n",
        "\n",
        "# Split the dataset into training and testing sets\n",
        "X_train, X_test, y_train, y_test = train_test_split(X, y, test_size=0.3, random_state=42)\n",
        "\n",
        "# --- Train SVM with One-vs-Rest (OvR) strategy ---\n",
        "# In scikit-learn, decision_function_shape='ovr' explicitly uses the OvR strategy\n",
        "# By default, SVC with kernel='rbf' uses OvR for multi-class classification\n",
        "svm_ovr = SVC(kernel='rbf', decision_function_shape='ovr', random_state=42)\n",
        "svm_ovr.fit(X_train, y_train)\n",
        "y_pred_ovr = svm_ovr.predict(X_test)\n",
        "accuracy_ovr = accuracy_score(y_test, y_pred_ovr)\n",
        "\n",
        "print(f\"Accuracy of SVM (One-vs-Rest) on the Wine dataset: {accuracy_ovr:.2f}\")\n",
        "\n",
        "# --- Train SVM with One-vs-One (OvO) strategy ---\n",
        "# In scikit-learn, decision_function_shape='ovo' explicitly uses the OvO strategy\n",
        "svm_ovo = SVC(kernel='rbf', decision_function_shape='ovo', random_state=42)\n",
        "svm_ovo.fit(X_train, y_train)\n",
        "y_pred_ovo = svm_ovo.predict(X_test)\n",
        "accuracy_ovo = accuracy_score(y_test, y_pred_ovo)\n",
        "\n",
        "print(f\"Accuracy of SVM (One-vs-One) on the Wine dataset: {accuracy_ovo:.2f}\")\n",
        "\n",
        "# Compare accuracies\n",
        "print(\"\\nComparison of Accuracies:\")\n",
        "print(f\"SVM (One-vs-Rest) Accuracy: {accuracy_ovr:.2f}\")\n",
        "print(f\"SVM (One-vs-One) Accuracy: {accuracy_ovo:.2f}\")"
      ],
      "execution_count": 17,
      "outputs": [
        {
          "output_type": "stream",
          "name": "stdout",
          "text": [
            "Accuracy of SVM (One-vs-Rest) on the Wine dataset: 0.76\n",
            "Accuracy of SVM (One-vs-One) on the Wine dataset: 0.76\n",
            "\n",
            "Comparison of Accuracies:\n",
            "SVM (One-vs-Rest) Accuracy: 0.76\n",
            "SVM (One-vs-One) Accuracy: 0.76\n"
          ]
        }
      ]
    },
    {
      "cell_type": "markdown",
      "source": [
        "37. Write a Python program to train an SVM Classifier using Linear, Polynomial, and RBF kernels on the Breast\n",
        "Cancer dataset and compare their accuracy"
      ],
      "metadata": {
        "id": "7SZlJdujiqeG"
      }
    },
    {
      "cell_type": "code",
      "metadata": {
        "colab": {
          "base_uri": "https://localhost:8080/"
        },
        "id": "6ab020fe",
        "outputId": "0926578d-95b3-442b-c07e-399afdc2d2eb"
      },
      "source": [
        "from sklearn.datasets import load_breast_cancer\n",
        "from sklearn.model_selection import train_test_split\n",
        "from sklearn.svm import SVC\n",
        "from sklearn.metrics import accuracy_score\n",
        "\n",
        "# Load the Breast Cancer dataset\n",
        "breast_cancer = load_breast_cancer()\n",
        "X = breast_cancer.data\n",
        "y = breast_cancer.target\n",
        "\n",
        "# Split the dataset into training and testing sets\n",
        "X_train, X_test, y_train, y_test = train_test_split(X, y, test_size=0.3, random_state=42)\n",
        "\n",
        "# --- Train SVM with Linear kernel ---\n",
        "svm_linear = SVC(kernel='linear', random_state=42)\n",
        "svm_linear.fit(X_train, y_train)\n",
        "y_pred_linear = svm_linear.predict(X_test)\n",
        "accuracy_linear = accuracy_score(y_test, y_pred_linear)\n",
        "\n",
        "print(f\"Accuracy of SVM with Linear kernel: {accuracy_linear:.2f}\")\n",
        "\n",
        "# --- Train SVM with Polynomial kernel ---\n",
        "# You can adjust the 'degree' parameter for the polynomial kernel\n",
        "svm_poly = SVC(kernel='poly', degree=3, random_state=42)\n",
        "svm_poly.fit(X_train, y_train)\n",
        "y_pred_poly = svm_poly.predict(X_test)\n",
        "accuracy_poly = accuracy_score(y_test, y_pred_poly)\n",
        "\n",
        "print(f\"Accuracy of SVM with Polynomial kernel (degree=3): {accuracy_poly:.2f}\")\n",
        "\n",
        "# --- Train SVM with RBF kernel ---\n",
        "svm_rbf = SVC(kernel='rbf', random_state=42)\n",
        "svm_rbf.fit(X_train, y_train)\n",
        "y_pred_rbf = svm_rbf.predict(X_test)\n",
        "accuracy_rbf = accuracy_score(y_test, y_pred_rbf)\n",
        "\n",
        "print(f\"Accuracy of SVM with RBF kernel: {accuracy_rbf:.2f}\")\n",
        "\n",
        "# Compare accuracies\n",
        "print(\"\\nComparison of Accuracies:\")\n",
        "print(f\"Linear Kernel Accuracy: {accuracy_linear:.2f}\")\n",
        "print(f\"Polynomial Kernel Accuracy: {accuracy_poly:.2f}\")\n",
        "print(f\"RBF Kernel Accuracy: {accuracy_rbf:.2f}\")"
      ],
      "execution_count": 18,
      "outputs": [
        {
          "output_type": "stream",
          "name": "stdout",
          "text": [
            "Accuracy of SVM with Linear kernel: 0.96\n",
            "Accuracy of SVM with Polynomial kernel (degree=3): 0.94\n",
            "Accuracy of SVM with RBF kernel: 0.94\n",
            "\n",
            "Comparison of Accuracies:\n",
            "Linear Kernel Accuracy: 0.96\n",
            "Polynomial Kernel Accuracy: 0.94\n",
            "RBF Kernel Accuracy: 0.94\n"
          ]
        }
      ]
    },
    {
      "cell_type": "markdown",
      "source": [
        "38. Write a Python program to train an SVM Classifier using Stratified K-Fold Cross-Validation and compute the\n",
        "average accuracy"
      ],
      "metadata": {
        "id": "yy0Kmpyhi7YV"
      }
    },
    {
      "cell_type": "code",
      "metadata": {
        "colab": {
          "base_uri": "https://localhost:8080/"
        },
        "id": "9b30de5f",
        "outputId": "62497154-57c1-4a2a-b6d0-d2edf59b648f"
      },
      "source": [
        "import numpy as np\n",
        "from sklearn.datasets import load_iris\n",
        "from sklearn.model_selection import StratifiedKFold\n",
        "from sklearn.svm import SVC\n",
        "from sklearn.metrics import accuracy_score\n",
        "\n",
        "# Load the Iris dataset\n",
        "iris = load_iris()\n",
        "X = iris.data\n",
        "y = iris.target\n",
        "\n",
        "# Define the number of splits for Stratified K-Fold\n",
        "n_splits = 5\n",
        "\n",
        "# Create a StratifiedKFold object\n",
        "# StratifiedKFold ensures that each fold has the same proportion of observations\n",
        "# with a given label as the original dataset, which is important for classification on imbalanced datasets\n",
        "skf = StratifiedKFold(n_splits=n_splits, shuffle=True, random_state=42)\n",
        "\n",
        "# Initialize a list to store accuracy scores for each fold\n",
        "accuracy_scores = []\n",
        "\n",
        "# Iterate through the folds\n",
        "for train_index, test_index in skf.split(X, y):\n",
        "    # Split data into training and testing sets for the current fold\n",
        "    X_train, X_test = X[train_index], X[test_index]\n",
        "    y_train, y_test = y[train_index], y[test_index]\n",
        "\n",
        "    # Create an SVM classifier\n",
        "    # You can change the kernel and other parameters here if needed\n",
        "    svm_clf = SVC(kernel='linear', random_state=42)\n",
        "\n",
        "    # Train the classifier on the training data for this fold\n",
        "    svm_clf.fit(X_train, y_train)\n",
        "\n",
        "    # Make predictions on the test data for this fold\n",
        "    y_pred = svm_clf.predict(X_test)\n",
        "\n",
        "    # Calculate the accuracy for this fold\n",
        "    accuracy = accuracy_score(y_test, y_pred)\n",
        "    accuracy_scores.append(accuracy)\n",
        "\n",
        "# Compute the average accuracy across all folds\n",
        "average_accuracy = np.mean(accuracy_scores)\n",
        "\n",
        "print(f\"Accuracy scores for each fold: {accuracy_scores}\")\n",
        "print(f\"Average accuracy using Stratified {n_splits}-Fold Cross-Validation: {average_accuracy:.2f}\")"
      ],
      "execution_count": 19,
      "outputs": [
        {
          "output_type": "stream",
          "name": "stdout",
          "text": [
            "Accuracy scores for each fold: [1.0, 1.0, 0.9333333333333333, 1.0, 1.0]\n",
            "Average accuracy using Stratified 5-Fold Cross-Validation: 0.99\n"
          ]
        }
      ]
    },
    {
      "cell_type": "markdown",
      "source": [
        "39. Write a Python program to train a Naïve Bayes classifier using different prior probabilities and compare\n",
        "performance"
      ],
      "metadata": {
        "id": "fZe09cnijHgl"
      }
    },
    {
      "cell_type": "code",
      "metadata": {
        "colab": {
          "base_uri": "https://localhost:8080/"
        },
        "id": "0a54eedc",
        "outputId": "1281f056-fcfc-4d65-deee-39d9f01063ae"
      },
      "source": [
        "import numpy as np\n",
        "from sklearn.datasets import load_iris\n",
        "from sklearn.model_selection import train_test_split\n",
        "from sklearn.naive_bayes import GaussianNB\n",
        "from sklearn.metrics import accuracy_score, classification_report\n",
        "\n",
        "# Load the Iris dataset\n",
        "iris = load_iris()\n",
        "X = iris.data\n",
        "y = iris.target\n",
        "\n",
        "# Split the dataset into training and testing sets\n",
        "X_train, X_test, y_train, y_test = train_test_split(X, y, test_size=0.3, random_state=42, stratify=y) # Use stratify to maintain class proportions\n",
        "\n",
        "# --- Train Naïve Bayes with default prior probabilities (estimated from data) ---\n",
        "gnb_default = GaussianNB()\n",
        "gnb_default.fit(X_train, y_train)\n",
        "y_pred_default = gnb_default.predict(X_test)\n",
        "accuracy_default = accuracy_score(y_test, y_pred_default)\n",
        "\n",
        "print(\"--- Results with Default Prior Probabilities ---\")\n",
        "print(f\"Accuracy: {accuracy_default:.2f}\")\n",
        "print(\"Classification Report:\")\n",
        "print(classification_report(y_test, y_pred_default, target_names=iris.target_names))\n",
        "\n",
        "# --- Train Naïve Bayes with custom prior probabilities ---\n",
        "# Example: Assume we know the true prior probabilities are different\n",
        "# Let's say we want to give more weight to class 0\n",
        "custom_priors = [0.5, 0.3, 0.2] # Sum must be 1.0, corresponds to classes 0, 1, 2\n",
        "\n",
        "# Check if the number of custom priors matches the number of classes\n",
        "if len(custom_priors) != len(np.unique(y_train)):\n",
        "    print(\"\\nWarning: Number of custom priors does not match the number of classes.\")\n",
        "    print(\"Using default priors instead.\")\n",
        "    gnb_custom = GaussianNB() # Revert to default if mismatch\n",
        "else:\n",
        "    gnb_custom = GaussianNB(priors=custom_priors)\n",
        "    gnb_custom.fit(X_train, y_train)\n",
        "    y_pred_custom = gnb_custom.predict(X_test)\n",
        "    accuracy_custom = accuracy_score(y_test, y_pred_custom)\n",
        "\n",
        "    print(\"\\n--- Results with Custom Prior Probabilities ---\")\n",
        "    print(f\"Custom Priors: {custom_priors}\")\n",
        "    print(f\"Accuracy: {accuracy_custom:.2f}\")\n",
        "    print(\"Classification Report:\")\n",
        "    print(classification_report(y_test, y_pred_custom, target_names=iris.target_names))"
      ],
      "execution_count": 20,
      "outputs": [
        {
          "output_type": "stream",
          "name": "stdout",
          "text": [
            "--- Results with Default Prior Probabilities ---\n",
            "Accuracy: 0.91\n",
            "Classification Report:\n",
            "              precision    recall  f1-score   support\n",
            "\n",
            "      setosa       1.00      1.00      1.00        15\n",
            "  versicolor       0.82      0.93      0.88        15\n",
            "   virginica       0.92      0.80      0.86        15\n",
            "\n",
            "    accuracy                           0.91        45\n",
            "   macro avg       0.92      0.91      0.91        45\n",
            "weighted avg       0.92      0.91      0.91        45\n",
            "\n",
            "\n",
            "--- Results with Custom Prior Probabilities ---\n",
            "Custom Priors: [0.5, 0.3, 0.2]\n",
            "Accuracy: 0.91\n",
            "Classification Report:\n",
            "              precision    recall  f1-score   support\n",
            "\n",
            "      setosa       1.00      1.00      1.00        15\n",
            "  versicolor       0.82      0.93      0.88        15\n",
            "   virginica       0.92      0.80      0.86        15\n",
            "\n",
            "    accuracy                           0.91        45\n",
            "   macro avg       0.92      0.91      0.91        45\n",
            "weighted avg       0.92      0.91      0.91        45\n",
            "\n"
          ]
        }
      ]
    },
    {
      "cell_type": "markdown",
      "source": [
        "40. Write a Python program to perform Recursive Feature Elimination (RFE) before training an SVM Classifier and\n",
        "compare accuracy"
      ],
      "metadata": {
        "id": "4HnfmykPjY4P"
      }
    },
    {
      "cell_type": "code",
      "metadata": {
        "colab": {
          "base_uri": "https://localhost:8080/"
        },
        "id": "6fdf0996",
        "outputId": "38be9f07-288d-4194-a953-0e6e1161c812"
      },
      "source": [
        "from sklearn.datasets import load_breast_cancer\n",
        "from sklearn.model_selection import train_test_split\n",
        "from sklearn.svm import SVC\n",
        "from sklearn.metrics import accuracy_score\n",
        "from sklearn.feature_selection import RFE\n",
        "\n",
        "# Load the Breast Cancer dataset\n",
        "breast_cancer = load_breast_cancer()\n",
        "X = breast_cancer.data\n",
        "y = breast_cancer.target\n",
        "\n",
        "# Split the dataset into training and testing sets\n",
        "X_train, X_test, y_train, y_test = train_test_split(X, y, test_size=0.3, random_state=42)\n",
        "\n",
        "# --- Train SVM on original data ---\n",
        "svm_original = SVC(kernel='linear', random_state=42)\n",
        "svm_original.fit(X_train, y_train)\n",
        "y_pred_original = svm_original.predict(X_test)\n",
        "accuracy_original = accuracy_score(y_test, y_pred_original)\n",
        "\n",
        "print(f\"Accuracy of SVM on original data: {accuracy_original:.2f}\")\n",
        "\n",
        "# --- Perform Recursive Feature Elimination (RFE) ---\n",
        "# Use an SVM classifier as the estimator for RFE\n",
        "estimator = SVC(kernel='linear')\n",
        "\n",
        "# Create RFE object and select, for example, the top 10 features\n",
        "# You can adjust the 'n_features_to_select' parameter\n",
        "selector = RFE(estimator, n_features_to_select=10, step=1)\n",
        "selector = selector.fit(X_train, y_train)\n",
        "\n",
        "# Transform the data to include only the selected features\n",
        "X_train_selected = selector.transform(X_train)\n",
        "X_test_selected = selector.transform(X_test)\n",
        "\n",
        "print(f\"\\nOriginal number of features: {X_train.shape[1]}\")\n",
        "print(f\"Number of features after RFE: {X_train_selected.shape[1]}\")\n",
        "print(f\"Selected features indices (0-based): {selector.support_}\")\n",
        "print(f\"Ranking of features (1 is best): {selector.ranking_}\")\n",
        "\n",
        "\n",
        "# --- Train SVM on selected features ---\n",
        "svm_selected = SVC(kernel='linear', random_state=42)\n",
        "svm_selected.fit(X_train_selected, y_train)\n",
        "y_pred_selected = svm_selected.predict(X_test_selected)\n",
        "accuracy_selected = accuracy_score(y_test, y_pred_selected)\n",
        "\n",
        "print(f\"\\nAccuracy of SVM on features selected by RFE: {accuracy_selected:.2f}\")\n",
        "\n",
        "# Compare accuracies\n",
        "print(\"\\nComparison of Accuracies:\")\n",
        "print(f\"Accuracy on original data: {accuracy_original:.2f}\")\n",
        "print(f\"Accuracy on features selected by RFE: {accuracy_selected:.2f}\")"
      ],
      "execution_count": 21,
      "outputs": [
        {
          "output_type": "stream",
          "name": "stdout",
          "text": [
            "Accuracy of SVM on original data: 0.96\n",
            "\n",
            "Original number of features: 30\n",
            "Number of features after RFE: 10\n",
            "Selected features indices (0-based): [ True False False False False False  True  True False False  True  True\n",
            " False False False False False False False False False False False False\n",
            "  True  True  True  True  True False]\n",
            "Ranking of features (1 is best): [ 1  7  9 19  3  5  1  1  2 14  1  1  4 10 16 13 21 15 12 17 11  6 18 20\n",
            "  1  1  1  1  1  8]\n",
            "\n",
            "Accuracy of SVM on features selected by RFE: 0.93\n",
            "\n",
            "Comparison of Accuracies:\n",
            "Accuracy on original data: 0.96\n",
            "Accuracy on features selected by RFE: 0.93\n"
          ]
        }
      ]
    },
    {
      "cell_type": "markdown",
      "source": [
        "41. Write a Python program to train an SVM Classifier and evaluate its performance using Precision, Recall, and\n",
        "F1-Score instead of accuracy=\n"
      ],
      "metadata": {
        "id": "DBcbxOdTjq9S"
      }
    },
    {
      "cell_type": "code",
      "metadata": {
        "colab": {
          "base_uri": "https://localhost:8080/"
        },
        "id": "e001b04b",
        "outputId": "c11745f3-b470-4f84-a7bc-22f228634297"
      },
      "source": [
        "from sklearn.datasets import load_iris\n",
        "from sklearn.model_selection import train_test_split\n",
        "from sklearn.svm import SVC\n",
        "from sklearn.metrics import accuracy_score, classification_report\n",
        "\n",
        "# Load the Iris dataset\n",
        "iris = load_iris()\n",
        "X = iris.data\n",
        "y = iris.target\n",
        "\n",
        "# Split the dataset into training and testing sets\n",
        "X_train, X_test, y_train, y_test = train_test_split(X, y, test_size=0.3, random_state=42)\n",
        "\n",
        "# Create an SVM classifier\n",
        "# Using a linear kernel for simplicity, but you can change it\n",
        "svm_clf = SVC(kernel='linear', random_state=42)\n",
        "\n",
        "# Train the classifier\n",
        "svm_clf.fit(X_train, y_train)\n",
        "\n",
        "# Make predictions on the test set\n",
        "y_pred = svm_clf.predict(X_test)\n",
        "\n",
        "# Evaluate the accuracy\n",
        "accuracy = accuracy_score(y_test, y_pred)\n",
        "print(f\"Accuracy of the SVM Classifier: {accuracy:.2f}\")\n",
        "\n",
        "# Evaluate performance using Precision, Recall, and F1-Score\n",
        "print(\"\\nClassification Report:\")\n",
        "print(classification_report(y_test, y_pred, target_names=iris.target_names))"
      ],
      "execution_count": 22,
      "outputs": [
        {
          "output_type": "stream",
          "name": "stdout",
          "text": [
            "Accuracy of the SVM Classifier: 1.00\n",
            "\n",
            "Classification Report:\n",
            "              precision    recall  f1-score   support\n",
            "\n",
            "      setosa       1.00      1.00      1.00        19\n",
            "  versicolor       1.00      1.00      1.00        13\n",
            "   virginica       1.00      1.00      1.00        13\n",
            "\n",
            "    accuracy                           1.00        45\n",
            "   macro avg       1.00      1.00      1.00        45\n",
            "weighted avg       1.00      1.00      1.00        45\n",
            "\n"
          ]
        }
      ]
    },
    {
      "cell_type": "markdown",
      "source": [
        "42.  Write a Python program to train a Naïve Bayes Classifier and evaluate its performance using Log Loss\n",
        "(Cross-Entropy Loss)"
      ],
      "metadata": {
        "id": "hUCgkUpHj3M7"
      }
    },
    {
      "cell_type": "code",
      "metadata": {
        "colab": {
          "base_uri": "https://localhost:8080/"
        },
        "id": "a262cc6f",
        "outputId": "ad322b3a-a102-40c5-e427-64b014eb8fbb"
      },
      "source": [
        "from sklearn.datasets import load_iris\n",
        "from sklearn.model_selection import train_test_split\n",
        "from sklearn.naive_bayes import GaussianNB\n",
        "from sklearn.metrics import log_loss\n",
        "\n",
        "# Load the Iris dataset\n",
        "iris = load_iris()\n",
        "X = iris.data\n",
        "y = iris.target\n",
        "\n",
        "# Split the dataset into training and testing sets\n",
        "X_train, X_test, y_train, y_test = train_test_split(X, y, test_size=0.3, random_state=42)\n",
        "\n",
        "# Create a Gaussian Naïve Bayes classifier\n",
        "gnb = GaussianNB()\n",
        "\n",
        "# Train the classifier\n",
        "gnb.fit(X_train, y_train)\n",
        "\n",
        "# Get the predicted probabilities for the test set\n",
        "# log_loss requires probability estimates\n",
        "y_pred_proba = gnb.predict_proba(X_test)\n",
        "\n",
        "# Calculate the Log Loss (Cross-Entropy Loss)\n",
        "# The labels (y_test) should be in the range [0, n_classes)\n",
        "logloss = log_loss(y_test, y_pred_proba)\n",
        "\n",
        "print(f\"Log Loss (Cross-Entropy Loss) of the Naïve Bayes classifier: {logloss:.4f}\")"
      ],
      "execution_count": 23,
      "outputs": [
        {
          "output_type": "stream",
          "name": "stdout",
          "text": [
            "Log Loss (Cross-Entropy Loss) of the Naïve Bayes classifier: 0.0490\n"
          ]
        }
      ]
    },
    {
      "cell_type": "markdown",
      "source": [
        "43. Write a Python program to train an SVM Classifier and visualize the Confusion Matrix using seaborn"
      ],
      "metadata": {
        "id": "h0cUAtsAkBJv"
      }
    },
    {
      "cell_type": "code",
      "metadata": {
        "colab": {
          "base_uri": "https://localhost:8080/",
          "height": 564
        },
        "id": "dc08c0de",
        "outputId": "eabf5f28-6ccd-4387-971c-b04e21dba6c0"
      },
      "source": [
        "import matplotlib.pyplot as plt\n",
        "import seaborn as sns\n",
        "from sklearn.datasets import load_iris\n",
        "from sklearn.model_selection import train_test_split\n",
        "from sklearn.svm import SVC\n",
        "from sklearn.metrics import confusion_matrix\n",
        "\n",
        "# Load the Iris dataset\n",
        "iris = load_iris()\n",
        "X = iris.data\n",
        "y = iris.target\n",
        "target_names = iris.target_names # Get target names for labeling the confusion matrix\n",
        "\n",
        "# Split the dataset into training and testing sets\n",
        "X_train, X_test, y_train, y_test = train_test_split(X, y, test_size=0.3, random_state=42)\n",
        "\n",
        "# Create an SVM classifier\n",
        "# Using a linear kernel for simplicity, but you can change it\n",
        "svm_clf = SVC(kernel='linear', random_state=42)\n",
        "\n",
        "# Train the classifier\n",
        "svm_clf.fit(X_train, y_train)\n",
        "\n",
        "# Make predictions on the test set\n",
        "y_pred = svm_clf.predict(X_test)\n",
        "\n",
        "# Calculate the Confusion Matrix\n",
        "cm = confusion_matrix(y_test, y_pred)\n",
        "\n",
        "# Visualize the Confusion Matrix using seaborn\n",
        "plt.figure(figsize=(8, 6))\n",
        "sns.heatmap(cm, annot=True, fmt='d', cmap='Blues',\n",
        "            xticklabels=target_names, yticklabels=target_names)\n",
        "plt.xlabel('Predicted Label')\n",
        "plt.ylabel('True Label')\n",
        "plt.title('Confusion Matrix for SVM Classifier on Iris Dataset')\n",
        "plt.show()"
      ],
      "execution_count": 24,
      "outputs": [
        {
          "output_type": "display_data",
          "data": {
            "text/plain": [
              "<Figure size 800x600 with 2 Axes>"
            ],
            "image/png": "[encoded data removed]"
          },
          "metadata": {}
        }
      ]
    },
    {
      "cell_type": "markdown",
      "source": [
        "44.  Write a Python program to train an SVM Regressor (SVR) and evaluate its performance using Mean Absolute\n",
        "Error (MAE) instead of MSE"
      ],
      "metadata": {
        "id": "M3c37LaPkKAf"
      }
    },
    {
      "cell_type": "code",
      "metadata": {
        "colab": {
          "base_uri": "https://localhost:8080/"
        },
        "id": "342c2abf",
        "outputId": "83a9e008-ae2a-4af4-a84f-387df9150466"
      },
      "source": [
        "from sklearn.datasets import fetch_california_housing\n",
        "from sklearn.model_selection import train_test_split\n",
        "from sklearn.svm import SVR\n",
        "from sklearn.metrics import mean_absolute_error\n",
        "\n",
        "# Load the California Housing dataset\n",
        "housing = fetch_california_housing()\n",
        "X = housing.data\n",
        "y = housing.target\n",
        "\n",
        "# Split the dataset into training and testing sets\n",
        "X_train, X_test, y_train, y_test = train_test_split(X, y, test_size=0.3, random_state=42)\n",
        "\n",
        "# Create an SVR model\n",
        "# We'll use the default RBF kernel for this example\n",
        "svr = SVR(kernel='rbf')\n",
        "\n",
        "# Train the SVR model\n",
        "svr.fit(X_train, y_train)\n",
        "\n",
        "# Make predictions on the test set\n",
        "y_pred = svr.predict(X_test)\n",
        "\n",
        "# Evaluate the model using Mean Absolute Error (MAE)\n",
        "mae = mean_absolute_error(y_test, y_pred)\n",
        "\n",
        "print(f\"Mean Absolute Error (MAE) of the SVR model on the housing dataset: {mae:.2f}\")"
      ],
      "execution_count": 25,
      "outputs": [
        {
          "output_type": "stream",
          "name": "stdout",
          "text": [
            "Mean Absolute Error (MAE) of the SVR model on the housing dataset: 0.87\n"
          ]
        }
      ]
    },
    {
      "cell_type": "markdown",
      "source": [
        "45. Write a Python program to train a Naïve Bayes classifier and evaluate its performance using the ROC-AUC\n",
        "score="
      ],
      "metadata": {
        "id": "_6qDxjSWkZrH"
      }
    },
    {
      "cell_type": "code",
      "metadata": {
        "colab": {
          "base_uri": "https://localhost:8080/"
        },
        "id": "46edd2cd",
        "outputId": "a0bc0c44-9649-4428-b6da-f73f960ce951"
      },
      "source": [
        "from sklearn.datasets import load_breast_cancer\n",
        "from sklearn.model_selection import train_test_split\n",
        "from sklearn.naive_bayes import GaussianNB\n",
        "from sklearn.metrics import roc_auc_score\n",
        "\n",
        "# Load the Breast Cancer dataset (binary classification)\n",
        "breast_cancer = load_breast_cancer()\n",
        "X = breast_cancer.data\n",
        "y = breast_cancer.target\n",
        "\n",
        "# Split the dataset into training and testing sets\n",
        "X_train, X_test, y_train, y_test = train_test_split(X, y, test_size=0.3, random_state=42)\n",
        "\n",
        "# Create a Gaussian Naïve Bayes classifier\n",
        "gnb = GaussianNB()\n",
        "\n",
        "# Train the classifier\n",
        "gnb.fit(X_train, y_train)\n",
        "\n",
        "# Get the probability estimates for the positive class (class 1)\n",
        "# roc_auc_score requires these probabilities\n",
        "y_pred_proba = gnb.predict_proba(X_test)[:, 1]\n",
        "\n",
        "# Calculate the ROC-AUC score\n",
        "roc_auc = roc_auc_score(y_test, y_pred_proba)\n",
        "\n",
        "print(f\"ROC-AUC score of the Naïve Bayes classifier: {roc_auc:.2f}\")"
      ],
      "execution_count": 26,
      "outputs": [
        {
          "output_type": "stream",
          "name": "stdout",
          "text": [
            "ROC-AUC score of the Naïve Bayes classifier: 0.99\n"
          ]
        }
      ]
    },
    {
      "cell_type": "markdown",
      "source": [
        "46. Write a Python program to train an SVM Classifier and visualize the Precision-Recall Curve"
      ],
      "metadata": {
        "id": "3P_t9fHMkmO7"
      }
    },
    {
      "cell_type": "code",
      "metadata": {
        "colab": {
          "base_uri": "https://localhost:8080/",
          "height": 564
        },
        "id": "8559ca5f",
        "outputId": "cf16b2c3-96b7-4376-c31d-e670700793c3"
      },
      "source": [
        "import matplotlib.pyplot as plt\n",
        "from sklearn.datasets import load_breast_cancer\n",
        "from sklearn.model_selection import train_test_split\n",
        "from sklearn.svm import SVC\n",
        "from sklearn.metrics import precision_recall_curve, auc\n",
        "\n",
        "# Load the Breast Cancer dataset (binary classification)\n",
        "breast_cancer = load_breast_cancer()\n",
        "X = breast_cancer.data\n",
        "y = breast_cancer.target\n",
        "\n",
        "# Split the dataset into training and testing sets\n",
        "X_train, X_test, y_train, y_test = train_test_split(X, y, test_size=0.3, random_state=42)\n",
        "\n",
        "# Create an SVM classifier\n",
        "# Use probability=True to enable probability estimates for precision_recall_curve\n",
        "# Note: Enabling probability=True adds a cost due to cross-validation\n",
        "svm_clf = SVC(kernel='rbf', probability=True, random_state=42) # Corrected parameter\n",
        "\n",
        "# Train the classifier\n",
        "svm_clf.fit(X_train, y_train)\n",
        "\n",
        "# Get the probability estimates of the positive class (class 1)\n",
        "# precision_recall_curve requires these probabilities\n",
        "y_scores = svm_clf.predict_proba(X_test)[:, 1]\n",
        "\n",
        "# Calculate precision and recall for different probability thresholds\n",
        "precision, recall, thresholds = precision_recall_curve(y_test, y_scores)\n",
        "\n",
        "# Calculate the Area Under the Precision-Recall Curve (AUC-PR)\n",
        "auc_pr = auc(recall, precision)\n",
        "\n",
        "# Visualize the Precision-Recall Curve\n",
        "plt.figure(figsize=(8, 6))\n",
        "plt.plot(recall, precision, label=f'SVM (AUC = {auc_pr:.2f})')\n",
        "plt.xlabel('Recall')\n",
        "plt.ylabel('Precision')\n",
        "plt.title('Precision-Recall Curve')\n",
        "plt.legend()\n",
        "plt.grid(True)\n",
        "plt.show()"
      ],
      "execution_count": 28,
      "outputs": [
        {
          "output_type": "display_data",
          "data": {
            "text/plain": [
              "<Figure size 800x600 with 1 Axes>"
            ],
            "image/png": "[encoded data removed]"
          },
          "metadata": {}
        }
      ]
    }
  ]
}