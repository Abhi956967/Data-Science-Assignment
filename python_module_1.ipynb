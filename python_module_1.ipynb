{
  "nbformat": 4,
  "nbformat_minor": 0,
  "metadata": {
    "colab": {
      "provenance": []
    },
    "kernelspec": {
      "name": "python3",
      "display_name": "Python 3"
    },
    "language_info": {
      "name": "python"
    }
  },
  "cells": [
    {
      "cell_type": "code",
      "execution_count": null,
      "metadata": {
        "id": "i_322G0s0v9c"
      },
      "outputs": [],
      "source": []
    },
    {
      "cell_type": "markdown",
      "source": [
        " Python Basics\n",
        "\n",
        "  1.  What is Python, and why is it popular\n",
        "\n",
        "  ---> Python is a popular programming language that's used for many applications, including web development, data science, machine learning, and software development\n",
        " --->Easy to learn: Python is considered beginner-friendly.\n",
        "Efficient: Python can increase development speed.\n",
        "Versatile: Python is a general-purpose language that can run on many different platforms.\n",
        "Has a large community: Python has a large and active community of programmers who can provide support.\n",
        "Has many libraries: Python has many libraries and frameworks that can save time and effort.\n",
        "\n",
        "2.  What is an interpreter in Python\n",
        "\n",
        "-----> A Python interpreter is a computer program that translates Python code into machine code that a computer can understand and execute\n",
        "\n",
        "3.  What are pre-defined keywords in Python\n",
        "\n",
        "---->   re-defined keywords in Python are words with specific meanings and uses that cannot be changed.\n",
        "Keywords in Python include: False, True, None, and, as, assert, async, await, def, del, elif, else, break, class, continue, except, finally, for, from, global, if, import, in, is, lambda, nonlocal, not, or, pass, raise, return, try, while, with and yield.\n",
        "\n",
        "4.  Can keywords be used as variable names\n",
        "\n",
        "---->  Keywords define the language's syntax rules and structure, and they cannot be used as variable names. Programmers generally choose names for their variables that are meaningful to the human readers of the program to remember what the variable is used for.\n",
        "\n",
        "5.  What is mutability in Python\n",
        "\n",
        "---->   In Python, mutability refers to the capability of an object to be changed or modified after its creation. In Python, lists are a widely used data structure that allows the storage and manipulation of a collection of items.\n",
        "\n",
        "6.  Why are lists mutable, but tuples are immutable\n",
        "\n",
        "---->  The main difference between tuples and lists is that tuples are immutable, meaning their contents cannot be changed after creation, while lists are mutable and can be modified. Additionally, tuples are more memory-efficient compared to lists. Tuples can't be changed after they're created, but lists can be modified.\n",
        "\n",
        "7.  What is the difference between “==” and “is” operators in Python\n",
        "\n",
        "---->   The main difference between the == and is operators in Python is that == compares the equality of objects, while is compares the identity of objects.\n",
        "\n",
        " 8.  What are logical operators in Python\n",
        "\n",
        " ---->  Logical operators in Python combine two or more operands and conduct logical comparisons on them. There are three types, i.e., AND, OR, and NOT. They return a boolean value, i.e., True or False\n",
        "\n",
        " 9.  What is type casting in Python\n",
        "\n",
        "Type casting in Python, also known as type conversion, is the process of changing a variable's data type into another. There are two types of type casting in Python:\n",
        "           1-> implicit typeCasting\n",
        "           2-> wxplicit typeCasting\n",
        "\n",
        " 10.  What is the difference between implicit and explicit type casting\n",
        "\n",
        " ----> The main difference between implicit and explicit type casting is that implicit type casting is automatic, while explicit type casting requires manual intervention\n",
        "\n",
        "11.  What is the purpose of conditional statements in Python\n",
        "\n",
        "-----> Conditional statements, also known as control flow statements, in Python allow programs to make decisions based on conditions. They determine the flow of code execution by evaluating a condition and executing a block of code if the condition is true.\n",
        "\n",
        "12.  How does the elif statement work\n",
        "\n",
        "--->  The “elif” keyword in Python, stands for “else if”. It can be used in conditional statements to check for multiple conditions. For example, if the first condition is false, it moves on to the next “elif” statement to check if that condition is true.\n",
        "\n",
        "13.  What is the difference between for and while loops\n",
        "\n",
        "----->  Both for loop and while loop is used to execute the statements repeatedly while the program runs. The major difference between for loop and while loop is that for loop is used when the number of iterations is known, whereas execution is done in a while loop until the statement in the program is proved wrong\n",
        "\n",
        "14.   Describe a scenario where a while loop is more suitable than a for loop.\n",
        "\n",
        "----->  Use a while loop when you need to continue looping until a specific condition is met, rather than a set number of times. For loops are better for known iterations, like looping exactly 10 times. When checking for valid input or conditions, a while loop is the preferred choice\n",
        "\n",
        "\n",
        "\n"
      ],
      "metadata": {
        "id": "Y9mLoyT7RB1r"
      }
    },
    {
      "cell_type": "code",
      "source": [
        "## 1.  Write a Python program to print \"Hello, World!\n",
        "\n",
        "print('Hello, world!')"
      ],
      "metadata": {
        "colab": {
          "base_uri": "https://localhost:8080/"
        },
        "id": "4LxQoruPaSUc",
        "outputId": "91ba58be-35f6-4e6b-e2d2-d9f7888275b9"
      },
      "execution_count": 3,
      "outputs": [
        {
          "output_type": "stream",
          "name": "stdout",
          "text": [
            "Hello, world!\n"
          ]
        }
      ]
    },
    {
      "cell_type": "code",
      "source": [
        "## 2. Write a Python program that displays your name and age\n",
        "\n",
        "age = input(\"Enter age: \")\n",
        "name = input(\"Enter name: \")\n",
        "print(\"Hi, my name is \" + name + \", and I am \" + age + \" years old.\")\n"
      ],
      "metadata": {
        "colab": {
          "base_uri": "https://localhost:8080/"
        },
        "id": "IQIiFpQSapFe",
        "outputId": "154993f2-dd23-40d8-c46e-89c75452d1f7"
      },
      "execution_count": 4,
      "outputs": [
        {
          "output_type": "stream",
          "name": "stdout",
          "text": [
            "Enter age: abhishek\n",
            "Enter name: 21\n",
            "Hi, my name is 21, and I am abhishek years old.\n"
          ]
        }
      ]
    },
    {
      "cell_type": "code",
      "source": [
        "## 3.  Write code to print all the pre-defined keywords in Python using the keyword library\n",
        "\n",
        "import keyword\n",
        "\n",
        "# Get a list of all Python keywords\n",
        "keywords = keyword.kwlist\n",
        "\n",
        "# Print the keywords\n",
        "for kw in keywords:\n",
        "    print(kw)"
      ],
      "metadata": {
        "colab": {
          "base_uri": "https://localhost:8080/"
        },
        "id": "BrpTkbIfbGA4",
        "outputId": "b284eea5-7c77-49d7-f0c8-9e302342749e"
      },
      "execution_count": 7,
      "outputs": [
        {
          "output_type": "stream",
          "name": "stdout",
          "text": [
            "False\n",
            "None\n",
            "True\n",
            "and\n",
            "as\n",
            "assert\n",
            "async\n",
            "await\n",
            "break\n",
            "class\n",
            "continue\n",
            "def\n",
            "del\n",
            "elif\n",
            "else\n",
            "except\n",
            "finally\n",
            "for\n",
            "from\n",
            "global\n",
            "if\n",
            "import\n",
            "in\n",
            "is\n",
            "lambda\n",
            "nonlocal\n",
            "not\n",
            "or\n",
            "pass\n",
            "raise\n",
            "return\n",
            "try\n",
            "while\n",
            "with\n",
            "yield\n"
          ]
        }
      ]
    },
    {
      "cell_type": "code",
      "source": [
        "## 4. Write a program that checks if a given word is a Python keyword\n",
        "\n",
        "import keyword\n",
        "\n",
        "def is_keyword(word):\n",
        "    return word in keyword.kwlist\n",
        "\n",
        "word = input(\"Enter a word: \")\n",
        "\n",
        "if is_keyword(word):\n",
        "    print(f\"{word} is a Python keyword.\")\n",
        "else:\n",
        "    print(f\"{word} is not a Python keyword.\")"
      ],
      "metadata": {
        "colab": {
          "base_uri": "https://localhost:8080/"
        },
        "id": "aimtJ93sbzwZ",
        "outputId": "6eeeb846-d24c-4043-f6c4-c87be66dc910"
      },
      "execution_count": 9,
      "outputs": [
        {
          "output_type": "stream",
          "name": "stdout",
          "text": [
            "Enter a word: yield\n",
            "yield is a Python keyword.\n"
          ]
        }
      ]
    },
    {
      "cell_type": "code",
      "source": [
        "## 5. Create a list and tuple in Python, and demonstrate how attempting to change an element works differently\n",
        "## for each\n",
        "\n",
        "my_list = [1, 2, 3, 4, 5]\n",
        "\n",
        "my_list[1] = 10\n",
        "\n",
        "print(\"Modified list:\",my_list)\n",
        "\n",
        "my_tuple = (1, 2, 3, 4, 5)\n",
        "\n",
        "try:\n",
        "\n",
        "  my_tuple[1] = 10\n",
        "\n",
        "\n",
        "except  TypeError as e:\n",
        "\n",
        "  print(\"Error:\", e)\n",
        "\n"
      ],
      "metadata": {
        "colab": {
          "base_uri": "https://localhost:8080/"
        },
        "id": "GhCBVLCBeOtm",
        "outputId": "eadfc440-d568-4024-dd83-4a2f8b4b625e"
      },
      "execution_count": 11,
      "outputs": [
        {
          "output_type": "stream",
          "name": "stdout",
          "text": [
            "Modified list: [1, 10, 3, 4, 5]\n",
            "Error: 'tuple' object does not support item assignment\n"
          ]
        }
      ]
    },
    {
      "cell_type": "code",
      "source": [
        "## 6. Write a function to demonstrate the behavior of mutable and immutable arguments\n",
        "\n",
        "def modify_list(my_list):\n",
        "  my_list.append(6)\n",
        "\n",
        "def modify_tuple(my_tuple):\n",
        "  my_tuple[1] = 10\n",
        "\n",
        "my_list = [1,2,3,4,5]\n",
        "\n",
        "my_tuple = (1,2,3,4,5)\n",
        "\n",
        "# modify the list\n",
        "\n",
        "modify_list(my_list)\n",
        "print(\"Modified list:\", my_list)\n",
        "\n",
        "modify_tuple(my_tuple)\n",
        "print(\"Modified list:\", my_tuple)\n",
        "\n"
      ],
      "metadata": {
        "colab": {
          "base_uri": "https://localhost:8080/",
          "height": 349
        },
        "id": "k8yTv-q8f227",
        "outputId": "9fdcee17-b45e-4b62-a513-d0f25532c2c9"
      },
      "execution_count": 14,
      "outputs": [
        {
          "output_type": "stream",
          "name": "stdout",
          "text": [
            "Modified list: [1, 2, 3, 4, 5, 6]\n"
          ]
        },
        {
          "output_type": "error",
          "ename": "TypeError",
          "evalue": "'tuple' object does not support item assignment",
          "traceback": [
            "\u001b[0;31m---------------------------------------------------------------------------\u001b[0m",
            "\u001b[0;31mTypeError\u001b[0m                                 Traceback (most recent call last)",
            "\u001b[0;32m<ipython-input-14-18af044818a9>\u001b[0m in \u001b[0;36m<cell line: 18>\u001b[0;34m()\u001b[0m\n\u001b[1;32m     16\u001b[0m \u001b[0mprint\u001b[0m\u001b[0;34m(\u001b[0m\u001b[0;34m\"Modified list:\"\u001b[0m\u001b[0;34m,\u001b[0m \u001b[0mmy_list\u001b[0m\u001b[0;34m)\u001b[0m\u001b[0;34m\u001b[0m\u001b[0;34m\u001b[0m\u001b[0m\n\u001b[1;32m     17\u001b[0m \u001b[0;34m\u001b[0m\u001b[0m\n\u001b[0;32m---> 18\u001b[0;31m \u001b[0mmodify_tuple\u001b[0m\u001b[0;34m(\u001b[0m\u001b[0mmy_tuple\u001b[0m\u001b[0;34m)\u001b[0m\u001b[0;34m\u001b[0m\u001b[0;34m\u001b[0m\u001b[0m\n\u001b[0m\u001b[1;32m     19\u001b[0m \u001b[0mprint\u001b[0m\u001b[0;34m(\u001b[0m\u001b[0;34m\"Modified list:\"\u001b[0m\u001b[0;34m,\u001b[0m \u001b[0mmy_tuple\u001b[0m\u001b[0;34m)\u001b[0m\u001b[0;34m\u001b[0m\u001b[0;34m\u001b[0m\u001b[0m\n\u001b[1;32m     20\u001b[0m \u001b[0;34m\u001b[0m\u001b[0m\n",
            "\u001b[0;32m<ipython-input-14-18af044818a9>\u001b[0m in \u001b[0;36mmodify_tuple\u001b[0;34m(my_tuple)\u001b[0m\n\u001b[1;32m      5\u001b[0m \u001b[0;34m\u001b[0m\u001b[0m\n\u001b[1;32m      6\u001b[0m \u001b[0;32mdef\u001b[0m \u001b[0mmodify_tuple\u001b[0m\u001b[0;34m(\u001b[0m\u001b[0mmy_tuple\u001b[0m\u001b[0;34m)\u001b[0m\u001b[0;34m:\u001b[0m\u001b[0;34m\u001b[0m\u001b[0;34m\u001b[0m\u001b[0m\n\u001b[0;32m----> 7\u001b[0;31m   \u001b[0mmy_tuple\u001b[0m\u001b[0;34m[\u001b[0m\u001b[0;36m1\u001b[0m\u001b[0;34m]\u001b[0m \u001b[0;34m=\u001b[0m \u001b[0;36m10\u001b[0m\u001b[0;34m\u001b[0m\u001b[0;34m\u001b[0m\u001b[0m\n\u001b[0m\u001b[1;32m      8\u001b[0m \u001b[0;34m\u001b[0m\u001b[0m\n\u001b[1;32m      9\u001b[0m \u001b[0mmy_list\u001b[0m \u001b[0;34m=\u001b[0m \u001b[0;34m[\u001b[0m\u001b[0;36m1\u001b[0m\u001b[0;34m,\u001b[0m\u001b[0;36m2\u001b[0m\u001b[0;34m,\u001b[0m\u001b[0;36m3\u001b[0m\u001b[0;34m,\u001b[0m\u001b[0;36m4\u001b[0m\u001b[0;34m,\u001b[0m\u001b[0;36m5\u001b[0m\u001b[0;34m]\u001b[0m\u001b[0;34m\u001b[0m\u001b[0;34m\u001b[0m\u001b[0m\n",
            "\u001b[0;31mTypeError\u001b[0m: 'tuple' object does not support item assignment"
          ]
        }
      ]
    },
    {
      "cell_type": "code",
      "source": [
        "## 7. Write a function to demonstrate the behavior of mutable and immutable arguments\n",
        "\n",
        "def modify_list(my_list):\n",
        "  my_list.append(6)\n",
        "\n",
        "def modify_tuple(my_tuple):\n",
        "  my_tuple[1] = 10\n",
        "\n",
        "my_list = [1,2,3,4,5]\n",
        "\n",
        "my_tuple = (1,2,3,4,5)\n",
        "\n",
        "# modify the list\n",
        "\n",
        "modify_list(my_list)\n",
        "print(\"Modified list:\", my_list)\n",
        "\n",
        "modify_tuple(my_tuple)\n",
        "print(\"Modified list:\", my_tuple)\n",
        "\n"
      ],
      "metadata": {
        "colab": {
          "base_uri": "https://localhost:8080/",
          "height": 349
        },
        "id": "X0IsbJqLjHts",
        "outputId": "ebf4eafc-dfff-41a1-92e8-bef5acda0bf7"
      },
      "execution_count": 15,
      "outputs": [
        {
          "output_type": "stream",
          "name": "stdout",
          "text": [
            "Modified list: [1, 2, 3, 4, 5, 6]\n"
          ]
        },
        {
          "output_type": "error",
          "ename": "TypeError",
          "evalue": "'tuple' object does not support item assignment",
          "traceback": [
            "\u001b[0;31m---------------------------------------------------------------------------\u001b[0m",
            "\u001b[0;31mTypeError\u001b[0m                                 Traceback (most recent call last)",
            "\u001b[0;32m<ipython-input-15-18af044818a9>\u001b[0m in \u001b[0;36m<cell line: 18>\u001b[0;34m()\u001b[0m\n\u001b[1;32m     16\u001b[0m \u001b[0mprint\u001b[0m\u001b[0;34m(\u001b[0m\u001b[0;34m\"Modified list:\"\u001b[0m\u001b[0;34m,\u001b[0m \u001b[0mmy_list\u001b[0m\u001b[0;34m)\u001b[0m\u001b[0;34m\u001b[0m\u001b[0;34m\u001b[0m\u001b[0m\n\u001b[1;32m     17\u001b[0m \u001b[0;34m\u001b[0m\u001b[0m\n\u001b[0;32m---> 18\u001b[0;31m \u001b[0mmodify_tuple\u001b[0m\u001b[0;34m(\u001b[0m\u001b[0mmy_tuple\u001b[0m\u001b[0;34m)\u001b[0m\u001b[0;34m\u001b[0m\u001b[0;34m\u001b[0m\u001b[0m\n\u001b[0m\u001b[1;32m     19\u001b[0m \u001b[0mprint\u001b[0m\u001b[0;34m(\u001b[0m\u001b[0;34m\"Modified list:\"\u001b[0m\u001b[0;34m,\u001b[0m \u001b[0mmy_tuple\u001b[0m\u001b[0;34m)\u001b[0m\u001b[0;34m\u001b[0m\u001b[0;34m\u001b[0m\u001b[0m\n\u001b[1;32m     20\u001b[0m \u001b[0;34m\u001b[0m\u001b[0m\n",
            "\u001b[0;32m<ipython-input-15-18af044818a9>\u001b[0m in \u001b[0;36mmodify_tuple\u001b[0;34m(my_tuple)\u001b[0m\n\u001b[1;32m      5\u001b[0m \u001b[0;34m\u001b[0m\u001b[0m\n\u001b[1;32m      6\u001b[0m \u001b[0;32mdef\u001b[0m \u001b[0mmodify_tuple\u001b[0m\u001b[0;34m(\u001b[0m\u001b[0mmy_tuple\u001b[0m\u001b[0;34m)\u001b[0m\u001b[0;34m:\u001b[0m\u001b[0;34m\u001b[0m\u001b[0;34m\u001b[0m\u001b[0m\n\u001b[0;32m----> 7\u001b[0;31m   \u001b[0mmy_tuple\u001b[0m\u001b[0;34m[\u001b[0m\u001b[0;36m1\u001b[0m\u001b[0;34m]\u001b[0m \u001b[0;34m=\u001b[0m \u001b[0;36m10\u001b[0m\u001b[0;34m\u001b[0m\u001b[0;34m\u001b[0m\u001b[0m\n\u001b[0m\u001b[1;32m      8\u001b[0m \u001b[0;34m\u001b[0m\u001b[0m\n\u001b[1;32m      9\u001b[0m \u001b[0mmy_list\u001b[0m \u001b[0;34m=\u001b[0m \u001b[0;34m[\u001b[0m\u001b[0;36m1\u001b[0m\u001b[0;34m,\u001b[0m\u001b[0;36m2\u001b[0m\u001b[0;34m,\u001b[0m\u001b[0;36m3\u001b[0m\u001b[0;34m,\u001b[0m\u001b[0;36m4\u001b[0m\u001b[0;34m,\u001b[0m\u001b[0;36m5\u001b[0m\u001b[0;34m]\u001b[0m\u001b[0;34m\u001b[0m\u001b[0;34m\u001b[0m\u001b[0m\n",
            "\u001b[0;31mTypeError\u001b[0m: 'tuple' object does not support item assignment"
          ]
        }
      ]
    },
    {
      "cell_type": "code",
      "source": [
        "## 8. Write a program to demonstrate the use of logical operators\n",
        "\n",
        "# Logical AND (&&)\n",
        "print(True and True)  # Output: True\n",
        "print(True and False)  # Output: False\n",
        "print(False and True)  # Output: False\n",
        "print(False and False)  # Output: False\n",
        "\n",
        "# Logical OR (||)\n",
        "print(True or True)  # Output: True\n",
        "print(True or False)  # Output: True\n",
        "print(False or True)  # Output: True\n",
        "print(False or False)  # Output: False\n",
        "\n",
        "# Logical NOT (!)\n",
        "print(not True)  # Output: False\n",
        "print(not False)  # Output: True\n",
        "\n",
        "# Example: Checking if a number is within a range\n",
        "number = 10\n",
        "if number > 5 and number < 15:\n",
        "    print(\"Number is within the range 5-15\")\n",
        "\n",
        "# Example: Checking if a user is eligible to vote\n",
        "age = 18\n",
        "if age >= 18:\n",
        "    print(\"Eligible to vote\")\n",
        "else:\n",
        "    print(\"Not eligible to vote\")"
      ],
      "metadata": {
        "colab": {
          "base_uri": "https://localhost:8080/"
        },
        "id": "Vy0LDFqQjWwY",
        "outputId": "da7d6ec8-a83b-4cbe-f359-8123e84cf178"
      },
      "execution_count": 17,
      "outputs": [
        {
          "output_type": "stream",
          "name": "stdout",
          "text": [
            "True\n",
            "False\n",
            "False\n",
            "False\n",
            "True\n",
            "True\n",
            "True\n",
            "False\n",
            "False\n",
            "True\n",
            "Number is within the range 5-15\n",
            "Eligible to vote\n"
          ]
        }
      ]
    },
    {
      "cell_type": "code",
      "source": [
        "## 9.  Write a Python program to convert user input from string to integer, float, and boolean types\n",
        "def convert_input(user_input):\n",
        "\n",
        "  try:\n",
        "    integer_value = int(user_input)\n",
        "    float_value = float(user_input)\n",
        "    boolean_value = bool(user_input)\n",
        "    return integer_value, float_value, boolean_value\n",
        "\n",
        "  except ValueError:\n",
        "    print(\"Invalid input. please enter a valid number or boolean value.\")\n",
        "    return None, None, None\n",
        "\n",
        "user_input = input(\"Enter a value: \")\n",
        "\n",
        "integer_value, float_value, boolean_value = convert_input(user_input)\n",
        "\n",
        "if integer_value is not None:\n",
        "  print(\"integer value:\", integer_value)\n",
        "if float_value is not None:\n",
        "  print(\"float_value:\", integer_value)\n",
        "if boolean_value is not None:\n",
        "  print(\"boolean_value:\", integer_value)\n"
      ],
      "metadata": {
        "colab": {
          "base_uri": "https://localhost:8080/"
        },
        "id": "CfTcgCPskN-R",
        "outputId": "49c3f360-b17b-4100-dd59-188fa028c143"
      },
      "execution_count": 18,
      "outputs": [
        {
          "output_type": "stream",
          "name": "stdout",
          "text": [
            "Enter a value: 38335\n",
            "integer value: 38335\n",
            "float_value: 38335\n",
            "boolean_value: 38335\n"
          ]
        }
      ]
    },
    {
      "cell_type": "code",
      "source": [
        "## 10. Write code to demonstrate type casting with list elements\n",
        "\n",
        "# Create a list with mixed data types\n",
        "my_list = [\"10\", 20.5, \"30\", 40]\n",
        "\n",
        "# Convert string elements to integers\n",
        "for i in range(len(my_list)):\n",
        "    if isinstance(my_list[i], str):\n",
        "        my_list[i] = int(my_list[i])\n",
        "\n",
        "print(\"List after converting string elements to integers:\", my_list)\n",
        "\n",
        "# Convert all elements to floats\n",
        "float_list = [float(item) for item in my_list]\n",
        "print(\"List after converting all elements to floats:\", float_list)"
      ],
      "metadata": {
        "colab": {
          "base_uri": "https://localhost:8080/"
        },
        "id": "WL6-lh1Wntdl",
        "outputId": "5a07a800-2c5d-45b0-d75e-bac8cab950a0"
      },
      "execution_count": 19,
      "outputs": [
        {
          "output_type": "stream",
          "name": "stdout",
          "text": [
            "List after converting string elements to integers: [10, 20.5, 30, 40]\n",
            "List after converting all elements to floats: [10.0, 20.5, 30.0, 40.0]\n"
          ]
        }
      ]
    },
    {
      "cell_type": "code",
      "source": [
        "## 11. Write a program that checks if a number is positive, negative, or zero\n",
        "\n",
        "def check_number(num):\n",
        "  if num > 0:\n",
        "    print(f\"{num} is positive.\")\n",
        "  elif num < 0:\n",
        "    print(f\"{num} is negative.\")\n",
        "  else:\n",
        "    print(f\"{num} is zero.\")\n",
        "\n",
        "# Get input from the user\n",
        "number = float(input(\"Enter a number: \"))\n",
        "\n",
        "# Check the number\n",
        "check_number(number)"
      ],
      "metadata": {
        "colab": {
          "base_uri": "https://localhost:8080/"
        },
        "id": "j-wPBFYKn0DK",
        "outputId": "8c56cf4d-9df6-48c4-b340-eb8d0d56d55d"
      },
      "execution_count": 20,
      "outputs": [
        {
          "output_type": "stream",
          "name": "stdout",
          "text": [
            "Enter a number: 12\n",
            "12.0 is positive.\n"
          ]
        }
      ]
    },
    {
      "cell_type": "code",
      "source": [
        "## 12. Write a for loop to print numbers from 1 to 10\n",
        "\n",
        "for i in range(1, 11):\n",
        "    print(i)"
      ],
      "metadata": {
        "colab": {
          "base_uri": "https://localhost:8080/"
        },
        "id": "MFocgJOzn6se",
        "outputId": "7f6be0aa-1dd8-46c1-9cd7-0aab531cd73c"
      },
      "execution_count": 21,
      "outputs": [
        {
          "output_type": "stream",
          "name": "stdout",
          "text": [
            "1\n",
            "2\n",
            "3\n",
            "4\n",
            "5\n",
            "6\n",
            "7\n",
            "8\n",
            "9\n",
            "10\n"
          ]
        }
      ]
    },
    {
      "cell_type": "code",
      "source": [
        "## 13. Write a Python program to find the sum of all even numbers between 1 and 50\n",
        "\n",
        "sum_even = 0\n",
        "\n",
        "for number in range(2, 51, 2):\n",
        "    sum_even += number\n",
        "\n",
        "print(\"The sum of even numbers from 1 to 50 is:\", sum_even)"
      ],
      "metadata": {
        "colab": {
          "base_uri": "https://localhost:8080/"
        },
        "id": "aZZ8UwTGn_gc",
        "outputId": "e1a17a33-0123-4c65-b9f9-8bfc43e13e88"
      },
      "execution_count": 22,
      "outputs": [
        {
          "output_type": "stream",
          "name": "stdout",
          "text": [
            "The sum of even numbers from 1 to 50 is: 650\n"
          ]
        }
      ]
    },
    {
      "cell_type": "code",
      "source": [
        "## 14.  Write a program to reverse a string using a while loop\n",
        "\n",
        "def reverse_string(string):\n",
        "  reversed_string = \"\"\n",
        "  index = len(string) - 1\n",
        "\n",
        "  while index >= 0:\n",
        "    reversed_string += string[index]\n",
        "    index -= 1\n",
        "\n",
        "  return reversed_string\n",
        "\n",
        "# Get input from the user\n",
        "string = input(\"Enter a string: \")\n",
        "\n",
        "# Reverse the string\n",
        "reversed_string = reverse_string(string)\n",
        "\n",
        "print(\"Reversed string:\", reversed_string)"
      ],
      "metadata": {
        "colab": {
          "base_uri": "https://localhost:8080/"
        },
        "id": "_SqbMU6DoD-q",
        "outputId": "5220f211-201d-4868-92bd-c541242f566f"
      },
      "execution_count": 23,
      "outputs": [
        {
          "output_type": "stream",
          "name": "stdout",
          "text": [
            "Enter a string: abhishek\n",
            "Reversed string: kehsihba\n"
          ]
        }
      ]
    },
    {
      "cell_type": "code",
      "source": [
        "## 15. Write a Python program to calculate the factorial of a number provided by the user using a while loop\n",
        "\n",
        "def factorial(n):\n",
        "  if n < 0:\n",
        "    return \"Factorial is not defined for negative numbers\"\n",
        "  elif n == 0:\n",
        "    return 1\n",
        "  else:\n",
        "    factorial = 1\n",
        "    while n > 0:\n",
        "      factorial *= n\n",
        "      n -= 1\n",
        "    return factorial\n",
        "\n",
        "# Get input from the user\n",
        "num = int(input(\"Enter a non-negative integer: \"))\n",
        "\n",
        "# Calculate the factorial\n",
        "result = factorial(num)\n",
        "\n",
        "print(\"The factorial of\", num, \"is\", result)"
      ],
      "metadata": {
        "colab": {
          "base_uri": "https://localhost:8080/"
        },
        "id": "NnzlQPmdoIyI",
        "outputId": "d66165ea-791e-49df-8d72-f0d887b79483"
      },
      "execution_count": 24,
      "outputs": [
        {
          "output_type": "stream",
          "name": "stdout",
          "text": [
            "Enter a non-negative integer: 5\n",
            "The factorial of 5 is 120\n"
          ]
        }
      ]
    }
  ]
}