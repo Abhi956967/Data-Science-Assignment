{
  "nbformat": 4,
  "nbformat_minor": 0,
  "metadata": {
    "colab": {
      "provenance": []
    },
    "kernelspec": {
      "name": "python3",
      "display_name": "Python 3"
    },
    "language_info": {
      "name": "python"
    }
  },
  "cells": [
    {
      "cell_type": "markdown",
      "source": [
        "                                                    ### Theoretical\n"
      ],
      "metadata": {
        "id": "Z_Mf9AIr_TC7"
      }
    },
    {
      "cell_type": "markdown",
      "source": [
        "1. What is Logistic Regression, and how does it differ from Linear Regression\n",
        "\n",
        "  Logistic regression and linear regression are both types of regression analysis, but they differ in the type of outcome variable they predict. Linear regression predicts a continuous outcome (like temperature or price), while logistic regression predicts a categorical outcome (like yes/no, or categories of items).\n",
        "\n",
        "2. What is the mathematical equation of Logistic Regression\n",
        "\n",
        "  The mathematical equation for logistic regression, specifically in the context of binary classification, is:\n",
        "P(Y=1 | X) = 1 / (1 + e^(-(β₀ + β₁X₁ + β₂X₂ + ... + βnXn)))\n",
        "\n",
        "3. Why do we use the Sigmoid function in Logistic Regression\n",
        "\n",
        "  The sigmoid function is used in logistic regression to map the output of a linear model to a probability between 0 and 1. This is crucial because logistic regression is designed for binary classification problems, where we need to predict the probability of an instance belonging to a particular class. The sigmoid function's output can be interpreted as a probability, making it ideal for this purpose.\n",
        "\n",
        "4. What is the cost function of Logistic Regression\n",
        "\n",
        "  The cost function for logistic regression is typically cross-entropy loss (also known as log loss). This function measures the difference between the predicted probabilities and the actual binary values (0 or 1) in the dataset. Instead of using the mean squared error from linear regression, logistic regression uses cross-entropy to handle the non-linear nature of the sigmoid function used in its predictions.\n",
        "\n",
        "5. What is Regularization in Logistic Regression? Why is it needed\n",
        "\n",
        "  Regularization in logistic regression is a technique used to prevent overfitting, which occurs when a model learns the training data too well, including its noise, and performs poorly on new, unseen data. By adding a penalty term to the loss function, regularization discourages overly complex models and encourages better generalization to new data\n",
        "\n",
        "6. Explain the difference between Lasso, Ridge, and Elastic Net regression\n",
        "\n",
        "  Ridge, Lasso, and Elastic Net regressions are all variations of linear regression that employ regularization techniques to prevent overfitting and improve model generalization. They differ in the type of penalty they apply to the model's coefficients. Ridge regression uses an L2 penalty (sum of squared coefficients), Lasso regression uses an L1 penalty (sum of absolute coefficients), and Elastic Net combines both L1 and L2 penalties.\n",
        "\n",
        "\n",
        "7. When should we use Elastic Net instead of Lasso or Ridge\n",
        "\n",
        "  Elastic Net regression is beneficial when dealing with datasets that have multicollinearity and where feature selection is important. It combines the strengths of both Lasso and Ridge regressions, offering a balance between feature selection and handling multicollinearity. If you have a dataset with many correlated features and need to select a subset of those features, Elastic Net is a good choice.\n",
        "\n",
        "8.  What is the impact of the regularization parameter (λ) in Logistic Regression\n",
        "\n",
        "  In Logistic Regression, the regularization parameter, lambda (λ), controls the strength of regularization, impacting the model's complexity and its ability to generalize to unseen data. Higher lambda values lead to simpler models with potentially higher bias but lower variance, while lower lambda values result in more complex models with lower bias but potentially higher variance.\n",
        "\n",
        "9. What are the key assumptions of Logistic Regression\n",
        "\n",
        "  Logistic regression, a statistical method for binary classification, relies on several key assumptions to ensure reliable and accurate results. These include: independent observations, linearity of the log-odds, absence of multicollinearity, and a sufficiently large sample size. It's also important to consider the nature of the dependent variable, which should be binary.\n",
        "\n",
        "10.  What are some alternatives to Logistic Regression for classification tasks\n",
        "\n",
        "  Several alternative classification algorithms exist besides logistic regression. These include Support Vector Machines (SVM), Decision Trees, Random Forests, Naive Bayes, and Neural Networks. Each offers different strengths and weaknesses, making them suitable for various types of classification problems.\n",
        "\n",
        "11. What are Classification Evaluation Metrics\n",
        "\n",
        "  Classification evaluation metrics are used to assess how well a machine learning model performs in assigning instances to predefined categories. These metrics provide insights into the model's accuracy, precision, recall, and overall effectiveness in classifying data.\n",
        "\n",
        "12. How does class imbalance affect Logistic Regression\n",
        "\n",
        "  Class imbalance in logistic regression can lead to a biased model that favors the majority class, resulting in poor performance on the minority class. This bias occurs because logistic regression aims to maximize overall accuracy, which can be achieved by correctly classifying more instances of the majority class, even if it means misclassifying most of the minority class.\n",
        "\n",
        "13.  What is Hyperparameter Tuning in Logistic Regression\n",
        "\n",
        "\n",
        "  Hyperparameter tuning in logistic regression is the process of finding the optimal values for the hyperparameters of the logistic regression model to improve its performance. These hyperparameters are not learned during training, unlike the model's coefficients, and need to be set beforehand. Tuning helps to optimize the model's ability to generalize to unseen data and avoid issues like overfitting or underfitting.\n",
        "\n",
        "14. What are different solvers in Logistic Regression? Which one should be used\n",
        "\n",
        "  In Logistic Regression, different solvers are optimization algorithms used to find the best model parameters. The choice of solver depends on the size and characteristics of your dataset, as well as your specific needs regarding computational efficiency and regularization. Common solvers in scikit-learn include\n",
        "\n",
        "15.  How is Logistic Regression extended for multiclass classification\n",
        "\n",
        "  Logistic Regression, originally designed for binary classification, can be extended to handle multiclass problems using several strategies. The most common approaches are One-vs-Rest (OvR), One-vs-One (OvO), and Multinomial Logistic Regression (also known as Softmax Regression)\n",
        "\n",
        "16. What are the advantages and disadvantages of Logistic Regression\n",
        "\n",
        "  What are logistic regression's advantages and disadvantages?\n",
        "\n",
        "  Advantages and Disadvantages of Logistic Regression ...\n",
        "\n",
        "  It is very fast at classifying unknown records. Non-linear problems can't be solved with logistic regression because it has a linear decision surface. Linearly separable data is rarely found in real-world scenarios. Good accuracy for many simple data sets and it performs well when the dataset is linearly separable.\n",
        "\n",
        "17.  What are some use cases of Logistic Regression.\n",
        "\n",
        "  Logistic regression is a powerful tool for binary classification problems, where the outcome is one of two possibilities, like \"yes\" or \"no\", \"true\" or \"false\". It's widely used in various fields due to its simplicity and interpretability.\n",
        "\n",
        "18. What is the difference between Softmax Regression and Logistic Regression.\n",
        "\n",
        "  Softmax Regression is a generalization of Logistic Regression that summarizes a 'k' dimensional vector of arbitrary values to a 'k' dimensional vector of values bounded in the range (0, 1). In Logistic Regression we assume that the labels are binary (0 or 1). However, Softmax Regression allows one to handle classes\n",
        "\n",
        "19.  How do we choose between One-vs-Rest (OvR) and Softmax for multiclass classification.\n",
        "\n",
        "  The choice between One-vs-Rest (OvR) and Softmax for multiclass classification depends on the characteristics of your data and the desired properties of your model. OvR is generally faster and more flexible, particularly for independent classes or when you need to optimize individual class models. Softmax, on the other hand, provides a more robust and well-calibrated probability distribution, especially when classes are related or when dealing with complex datasets.\n",
        "\n",
        "20. How do we interpret coefficients in Logistic Regression.\n",
        "\n",
        "  In logistic regression, coefficients represent the change in the log-odds of the outcome variable for a one-unit change in the predictor variable, holding other predictors constant. Exponentiating these coefficients yields odds ratios, which are easier to interpret as they indicate how the odds of the outcome change with a unit change in the predictor.\n",
        "\n",
        "  "
      ],
      "metadata": {
        "id": "z7ngo3Il_XKK"
      }
    },
    {
      "cell_type": "markdown",
      "source": [
        "                                                          ##### Practical"
      ],
      "metadata": {
        "id": "RqYPw3ItCTIA"
      }
    },
    {
      "cell_type": "markdown",
      "source": [
        "1. Write a Python program that loads a dataset, splits it into training and testing sets, applies Logistic\n",
        "Regression, and prints the model accuracy"
      ],
      "metadata": {
        "id": "FMkVCSABCWlr"
      }
    },
    {
      "cell_type": "code",
      "metadata": {
        "colab": {
          "base_uri": "https://localhost:8080/"
        },
        "id": "404a0e5a",
        "outputId": "b5f9f41a-f433-4458-d443-f5798dd39561"
      },
      "source": [
        "from sklearn.model_selection import train_test_split\n",
        "from sklearn.linear_model import LogisticRegression\n",
        "from sklearn.metrics import accuracy_score\n",
        "from sklearn.datasets import load_iris\n",
        "\n",
        "# Load a sample dataset (Iris dataset)\n",
        "iris = load_iris()\n",
        "X = iris.data\n",
        "y = iris.target\n",
        "\n",
        "# Split the dataset into training and testing sets\n",
        "X_train, X_test, y_train, y_test = train_test_split(X, y, test_size=0.2, random_state=42)\n",
        "\n",
        "# Initialize and train the Logistic Regression model\n",
        "model = LogisticRegression()\n",
        "model.fit(X_train, y_train)\n",
        "\n",
        "# Predict on the test set\n",
        "y_pred = model.predict(X_test)\n",
        "\n",
        "# Calculate and print the accuracy\n",
        "accuracy = accuracy_score(y_test, y_pred)\n",
        "print(f\"Model Accuracy: {accuracy}\")"
      ],
      "execution_count": 1,
      "outputs": [
        {
          "output_type": "stream",
          "name": "stdout",
          "text": [
            "Model Accuracy: 1.0\n"
          ]
        }
      ]
    },
    {
      "cell_type": "markdown",
      "source": [
        "2. Write a Python program to apply L1 regularization (Lasso) on a dataset using LogisticRegression(penalty='l1')\n",
        "and print the model accuracy"
      ],
      "metadata": {
        "id": "WvkIVtyoCh4z"
      }
    },
    {
      "cell_type": "code",
      "metadata": {
        "colab": {
          "base_uri": "https://localhost:8080/"
        },
        "id": "ec6db2a0",
        "outputId": "9f99b9c7-426e-4e13-d4b7-ab733ac09968"
      },
      "source": [
        "from sklearn.model_selection import train_test_split\n",
        "from sklearn.linear_model import LogisticRegression\n",
        "from sklearn.metrics import accuracy_score\n",
        "from sklearn.datasets import load_iris\n",
        "\n",
        "# Load a sample dataset (Iris dataset)\n",
        "iris = load_iris()\n",
        "X = iris.data\n",
        "y = iris.target\n",
        "\n",
        "# Split the dataset into training and testing sets\n",
        "X_train, X_test, y_train, y_test = train_test_split(X, y, test_size=0.2, random_state=42)\n",
        "\n",
        "# Initialize and train the Logistic Regression model with L1 regularization\n",
        "# Using 'liblinear' solver which supports L1 penalty\n",
        "model_l1 = LogisticRegression(penalty='l1', solver='liblinear')\n",
        "model_l1.fit(X_train, y_train)\n",
        "\n",
        "# Predict on the test set\n",
        "y_pred_l1 = model_l1.predict(X_test)\n",
        "\n",
        "# Calculate and print the accuracy\n",
        "accuracy_l1 = accuracy_score(y_test, y_pred_l1)\n",
        "print(f\"Model Accuracy with L1 regularization: {accuracy_l1}\")"
      ],
      "execution_count": 2,
      "outputs": [
        {
          "output_type": "stream",
          "name": "stdout",
          "text": [
            "Model Accuracy with L1 regularization: 1.0\n"
          ]
        }
      ]
    },
    {
      "cell_type": "markdown",
      "source": [
        "3. Write a Python program to train Logistic Regression with L2 regularization (Ridge) using\n",
        "LogisticRegression(penalty='l2'). Print model accuracy and coefficients"
      ],
      "metadata": {
        "id": "iTnhaNSHCqAH"
      }
    },
    {
      "cell_type": "code",
      "metadata": {
        "colab": {
          "base_uri": "https://localhost:8080/"
        },
        "id": "90403a63",
        "outputId": "b1323909-dac2-4c8c-eb60-b63bc1a4883f"
      },
      "source": [
        "from sklearn.model_selection import train_test_split\n",
        "from sklearn.linear_model import LogisticRegression\n",
        "from sklearn.metrics import accuracy_score\n",
        "from sklearn.datasets import load_iris\n",
        "\n",
        "# Load a sample dataset (Iris dataset)\n",
        "iris = load_iris()\n",
        "X = iris.data\n",
        "y = iris.target\n",
        "\n",
        "# Split the dataset into training and testing sets\n",
        "X_train, X_test, y_train, y_test = train_test_split(X, y, test_size=0.2, random_state=42)\n",
        "\n",
        "# Initialize and train the Logistic Regression model with L2 regularization\n",
        "model_l2 = LogisticRegression(penalty='l2') # L2 is the default penalty, but specified for clarity\n",
        "model_l2.fit(X_train, y_train)\n",
        "\n",
        "# Predict on the test set\n",
        "y_pred_l2 = model_l2.predict(X_test)\n",
        "\n",
        "# Calculate and print the accuracy\n",
        "accuracy_l2 = accuracy_score(y_test, y_pred_l2)\n",
        "print(f\"Model Accuracy with L2 regularization: {accuracy_l2}\")\n",
        "\n",
        "# Print the coefficients\n",
        "print(\"Model Coefficients with L2 regularization:\")\n",
        "print(model_l2.coef_)\n",
        "print(\"Model Intercept with L2 regularization:\")\n",
        "print(model_l2.intercept_)"
      ],
      "execution_count": 3,
      "outputs": [
        {
          "output_type": "stream",
          "name": "stdout",
          "text": [
            "Model Accuracy with L2 regularization: 1.0\n",
            "Model Coefficients with L2 regularization:\n",
            "[[-0.39345607  0.96251768 -2.37512436 -0.99874594]\n",
            " [ 0.50843279 -0.25482714 -0.21301129 -0.77574766]\n",
            " [-0.11497673 -0.70769055  2.58813565  1.7744936 ]]\n",
            "Model Intercept with L2 regularization:\n",
            "[  9.00884295   1.86902164 -10.87786459]\n"
          ]
        }
      ]
    },
    {
      "cell_type": "markdown",
      "source": [
        "4. Write a Python program to train Logistic Regression with Elastic Net Regularization (penalty='elasticnet')"
      ],
      "metadata": {
        "id": "jM8ms2skCt_V"
      }
    },
    {
      "cell_type": "code",
      "metadata": {
        "colab": {
          "base_uri": "https://localhost:8080/"
        },
        "id": "102b4634",
        "outputId": "d1f5f20d-54c3-43ac-8a0d-e489cf807fac"
      },
      "source": [
        "from sklearn.model_selection import train_test_split\n",
        "from sklearn.linear_model import LogisticRegression\n",
        "from sklearn.metrics import accuracy_score\n",
        "from sklearn.datasets import load_iris\n",
        "\n",
        "# Load a sample dataset (Iris dataset)\n",
        "iris = load_iris()\n",
        "X = iris.data\n",
        "y = iris.target\n",
        "\n",
        "# Split the dataset into training and testing sets\n",
        "X_train, X_test, y_train, y_test = train_test_split(X, y, test_size=0.2, random_state=42)\n",
        "\n",
        "# Initialize and train the Logistic Regression model with Elastic Net regularization\n",
        "# Using 'saga' solver which supports Elastic Net penalty\n",
        "# l1_ratio is the mixing parameter, with 0 <= l1_ratio <= 1\n",
        "# l1_ratio=0 is equivalent to L2, l1_ratio=1 is equivalent to L1\n",
        "model_elasticnet = LogisticRegression(penalty='elasticnet', solver='saga', l1_ratio=0.5, max_iter=1000)\n",
        "model_elasticnet.fit(X_train, y_train)\n",
        "\n",
        "# Predict on the test set\n",
        "y_pred_elasticnet = model_elasticnet.predict(X_test)\n",
        "\n",
        "# Calculate and print the accuracy\n",
        "accuracy_elasticnet = accuracy_score(y_test, y_pred_elasticnet)\n",
        "print(f\"Model Accuracy with Elastic Net regularization: {accuracy_elasticnet}\")\n",
        "\n",
        "# Print the coefficients\n",
        "print(\"Model Coefficients with Elastic Net regularization:\")\n",
        "print(model_elasticnet.coef_)\n",
        "print(\"Model Intercept with Elastic Net regularization:\")\n",
        "print(model_elasticnet.intercept_)"
      ],
      "execution_count": 4,
      "outputs": [
        {
          "output_type": "stream",
          "name": "stdout",
          "text": [
            "Model Accuracy with Elastic Net regularization: 1.0\n",
            "Model Coefficients with Elastic Net regularization:\n",
            "[[ 0.02833633  1.59697663 -2.42639376 -0.59307438]\n",
            " [ 0.          0.          0.         -0.50457089]\n",
            " [-0.78004871 -0.95694494  2.74514539  2.09727187]]\n",
            "Model Intercept with Elastic Net regularization:\n",
            "[ 4.47121829  2.82756445 -7.29878274]\n"
          ]
        },
        {
          "output_type": "stream",
          "name": "stderr",
          "text": [
            "/usr/local/lib/python3.11/dist-packages/sklearn/linear_model/_sag.py:348: ConvergenceWarning: The max_iter was reached which means the coef_ did not converge\n",
            "  warnings.warn(\n"
          ]
        }
      ]
    },
    {
      "cell_type": "markdown",
      "source": [
        "5. Write a Python program to train a Logistic Regression model for multiclass classification using\n",
        "multi_class='ovr'C"
      ],
      "metadata": {
        "id": "H43Mai85C6xT"
      }
    },
    {
      "cell_type": "code",
      "metadata": {
        "colab": {
          "base_uri": "https://localhost:8080/"
        },
        "id": "782ce3a9",
        "outputId": "4a4c2365-ea84-4e30-dd61-4ebabd153f88"
      },
      "source": [
        "from sklearn.model_selection import train_test_split\n",
        "from sklearn.linear_model import LogisticRegression\n",
        "from sklearn.metrics import accuracy_score\n",
        "from sklearn.datasets import load_iris\n",
        "\n",
        "# Load a sample dataset (Iris dataset)\n",
        "iris = load_iris()\n",
        "X = iris.data\n",
        "y = iris.target\n",
        "\n",
        "# Split the dataset into training and testing sets\n",
        "X_train, X_test, y_train, y_test = train_test_split(X, y, test_size=0.2, random_state=42)\n",
        "\n",
        "# Initialize and train the Logistic Regression model for multiclass classification using 'ovr'\n",
        "# 'liblinear' solver is not recommended for multiclass with 'ovr', using 'lbfgs'\n",
        "model_ovr = LogisticRegression(multi_class='ovr', solver='lbfgs', max_iter=1000)\n",
        "model_ovr.fit(X_train, y_train)\n",
        "\n",
        "# Predict on the test set\n",
        "y_pred_ovr = model_ovr.predict(X_test)\n",
        "\n",
        "# Calculate and print the accuracy\n",
        "accuracy_ovr = accuracy_score(y_test, y_pred_ovr)\n",
        "print(f\"Model Accuracy with 'ovr' multiclass: {accuracy_ovr}\")"
      ],
      "execution_count": 5,
      "outputs": [
        {
          "output_type": "stream",
          "name": "stdout",
          "text": [
            "Model Accuracy with 'ovr' multiclass: 0.9666666666666667\n"
          ]
        },
        {
          "output_type": "stream",
          "name": "stderr",
          "text": [
            "/usr/local/lib/python3.11/dist-packages/sklearn/linear_model/_logistic.py:1256: FutureWarning: 'multi_class' was deprecated in version 1.5 and will be removed in 1.7. Use OneVsRestClassifier(LogisticRegression(..)) instead. Leave it to its default value to avoid this warning.\n",
            "  warnings.warn(\n"
          ]
        }
      ]
    },
    {
      "cell_type": "markdown",
      "source": [
        "6. Write a Python program to apply GridSearchCV to tune the hyperparameters (C and penalty) of Logistic\n",
        "Regression. Print the best parameters and accuracyC\n"
      ],
      "metadata": {
        "id": "It_c6t_TDAXT"
      }
    },
    {
      "cell_type": "code",
      "metadata": {
        "colab": {
          "base_uri": "https://localhost:8080/"
        },
        "id": "d22271d2",
        "outputId": "eb06202d-7a2f-48e2-b311-ea783dbdcd00"
      },
      "source": [
        "from sklearn.model_selection import train_test_split, GridSearchCV\n",
        "from sklearn.linear_model import LogisticRegression\n",
        "from sklearn.metrics import accuracy_score\n",
        "from sklearn.datasets import load_iris\n",
        "\n",
        "# Load a sample dataset (Iris dataset)\n",
        "iris = load_iris()\n",
        "X = iris.data\n",
        "y = iris.target\n",
        "\n",
        "# Split the dataset into training and testing sets\n",
        "X_train, X_test, y_train, y_test = train_test_split(X, y, test_size=0.2, random_state=42)\n",
        "\n",
        "# Define the parameter grid\n",
        "param_grid = {\n",
        "    'C': [0.001, 0.01, 0.1, 1, 10, 100],\n",
        "    'penalty': ['l1', 'l2']\n",
        "}\n",
        "\n",
        "# Initialize Logistic Regression model\n",
        "# Using 'liblinear' solver as it supports both l1 and l2 penalties\n",
        "model = LogisticRegression(solver='liblinear', max_iter=1000)\n",
        "\n",
        "# Initialize GridSearchCV\n",
        "grid_search = GridSearchCV(model, param_grid, cv=5) # cv=5 for 5-fold cross-validation\n",
        "\n",
        "# Fit GridSearchCV to the training data\n",
        "grid_search.fit(X_train, y_train)\n",
        "\n",
        "# Print the best parameters and best score\n",
        "print(\"Best parameters found by GridSearchCV:\")\n",
        "print(grid_search.best_params_)\n",
        "print(f\"Best cross-validation accuracy: {grid_search.best_score_}\")\n",
        "\n",
        "# Evaluate the best model on the test set\n",
        "best_model = grid_search.best_estimator_\n",
        "y_pred = best_model.predict(X_test)\n",
        "test_accuracy = accuracy_score(y_test, y_pred)\n",
        "print(f\"Test set accuracy with best parameters: {test_accuracy}\")"
      ],
      "execution_count": 6,
      "outputs": [
        {
          "output_type": "stream",
          "name": "stdout",
          "text": [
            "Best parameters found by GridSearchCV:\n",
            "{'C': 10, 'penalty': 'l1'}\n",
            "Best cross-validation accuracy: 0.9583333333333334\n",
            "Test set accuracy with best parameters: 1.0\n"
          ]
        }
      ]
    },
    {
      "cell_type": "markdown",
      "source": [
        "7. Write a Python program to evaluate Logistic Regression using Stratified K-Fold Cross-Validation. Print the\n",
        "average accuracyC"
      ],
      "metadata": {
        "id": "UFz9yId0DEQ_"
      }
    },
    {
      "cell_type": "code",
      "metadata": {
        "colab": {
          "base_uri": "https://localhost:8080/"
        },
        "id": "1be17684",
        "outputId": "32e1ce14-e549-438b-b54b-f088749fbd5d"
      },
      "source": [
        "from sklearn.model_selection import train_test_split, StratifiedKFold, cross_val_score\n",
        "from sklearn.linear_model import LogisticRegression\n",
        "from sklearn.metrics import accuracy_score\n",
        "from sklearn.datasets import load_iris\n",
        "import numpy as np\n",
        "\n",
        "# Load a sample dataset (Iris dataset)\n",
        "iris = load_iris()\n",
        "X = iris.data\n",
        "y = iris.target\n",
        "\n",
        "# Initialize Logistic Regression model\n",
        "model = LogisticRegression(max_iter=1000)\n",
        "\n",
        "# Initialize Stratified K-Fold Cross-Validation\n",
        "# n_splits is the number of folds (e.g., 5 or 10)\n",
        "skf = StratifiedKFold(n_splits=5, shuffle=True, random_state=42)\n",
        "\n",
        "# Perform cross-validation\n",
        "# Use accuracy as the scoring metric\n",
        "scores = cross_val_score(model, X, y, cv=skf, scoring='accuracy')\n",
        "\n",
        "# Print the accuracy for each fold and the average accuracy\n",
        "print(\"Accuracy for each fold:\")\n",
        "print(scores)\n",
        "print(f\"Average accuracy: {np.mean(scores)}\")"
      ],
      "execution_count": 7,
      "outputs": [
        {
          "output_type": "stream",
          "name": "stdout",
          "text": [
            "Accuracy for each fold:\n",
            "[1.         0.96666667 0.93333333 1.         0.93333333]\n",
            "Average accuracy: 0.9666666666666668\n"
          ]
        }
      ]
    },
    {
      "cell_type": "markdown",
      "source": [
        "8. Write a Python program to load a dataset from a CSV file, apply Logistic Regression, and evaluate its\n",
        "accuracy."
      ],
      "metadata": {
        "id": "o_G2R05nDIE6"
      }
    },
    {
      "cell_type": "code",
      "metadata": {
        "colab": {
          "base_uri": "https://localhost:8080/"
        },
        "id": "bc1c30b1",
        "outputId": "790800ac-cf51-4eb3-f1f2-d758c070bb91"
      },
      "source": [
        "import pandas as pd\n",
        "from sklearn.model_selection import train_test_split\n",
        "from sklearn.linear_model import LogisticRegression\n",
        "from sklearn.metrics import accuracy_score\n",
        "\n",
        "# Load the dataset from a CSV file\n",
        "# Replace 'your_dataset.csv' with the actual path to your CSV file\n",
        "try:\n",
        "    df = pd.read_csv('your_dataset.csv')\n",
        "\n",
        "    # Assuming your target variable is in a column named 'target' and features are in other columns\n",
        "    # You will need to adjust these based on your actual dataset\n",
        "    X = df.drop('target', axis=1)\n",
        "    y = df['target']\n",
        "\n",
        "    # Split the dataset into training and testing sets\n",
        "    X_train, X_test, y_train, y_test = train_test_split(X, y, test_size=0.2, random_state=42)\n",
        "\n",
        "    # Initialize and train the Logistic Regression model\n",
        "    model = LogisticRegression(max_iter=1000) # Increased max_iter for potential convergence issues\n",
        "    model.fit(X_train, y_train)\n",
        "\n",
        "    # Predict on the test set\n",
        "    y_pred = model.predict(X_test)\n",
        "\n",
        "    # Calculate and print the accuracy\n",
        "    accuracy = accuracy_score(y_test, y_pred)\n",
        "    print(f\"Model Accuracy: {accuracy}\")\n",
        "\n",
        "except FileNotFoundError:\n",
        "    print(\"Error: 'your_dataset.csv' not found. Please replace it with the correct path to your CSV file.\")\n",
        "except KeyError as e:\n",
        "    print(f\"Error: Column not found. Please check that 'target' and your feature columns exist in the CSV. Details: {e}\")\n",
        "except Exception as e:\n",
        "    print(f\"An error occurred: {e}\")"
      ],
      "execution_count": 8,
      "outputs": [
        {
          "output_type": "stream",
          "name": "stdout",
          "text": [
            "Error: 'your_dataset.csv' not found. Please replace it with the correct path to your CSV file.\n"
          ]
        }
      ]
    },
    {
      "cell_type": "markdown",
      "source": [
        "9. Write a Python program to apply RandomizedSearchCV for tuning hyperparameters (C, penalty, solver) in\n",
        "Logistic Regression. Print the best parameters and accuracyM"
      ],
      "metadata": {
        "id": "meqWioJfDMLw"
      }
    },
    {
      "cell_type": "code",
      "metadata": {
        "colab": {
          "base_uri": "https://localhost:8080/"
        },
        "id": "c409ea2d",
        "outputId": "7ce64418-b1be-4914-ba6a-e9b9015d42e1"
      },
      "source": [
        "from sklearn.model_selection import train_test_split, RandomizedSearchCV\n",
        "from sklearn.linear_model import LogisticRegression\n",
        "from sklearn.metrics import accuracy_score\n",
        "from sklearn.datasets import load_iris\n",
        "from scipy.stats import uniform\n",
        "\n",
        "# Load a sample dataset (Iris dataset)\n",
        "iris = load_iris()\n",
        "X = iris.data\n",
        "y = iris.target\n",
        "\n",
        "# Split the dataset into training and testing sets\n",
        "X_train, X_test, y_train, y_test = train_test_split(X, y, test_size=0.2, random_state=42)\n",
        "\n",
        "# Define the parameter distributions for RandomizedSearchCV\n",
        "# Using distributions from scipy.stats for continuous hyperparameters\n",
        "param_distributions = {\n",
        "    'C': uniform(loc=0, scale=4),  # C can be any value between 0 and 4\n",
        "    'penalty': ['l1', 'l2', 'elasticnet', 'none'],\n",
        "    'solver': ['liblinear', 'saga', 'lbfgs'] # lbfgs does not support l1 or elasticnet\n",
        "}\n",
        "\n",
        "# Initialize Logistic Regression model\n",
        "# Need to handle solver and penalty compatibility within the search\n",
        "model = LogisticRegression(max_iter=1000)\n",
        "\n",
        "# Initialize RandomizedSearchCV\n",
        "# n_iter is the number of parameter settings that are sampled\n",
        "# cv=5 for 5-fold cross-validation\n",
        "# random_state for reproducibility\n",
        "random_search = RandomizedSearchCV(\n",
        "    model,\n",
        "    param_distributions=param_distributions,\n",
        "    n_iter=100, # Number of random combinations to try\n",
        "    cv=5,\n",
        "    random_state=42,\n",
        "    n_jobs=-1 # Use all available cores\n",
        ")\n",
        "\n",
        "# Fit RandomizedSearchCV to the training data\n",
        "# Some combinations of solver and penalty are not compatible, GridSearchCV/RandomizedSearchCV handles this\n",
        "random_search.fit(X_train, y_train)\n",
        "\n",
        "# Print the best parameters and best score\n",
        "print(\"Best parameters found by RandomizedSearchCV:\")\n",
        "print(random_search.best_params_)\n",
        "print(f\"Best cross-validation accuracy: {random_search.best_score_}\")\n",
        "\n",
        "# Evaluate the best model on the test set\n",
        "best_model = random_search.best_estimator_\n",
        "y_pred = best_model.predict(X_test)\n",
        "test_accuracy = accuracy_score(y_test, y_pred)\n",
        "print(f\"Test set accuracy with best parameters: {test_accuracy}\")"
      ],
      "execution_count": 9,
      "outputs": [
        {
          "output_type": "stream",
          "name": "stdout",
          "text": [
            "Best parameters found by RandomizedSearchCV:\n",
            "{'C': np.float64(2.469926038510866), 'penalty': 'l2', 'solver': 'saga'}\n",
            "Best cross-validation accuracy: 0.9666666666666668\n",
            "Test set accuracy with best parameters: 1.0\n"
          ]
        },
        {
          "output_type": "stream",
          "name": "stderr",
          "text": [
            "/usr/local/lib/python3.11/dist-packages/sklearn/model_selection/_validation.py:528: FitFailedWarning: \n",
            "330 fits failed out of a total of 500.\n",
            "The score on these train-test partitions for these parameters will be set to nan.\n",
            "If these failures are not expected, you can try to debug them by setting error_score='raise'.\n",
            "\n",
            "Below are more details about the failures:\n",
            "--------------------------------------------------------------------------------\n",
            "55 fits failed with the following error:\n",
            "Traceback (most recent call last):\n",
            "  File \"/usr/local/lib/python3.11/dist-packages/sklearn/model_selection/_validation.py\", line 866, in _fit_and_score\n",
            "    estimator.fit(X_train, y_train, **fit_params)\n",
            "  File \"/usr/local/lib/python3.11/dist-packages/sklearn/base.py\", line 1389, in wrapper\n",
            "    return fit_method(estimator, *args, **kwargs)\n",
            "           ^^^^^^^^^^^^^^^^^^^^^^^^^^^^^^^^^^^^^^\n",
            "  File \"/usr/local/lib/python3.11/dist-packages/sklearn/linear_model/_logistic.py\", line 1193, in fit\n",
            "    solver = _check_solver(self.solver, self.penalty, self.dual)\n",
            "             ^^^^^^^^^^^^^^^^^^^^^^^^^^^^^^^^^^^^^^^^^^^^^^^^^^^\n",
            "  File \"/usr/local/lib/python3.11/dist-packages/sklearn/linear_model/_logistic.py\", line 63, in _check_solver\n",
            "    raise ValueError(\n",
            "ValueError: Solver lbfgs supports only 'l2' or None penalties, got l1 penalty.\n",
            "\n",
            "--------------------------------------------------------------------------------\n",
            "45 fits failed with the following error:\n",
            "Traceback (most recent call last):\n",
            "  File \"/usr/local/lib/python3.11/dist-packages/sklearn/model_selection/_validation.py\", line 866, in _fit_and_score\n",
            "    estimator.fit(X_train, y_train, **fit_params)\n",
            "  File \"/usr/local/lib/python3.11/dist-packages/sklearn/base.py\", line 1389, in wrapper\n",
            "    return fit_method(estimator, *args, **kwargs)\n",
            "           ^^^^^^^^^^^^^^^^^^^^^^^^^^^^^^^^^^^^^^\n",
            "  File \"/usr/local/lib/python3.11/dist-packages/sklearn/linear_model/_logistic.py\", line 1193, in fit\n",
            "    solver = _check_solver(self.solver, self.penalty, self.dual)\n",
            "             ^^^^^^^^^^^^^^^^^^^^^^^^^^^^^^^^^^^^^^^^^^^^^^^^^^^\n",
            "  File \"/usr/local/lib/python3.11/dist-packages/sklearn/linear_model/_logistic.py\", line 63, in _check_solver\n",
            "    raise ValueError(\n",
            "ValueError: Solver lbfgs supports only 'l2' or None penalties, got elasticnet penalty.\n",
            "\n",
            "--------------------------------------------------------------------------------\n",
            "140 fits failed with the following error:\n",
            "Traceback (most recent call last):\n",
            "  File \"/usr/local/lib/python3.11/dist-packages/sklearn/model_selection/_validation.py\", line 866, in _fit_and_score\n",
            "    estimator.fit(X_train, y_train, **fit_params)\n",
            "  File \"/usr/local/lib/python3.11/dist-packages/sklearn/base.py\", line 1382, in wrapper\n",
            "    estimator._validate_params()\n",
            "  File \"/usr/local/lib/python3.11/dist-packages/sklearn/base.py\", line 436, in _validate_params\n",
            "    validate_parameter_constraints(\n",
            "  File \"/usr/local/lib/python3.11/dist-packages/sklearn/utils/_param_validation.py\", line 98, in validate_parameter_constraints\n",
            "    raise InvalidParameterError(\n",
            "sklearn.utils._param_validation.InvalidParameterError: The 'penalty' parameter of LogisticRegression must be a str among {'l2', 'elasticnet', 'l1'} or None. Got 'none' instead.\n",
            "\n",
            "--------------------------------------------------------------------------------\n",
            "40 fits failed with the following error:\n",
            "Traceback (most recent call last):\n",
            "  File \"/usr/local/lib/python3.11/dist-packages/sklearn/model_selection/_validation.py\", line 866, in _fit_and_score\n",
            "    estimator.fit(X_train, y_train, **fit_params)\n",
            "  File \"/usr/local/lib/python3.11/dist-packages/sklearn/base.py\", line 1389, in wrapper\n",
            "    return fit_method(estimator, *args, **kwargs)\n",
            "           ^^^^^^^^^^^^^^^^^^^^^^^^^^^^^^^^^^^^^^\n",
            "  File \"/usr/local/lib/python3.11/dist-packages/sklearn/linear_model/_logistic.py\", line 1203, in fit\n",
            "    raise ValueError(\"l1_ratio must be specified when penalty is elasticnet.\")\n",
            "ValueError: l1_ratio must be specified when penalty is elasticnet.\n",
            "\n",
            "--------------------------------------------------------------------------------\n",
            "50 fits failed with the following error:\n",
            "Traceback (most recent call last):\n",
            "  File \"/usr/local/lib/python3.11/dist-packages/sklearn/model_selection/_validation.py\", line 866, in _fit_and_score\n",
            "    estimator.fit(X_train, y_train, **fit_params)\n",
            "  File \"/usr/local/lib/python3.11/dist-packages/sklearn/base.py\", line 1389, in wrapper\n",
            "    return fit_method(estimator, *args, **kwargs)\n",
            "           ^^^^^^^^^^^^^^^^^^^^^^^^^^^^^^^^^^^^^^\n",
            "  File \"/usr/local/lib/python3.11/dist-packages/sklearn/linear_model/_logistic.py\", line 1193, in fit\n",
            "    solver = _check_solver(self.solver, self.penalty, self.dual)\n",
            "             ^^^^^^^^^^^^^^^^^^^^^^^^^^^^^^^^^^^^^^^^^^^^^^^^^^^\n",
            "  File \"/usr/local/lib/python3.11/dist-packages/sklearn/linear_model/_logistic.py\", line 71, in _check_solver\n",
            "    raise ValueError(\n",
            "ValueError: Only 'saga' solver supports elasticnet penalty, got solver=liblinear.\n",
            "\n",
            "  warnings.warn(some_fits_failed_message, FitFailedWarning)\n",
            "/usr/local/lib/python3.11/dist-packages/sklearn/model_selection/_search.py:1108: UserWarning: One or more of the test scores are non-finite: [       nan 0.95              nan        nan        nan 0.93333333\n",
            "        nan 0.96666667 0.325             nan        nan        nan\n",
            "        nan        nan        nan        nan 0.95833333        nan\n",
            "        nan        nan 0.96666667 0.96666667        nan        nan\n",
            "        nan        nan 0.95              nan 0.96666667        nan\n",
            "        nan        nan        nan        nan        nan 0.95\n",
            " 0.95833333        nan        nan 0.95833333        nan        nan\n",
            "        nan        nan 0.96666667        nan 0.95833333 0.95\n",
            "        nan        nan        nan 0.96666667 0.95              nan\n",
            "        nan        nan 0.95833333 0.95              nan 0.96666667\n",
            "        nan        nan        nan 0.94166667        nan        nan\n",
            "        nan 0.95833333        nan        nan 0.96666667        nan\n",
            "        nan 0.95       0.96666667        nan        nan        nan\n",
            " 0.96666667        nan        nan        nan 0.95833333 0.96666667\n",
            "        nan        nan        nan        nan        nan        nan\n",
            " 0.95              nan 0.96666667 0.7        0.96666667 0.96666667\n",
            "        nan 0.95              nan        nan]\n",
            "  warnings.warn(\n"
          ]
        }
      ]
    },
    {
      "cell_type": "markdown",
      "source": [
        "10. Write a Python program to implement One-vs-One (OvO) Multiclass Logistic Regression and print accuracy"
      ],
      "metadata": {
        "id": "WNUw4xLFDQFS"
      }
    },
    {
      "cell_type": "code",
      "metadata": {
        "colab": {
          "base_uri": "https://localhost:8080/"
        },
        "id": "2fb74b29",
        "outputId": "86a4c3e7-54c7-4c25-f15d-287fc6c30a50"
      },
      "source": [
        "from sklearn.model_selection import train_test_split\n",
        "from sklearn.linear_model import LogisticRegression\n",
        "from sklearn.multiclass import OneVsOneClassifier\n",
        "from sklearn.metrics import accuracy_score\n",
        "from sklearn.datasets import load_iris\n",
        "\n",
        "# Load a sample dataset (Iris dataset)\n",
        "iris = load_iris()\n",
        "X = iris.data\n",
        "y = iris.target\n",
        "\n",
        "# Split the dataset into training and testing sets\n",
        "X_train, X_test, y_train, y_test = train_test_split(X, y, test_size=0.2, random_state=42)\n",
        "\n",
        "# Initialize and train the One-vs-One Multiclass Logistic Regression model\n",
        "# Wrap LogisticRegression with OneVsOneClassifier\n",
        "model_ovo = OneVsOneClassifier(LogisticRegression(max_iter=1000))\n",
        "model_ovo.fit(X_train, y_train)\n",
        "\n",
        "# Predict on the test set\n",
        "y_pred_ovo = model_ovo.predict(X_test)\n",
        "\n",
        "# Calculate and print the accuracy\n",
        "accuracy_ovo = accuracy_score(y_test, y_pred_ovo)\n",
        "print(f\"Model Accuracy with One-vs-One multiclass: {accuracy_ovo}\")"
      ],
      "execution_count": 10,
      "outputs": [
        {
          "output_type": "stream",
          "name": "stdout",
          "text": [
            "Model Accuracy with One-vs-One multiclass: 1.0\n"
          ]
        }
      ]
    },
    {
      "cell_type": "markdown",
      "source": [
        "11. Write a Python program to train a Logistic Regression model and visualize the confusion matrix for binary\n",
        "classificationM"
      ],
      "metadata": {
        "id": "f2_vwT4_DW42"
      }
    },
    {
      "cell_type": "code",
      "metadata": {
        "colab": {
          "base_uri": "https://localhost:8080/",
          "height": 472
        },
        "id": "74b2a9d5",
        "outputId": "1fc91a6f-c8ef-498b-9a2d-f72f8cd98f04"
      },
      "source": [
        "import pandas as pd\n",
        "from sklearn.model_selection import train_test_split\n",
        "from sklearn.linear_model import LogisticRegression\n",
        "from sklearn.metrics import confusion_matrix, ConfusionMatrixDisplay\n",
        "from sklearn.datasets import load_iris\n",
        "import matplotlib.pyplot as plt\n",
        "\n",
        "# Load a sample dataset (Iris dataset) and make it binary\n",
        "iris = load_iris()\n",
        "# We'll use only the first two classes for binary classification\n",
        "X = iris.data[iris.target != 2]\n",
        "y = iris.target[iris.target != 2]\n",
        "\n",
        "\n",
        "# Split the dataset into training and testing sets\n",
        "X_train, X_test, y_train, y_test = train_test_split(X, y, test_size=0.2, random_state=42)\n",
        "\n",
        "# Initialize and train the Logistic Regression model\n",
        "model = LogisticRegression(max_iter=1000)\n",
        "model.fit(X_train, y_train)\n",
        "\n",
        "# Predict on the test set\n",
        "y_pred = model.predict(X_test)\n",
        "\n",
        "# Generate the confusion matrix\n",
        "cm = confusion_matrix(y_test, y_pred)\n",
        "\n",
        "# Visualize the confusion matrix\n",
        "disp = ConfusionMatrixDisplay(confusion_matrix=cm, display_labels=iris.target_names[:2])\n",
        "disp.plot()\n",
        "plt.title('Confusion Matrix for Binary Logistic Regression')\n",
        "plt.show()"
      ],
      "execution_count": 11,
      "outputs": [
        {
          "output_type": "display_data",
          "data": {
            "text/plain": [
              "<Figure size 640x480 with 2 Axes>"
            ],
            "image/png": "[encoded data removed]"
          },
          "metadata": {}
        }
      ]
    },
    {
      "cell_type": "markdown",
      "source": [
        "12. Write a Python program to train a Logistic Regression model and evaluate its performance using Precision,\n",
        "Recall, and F1-ScoreM"
      ],
      "metadata": {
        "id": "O7SgSPZ0DbuZ"
      }
    },
    {
      "cell_type": "code",
      "metadata": {
        "colab": {
          "base_uri": "https://localhost:8080/"
        },
        "id": "310e3f8e",
        "outputId": "8a885be6-69a8-4e15-8775-585f5dc42d2c"
      },
      "source": [
        "from sklearn.model_selection import train_test_split\n",
        "from sklearn.linear_model import LogisticRegression\n",
        "from sklearn.metrics import precision_score, recall_score, f1_score\n",
        "from sklearn.datasets import load_iris\n",
        "\n",
        "# Load a sample dataset (Iris dataset) and make it binary\n",
        "iris = load_iris()\n",
        "# We'll use only the first two classes for binary classification\n",
        "X = iris.data[iris.target != 2]\n",
        "y = iris.target[iris.target != 2]\n",
        "\n",
        "\n",
        "# Split the dataset into training and testing sets\n",
        "X_train, X_test, y_train, y_test = train_test_split(X, y, test_size=0.2, random_state=42)\n",
        "\n",
        "# Initialize and train the Logistic Regression model\n",
        "model = LogisticRegression(max_iter=1000)\n",
        "model.fit(X_train, y_train)\n",
        "\n",
        "# Predict on the test set\n",
        "y_pred = model.predict(X_test)\n",
        "\n",
        "# Calculate and print Precision, Recall, and F1-Score\n",
        "precision = precision_score(y_test, y_pred)\n",
        "recall = recall_score(y_test, y_pred)\n",
        "f1 = f1_score(y_test, y_pred)\n",
        "\n",
        "print(f\"Precision: {precision}\")\n",
        "print(f\"Recall: {recall}\")\n",
        "print(f\"F1-Score: {f1}\")"
      ],
      "execution_count": 12,
      "outputs": [
        {
          "output_type": "stream",
          "name": "stdout",
          "text": [
            "Precision: 1.0\n",
            "Recall: 1.0\n",
            "F1-Score: 1.0\n"
          ]
        }
      ]
    },
    {
      "cell_type": "markdown",
      "source": [
        "13. Write a Python program to train a Logistic Regression model on imbalanced data and apply class weights to\n",
        "improve model performanceM"
      ],
      "metadata": {
        "id": "YZFZN4ahDfLS"
      }
    },
    {
      "cell_type": "code",
      "metadata": {
        "colab": {
          "base_uri": "https://localhost:8080/"
        },
        "id": "e38520ca",
        "outputId": "3cfedced-8f69-45b8-a969-36cb536f1d13"
      },
      "source": [
        "import pandas as pd\n",
        "from sklearn.model_selection import train_test_split\n",
        "from sklearn.linear_model import LogisticRegression\n",
        "from sklearn.metrics import accuracy_score, classification_report\n",
        "from sklearn.datasets import make_classification\n",
        "import numpy as np\n",
        "\n",
        "# Create a synthetic imbalanced dataset\n",
        "# n_samples is the total number of samples\n",
        "# n_features is the number of features\n",
        "# n_informative is the number of informative features\n",
        "# n_redundant is the number of redundant features\n",
        "# n_clusters_per_class is the number of clusters per class\n",
        "# weights is a list of the proportion of samples assigned to each class\n",
        "X, y = make_classification(\n",
        "    n_samples=1000,\n",
        "    n_features=20,\n",
        "    n_informative=10,\n",
        "    n_redundant=5,\n",
        "    n_clusters_per_class=1,\n",
        "    weights=[0.95, 0.05], # Create imbalanced data: 95% class 0, 5% class 1\n",
        "    flip_y=0,\n",
        "    random_state=42\n",
        ")\n",
        "\n",
        "# Split the dataset into training and testing sets\n",
        "X_train, X_test, y_train, y_test = train_test_split(X, y, test_size=0.2, random_state=42)\n",
        "\n",
        "print(\"Original dataset shape:\", np.bincount(y))\n",
        "print(\"Training set shape:\", np.bincount(y_train))\n",
        "print(\"Testing set shape:\", np.bincount(y_test))\n",
        "\n",
        "# Train a Logistic Regression model without class weights\n",
        "model_no_weights = LogisticRegression(max_iter=1000)\n",
        "model_no_weights.fit(X_train, y_train)\n",
        "\n",
        "# Predict and evaluate without class weights\n",
        "y_pred_no_weights = model_no_weights.predict(X_test)\n",
        "print(\"\\n--- Model without Class Weights ---\")\n",
        "print(f\"Accuracy: {accuracy_score(y_test, y_pred_no_weights)}\")\n",
        "print(\"Classification Report:\")\n",
        "print(classification_report(y_test, y_pred_no_weights))\n",
        "\n",
        "# Train a Logistic Regression model with class weights\n",
        "model_with_weights = LogisticRegression(max_iter=1000, class_weight='balanced')\n",
        "model_with_weights.fit(X_train, y_train)\n",
        "\n",
        "# Predict and evaluate with class weights\n",
        "y_pred_with_weights = model_with_weights.predict(X_test)\n",
        "print(\"\\n--- Model with Class Weights (balanced) ---\")\n",
        "print(f\"Accuracy: {accuracy_score(y_test, y_pred_with_weights)}\")\n",
        "print(\"Classification Report:\")\n",
        "print(classification_report(y_test, y_pred_with_weights))"
      ],
      "execution_count": 13,
      "outputs": [
        {
          "output_type": "stream",
          "name": "stdout",
          "text": [
            "Original dataset shape: [950  50]\n",
            "Training set shape: [757  43]\n",
            "Testing set shape: [193   7]\n",
            "\n",
            "--- Model without Class Weights ---\n",
            "Accuracy: 0.995\n",
            "Classification Report:\n",
            "              precision    recall  f1-score   support\n",
            "\n",
            "           0       1.00      0.99      1.00       193\n",
            "           1       0.88      1.00      0.93         7\n",
            "\n",
            "    accuracy                           0.99       200\n",
            "   macro avg       0.94      1.00      0.97       200\n",
            "weighted avg       1.00      0.99      1.00       200\n",
            "\n",
            "\n",
            "--- Model with Class Weights (balanced) ---\n",
            "Accuracy: 0.99\n",
            "Classification Report:\n",
            "              precision    recall  f1-score   support\n",
            "\n",
            "           0       1.00      0.99      0.99       193\n",
            "           1       0.78      1.00      0.88         7\n",
            "\n",
            "    accuracy                           0.99       200\n",
            "   macro avg       0.89      0.99      0.93       200\n",
            "weighted avg       0.99      0.99      0.99       200\n",
            "\n"
          ]
        }
      ]
    },
    {
      "cell_type": "markdown",
      "source": [
        "14. Write a Python program to train Logistic Regression on the Titanic dataset, handle missing values, and\n",
        "evaluate performanceM"
      ],
      "metadata": {
        "id": "a19IE6XCDmCm"
      }
    },
    {
      "cell_type": "code",
      "metadata": {
        "colab": {
          "base_uri": "https://localhost:8080/",
          "height": 228
        },
        "id": "74d654ae",
        "outputId": "c4bd1a8e-5765-4246-c5e0-e6878c26abc4"
      },
      "source": [
        "import pandas as pd\n",
        "from sklearn.model_selection import train_test_split\n",
        "from sklearn.linear_model import LogisticRegression\n",
        "from sklearn.metrics import accuracy_score, classification_report\n",
        "from sklearn.impute import SimpleImputer\n",
        "from sklearn.preprocessing import OneHotEncoder\n",
        "from sklearn.compose import ColumnTransformer\n",
        "from sklearn.pipeline import Pipeline\n",
        "\n",
        "# Load the Titanic dataset\n",
        "# You might need to download the dataset first if you don't have it locally.\n",
        "# You can find it on Kaggle or other data repositories.\n",
        "try:\n",
        "    df = pd.read_csv('titanic.csv')\n",
        "except FileNotFoundError:\n",
        "    print(\"Error: 'titanic.csv' not found. Please download the dataset and provide the correct path.\")\n",
        "    # Exit if the file is not found\n",
        "    exit()\n",
        "\n",
        "\n",
        "# Select features and target\n",
        "# 'Survived' is the target variable\n",
        "# 'Pclass', 'Sex', 'Age', 'SibSp', 'Parch', 'Fare', 'Embarked' are potential features\n",
        "features = ['Pclass', 'Sex', 'Age', 'SibSp', 'Parch', 'Fare', 'Embarked']\n",
        "target = 'Survived'\n",
        "\n",
        "X = df[features]\n",
        "y = df[target]\n",
        "\n",
        "# Define preprocessing steps for numerical and categorical features\n",
        "# Impute missing numerical values with the mean\n",
        "# Impute missing categorical values with the most frequent value and then one-hot encode\n",
        "numerical_features = ['Age', 'Fare']\n",
        "categorical_features = ['Pclass', 'Sex', 'SibSp', 'Parch', 'Embarked'] # Pclass is treated as categorical\n",
        "\n",
        "numerical_transformer = SimpleImputer(strategy='mean')\n",
        "categorical_transformer = Pipeline(steps=[\n",
        "    ('imputer', SimpleImputer(strategy='most_frequent')),\n",
        "    ('onehot', OneHotEncoder(handle_unknown='ignore'))\n",
        "])\n",
        "\n",
        "# Create a column transformer to apply different transformations to different columns\n",
        "preprocessor = ColumnTransformer(\n",
        "    transformers=[\n",
        "        ('num', numerical_transformer, numerical_features),\n",
        "        ('cat', categorical_transformer, categorical_features)\n",
        "    ])\n",
        "\n",
        "# Create the Logistic Regression model pipeline\n",
        "model = Pipeline(steps=[('preprocessor', preprocessor),\n",
        "                      ('classifier', LogisticRegression(max_iter=1000))])\n",
        "\n",
        "# Split the dataset into training and testing sets\n",
        "X_train, X_test, y_train, y_test = train_test_split(X, y, test_size=0.2, random_state=42)\n",
        "\n",
        "# Train the model\n",
        "model.fit(X_train, y_train)\n",
        "\n",
        "# Predict on the test set\n",
        "y_pred = model.predict(X_test)\n",
        "\n",
        "# Evaluate the model\n",
        "accuracy = accuracy_score(y_test, y_pred)\n",
        "print(f\"Model Accuracy: {accuracy}\")\n",
        "\n",
        "# Print classification report for more detailed evaluation\n",
        "print(\"\\nClassification Report:\")\n",
        "print(classification_report(y_test, y_pred))"
      ],
      "execution_count": 14,
      "outputs": [
        {
          "output_type": "stream",
          "name": "stdout",
          "text": [
            "Error: 'titanic.csv' not found. Please download the dataset and provide the correct path.\n"
          ]
        },
        {
          "output_type": "error",
          "ename": "NameError",
          "evalue": "name 'df' is not defined",
          "traceback": [
            "\u001b[0;31m---------------------------------------------------------------------------\u001b[0m",
            "\u001b[0;31mNameError\u001b[0m                                 Traceback (most recent call last)",
            "\u001b[0;32m/tmp/ipython-input-14-1423193616.py\u001b[0m in \u001b[0;36m<cell line: 0>\u001b[0;34m()\u001b[0m\n\u001b[1;32m     25\u001b[0m \u001b[0mtarget\u001b[0m \u001b[0;34m=\u001b[0m \u001b[0;34m'Survived'\u001b[0m\u001b[0;34m\u001b[0m\u001b[0;34m\u001b[0m\u001b[0m\n\u001b[1;32m     26\u001b[0m \u001b[0;34m\u001b[0m\u001b[0m\n\u001b[0;32m---> 27\u001b[0;31m \u001b[0mX\u001b[0m \u001b[0;34m=\u001b[0m \u001b[0mdf\u001b[0m\u001b[0;34m[\u001b[0m\u001b[0mfeatures\u001b[0m\u001b[0;34m]\u001b[0m\u001b[0;34m\u001b[0m\u001b[0;34m\u001b[0m\u001b[0m\n\u001b[0m\u001b[1;32m     28\u001b[0m \u001b[0my\u001b[0m \u001b[0;34m=\u001b[0m \u001b[0mdf\u001b[0m\u001b[0;34m[\u001b[0m\u001b[0mtarget\u001b[0m\u001b[0;34m]\u001b[0m\u001b[0;34m\u001b[0m\u001b[0;34m\u001b[0m\u001b[0m\n\u001b[1;32m     29\u001b[0m \u001b[0;34m\u001b[0m\u001b[0m\n",
            "\u001b[0;31mNameError\u001b[0m: name 'df' is not defined"
          ]
        }
      ]
    },
    {
      "cell_type": "markdown",
      "source": [
        "15. Write a Python program to apply feature scaling (Standardization) before training a Logistic Regression\n",
        "model. Evaluate its accuracy and compare results with and without scalingM"
      ],
      "metadata": {
        "id": "ywtC7o1iDsly"
      }
    },
    {
      "cell_type": "code",
      "metadata": {
        "colab": {
          "base_uri": "https://localhost:8080/"
        },
        "id": "853cd8a0",
        "outputId": "63b56540-8d89-4a98-caca-d9bcf8188dba"
      },
      "source": [
        "import pandas as pd\n",
        "from sklearn.model_selection import train_test_split\n",
        "from sklearn.linear_model import LogisticRegression\n",
        "from sklearn.metrics import accuracy_score\n",
        "from sklearn.datasets import load_iris\n",
        "from sklearn.preprocessing import StandardScaler\n",
        "from sklearn.pipeline import Pipeline\n",
        "\n",
        "# Load a sample dataset (Iris dataset)\n",
        "iris = load_iris()\n",
        "X = iris.data\n",
        "y = iris.target\n",
        "\n",
        "# Split the dataset into training and testing sets\n",
        "X_train, X_test, y_train, y_test = train_test_split(X, y, test_size=0.2, random_state=42)\n",
        "\n",
        "# --- Train Logistic Regression without scaling ---\n",
        "model_no_scale = LogisticRegression(max_iter=1000)\n",
        "model_no_scale.fit(X_train, y_train)\n",
        "y_pred_no_scale = model_no_scale.predict(X_test)\n",
        "accuracy_no_scale = accuracy_score(y_test, y_pred_no_scale)\n",
        "print(f\"Model Accuracy without scaling: {accuracy_no_scale}\")\n",
        "\n",
        "# --- Train Logistic Regression with scaling ---\n",
        "# Create a pipeline that first scales the data and then applies Logistic Regression\n",
        "pipeline_with_scale = Pipeline([\n",
        "    ('scaler', StandardScaler()),\n",
        "    ('logistic', LogisticRegression(max_iter=1000))\n",
        "])\n",
        "\n",
        "pipeline_with_scale.fit(X_train, y_train)\n",
        "y_pred_with_scale = pipeline_with_scale.predict(X_test)\n",
        "accuracy_with_scale = accuracy_score(y_test, y_pred_with_scale)\n",
        "print(f\"Model Accuracy with scaling: {accuracy_with_scale}\")\n",
        "\n",
        "# Note: For some datasets like Iris, the difference might be minimal\n",
        "# as the features are already somewhat on a similar scale.\n",
        "# Scaling is generally more impactful when features have very different ranges."
      ],
      "execution_count": 1,
      "outputs": [
        {
          "output_type": "stream",
          "name": "stdout",
          "text": [
            "Model Accuracy without scaling: 1.0\n",
            "Model Accuracy with scaling: 1.0\n"
          ]
        }
      ]
    },
    {
      "cell_type": "markdown",
      "source": [
        "16. Write a Python program to train Logistic Regression and evaluate its performance using ROC-AUC scoreM"
      ],
      "metadata": {
        "id": "Bwz1YeFyDz_r"
      }
    },
    {
      "cell_type": "code",
      "metadata": {
        "colab": {
          "base_uri": "https://localhost:8080/"
        },
        "id": "6ea7686f",
        "outputId": "f3e1dab0-f4b4-4694-a9d4-0d7f93227a67"
      },
      "source": [
        "from sklearn.model_selection import train_test_split\n",
        "from sklearn.linear_model import LogisticRegression\n",
        "from sklearn.metrics import roc_curve, auc, roc_auc_score\n",
        "from sklearn.datasets import load_iris\n",
        "import matplotlib.pyplot as plt\n",
        "\n",
        "# Load a sample dataset (Iris dataset) and make it binary\n",
        "iris = load_iris()\n",
        "# We'll use only the first two classes for binary classification\n",
        "X = iris.data[iris.target != 2]\n",
        "y = iris.target[iris.target != 2]\n",
        "\n",
        "\n",
        "# Split the dataset into training and testing sets\n",
        "X_train, X_test, y_train, y_test = train_test_split(X, y, test_size=0.2, random_state=42)\n",
        "\n",
        "# Initialize and train the Logistic Regression model\n",
        "model = LogisticRegression(max_iter=1000)\n",
        "model.fit(X_train, y_train)\n",
        "\n",
        "# Predict probabilities on the test set\n",
        "# We need probabilities for ROC-AUC, specifically the probability of the positive class (class 1)\n",
        "y_proba = model.predict_proba(X_test)[:, 1]\n",
        "\n",
        "# Calculate the ROC-AUC score\n",
        "roc_auc = roc_auc_score(y_test, y_proba)\n",
        "\n",
        "print(f\"ROC-AUC Score: {roc_auc}\")\n",
        "\n",
        "# Optional: Plot the ROC curve\n",
        "# fpr, tpr, thresholds = roc_curve(y_test, y_proba)\n",
        "# plt.figure()\n",
        "# plt.plot(fpr, tpr, color='darkorange', lw=2, label='ROC curve (area = %0.2f)' % roc_auc)\n",
        "# plt.plot([0, 1], [0, 1], color='navy', lw=2, linestyle='--')\n",
        "# plt.xlim([0.0, 1.0])\n",
        "# plt.ylim([0.0, 1.05])\n",
        "# plt.xlabel('False Positive Rate')\n",
        "# plt.ylabel('True Positive Rate')\n",
        "# plt.title('Receiver Operating Characteristic (ROC) Curve')\n",
        "# plt.legend(loc=\"lower right\")\n",
        "# plt.show()"
      ],
      "execution_count": 2,
      "outputs": [
        {
          "output_type": "stream",
          "name": "stdout",
          "text": [
            "ROC-AUC Score: 1.0\n"
          ]
        }
      ]
    },
    {
      "cell_type": "markdown",
      "source": [
        "17. Write a Python program to train Logistic Regression using a custom learning rate (C=0.5) and evaluate\n",
        "accuracy"
      ],
      "metadata": {
        "id": "3xPJAvn9D5lD"
      }
    },
    {
      "cell_type": "code",
      "metadata": {
        "colab": {
          "base_uri": "https://localhost:8080/"
        },
        "id": "b77d59d8",
        "outputId": "e4f6d0de-b7ee-4390-c92e-29a2581e2d71"
      },
      "source": [
        "from sklearn.model_selection import train_test_split\n",
        "from sklearn.linear_model import LogisticRegression\n",
        "from sklearn.metrics import accuracy_score\n",
        "from sklearn.datasets import load_iris\n",
        "\n",
        "# Load a sample dataset (Iris dataset)\n",
        "iris = load_iris()\n",
        "X = iris.data\n",
        "y = iris.target\n",
        "\n",
        "# Split the dataset into training and testing sets\n",
        "X_train, X_test, y_train, y_test = train_test_split(X, y, test_size=0.2, random_state=42)\n",
        "\n",
        "# Initialize and train the Logistic Regression model with a custom C value\n",
        "model_custom_c = LogisticRegression(C=0.5, max_iter=1000)\n",
        "model_custom_c.fit(X_train, y_train)\n",
        "\n",
        "# Predict on the test set\n",
        "y_pred_custom_c = model_custom_c.predict(X_test)\n",
        "\n",
        "# Calculate and print the accuracy\n",
        "accuracy_custom_c = accuracy_score(y_test, y_pred_custom_c)\n",
        "print(f\"Model Accuracy with C=0.5: {accuracy_custom_c}\")"
      ],
      "execution_count": 3,
      "outputs": [
        {
          "output_type": "stream",
          "name": "stdout",
          "text": [
            "Model Accuracy with C=0.5: 1.0\n"
          ]
        }
      ]
    },
    {
      "cell_type": "markdown",
      "source": [
        "18. Write a Python program to train Logistic Regression and identify important features based on model\n",
        "coefficients"
      ],
      "metadata": {
        "id": "tMjcmZJpD-A5"
      }
    },
    {
      "cell_type": "code",
      "metadata": {
        "colab": {
          "base_uri": "https://localhost:8080/"
        },
        "id": "28998d72",
        "outputId": "22d2461c-73a3-46c8-8e4f-bf7bef1af1cd"
      },
      "source": [
        "import pandas as pd\n",
        "from sklearn.model_selection import train_test_split\n",
        "from sklearn.linear_model import LogisticRegression\n",
        "from sklearn.datasets import load_iris\n",
        "import numpy as np\n",
        "\n",
        "# Load a sample dataset (Iris dataset)\n",
        "iris = load_iris()\n",
        "X = iris.data\n",
        "y = iris.target\n",
        "feature_names = iris.feature_names\n",
        "\n",
        "# Split the dataset into training and testing sets\n",
        "X_train, X_test, y_train, y_test = train_test_split(X, y, test_size=0.2, random_state=42)\n",
        "\n",
        "# Initialize and train the Logistic Regression model\n",
        "# Using a solver that supports multiclass and potentially regularization\n",
        "model = LogisticRegression(max_iter=1000, solver='lbfgs')\n",
        "model.fit(X_train, y_train)\n",
        "\n",
        "# Get the coefficients\n",
        "coefficients = model.coef_\n",
        "intercepts = model.intercept_\n",
        "\n",
        "print(\"Model Coefficients:\")\n",
        "# For multiclass, coefficients are in a 2D array (n_classes, n_features)\n",
        "# Each row corresponds to a class, and each column corresponds to a feature\n",
        "if coefficients.shape[0] > 1: # Multiclass case\n",
        "    for i, class_coefs in enumerate(coefficients):\n",
        "        print(f\"  Class {i} (vs others):\")\n",
        "        for j, coef in enumerate(class_coefs):\n",
        "            print(f\"    {feature_names[j]}: {coef:.4f}\")\n",
        "else: # Binary case\n",
        "    for j, coef in enumerate(coefficients[0]):\n",
        "        print(f\"  {feature_names[j]}: {coef:.4f}\")\n",
        "\n",
        "print(\"\\nModel Intercepts:\")\n",
        "# For multiclass, intercepts are in a 1D array (n_classes,)\n",
        "# Each element corresponds to a class\n",
        "if intercepts.shape[0] > 1: # Multiclass case\n",
        "    for i, intercept in enumerate(intercepts):\n",
        "        print(f\"  Class {i}: {intercept:.4f}\")\n",
        "else: # Binary case\n",
        "     print(f\"  Intercept: {intercepts[0]:.4f}\")\n",
        "\n",
        "# Interpretation:\n",
        "# For a binary model, a positive coefficient for a feature means that as the feature value increases,\n",
        "# the log-odds of the target being the positive class increases.\n",
        "# For a multiclass 'ovr' model (which lbfgs uses by default for multiclass),\n",
        "# each row of coefficients corresponds to a binary classifier for that class versus all other classes.\n",
        "# A positive coefficient for a feature in a specific row means that as the feature value increases,\n",
        "# the log-odds of that class (vs others) increases.\n",
        "# The magnitude of the coefficient indicates the strength of the relationship."
      ],
      "execution_count": 4,
      "outputs": [
        {
          "output_type": "stream",
          "name": "stdout",
          "text": [
            "Model Coefficients:\n",
            "  Class 0 (vs others):\n",
            "    sepal length (cm): -0.3935\n",
            "    sepal width (cm): 0.9625\n",
            "    petal length (cm): -2.3751\n",
            "    petal width (cm): -0.9987\n",
            "  Class 1 (vs others):\n",
            "    sepal length (cm): 0.5084\n",
            "    sepal width (cm): -0.2548\n",
            "    petal length (cm): -0.2130\n",
            "    petal width (cm): -0.7757\n",
            "  Class 2 (vs others):\n",
            "    sepal length (cm): -0.1150\n",
            "    sepal width (cm): -0.7077\n",
            "    petal length (cm): 2.5881\n",
            "    petal width (cm): 1.7745\n",
            "\n",
            "Model Intercepts:\n",
            "  Class 0: 9.0088\n",
            "  Class 1: 1.8690\n",
            "  Class 2: -10.8779\n"
          ]
        }
      ]
    },
    {
      "cell_type": "markdown",
      "source": [
        "19. Write a Python program to train Logistic Regression and evaluate its performance using Cohen’s Kappa\n",
        "ScoreM"
      ],
      "metadata": {
        "id": "hKhAtJ_4EDA1"
      }
    },
    {
      "cell_type": "code",
      "metadata": {
        "colab": {
          "base_uri": "https://localhost:8080/"
        },
        "id": "83f20313",
        "outputId": "6e05d266-a57b-42df-eabf-85ed6aef62a4"
      },
      "source": [
        "from sklearn.model_selection import train_test_split\n",
        "from sklearn.linear_model import LogisticRegression\n",
        "from sklearn.metrics import cohen_kappa_score\n",
        "from sklearn.datasets import load_iris\n",
        "\n",
        "# Load a sample dataset (Iris dataset)\n",
        "iris = load_iris()\n",
        "X = iris.data\n",
        "y = iris.target\n",
        "\n",
        "# Split the dataset into training and testing sets\n",
        "X_train, X_test, y_train, y_test = train_test_split(X, y, test_size=0.2, random_state=42)\n",
        "\n",
        "# Initialize and train the Logistic Regression model\n",
        "model = LogisticRegression(max_iter=1000)\n",
        "model.fit(X_train, y_train)\n",
        "\n",
        "# Predict on the test set\n",
        "y_pred = model.predict(X_test)\n",
        "\n",
        "# Calculate and print Cohen's Kappa Score\n",
        "kappa_score = cohen_kappa_score(y_test, y_pred)\n",
        "\n",
        "print(f\"Cohen's Kappa Score: {kappa_score}\")"
      ],
      "execution_count": 5,
      "outputs": [
        {
          "output_type": "stream",
          "name": "stdout",
          "text": [
            "Cohen's Kappa Score: 1.0\n"
          ]
        }
      ]
    },
    {
      "cell_type": "markdown",
      "source": [
        "20. Write a Python program to train Logistic Regression and visualize the Precision-Recall Curve for binary\n",
        "classificatio:\n"
      ],
      "metadata": {
        "id": "_9WflMCaEIt8"
      }
    },
    {
      "cell_type": "code",
      "metadata": {
        "colab": {
          "base_uri": "https://localhost:8080/",
          "height": 472
        },
        "id": "fd2c824e",
        "outputId": "1ef73b36-9e4b-443d-bf7b-b4c11cb98deb"
      },
      "source": [
        "from sklearn.model_selection import train_test_split\n",
        "from sklearn.linear_model import LogisticRegression\n",
        "from sklearn.metrics import precision_recall_curve, PrecisionRecallDisplay # Import PrecisionRecallDisplay\n",
        "from sklearn.datasets import load_iris\n",
        "import matplotlib.pyplot as plt\n",
        "\n",
        "# Load a sample dataset (Iris dataset) and make it binary\n",
        "iris = load_iris()\n",
        "# We'll use only the first two classes for binary classification\n",
        "X = iris.data[iris.target != 2]\n",
        "y = iris.target[iris.target != 2]\n",
        "\n",
        "# Split the dataset into training and testing sets\n",
        "X_train, X_test, y_train, y_test = train_test_split(X, y, test_size=0.2, random_state=42)\n",
        "\n",
        "# Initialize and train the Logistic Regression model\n",
        "model = LogisticRegression(max_iter=1000)\n",
        "model.fit(X_train, y_train)\n",
        "\n",
        "# Predict probabilities on the test set\n",
        "y_proba = model.predict_proba(X_test)[:, 1]\n",
        "\n",
        "# Plot the Precision-Recall curve\n",
        "# Use PrecisionRecallDisplay.from_estimator for newer scikit-learn versions\n",
        "try:\n",
        "    disp = PrecisionRecallDisplay.from_estimator(model, X_test, y_test)\n",
        "    disp.ax_.set_title('Precision-Recall Curve')\n",
        "    plt.show() # Add plt.show() to display the plot\n",
        "\n",
        "except ImportError:\n",
        "    # Fallback for older scikit-learn versions (though plot_precision_recall_curve is removed)\n",
        "    # This block might not be necessary in current environments but kept for illustration of handling older versions\n",
        "    precision, recall, _ = precision_recall_curve(y_test, y_proba)\n",
        "    plt.figure()\n",
        "    plt.plot(recall, precision, label='Precision-Recall curve')\n",
        "    plt.xlabel('Recall')\n",
        "    plt.ylabel('Precision')\n",
        "    plt.title('Precision-Recall Curve')\n",
        "    plt.legend(loc=\"lower left\")\n",
        "    plt.show()"
      ],
      "execution_count": 7,
      "outputs": [
        {
          "output_type": "display_data",
          "data": {
            "text/plain": [
              "<Figure size 640x480 with 1 Axes>"
            ],
            "image/png": "[encoded data removed]"
          },
          "metadata": {}
        }
      ]
    },
    {
      "cell_type": "markdown",
      "source": [
        "21. Write a Python program to train Logistic Regression with different solvers (liblinear, saga, lbfgs) and compare\n",
        "their accuracy"
      ],
      "metadata": {
        "id": "ZfC_pU2qEQCR"
      }
    },
    {
      "cell_type": "code",
      "metadata": {
        "colab": {
          "base_uri": "https://localhost:8080/"
        },
        "id": "d729ac9f",
        "outputId": "8003ab51-1682-4d34-8395-0616997e58f6"
      },
      "source": [
        "from sklearn.model_selection import train_test_split\n",
        "from sklearn.linear_model import LogisticRegression\n",
        "from sklearn.metrics import accuracy_score\n",
        "from sklearn.datasets import load_iris\n",
        "\n",
        "# Load a sample dataset (Iris dataset)\n",
        "iris = load_iris()\n",
        "X = iris.data\n",
        "y = iris.target\n",
        "\n",
        "# Split the dataset into training and testing sets\n",
        "X_train, X_test, y_train, y_test = train_test_split(X, y, test_size=0.2, random_state=42)\n",
        "\n",
        "# Define the list of solvers to compare\n",
        "solvers = ['liblinear', 'saga', 'lbfgs']\n",
        "\n",
        "# Iterate through the solvers, train the model, and print accuracy\n",
        "for solver in solvers:\n",
        "    try:\n",
        "        # Note: Different solvers support different penalties.\n",
        "        # 'liblinear' supports l1 and l2.\n",
        "        # 'lbfgs' supports l2 and none.\n",
        "        # 'saga' supports l1, l2, elasticnet, and none.\n",
        "        # For simplicity, we'll use the default penalty (l2) which is supported by lbfgs and liblinear,\n",
        "        # and saga can also handle it.\n",
        "\n",
        "        if solver == 'liblinear':\n",
        "             model = LogisticRegression(solver=solver, max_iter=1000)\n",
        "        elif solver == 'lbfgs':\n",
        "             model = LogisticRegression(solver=solver, max_iter=1000)\n",
        "        elif solver == 'saga':\n",
        "            model = LogisticRegression(solver=solver, max_iter=1000)\n",
        "        else:\n",
        "            print(f\"Solver {solver} not supported in this example.\")\n",
        "            continue\n",
        "\n",
        "\n",
        "        # Train the model\n",
        "        model.fit(X_train, y_train)\n",
        "\n",
        "        # Predict on the test set\n",
        "        y_pred = model.predict(X_test)\n",
        "\n",
        "        # Calculate and print the accuracy\n",
        "        accuracy = accuracy_score(y_test, y_pred)\n",
        "        print(f\"Model Accuracy with solver '{solver}': {accuracy}\")\n",
        "\n",
        "    except Exception as e:\n",
        "        print(f\"Error training with solver '{solver}': {e}\")"
      ],
      "execution_count": 8,
      "outputs": [
        {
          "output_type": "stream",
          "name": "stdout",
          "text": [
            "Model Accuracy with solver 'liblinear': 1.0\n",
            "Model Accuracy with solver 'saga': 1.0\n",
            "Model Accuracy with solver 'lbfgs': 1.0\n"
          ]
        },
        {
          "output_type": "stream",
          "name": "stderr",
          "text": [
            "/usr/local/lib/python3.11/dist-packages/sklearn/linear_model/_sag.py:348: ConvergenceWarning: The max_iter was reached which means the coef_ did not converge\n",
            "  warnings.warn(\n"
          ]
        }
      ]
    },
    {
      "cell_type": "markdown",
      "source": [
        "22. Write a Python program to train Logistic Regression and evaluate its performance using Matthews\n",
        "Correlation Coefficient (MCC)"
      ],
      "metadata": {
        "id": "qe6EOKgSEXw7"
      }
    },
    {
      "cell_type": "code",
      "metadata": {
        "colab": {
          "base_uri": "https://localhost:8080/"
        },
        "id": "7935e98e",
        "outputId": "a06de32b-c2fd-4bd7-8bbe-61ed82b85953"
      },
      "source": [
        "from sklearn.model_selection import train_test_split\n",
        "from sklearn.linear_model import LogisticRegression\n",
        "from sklearn.metrics import matthews_corrcoef\n",
        "from sklearn.datasets import load_iris\n",
        "\n",
        "# Load a sample dataset (Iris dataset)\n",
        "iris = load_iris()\n",
        "X = iris.data\n",
        "y = iris.target\n",
        "\n",
        "# Split the dataset into training and testing sets\n",
        "X_train, X_test, y_train, y_test = train_test_split(X, y, test_size=0.2, random_state=42)\n",
        "\n",
        "# Initialize and train the Logistic Regression model\n",
        "model = LogisticRegression(max_iter=1000)\n",
        "model.fit(X_train, y_train)\n",
        "\n",
        "# Predict on the test set\n",
        "y_pred = model.predict(X_test)\n",
        "\n",
        "# Calculate and print Matthews Correlation Coefficient\n",
        "mcc = matthews_corrcoef(y_test, y_pred)\n",
        "\n",
        "print(f\"Matthews Correlation Coefficient (MCC): {mcc}\")"
      ],
      "execution_count": 9,
      "outputs": [
        {
          "output_type": "stream",
          "name": "stdout",
          "text": [
            "Matthews Correlation Coefficient (MCC): 1.0\n"
          ]
        }
      ]
    },
    {
      "cell_type": "markdown",
      "source": [
        "23. M Write a Python program to train Logistic Regression on both raw and standardized data. Compare their\n",
        "accuracy to see the impact of feature scalingM"
      ],
      "metadata": {
        "id": "aS5Cz0e0EdSO"
      }
    },
    {
      "cell_type": "code",
      "source": [
        "from sklearn.datasets import load_breast_cancer\n",
        "from sklearn.model_selection import train_test_split\n",
        "from sklearn.linear_model import LogisticRegression\n",
        "from sklearn.preprocessing import StandardScaler\n",
        "from sklearn.metrics import accuracy_score\n",
        "\n",
        "# Load the dataset\n",
        "cancer = load_breast_cancer()\n",
        "X, y = cancer.data, cancer.target\n",
        "\n",
        "# Split the data into training and testing sets\n",
        "X_train, X_test, y_train, y_test = train_test_split(X, y, test_size=0.2, random_state=42)\n",
        "\n",
        "# 1. Train Logistic Regression on raw data\n",
        "model_raw = LogisticRegression(solver='liblinear', random_state=42)\n",
        "model_raw.fit(X_train, y_train)\n",
        "y_pred_raw = model_raw.predict(X_test)\n",
        "accuracy_raw = accuracy_score(y_test, y_pred_raw)\n",
        "print(f\"Accuracy on raw data: {accuracy_raw:.4f}\")\n",
        "\n",
        "# 2. Standardize the data\n",
        "scaler = StandardScaler()\n",
        "X_train_scaled = scaler.fit_transform(X_train)\n",
        "X_test_scaled = scaler.transform(X_test)\n",
        "\n",
        "# 3. Train Logistic Regression on standardized data\n",
        "model_scaled = LogisticRegression(solver='liblinear', random_state=42)\n",
        "model_scaled.fit(X_train_scaled, y_train)\n",
        "y_pred_scaled = model_scaled.predict(X_test_scaled)\n",
        "accuracy_scaled = accuracy_score(y_test, y_pred_scaled)\n",
        "print(f\"Accuracy on standardized data: {accuracy_scaled:.4f}\")"
      ],
      "metadata": {
        "colab": {
          "base_uri": "https://localhost:8080/"
        },
        "id": "HdqQ5bxnEqXX",
        "outputId": "0e032e1b-b16b-4109-b0b7-394adb157059"
      },
      "execution_count": 10,
      "outputs": [
        {
          "output_type": "stream",
          "name": "stdout",
          "text": [
            "Accuracy on raw data: 0.9561\n",
            "Accuracy on standardized data: 0.9737\n"
          ]
        }
      ]
    },
    {
      "cell_type": "markdown",
      "source": [
        "24. Write a Python program to train Logistic Regression and find the optimal C (regularization strength) using\n",
        "cross-validation"
      ],
      "metadata": {
        "id": "jQ0kXVWgEs18"
      }
    },
    {
      "cell_type": "code",
      "metadata": {
        "colab": {
          "base_uri": "https://localhost:8080/",
          "height": 738
        },
        "id": "11104fac",
        "outputId": "7973a85f-7f06-47bb-b630-0f3edbfc3463"
      },
      "source": [
        "from sklearn.model_selection import train_test_split, cross_val_score\n",
        "from sklearn.linear_model import LogisticRegression\n",
        "from sklearn.datasets import load_breast_cancer\n",
        "import numpy as np\n",
        "import matplotlib.pyplot as plt\n",
        "\n",
        "# Load a sample dataset (Breast Cancer dataset, often used for binary classification)\n",
        "cancer = load_breast_cancer()\n",
        "X, y = cancer.data, cancer.target\n",
        "\n",
        "# Split the data into training and testing sets (optional for finding optimal C with cross-validation on the full dataset, but good practice)\n",
        "X_train, X_test, y_train, y_test = train_test_split(X, y, test_size=0.2, random_state=42)\n",
        "\n",
        "# Define a range of C values to test\n",
        "c_values = [0.001, 0.01, 0.1, 1, 10, 100]\n",
        "\n",
        "# Store the average cross-validation scores for each C\n",
        "cv_scores = []\n",
        "\n",
        "# Iterate through the C values\n",
        "for c in c_values:\n",
        "    # Initialize Logistic Regression model with the current C value\n",
        "    model = LogisticRegression(C=c, max_iter=1000, solver='liblinear') # Using liblinear as it's fast for smaller datasets\n",
        "\n",
        "    # Perform cross-validation (e.g., 5-fold)\n",
        "    scores = cross_val_score(model, X, y, cv=5, scoring='accuracy') # Using the full dataset for finding optimal C\n",
        "\n",
        "    # Calculate the average score for this C\n",
        "    average_score = np.mean(scores)\n",
        "    cv_scores.append(average_score)\n",
        "\n",
        "# Find the C value with the best average cross-validation score\n",
        "best_c_index = np.argmax(cv_scores)\n",
        "optimal_c = c_values[best_c_index]\n",
        "best_cv_accuracy = cv_scores[best_c_index]\n",
        "\n",
        "print(f\"C values tested: {c_values}\")\n",
        "print(f\"Average cross-validation accuracies for each C: {cv_scores}\")\n",
        "print(f\"\\nOptimal C value found: {optimal_c}\")\n",
        "print(f\"Best average cross-validation accuracy: {best_cv_accuracy:.4f}\")\n",
        "\n",
        "# Optional: Plot the results\n",
        "plt.figure(figsize=(8, 6))\n",
        "plt.plot(c_values, cv_scores, marker='o')\n",
        "plt.xscale('log') # Use log scale for C values\n",
        "plt.xlabel('C (Regularization Strength Inverse)')\n",
        "plt.ylabel('Average Cross-Validation Accuracy')\n",
        "plt.title('Logistic Regression Accuracy vs. C (Cross-Validation)')\n",
        "plt.grid(True)\n",
        "plt.show()\n",
        "\n",
        "# Train the final model using the optimal C on the entire training set (or full dataset)\n",
        "final_model = LogisticRegression(C=optimal_c, max_iter=1000, solver='liblinear')\n",
        "final_model.fit(X, y) # Train on the full dataset after finding optimal C\n",
        "\n",
        "# Evaluate the final model on the test set (if you split the data initially)\n",
        "# Note: This evaluation is on the test set that was held out before finding optimal C\n",
        "# y_pred_final = final_model.predict(X_test)\n",
        "# final_test_accuracy = accuracy_score(y_test, y_pred_final)\n",
        "# print(f\"Accuracy on the test set with optimal C: {final_test_accuracy:.4f}\")"
      ],
      "execution_count": 11,
      "outputs": [
        {
          "output_type": "stream",
          "name": "stdout",
          "text": [
            "C values tested: [0.001, 0.01, 0.1, 1, 10, 100]\n",
            "Average cross-validation accuracies for each C: [np.float64(0.9244216736531594), np.float64(0.9279770222015215), np.float64(0.9455208818506444), np.float64(0.9508150908244062), np.float64(0.9508150908244062), np.float64(0.9508306163639186)]\n",
            "\n",
            "Optimal C value found: 100\n",
            "Best average cross-validation accuracy: 0.9508\n"
          ]
        },
        {
          "output_type": "display_data",
          "data": {
            "text/plain": [
              "<Figure size 800x600 with 1 Axes>"
            ],
            "image/png": "[encoded data removed]"
          },
          "metadata": {}
        },
        {
          "output_type": "execute_result",
          "data": {
            "text/plain": [
              "LogisticRegression(C=100, max_iter=1000, solver='liblinear')"
            ],
            "text/html": [
              "<style>#sk-container-id-1 {\n",
              "  /* Definition of color scheme common for light and dark mode */\n",
              "  --sklearn-color-text: #000;\n",
              "  --sklearn-color-text-muted: #666;\n",
              "  --sklearn-color-line: gray;\n",
              "  /* Definition of color scheme for unfitted estimators */\n",
              "  --sklearn-color-unfitted-level-0: #fff5e6;\n",
              "  --sklearn-color-unfitted-level-1: #f6e4d2;\n",
              "  --sklearn-color-unfitted-level-2: #ffe0b3;\n",
              "  --sklearn-color-unfitted-level-3: chocolate;\n",
              "  /* Definition of color scheme for fitted estimators */\n",
              "  --sklearn-color-fitted-level-0: #f0f8ff;\n",
              "  --sklearn-color-fitted-level-1: #d4ebff;\n",
              "  --sklearn-color-fitted-level-2: #b3dbfd;\n",
              "  --sklearn-color-fitted-level-3: cornflowerblue;\n",
              "\n",
              "  /* Specific color for light theme */\n",
              "  --sklearn-color-text-on-default-background: var(--sg-text-color, var(--theme-code-foreground, var(--jp-content-font-color1, black)));\n",
              "  --sklearn-color-background: var(--sg-background-color, var(--theme-background, var(--jp-layout-color0, white)));\n",
              "  --sklearn-color-border-box: var(--sg-text-color, var(--theme-code-foreground, var(--jp-content-font-color1, black)));\n",
              "  --sklearn-color-icon: #696969;\n",
              "\n",
              "  @media (prefers-color-scheme: dark) {\n",
              "    /* Redefinition of color scheme for dark theme */\n",
              "    --sklearn-color-text-on-default-background: var(--sg-text-color, var(--theme-code-foreground, var(--jp-content-font-color1, white)));\n",
              "    --sklearn-color-background: var(--sg-background-color, var(--theme-background, var(--jp-layout-color0, #111)));\n",
              "    --sklearn-color-border-box: var(--sg-text-color, var(--theme-code-foreground, var(--jp-content-font-color1, white)));\n",
              "    --sklearn-color-icon: #878787;\n",
              "  }\n",
              "}\n",
              "\n",
              "#sk-container-id-1 {\n",
              "  color: var(--sklearn-color-text);\n",
              "}\n",
              "\n",
              "#sk-container-id-1 pre {\n",
              "  padding: 0;\n",
              "}\n",
              "\n",
              "#sk-container-id-1 input.sk-hidden--visually {\n",
              "  border: 0;\n",
              "  clip: rect(1px 1px 1px 1px);\n",
              "  clip: rect(1px, 1px, 1px, 1px);\n",
              "  height: 1px;\n",
              "  margin: -1px;\n",
              "  overflow: hidden;\n",
              "  padding: 0;\n",
              "  position: absolute;\n",
              "  width: 1px;\n",
              "}\n",
              "\n",
              "#sk-container-id-1 div.sk-dashed-wrapped {\n",
              "  border: 1px dashed var(--sklearn-color-line);\n",
              "  margin: 0 0.4em 0.5em 0.4em;\n",
              "  box-sizing: border-box;\n",
              "  padding-bottom: 0.4em;\n",
              "  background-color: var(--sklearn-color-background);\n",
              "}\n",
              "\n",
              "#sk-container-id-1 div.sk-container {\n",
              "  /* jupyter's `normalize.less` sets `[hidden] { display: none; }`\n",
              "     but bootstrap.min.css set `[hidden] { display: none !important; }`\n",
              "     so we also need the `!important` here to be able to override the\n",
              "     default hidden behavior on the sphinx rendered scikit-learn.org.\n",
              "     See: https://github.com/scikit-learn/scikit-learn/issues/21755 */\n",
              "  display: inline-block !important;\n",
              "  position: relative;\n",
              "}\n",
              "\n",
              "#sk-container-id-1 div.sk-text-repr-fallback {\n",
              "  display: none;\n",
              "}\n",
              "\n",
              "div.sk-parallel-item,\n",
              "div.sk-serial,\n",
              "div.sk-item {\n",
              "  /* draw centered vertical line to link estimators */\n",
              "  background-image: linear-gradient(var(--sklearn-color-text-on-default-background), var(--sklearn-color-text-on-default-background));\n",
              "  background-size: 2px 100%;\n",
              "  background-repeat: no-repeat;\n",
              "  background-position: center center;\n",
              "}\n",
              "\n",
              "/* Parallel-specific style estimator block */\n",
              "\n",
              "#sk-container-id-1 div.sk-parallel-item::after {\n",
              "  content: \"\";\n",
              "  width: 100%;\n",
              "  border-bottom: 2px solid var(--sklearn-color-text-on-default-background);\n",
              "  flex-grow: 1;\n",
              "}\n",
              "\n",
              "#sk-container-id-1 div.sk-parallel {\n",
              "  display: flex;\n",
              "  align-items: stretch;\n",
              "  justify-content: center;\n",
              "  background-color: var(--sklearn-color-background);\n",
              "  position: relative;\n",
              "}\n",
              "\n",
              "#sk-container-id-1 div.sk-parallel-item {\n",
              "  display: flex;\n",
              "  flex-direction: column;\n",
              "}\n",
              "\n",
              "#sk-container-id-1 div.sk-parallel-item:first-child::after {\n",
              "  align-self: flex-end;\n",
              "  width: 50%;\n",
              "}\n",
              "\n",
              "#sk-container-id-1 div.sk-parallel-item:last-child::after {\n",
              "  align-self: flex-start;\n",
              "  width: 50%;\n",
              "}\n",
              "\n",
              "#sk-container-id-1 div.sk-parallel-item:only-child::after {\n",
              "  width: 0;\n",
              "}\n",
              "\n",
              "/* Serial-specific style estimator block */\n",
              "\n",
              "#sk-container-id-1 div.sk-serial {\n",
              "  display: flex;\n",
              "  flex-direction: column;\n",
              "  align-items: center;\n",
              "  background-color: var(--sklearn-color-background);\n",
              "  padding-right: 1em;\n",
              "  padding-left: 1em;\n",
              "}\n",
              "\n",
              "\n",
              "/* Toggleable style: style used for estimator/Pipeline/ColumnTransformer box that is\n",
              "clickable and can be expanded/collapsed.\n",
              "- Pipeline and ColumnTransformer use this feature and define the default style\n",
              "- Estimators will overwrite some part of the style using the `sk-estimator` class\n",
              "*/\n",
              "\n",
              "/* Pipeline and ColumnTransformer style (default) */\n",
              "\n",
              "#sk-container-id-1 div.sk-toggleable {\n",
              "  /* Default theme specific background. It is overwritten whether we have a\n",
              "  specific estimator or a Pipeline/ColumnTransformer */\n",
              "  background-color: var(--sklearn-color-background);\n",
              "}\n",
              "\n",
              "/* Toggleable label */\n",
              "#sk-container-id-1 label.sk-toggleable__label {\n",
              "  cursor: pointer;\n",
              "  display: flex;\n",
              "  width: 100%;\n",
              "  margin-bottom: 0;\n",
              "  padding: 0.5em;\n",
              "  box-sizing: border-box;\n",
              "  text-align: center;\n",
              "  align-items: start;\n",
              "  justify-content: space-between;\n",
              "  gap: 0.5em;\n",
              "}\n",
              "\n",
              "#sk-container-id-1 label.sk-toggleable__label .caption {\n",
              "  font-size: 0.6rem;\n",
              "  font-weight: lighter;\n",
              "  color: var(--sklearn-color-text-muted);\n",
              "}\n",
              "\n",
              "#sk-container-id-1 label.sk-toggleable__label-arrow:before {\n",
              "  /* Arrow on the left of the label */\n",
              "  content: \"▸\";\n",
              "  float: left;\n",
              "  margin-right: 0.25em;\n",
              "  color: var(--sklearn-color-icon);\n",
              "}\n",
              "\n",
              "#sk-container-id-1 label.sk-toggleable__label-arrow:hover:before {\n",
              "  color: var(--sklearn-color-text);\n",
              "}\n",
              "\n",
              "/* Toggleable content - dropdown */\n",
              "\n",
              "#sk-container-id-1 div.sk-toggleable__content {\n",
              "  max-height: 0;\n",
              "  max-width: 0;\n",
              "  overflow: hidden;\n",
              "  text-align: left;\n",
              "  /* unfitted */\n",
              "  background-color: var(--sklearn-color-unfitted-level-0);\n",
              "}\n",
              "\n",
              "#sk-container-id-1 div.sk-toggleable__content.fitted {\n",
              "  /* fitted */\n",
              "  background-color: var(--sklearn-color-fitted-level-0);\n",
              "}\n",
              "\n",
              "#sk-container-id-1 div.sk-toggleable__content pre {\n",
              "  margin: 0.2em;\n",
              "  border-radius: 0.25em;\n",
              "  color: var(--sklearn-color-text);\n",
              "  /* unfitted */\n",
              "  background-color: var(--sklearn-color-unfitted-level-0);\n",
              "}\n",
              "\n",
              "#sk-container-id-1 div.sk-toggleable__content.fitted pre {\n",
              "  /* unfitted */\n",
              "  background-color: var(--sklearn-color-fitted-level-0);\n",
              "}\n",
              "\n",
              "#sk-container-id-1 input.sk-toggleable__control:checked~div.sk-toggleable__content {\n",
              "  /* Expand drop-down */\n",
              "  max-height: 200px;\n",
              "  max-width: 100%;\n",
              "  overflow: auto;\n",
              "}\n",
              "\n",
              "#sk-container-id-1 input.sk-toggleable__control:checked~label.sk-toggleable__label-arrow:before {\n",
              "  content: \"▾\";\n",
              "}\n",
              "\n",
              "/* Pipeline/ColumnTransformer-specific style */\n",
              "\n",
              "#sk-container-id-1 div.sk-label input.sk-toggleable__control:checked~label.sk-toggleable__label {\n",
              "  color: var(--sklearn-color-text);\n",
              "  background-color: var(--sklearn-color-unfitted-level-2);\n",
              "}\n",
              "\n",
              "#sk-container-id-1 div.sk-label.fitted input.sk-toggleable__control:checked~label.sk-toggleable__label {\n",
              "  background-color: var(--sklearn-color-fitted-level-2);\n",
              "}\n",
              "\n",
              "/* Estimator-specific style */\n",
              "\n",
              "/* Colorize estimator box */\n",
              "#sk-container-id-1 div.sk-estimator input.sk-toggleable__control:checked~label.sk-toggleable__label {\n",
              "  /* unfitted */\n",
              "  background-color: var(--sklearn-color-unfitted-level-2);\n",
              "}\n",
              "\n",
              "#sk-container-id-1 div.sk-estimator.fitted input.sk-toggleable__control:checked~label.sk-toggleable__label {\n",
              "  /* fitted */\n",
              "  background-color: var(--sklearn-color-fitted-level-2);\n",
              "}\n",
              "\n",
              "#sk-container-id-1 div.sk-label label.sk-toggleable__label,\n",
              "#sk-container-id-1 div.sk-label label {\n",
              "  /* The background is the default theme color */\n",
              "  color: var(--sklearn-color-text-on-default-background);\n",
              "}\n",
              "\n",
              "/* On hover, darken the color of the background */\n",
              "#sk-container-id-1 div.sk-label:hover label.sk-toggleable__label {\n",
              "  color: var(--sklearn-color-text);\n",
              "  background-color: var(--sklearn-color-unfitted-level-2);\n",
              "}\n",
              "\n",
              "/* Label box, darken color on hover, fitted */\n",
              "#sk-container-id-1 div.sk-label.fitted:hover label.sk-toggleable__label.fitted {\n",
              "  color: var(--sklearn-color-text);\n",
              "  background-color: var(--sklearn-color-fitted-level-2);\n",
              "}\n",
              "\n",
              "/* Estimator label */\n",
              "\n",
              "#sk-container-id-1 div.sk-label label {\n",
              "  font-family: monospace;\n",
              "  font-weight: bold;\n",
              "  display: inline-block;\n",
              "  line-height: 1.2em;\n",
              "}\n",
              "\n",
              "#sk-container-id-1 div.sk-label-container {\n",
              "  text-align: center;\n",
              "}\n",
              "\n",
              "/* Estimator-specific */\n",
              "#sk-container-id-1 div.sk-estimator {\n",
              "  font-family: monospace;\n",
              "  border: 1px dotted var(--sklearn-color-border-box);\n",
              "  border-radius: 0.25em;\n",
              "  box-sizing: border-box;\n",
              "  margin-bottom: 0.5em;\n",
              "  /* unfitted */\n",
              "  background-color: var(--sklearn-color-unfitted-level-0);\n",
              "}\n",
              "\n",
              "#sk-container-id-1 div.sk-estimator.fitted {\n",
              "  /* fitted */\n",
              "  background-color: var(--sklearn-color-fitted-level-0);\n",
              "}\n",
              "\n",
              "/* on hover */\n",
              "#sk-container-id-1 div.sk-estimator:hover {\n",
              "  /* unfitted */\n",
              "  background-color: var(--sklearn-color-unfitted-level-2);\n",
              "}\n",
              "\n",
              "#sk-container-id-1 div.sk-estimator.fitted:hover {\n",
              "  /* fitted */\n",
              "  background-color: var(--sklearn-color-fitted-level-2);\n",
              "}\n",
              "\n",
              "/* Specification for estimator info (e.g. \"i\" and \"?\") */\n",
              "\n",
              "/* Common style for \"i\" and \"?\" */\n",
              "\n",
              ".sk-estimator-doc-link,\n",
              "a:link.sk-estimator-doc-link,\n",
              "a:visited.sk-estimator-doc-link {\n",
              "  float: right;\n",
              "  font-size: smaller;\n",
              "  line-height: 1em;\n",
              "  font-family: monospace;\n",
              "  background-color: var(--sklearn-color-background);\n",
              "  border-radius: 1em;\n",
              "  height: 1em;\n",
              "  width: 1em;\n",
              "  text-decoration: none !important;\n",
              "  margin-left: 0.5em;\n",
              "  text-align: center;\n",
              "  /* unfitted */\n",
              "  border: var(--sklearn-color-unfitted-level-1) 1pt solid;\n",
              "  color: var(--sklearn-color-unfitted-level-1);\n",
              "}\n",
              "\n",
              ".sk-estimator-doc-link.fitted,\n",
              "a:link.sk-estimator-doc-link.fitted,\n",
              "a:visited.sk-estimator-doc-link.fitted {\n",
              "  /* fitted */\n",
              "  border: var(--sklearn-color-fitted-level-1) 1pt solid;\n",
              "  color: var(--sklearn-color-fitted-level-1);\n",
              "}\n",
              "\n",
              "/* On hover */\n",
              "div.sk-estimator:hover .sk-estimator-doc-link:hover,\n",
              ".sk-estimator-doc-link:hover,\n",
              "div.sk-label-container:hover .sk-estimator-doc-link:hover,\n",
              ".sk-estimator-doc-link:hover {\n",
              "  /* unfitted */\n",
              "  background-color: var(--sklearn-color-unfitted-level-3);\n",
              "  color: var(--sklearn-color-background);\n",
              "  text-decoration: none;\n",
              "}\n",
              "\n",
              "div.sk-estimator.fitted:hover .sk-estimator-doc-link.fitted:hover,\n",
              ".sk-estimator-doc-link.fitted:hover,\n",
              "div.sk-label-container:hover .sk-estimator-doc-link.fitted:hover,\n",
              ".sk-estimator-doc-link.fitted:hover {\n",
              "  /* fitted */\n",
              "  background-color: var(--sklearn-color-fitted-level-3);\n",
              "  color: var(--sklearn-color-background);\n",
              "  text-decoration: none;\n",
              "}\n",
              "\n",
              "/* Span, style for the box shown on hovering the info icon */\n",
              ".sk-estimator-doc-link span {\n",
              "  display: none;\n",
              "  z-index: 9999;\n",
              "  position: relative;\n",
              "  font-weight: normal;\n",
              "  right: .2ex;\n",
              "  padding: .5ex;\n",
              "  margin: .5ex;\n",
              "  width: min-content;\n",
              "  min-width: 20ex;\n",
              "  max-width: 50ex;\n",
              "  color: var(--sklearn-color-text);\n",
              "  box-shadow: 2pt 2pt 4pt #999;\n",
              "  /* unfitted */\n",
              "  background: var(--sklearn-color-unfitted-level-0);\n",
              "  border: .5pt solid var(--sklearn-color-unfitted-level-3);\n",
              "}\n",
              "\n",
              ".sk-estimator-doc-link.fitted span {\n",
              "  /* fitted */\n",
              "  background: var(--sklearn-color-fitted-level-0);\n",
              "  border: var(--sklearn-color-fitted-level-3);\n",
              "}\n",
              "\n",
              ".sk-estimator-doc-link:hover span {\n",
              "  display: block;\n",
              "}\n",
              "\n",
              "/* \"?\"-specific style due to the `<a>` HTML tag */\n",
              "\n",
              "#sk-container-id-1 a.estimator_doc_link {\n",
              "  float: right;\n",
              "  font-size: 1rem;\n",
              "  line-height: 1em;\n",
              "  font-family: monospace;\n",
              "  background-color: var(--sklearn-color-background);\n",
              "  border-radius: 1rem;\n",
              "  height: 1rem;\n",
              "  width: 1rem;\n",
              "  text-decoration: none;\n",
              "  /* unfitted */\n",
              "  color: var(--sklearn-color-unfitted-level-1);\n",
              "  border: var(--sklearn-color-unfitted-level-1) 1pt solid;\n",
              "}\n",
              "\n",
              "#sk-container-id-1 a.estimator_doc_link.fitted {\n",
              "  /* fitted */\n",
              "  border: var(--sklearn-color-fitted-level-1) 1pt solid;\n",
              "  color: var(--sklearn-color-fitted-level-1);\n",
              "}\n",
              "\n",
              "/* On hover */\n",
              "#sk-container-id-1 a.estimator_doc_link:hover {\n",
              "  /* unfitted */\n",
              "  background-color: var(--sklearn-color-unfitted-level-3);\n",
              "  color: var(--sklearn-color-background);\n",
              "  text-decoration: none;\n",
              "}\n",
              "\n",
              "#sk-container-id-1 a.estimator_doc_link.fitted:hover {\n",
              "  /* fitted */\n",
              "  background-color: var(--sklearn-color-fitted-level-3);\n",
              "}\n",
              "</style><div id=\"sk-container-id-1\" class=\"sk-top-container\"><div class=\"sk-text-repr-fallback\"><pre>LogisticRegression(C=100, max_iter=1000, solver=&#x27;liblinear&#x27;)</pre><b>In a Jupyter environment, please rerun this cell to show the HTML representation or trust the notebook. <br />On GitHub, the HTML representation is unable to render, please try loading this page with nbviewer.org.</b></div><div class=\"sk-container\" hidden><div class=\"sk-item\"><div class=\"sk-estimator fitted sk-toggleable\"><input class=\"sk-toggleable__control sk-hidden--visually\" id=\"sk-estimator-id-1\" type=\"checkbox\" checked><label for=\"sk-estimator-id-1\" class=\"sk-toggleable__label fitted sk-toggleable__label-arrow\"><div><div>LogisticRegression</div></div><div><a class=\"sk-estimator-doc-link fitted\" rel=\"noreferrer\" target=\"_blank\" href=\"https://scikit-learn.org/1.6/modules/generated/sklearn.linear_model.LogisticRegression.html\">?<span>Documentation for LogisticRegression</span></a><span class=\"sk-estimator-doc-link fitted\">i<span>Fitted</span></span></div></label><div class=\"sk-toggleable__content fitted\"><pre>LogisticRegression(C=100, max_iter=1000, solver=&#x27;liblinear&#x27;)</pre></div> </div></div></div></div>"
            ]
          },
          "metadata": {},
          "execution_count": 11
        }
      ]
    },
    {
      "cell_type": "markdown",
      "source": [
        "25. Write a Python program to train Logistic Regression, save the trained model using joblib, and load it again to\n",
        "make predictions"
      ],
      "metadata": {
        "id": "ii4LZUvOEzUF"
      }
    },
    {
      "cell_type": "code",
      "metadata": {
        "colab": {
          "base_uri": "https://localhost:8080/"
        },
        "id": "90fddba2",
        "outputId": "cd0e078b-e14a-4bd6-c734-888780a5c308"
      },
      "source": [
        "import joblib\n",
        "from sklearn.model_selection import train_test_split\n",
        "from sklearn.linear_model import LogisticRegression\n",
        "from sklearn.metrics import accuracy_score\n",
        "from sklearn.datasets import load_iris\n",
        "\n",
        "# Load a sample dataset (Iris dataset)\n",
        "iris = load_iris()\n",
        "X = iris.data\n",
        "y = iris.target\n",
        "\n",
        "# Split the dataset into training and testing sets\n",
        "X_train, X_test, y_train, y_test = train_test_split(X, y, test_size=0.2, random_state=42)\n",
        "\n",
        "# Initialize and train the Logistic Regression model\n",
        "model = LogisticRegression(max_iter=1000)\n",
        "model.fit(X_train, y_train)\n",
        "\n",
        "# Save the trained model to a file using joblib\n",
        "model_filename = 'logistic_regression_model.joblib'\n",
        "joblib.dump(model, model_filename)\n",
        "print(f\"Trained model saved to '{model_filename}'\")\n",
        "\n",
        "# Load the trained model from the file\n",
        "loaded_model = joblib.load(model_filename)\n",
        "print(f\"Model loaded from '{model_filename}'\")\n",
        "\n",
        "# Make predictions using the loaded model\n",
        "y_pred_loaded = loaded_model.predict(X_test)\n",
        "\n",
        "# Evaluate the accuracy of the loaded model's predictions\n",
        "accuracy_loaded = accuracy_score(y_test, y_pred_loaded)\n",
        "print(f\"Accuracy of the loaded model: {accuracy_loaded}\")\n",
        "\n",
        "# Verify that predictions from the original and loaded models are the same\n",
        "y_pred_original = model.predict(X_test)\n",
        "are_predictions_same = (y_pred_original == y_pred_loaded).all()\n",
        "print(f\"Are predictions from original and loaded models the same? {are_predictions_same}\")"
      ],
      "execution_count": 12,
      "outputs": [
        {
          "output_type": "stream",
          "name": "stdout",
          "text": [
            "Trained model saved to 'logistic_regression_model.joblib'\n",
            "Model loaded from 'logistic_regression_model.joblib'\n",
            "Accuracy of the loaded model: 1.0\n",
            "Are predictions from original and loaded models the same? True\n"
          ]
        }
      ]
    }
  ]
}