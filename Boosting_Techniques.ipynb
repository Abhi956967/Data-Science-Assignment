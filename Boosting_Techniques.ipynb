{
  "nbformat": 4,
  "nbformat_minor": 0,
  "metadata": {
    "colab": {
      "provenance": []
    },
    "kernelspec": {
      "name": "python3",
      "display_name": "Python 3"
    },
    "language_info": {
      "name": "python"
    }
  },
  "cells": [
    {
      "cell_type": "markdown",
      "source": [
        "1. What is Boosting in Machine Learning\n",
        "\n",
        "  Boosting is a machine learning technique that combines multiple \"weak\" learners (models that perform only slightly better than random guessing) to create a strong, accurate model. It works by training these weak learners sequentially, with each subsequent model focusing on the errors made by its predecessors. This iterative process gradually improves the overall predictive power of the ensemble.\n",
        "\n",
        "2. How does Boosting differ from Bagging\n",
        "\n",
        "  Bagging and boosting are both ensemble learning methods that combine multiple models to improve performance, but they differ in how they create and combine those models. Bagging trains models independently on random subsets of the data and averages their predictions, reducing variance. Boosting trains models sequentially, with each model focusing on correcting the errors of its predecessors, reducing bias.\n",
        "\n",
        "3. What is the key idea behind AdaBoost\n",
        "\n",
        "  The core idea behind AdaBoost is to combine multiple weak learners (classifiers that perform slightly better than random guessing) into a strong, highly accurate classifier by focusing on the misclassified instances in each iteration. It adaptively adjusts the weights of training data and weak learners to improve the overall performance, hence the name \"Adaptive Boosting\".\n",
        "\n",
        "4. Explain the working of AdaBoost with an example\n",
        "\n",
        "  AdaBoost (Adaptive Boosting) is a machine learning algorithm that combines multiple \"weak\" learners (models that perform slightly better than random guessing) to create a \"strong\" ensemble classifier. It works by iteratively training weak learners, focusing on the misclassified data points in each round, and adjusting their weights to emphasize their influence on the final prediction.\n",
        "\n",
        "5. What is Gradient Boosting, and how is it different from AdaBoost\n",
        "\n",
        "  Gradient Boosting and AdaBoost are both ensemble learning methods that combine multiple weak learners to create a strong predictive model. However, they differ in how they build the ensemble and update the weights of training instances. AdaBoost focuses on adjusting instance weights to focus on misclassified data, while Gradient Boosting iteratively fits new models to the residuals (errors) of previous models, minimizing a loss function.\n",
        "\n",
        "6. What is the loss function in Gradient Boosting\n",
        "\n",
        "  In Gradient Boosting, the loss function quantifies the difference between the model's predictions and the actual values. It guides the algorithm by indicating how well the model is performing and helps in adjusting subsequent models to minimize errors. Common examples include mean squared error for regression and logarithmic loss for classification.\n",
        "\n",
        "7.  How does XGBoost improve over traditional Gradient Boosting\n",
        "\n",
        "  XGBoost enhances traditional Gradient Boosting with features like regularization, parallel processing, and improved handling of missing data. These improvements lead to better performance, faster training times, and more robust models, especially when dealing with complex datasets\n",
        "\n",
        "8.  What is the difference between XGBoost and CatBoost\n",
        "\n",
        "  XGBoost and CatBoost are both gradient boosting algorithms, but they differ in how they handle categorical features, their training strategies, and their performance characteristics. XGBoost is a well-established library known for its speed and scalability, while CatBoost is newer and offers built-in support for categorical features and can be more efficient in some scenarios.\n",
        "\n",
        "9. What are some real-world applications of Boosting techniques\n",
        "\n",
        "  Boosting techniques are widely used in various real-world applications due to their ability to improve model accuracy and handle complex data. These techniques, such as Gradient Boosting and AdaBoost, are employed in areas like fraud detection, medical diagnosis, and customer churn prediction.\n",
        "\n",
        "\n",
        "10. How does regularization help in XGBoost\n",
        "\n",
        "  Regularization in XGBoost helps prevent overfitting and improve the model's ability to generalize to unseen data by penalizing model complexity. It achieves this by adding a penalty term to the loss function, which discourages overly complex models and encourages simpler, more robust models\n",
        "\n",
        "11. What are some hyperparameters to tune in Gradient Boosting models\n",
        "\n",
        "  Gradient boosting models have several hyperparameters that can be tuned to optimize performance. These include the learning rate, number of trees, tree depth, subsample ratio, and regularization parameters. Additionally, parameters specific to the underlying tree structure (like those in XGBoost) can be adjusted, such as gamma (minimum loss reduction required for a split) and subsample ratios for columns and rows.\n",
        "\n",
        "12. What is the concept of Feature Importance in Boosting\n",
        "\n",
        "  Feature importance in boosting refers to techniques used to quantify the influence of each feature on a model's predictions. In boosting algorithms, this importance score indicates how much each feature contributes to the reduction of error (or improvement of the model's performance) when building successive decision trees.\n",
        "\n",
        "13. Why is CatBoost efficient for categorical data\n",
        "\n",
        "  CatBoost excels at handling categorical data efficiently due to its direct processing and novel Ordered Boosting algorithm. It avoids the need for one-hot encoding, streamlining data preparation and potentially improving model performance. Ordered Boosting converts categorical values into numerical representations by considering the target variable during category ordering, which helps minimize overfitting and enhance generalization.\n",
        "\n"
      ],
      "metadata": {
        "id": "xBiv-cu7ESE8"
      }
    },
    {
      "cell_type": "markdown",
      "source": [
        "                                                           ##### Practical"
      ],
      "metadata": {
        "id": "hHxdXgBaHJPz"
      }
    },
    {
      "cell_type": "markdown",
      "source": [
        "14. Train an AdaBoost Classifier on a sample dataset and print model accuracy"
      ],
      "metadata": {
        "id": "Rbhq09spHNMI"
      }
    },
    {
      "cell_type": "code",
      "metadata": {
        "colab": {
          "base_uri": "https://localhost:8080/"
        },
        "id": "4ce6002f",
        "outputId": "f567c138-82ea-4c30-dae4-11084bdf20be"
      },
      "source": [
        "from sklearn.ensemble import AdaBoostClassifier\n",
        "from sklearn.model_selection import train_test_split\n",
        "from sklearn.metrics import accuracy_score\n",
        "from sklearn.datasets import make_classification\n",
        "\n",
        "# Generate a sample dataset\n",
        "X, y = make_classification(n_samples=100, n_features=20, n_informative=10, n_redundant=10, random_state=42)\n",
        "\n",
        "# Split the dataset into training and testing sets\n",
        "X_train, X_test, y_train, y_test = train_test_split(X, y, test_size=0.2, random_state=42)\n",
        "\n",
        "# Create an AdaBoost Classifier\n",
        "adaboost = AdaBoostClassifier(n_estimators=50, random_state=42)\n",
        "\n",
        "# Train the AdaBoost Classifier\n",
        "adaboost.fit(X_train, y_train)\n",
        "\n",
        "# Predict on the test set\n",
        "y_pred = adaboost.predict(X_test)\n",
        "\n",
        "# Calculate and print the accuracy\n",
        "accuracy = accuracy_score(y_test, y_pred)\n",
        "print(f\"AdaBoost Classifier Accuracy: {accuracy}\")"
      ],
      "execution_count": 1,
      "outputs": [
        {
          "output_type": "stream",
          "name": "stdout",
          "text": [
            "AdaBoost Classifier Accuracy: 0.8\n"
          ]
        }
      ]
    },
    {
      "cell_type": "markdown",
      "source": [
        "15. Train an AdaBoost Classifier on a sample dataset and print model accuracy"
      ],
      "metadata": {
        "id": "2FXD_knMHY17"
      }
    },
    {
      "cell_type": "code",
      "source": [
        "from sklearn.datasets import load_iris\n",
        "from sklearn.ensemble import AdaBoostClassifier\n",
        "from sklearn.model_selection import train_test_split\n",
        "from sklearn.metrics import accuracy_score\n",
        "\n",
        "# Load dataset\n",
        "iris = load_iris()\n",
        "X, y = iris.data, iris.target\n",
        "\n",
        "# Split into train and test sets\n",
        "X_train, X_test, y_train, y_test = train_test_split(X, y, test_size=0.3, random_state=42)\n",
        "\n",
        "# Initialize and train AdaBoost classifier\n",
        "ada_clf = AdaBoostClassifier(n_estimators=50, random_state=42)\n",
        "ada_clf.fit(X_train, y_train)\n",
        "\n",
        "# Make predictions\n",
        "y_pred = ada_clf.predict(X_test)\n",
        "\n",
        "# Calculate accuracy\n",
        "accuracy = accuracy_score(y_test, y_pred)\n",
        "print(f\"AdaBoost Classifier Accuracy: {accuracy:.4f}\")\n"
      ],
      "metadata": {
        "colab": {
          "base_uri": "https://localhost:8080/"
        },
        "id": "VClHZHxWHwcK",
        "outputId": "0de030f0-d970-4ac4-b068-7a76e71fdd07"
      },
      "execution_count": 2,
      "outputs": [
        {
          "output_type": "stream",
          "name": "stdout",
          "text": [
            "AdaBoost Classifier Accuracy: 1.0000\n"
          ]
        }
      ]
    },
    {
      "cell_type": "markdown",
      "source": [
        "16.  Train an AdaBoost Regressor and evaluate performance using Mean Absolute Error (MAE)"
      ],
      "metadata": {
        "id": "3d212_etH7X3"
      }
    },
    {
      "cell_type": "code",
      "metadata": {
        "colab": {
          "base_uri": "https://localhost:8080/"
        },
        "id": "39408296",
        "outputId": "61c350c0-0a43-4b74-863d-efb275096a69"
      },
      "source": [
        "from sklearn.ensemble import AdaBoostRegressor\n",
        "from sklearn.model_selection import train_test_split\n",
        "from sklearn.metrics import mean_absolute_error\n",
        "from sklearn.datasets import make_regression\n",
        "\n",
        "# Generate a sample dataset for regression\n",
        "X, y = make_regression(n_samples=100, n_features=20, n_informative=10, random_state=42)\n",
        "\n",
        "# Split the dataset into training and testing sets\n",
        "X_train, X_test, y_train, y_test = train_test_split(X, y, test_size=0.2, random_state=42)\n",
        "\n",
        "# Create an AdaBoost Regressor\n",
        "adaboost_regressor = AdaBoostRegressor(n_estimators=50, random_state=42)\n",
        "\n",
        "# Train the AdaBoost Regressor\n",
        "adaboost_regressor.fit(X_train, y_train)\n",
        "\n",
        "# Predict on the test set\n",
        "y_pred = adaboost_regressor.predict(X_test)\n",
        "\n",
        "# Calculate and print the Mean Absolute Error\n",
        "mae = mean_absolute_error(y_test, y_pred)\n",
        "print(f\"AdaBoost Regressor Mean Absolute Error (MAE): {mae}\")"
      ],
      "execution_count": 4,
      "outputs": [
        {
          "output_type": "stream",
          "name": "stdout",
          "text": [
            "AdaBoost Regressor Mean Absolute Error (MAE): 96.15226096069105\n"
          ]
        }
      ]
    },
    {
      "cell_type": "markdown",
      "source": [
        "17. Train a Gradient Boosting Regressor and evaluate using R-Squared Score"
      ],
      "metadata": {
        "id": "TrrkqJ15Iv1q"
      }
    },
    {
      "cell_type": "code",
      "metadata": {
        "colab": {
          "base_uri": "https://localhost:8080/"
        },
        "id": "da0b62c7",
        "outputId": "df378472-f595-4ba6-ab03-736867ab82e7"
      },
      "source": [
        "from sklearn.ensemble import GradientBoostingRegressor\n",
        "from sklearn.model_selection import train_test_split\n",
        "from sklearn.metrics import r2_score\n",
        "from sklearn.datasets import make_regression\n",
        "\n",
        "# Generate a sample dataset for regression\n",
        "X, y = make_regression(n_samples=100, n_features=20, n_informative=10, random_state=42)\n",
        "\n",
        "# Split the dataset into training and testing sets\n",
        "X_train, X_test, y_train, y_test = train_test_split(X, y, test_size=0.2, random_state=42)\n",
        "\n",
        "# Create a Gradient Boosting Regressor\n",
        "gradient_boosting_regressor = GradientBoostingRegressor(n_estimators=100, random_state=42)\n",
        "\n",
        "# Train the Gradient Boosting Regressor\n",
        "gradient_boosting_regressor.fit(X_train, y_train)\n",
        "\n",
        "# Predict on the test set\n",
        "y_pred = gradient_boosting_regressor.predict(X_test)\n",
        "\n",
        "# Calculate and print the R-squared score\n",
        "r2 = r2_score(y_test, y_pred)\n",
        "print(f\"Gradient Boosting Regressor R-squared Score: {r2}\")"
      ],
      "execution_count": 5,
      "outputs": [
        {
          "output_type": "stream",
          "name": "stdout",
          "text": [
            "Gradient Boosting Regressor R-squared Score: 0.6719351962455591\n"
          ]
        }
      ]
    },
    {
      "cell_type": "markdown",
      "source": [
        "18. Train an XGBoost Classifier on a dataset and compare accuracy with Gradient Boosting"
      ],
      "metadata": {
        "id": "0ox3IbzuI6Ag"
      }
    },
    {
      "cell_type": "code",
      "metadata": {
        "colab": {
          "base_uri": "https://localhost:8080/"
        },
        "id": "5bc99877",
        "outputId": "2da5137f-b98b-4556-a291-49701942edee"
      },
      "source": [
        "import xgboost as xgb\n",
        "from sklearn.ensemble import GradientBoostingClassifier\n",
        "from sklearn.model_selection import train_test_split\n",
        "from sklearn.metrics import accuracy_score\n",
        "from sklearn.datasets import make_classification\n",
        "\n",
        "# Generate a sample dataset\n",
        "X, y = make_classification(n_samples=200, n_features=20, n_informative=10, n_redundant=10, random_state=42)\n",
        "\n",
        "# Split the dataset into training and testing sets\n",
        "X_train, X_test, y_train, y_test = train_test_split(X, y, test_size=0.2, random_state=42)\n",
        "\n",
        "# Create and train an XGBoost Classifier\n",
        "xgb_classifier = xgb.XGBClassifier(n_estimators=100, random_state=42)\n",
        "xgb_classifier.fit(X_train, y_train)\n",
        "\n",
        "# Predict and calculate accuracy for XGBoost\n",
        "y_pred_xgb = xgb_classifier.predict(X_test)\n",
        "accuracy_xgb = accuracy_score(y_test, y_pred_xgb)\n",
        "print(f\"XGBoost Classifier Accuracy: {accuracy_xgb}\")\n",
        "\n",
        "# Create and train a Gradient Boosting Classifier\n",
        "gb_classifier = GradientBoostingClassifier(n_estimators=100, random_state=42)\n",
        "gb_classifier.fit(X_train, y_train)\n",
        "\n",
        "# Predict and calculate accuracy for Gradient Boosting\n",
        "y_pred_gb = gb_classifier.predict(X_test)\n",
        "accuracy_gb = accuracy_score(y_test, y_pred_gb)\n",
        "print(f\"Gradient Boosting Classifier Accuracy: {accuracy_gb}\")\n",
        "\n",
        "# Compare accuracies\n",
        "if accuracy_xgb > accuracy_gb:\n",
        "    print(\"XGBoost Classifier has higher accuracy.\")\n",
        "elif accuracy_gb > accuracy_xgb:\n",
        "    print(\"Gradient Boosting Classifier has higher accuracy.\")\n",
        "else:\n",
        "    print(\"Both classifiers have the same accuracy.\")"
      ],
      "execution_count": 6,
      "outputs": [
        {
          "output_type": "stream",
          "name": "stdout",
          "text": [
            "XGBoost Classifier Accuracy: 0.8\n",
            "Gradient Boosting Classifier Accuracy: 0.825\n",
            "Gradient Boosting Classifier has higher accuracy.\n"
          ]
        }
      ]
    },
    {
      "cell_type": "markdown",
      "source": [
        "19. Train a CatBoost Classifier and evaluate using F1-Score4"
      ],
      "metadata": {
        "id": "OWzQ6PoDI-5i"
      }
    },
    {
      "cell_type": "code",
      "metadata": {
        "colab": {
          "base_uri": "https://localhost:8080/"
        },
        "id": "298d4692",
        "outputId": "be31ab40-eb0d-4695-fcee-02eef4c20517"
      },
      "source": [
        "from catboost import CatBoostClassifier\n",
        "from sklearn.model_selection import train_test_split\n",
        "from sklearn.metrics import f1_score\n",
        "from sklearn.datasets import make_classification\n",
        "\n",
        "# Generate a sample dataset\n",
        "X, y = make_classification(n_samples=200, n_features=20, n_informative=10, n_redundant=10, random_state=42)\n",
        "\n",
        "# Split the dataset into training and testing sets\n",
        "X_train, X_test, y_train, y_test = train_test_split(X, y, test_size=0.2, random_state=42)\n",
        "\n",
        "# Create a CatBoost Classifier\n",
        "catboost_classifier = CatBoostClassifier(iterations=100, random_state=42, verbose=0)\n",
        "\n",
        "# Train the CatBoost Classifier\n",
        "catboost_classifier.fit(X_train, y_train)\n",
        "\n",
        "# Predict on the test set\n",
        "y_pred = catboost_classifier.predict(X_test)\n",
        "\n",
        "# Calculate and print the F1-Score\n",
        "f1 = f1_score(y_test, y_pred)\n",
        "print(f\"CatBoost Classifier F1-Score: {f1}\")"
      ],
      "execution_count": 9,
      "outputs": [
        {
          "output_type": "stream",
          "name": "stdout",
          "text": [
            "CatBoost Classifier F1-Score: 0.8421052631578947\n"
          ]
        }
      ]
    },
    {
      "cell_type": "code",
      "metadata": {
        "colab": {
          "base_uri": "https://localhost:8080/"
        },
        "id": "0f8f773b",
        "outputId": "e7d0c09b-bbd0-4a19-d0ec-69788fbc3d92"
      },
      "source": [
        "%pip install catboost"
      ],
      "execution_count": 8,
      "outputs": [
        {
          "output_type": "stream",
          "name": "stdout",
          "text": [
            "Collecting catboost\n",
            "  Downloading catboost-1.2.8-cp311-cp311-manylinux2014_x86_64.whl.metadata (1.2 kB)\n",
            "Requirement already satisfied: graphviz in /usr/local/lib/python3.11/dist-packages (from catboost) (0.21)\n",
            "Requirement already satisfied: matplotlib in /usr/local/lib/python3.11/dist-packages (from catboost) (3.10.0)\n",
            "Requirement already satisfied: numpy<3.0,>=1.16.0 in /usr/local/lib/python3.11/dist-packages (from catboost) (2.0.2)\n",
            "Requirement already satisfied: pandas>=0.24 in /usr/local/lib/python3.11/dist-packages (from catboost) (2.2.2)\n",
            "Requirement already satisfied: scipy in /usr/local/lib/python3.11/dist-packages (from catboost) (1.15.3)\n",
            "Requirement already satisfied: plotly in /usr/local/lib/python3.11/dist-packages (from catboost) (5.24.1)\n",
            "Requirement already satisfied: six in /usr/local/lib/python3.11/dist-packages (from catboost) (1.17.0)\n",
            "Requirement already satisfied: python-dateutil>=2.8.2 in /usr/local/lib/python3.11/dist-packages (from pandas>=0.24->catboost) (2.9.0.post0)\n",
            "Requirement already satisfied: pytz>=2020.1 in /usr/local/lib/python3.11/dist-packages (from pandas>=0.24->catboost) (2025.2)\n",
            "Requirement already satisfied: tzdata>=2022.7 in /usr/local/lib/python3.11/dist-packages (from pandas>=0.24->catboost) (2025.2)\n",
            "Requirement already satisfied: contourpy>=1.0.1 in /usr/local/lib/python3.11/dist-packages (from matplotlib->catboost) (1.3.2)\n",
            "Requirement already satisfied: cycler>=0.10 in /usr/local/lib/python3.11/dist-packages (from matplotlib->catboost) (0.12.1)\n",
            "Requirement already satisfied: fonttools>=4.22.0 in /usr/local/lib/python3.11/dist-packages (from matplotlib->catboost) (4.58.4)\n",
            "Requirement already satisfied: kiwisolver>=1.3.1 in /usr/local/lib/python3.11/dist-packages (from matplotlib->catboost) (1.4.8)\n",
            "Requirement already satisfied: packaging>=20.0 in /usr/local/lib/python3.11/dist-packages (from matplotlib->catboost) (24.2)\n",
            "Requirement already satisfied: pillow>=8 in /usr/local/lib/python3.11/dist-packages (from matplotlib->catboost) (11.2.1)\n",
            "Requirement already satisfied: pyparsing>=2.3.1 in /usr/local/lib/python3.11/dist-packages (from matplotlib->catboost) (3.2.3)\n",
            "Requirement already satisfied: tenacity>=6.2.0 in /usr/local/lib/python3.11/dist-packages (from plotly->catboost) (8.5.0)\n",
            "Downloading catboost-1.2.8-cp311-cp311-manylinux2014_x86_64.whl (99.2 MB)\n",
            "\u001b[2K   \u001b[90m━━━━━━━━━━━━━━━━━━━━━━━━━━━━━━━━━━━━━━━━\u001b[0m \u001b[32m99.2/99.2 MB\u001b[0m \u001b[31m9.1 MB/s\u001b[0m eta \u001b[36m0:00:00\u001b[0m\n",
            "\u001b[?25hInstalling collected packages: catboost\n",
            "Successfully installed catboost-1.2.8\n"
          ]
        }
      ]
    },
    {
      "cell_type": "markdown",
      "source": [
        "20. Train an XGBoost Regressor and evaluate using Mean Squared Error (MSE)"
      ],
      "metadata": {
        "id": "0IgkjdFpJJRE"
      }
    },
    {
      "cell_type": "code",
      "metadata": {
        "colab": {
          "base_uri": "https://localhost:8080/"
        },
        "id": "8b130c84",
        "outputId": "d25a81be-5b52-4ae8-a5be-8005dabb4a32"
      },
      "source": [
        "import xgboost as xgb\n",
        "from sklearn.model_selection import train_test_split\n",
        "from sklearn.metrics import mean_squared_error\n",
        "from sklearn.datasets import make_regression\n",
        "\n",
        "# Generate a sample dataset for regression\n",
        "X, y = make_regression(n_samples=100, n_features=20, n_informative=10, random_state=42)\n",
        "\n",
        "# Split the dataset into training and testing sets\n",
        "X_train, X_test, y_train, y_test = train_test_split(X, y, test_size=0.2, random_state=42)\n",
        "\n",
        "# Create an XGBoost Regressor\n",
        "xgboost_regressor = xgb.XGBRegressor(objective='reg:squarederror', n_estimators=100, random_state=42)\n",
        "\n",
        "# Train the XGBoost Regressor\n",
        "xgboost_regressor.fit(X_train, y_train)\n",
        "\n",
        "# Predict on the test set\n",
        "y_pred = xgboost_regressor.predict(X_test)\n",
        "\n",
        "# Calculate and print the Mean Squared Error\n",
        "mse = mean_squared_error(y_test, y_pred)\n",
        "print(f\"XGBoost Regressor Mean Squared Error (MSE): {mse}\")"
      ],
      "execution_count": 10,
      "outputs": [
        {
          "output_type": "stream",
          "name": "stdout",
          "text": [
            "XGBoost Regressor Mean Squared Error (MSE): 10719.740238749715\n"
          ]
        }
      ]
    },
    {
      "cell_type": "markdown",
      "source": [
        "21. Train an AdaBoost Classifier and visualize feature importance4"
      ],
      "metadata": {
        "id": "GlzQ4266J4sf"
      }
    },
    {
      "cell_type": "code",
      "metadata": {
        "colab": {
          "base_uri": "https://localhost:8080/",
          "height": 607
        },
        "id": "166b9b1f",
        "outputId": "84738272-3f7f-4be8-b1de-34665be9e940"
      },
      "source": [
        "import matplotlib.pyplot as plt\n",
        "import numpy as np\n",
        "from sklearn.ensemble import AdaBoostClassifier\n",
        "from sklearn.model_selection import train_test_split\n",
        "from sklearn.datasets import make_classification\n",
        "\n",
        "# Generate a sample dataset\n",
        "X, y = make_classification(n_samples=100, n_features=20, n_informative=10, n_redundant=10, random_state=42)\n",
        "feature_names = [f\"feature_{i}\" for i in range(X.shape[1])]\n",
        "\n",
        "\n",
        "# Split the dataset into training and testing sets\n",
        "X_train, X_test, y_train, y_test = train_test_split(X, y, test_size=0.2, random_state=42)\n",
        "\n",
        "# Create an AdaBoost Classifier\n",
        "adaboost = AdaBoostClassifier(n_estimators=50, random_state=42)\n",
        "\n",
        "# Train the AdaBoost Classifier\n",
        "adaboost.fit(X_train, y_train)\n",
        "\n",
        "# Get feature importances\n",
        "importances = adaboost.feature_importances_\n",
        "\n",
        "# Sort feature importances in descending order and get the indices\n",
        "indices = np.argsort(importances)[::-1]\n",
        "\n",
        "# Rearrange feature names according to the sorted feature importances\n",
        "sorted_feature_names = [feature_names[i] for i in indices]\n",
        "\n",
        "# Plot feature importances\n",
        "plt.figure(figsize=(10, 6))\n",
        "plt.title(\"Feature Importance from AdaBoost Classifier\")\n",
        "plt.bar(range(X.shape[1]), importances[indices])\n",
        "plt.xticks(range(X.shape[1]), sorted_feature_names, rotation=90)\n",
        "plt.tight_layout()\n",
        "plt.show()"
      ],
      "execution_count": 11,
      "outputs": [
        {
          "output_type": "display_data",
          "data": {
            "text/plain": [
              "<Figure size 1000x600 with 1 Axes>"
            ],
            "image/png": "[encoded data removed]"
          },
          "metadata": {}
        }
      ]
    },
    {
      "cell_type": "markdown",
      "source": [
        "22. Train a Gradient Boosting Regressor and plot learning curves4"
      ],
      "metadata": {
        "id": "NSgoZgfWJ-cc"
      }
    },
    {
      "cell_type": "markdown",
      "metadata": {
        "id": "321f1388"
      },
      "source": [
        "# Task\n",
        "Train a Gradient Boosting Regressor and plot learning curves"
      ]
    },
    {
      "cell_type": "markdown",
      "metadata": {
        "id": "3957515a"
      },
      "source": [
        "## Train a gradient boosting regressor incrementally.\n",
        "\n",
        "### Subtask:\n",
        "Train a Gradient Boosting Regressor model on the dataset, adding trees one by one.\n"
      ]
    },
    {
      "cell_type": "markdown",
      "metadata": {
        "id": "155524f6"
      },
      "source": [
        "**Reasoning**:\n",
        "The subtask requires training a Gradient Boosting Regressor incrementally and storing the training and testing errors. The provided instructions outline the steps to achieve this, including data generation, splitting, model initialization with `warm_start=True`, and a loop for incremental training and error calculation. I will write the code to perform these steps.\n",
        "\n"
      ]
    },
    {
      "cell_type": "code",
      "metadata": {
        "id": "b62b5eba"
      },
      "source": [
        "from sklearn.ensemble import GradientBoostingRegressor\n",
        "from sklearn.model_selection import train_test_split\n",
        "from sklearn.metrics import mean_squared_error\n",
        "from sklearn.datasets import make_regression\n",
        "\n",
        "# Generate a sample dataset for regression\n",
        "X, y = make_regression(n_samples=200, n_features=20, n_informative=10, random_state=42)\n",
        "\n",
        "# Split the dataset into training and testing sets\n",
        "X_train, X_test, y_train, y_test = train_test_split(X, y, test_size=0.2, random_state=42)\n",
        "\n",
        "# Create a Gradient Boosting Regressor with warm_start=True\n",
        "gbrt = GradientBoostingRegressor(n_estimators=1, max_depth=2, random_state=42, warm_start=True)\n",
        "\n",
        "# Initialize lists to store errors\n",
        "train_errors = []\n",
        "test_errors = []\n",
        "\n",
        "# Loop through the number of trees for incremental training\n",
        "for n_trees in range(1, 101):\n",
        "    gbrt.n_estimators = n_trees\n",
        "    gbrt.fit(X_train, y_train)\n",
        "    y_train_pred = gbrt.predict(X_train)\n",
        "    y_test_pred = gbrt.predict(X_test)\n",
        "    train_mse = mean_squared_error(y_train, y_train_pred)\n",
        "    test_mse = mean_squared_error(y_test, y_test_pred)\n",
        "    train_errors.append(train_mse)\n",
        "    test_errors.append(test_mse)\n"
      ],
      "execution_count": 12,
      "outputs": []
    },
    {
      "cell_type": "markdown",
      "metadata": {
        "id": "8df48e3b"
      },
      "source": [
        "## Evaluate the regressor at each training stage.\n",
        "\n",
        "### Subtask:\n",
        "Calculate the performance of the regressor (e.g., Mean Squared Error) on a validation set after adding each tree.\n"
      ]
    },
    {
      "cell_type": "markdown",
      "metadata": {
        "id": "2dea5ab1"
      },
      "source": [
        "## Plot the learning curves.\n",
        "\n",
        "### Subtask:\n",
        "Generate a plot showing the performance metric (e.g., MSE) on the training and validation sets as a function of the number of trees.\n"
      ]
    },
    {
      "cell_type": "markdown",
      "metadata": {
        "id": "307bfabe"
      },
      "source": [
        "**Reasoning**:\n",
        "Generate a plot showing the performance metric (e.g., MSE) on the training and validation sets as a function of the number of trees.\n",
        "\n"
      ]
    },
    {
      "cell_type": "code",
      "metadata": {
        "colab": {
          "base_uri": "https://localhost:8080/",
          "height": 564
        },
        "id": "98ecb40c",
        "outputId": "a8829517-4dab-4eec-f649-4d46b1b52949"
      },
      "source": [
        "import matplotlib.pyplot as plt\n",
        "\n",
        "# Create a figure and an axes object for the plot\n",
        "fig, ax = plt.subplots(figsize=(10, 6))\n",
        "\n",
        "# Plot the train and test errors\n",
        "ax.plot(range(1, len(train_errors) + 1), train_errors, label='Training Error')\n",
        "ax.plot(range(1, len(test_errors) + 1), test_errors, label='Test Error')\n",
        "\n",
        "# Set the title and labels\n",
        "ax.set_title('Learning Curves (MSE vs. Number of Trees)')\n",
        "ax.set_xlabel('Number of Trees')\n",
        "ax.set_ylabel('Mean Squared Error (MSE)')\n",
        "\n",
        "# Add legend and grid\n",
        "ax.legend()\n",
        "ax.grid(True)\n",
        "\n",
        "# Display the plot\n",
        "plt.show()"
      ],
      "execution_count": 13,
      "outputs": [
        {
          "output_type": "display_data",
          "data": {
            "text/plain": [
              "<Figure size 1000x600 with 1 Axes>"
            ],
            "image/png": "[encoded data removed]"
          },
          "metadata": {}
        }
      ]
    },
    {
      "cell_type": "markdown",
      "metadata": {
        "id": "6e5cd991"
      },
      "source": [
        "## Summary:\n",
        "\n",
        "### Data Analysis Key Findings\n",
        "\n",
        "*   A Gradient Boosting Regressor model was trained incrementally, adding trees one by one, up to 100 trees.\n",
        "*   The Mean Squared Error (MSE) was calculated for both the training and testing sets after the addition of each tree.\n",
        "*   The training MSE generally decreased as the number of trees increased.\n",
        "*   The test MSE initially decreased as the number of trees increased, but then started to plateau or slightly increase, suggesting a potential point of diminishing returns or overfitting.\n",
        "\n",
        "### Insights or Next Steps\n",
        "\n",
        "*   The learning curves indicate that the model's performance on unseen data (test set) starts to stabilize around a certain number of trees. Further investigation could focus on identifying the optimal number of trees to prevent overfitting and improve generalization.\n",
        "*   Analyzing the point where the test error begins to plateau could help in selecting a more efficient model with fewer trees while maintaining similar performance on new data.\n"
      ]
    },
    {
      "cell_type": "markdown",
      "source": [
        "23. Train an XGBoost Classifier and visualize feature importance4\n"
      ],
      "metadata": {
        "id": "RHtqI2rNKSX-"
      }
    },
    {
      "cell_type": "code",
      "metadata": {
        "colab": {
          "base_uri": "https://localhost:8080/",
          "height": 607
        },
        "id": "2536f3ab",
        "outputId": "ee0e8276-2601-4086-ffc4-d11394a5a1a9"
      },
      "source": [
        "import matplotlib.pyplot as plt\n",
        "import numpy as np\n",
        "import xgboost as xgb\n",
        "from sklearn.model_selection import train_test_split\n",
        "from sklearn.datasets import make_classification\n",
        "\n",
        "# Generate a sample dataset\n",
        "X, y = make_classification(n_samples=100, n_features=20, n_informative=10, n_redundant=10, random_state=42)\n",
        "feature_names = [f\"feature_{i}\" for i in range(X.shape[1])]\n",
        "\n",
        "# Split the dataset into training and testing sets\n",
        "X_train, X_test, y_train, y_test = train_test_split(X, y, test_size=0.2, random_state=42)\n",
        "\n",
        "# Create an XGBoost Classifier\n",
        "xgboost_classifier = xgb.XGBClassifier(n_estimators=100, random_state=42)\n",
        "\n",
        "# Train the XGBoost Classifier\n",
        "xgboost_classifier.fit(X_train, y_train)\n",
        "\n",
        "# Get feature importances\n",
        "importances = xgboost_classifier.feature_importances_\n",
        "\n",
        "# Sort feature importances in descending order and get the indices\n",
        "indices = np.argsort(importances)[::-1]\n",
        "\n",
        "# Rearrange feature names according to the sorted feature importances\n",
        "sorted_feature_names = [feature_names[i] for i in indices]\n",
        "\n",
        "# Plot feature importances\n",
        "plt.figure(figsize=(10, 6))\n",
        "plt.title(\"Feature Importance from XGBoost Classifier\")\n",
        "plt.bar(range(X.shape[1]), importances[indices])\n",
        "plt.xticks(range(X.shape[1]), sorted_feature_names, rotation=90)\n",
        "plt.tight_layout()\n",
        "plt.show()"
      ],
      "execution_count": 14,
      "outputs": [
        {
          "output_type": "display_data",
          "data": {
            "text/plain": [
              "<Figure size 1000x600 with 1 Axes>"
            ],
            "image/png": "[encoded data removed]"
          },
          "metadata": {}
        }
      ]
    },
    {
      "cell_type": "markdown",
      "source": [
        "24. Train a CatBoost Classifier and plot the confusion matrix4"
      ],
      "metadata": {
        "id": "eO404-khKYlW"
      }
    },
    {
      "cell_type": "code",
      "metadata": {
        "colab": {
          "base_uri": "https://localhost:8080/",
          "height": 472
        },
        "id": "14363af3",
        "outputId": "ca90ea56-0688-4b3f-baa4-2abe8bc5d2d5"
      },
      "source": [
        "import matplotlib.pyplot as plt\n",
        "from catboost import CatBoostClassifier\n",
        "from sklearn.model_selection import train_test_split\n",
        "from sklearn.metrics import confusion_matrix, ConfusionMatrixDisplay\n",
        "from sklearn.datasets import make_classification\n",
        "\n",
        "# Generate a sample dataset\n",
        "X, y = make_classification(n_samples=200, n_features=20, n_informative=10, n_redundant=10, random_state=42)\n",
        "\n",
        "# Split the dataset into training and testing sets\n",
        "X_train, X_test, y_train, y_test = train_test_split(X, y, test_size=0.2, random_state=42)\n",
        "\n",
        "# Create a CatBoost Classifier\n",
        "catboost_classifier = CatBoostClassifier(iterations=100, random_state=42, verbose=0)\n",
        "\n",
        "# Train the CatBoost Classifier\n",
        "catboost_classifier.fit(X_train, y_train)\n",
        "\n",
        "# Predict on the test set\n",
        "y_pred = catboost_classifier.predict(X_test)\n",
        "\n",
        "# Generate the confusion matrix\n",
        "cm = confusion_matrix(y_test, y_pred)\n",
        "\n",
        "# Plot the confusion matrix\n",
        "disp = ConfusionMatrixDisplay(confusion_matrix=cm)\n",
        "disp.plot()\n",
        "plt.title('Confusion Matrix for CatBoost Classifier')\n",
        "plt.show()"
      ],
      "execution_count": 15,
      "outputs": [
        {
          "output_type": "display_data",
          "data": {
            "text/plain": [
              "<Figure size 640x480 with 2 Axes>"
            ],
            "image/png": "[encoded data removed]"
          },
          "metadata": {}
        }
      ]
    },
    {
      "cell_type": "markdown",
      "source": [
        "25. Train an AdaBoost Classifier with different numbers of estimators and compare accuracy."
      ],
      "metadata": {
        "id": "pc4sH9qyKein"
      }
    },
    {
      "cell_type": "code",
      "metadata": {
        "colab": {
          "base_uri": "https://localhost:8080/"
        },
        "id": "4cab3e3f",
        "outputId": "7b1f8270-7eac-41cb-b51f-b2472f54c4f4"
      },
      "source": [
        "from sklearn.ensemble import AdaBoostClassifier\n",
        "from sklearn.model_selection import train_test_split\n",
        "from sklearn.metrics import accuracy_score\n",
        "from sklearn.datasets import make_classification\n",
        "\n",
        "# Generate a sample dataset\n",
        "X, y = make_classification(n_samples=100, n_features=20, n_informative=10, n_redundant=10, random_state=42)\n",
        "\n",
        "# Split the dataset into training and testing sets\n",
        "X_train, X_test, y_train, y_test = train_test_split(X, y, test_size=0.2, random_state=42)\n",
        "\n",
        "# Define a list of different numbers of estimators to try\n",
        "n_estimators_list = [10, 50, 100, 200]\n",
        "\n",
        "# Train AdaBoost with different numbers of estimators and store accuracies\n",
        "accuracies = {}\n",
        "for n_estimators in n_estimators_list:\n",
        "    adaboost = AdaBoostClassifier(n_estimators=n_estimators, random_state=42)\n",
        "    adaboost.fit(X_train, y_train)\n",
        "    y_pred = adaboost.predict(X_test)\n",
        "    accuracy = accuracy_score(y_test, y_pred)\n",
        "    accuracies[n_estimators] = accuracy\n",
        "\n",
        "# Print the accuracies for each number of estimators\n",
        "print(\"Accuracy of AdaBoost Classifier with different numbers of estimators:\")\n",
        "for n_estimators, accuracy in accuracies.items():\n",
        "    print(f\"n_estimators: {n_estimators}, Accuracy: {accuracy}\")\n",
        "\n",
        "# Optional: Find the number of estimators with the highest accuracy\n",
        "best_n_estimators = max(accuracies, key=accuracies.get)\n",
        "print(f\"\\nBest number of estimators: {best_n_estimators} with accuracy: {accuracies[best_n_estimators]}\")"
      ],
      "execution_count": 16,
      "outputs": [
        {
          "output_type": "stream",
          "name": "stdout",
          "text": [
            "Accuracy of AdaBoost Classifier with different numbers of estimators:\n",
            "n_estimators: 10, Accuracy: 0.75\n",
            "n_estimators: 50, Accuracy: 0.8\n",
            "n_estimators: 100, Accuracy: 0.75\n",
            "n_estimators: 200, Accuracy: 0.75\n",
            "\n",
            "Best number of estimators: 50 with accuracy: 0.8\n"
          ]
        }
      ]
    },
    {
      "cell_type": "markdown",
      "source": [
        "26.  Train a Gradient Boosting Classifier and visualize the ROC curve"
      ],
      "metadata": {
        "id": "0gaHqdzEK9dg"
      }
    },
    {
      "cell_type": "markdown",
      "source": [],
      "metadata": {
        "id": "tgMiHZlRLBaZ"
      }
    },
    {
      "cell_type": "code",
      "metadata": {
        "colab": {
          "base_uri": "https://localhost:8080/",
          "height": 564
        },
        "id": "9c8d0055",
        "outputId": "7c6d235c-be56-4412-db1c-d3c1d82a07c3"
      },
      "source": [
        "import matplotlib.pyplot as plt\n",
        "from sklearn.ensemble import GradientBoostingClassifier\n",
        "from sklearn.model_selection import train_test_split\n",
        "from sklearn.metrics import roc_curve, auc\n",
        "from sklearn.datasets import make_classification\n",
        "\n",
        "# Generate a sample dataset\n",
        "X, y = make_classification(n_samples=200, n_features=20, n_informative=10, n_redundant=10, random_state=42)\n",
        "\n",
        "# Split the dataset into training and testing sets\n",
        "X_train, X_test, y_train, y_test = train_test_split(X, y, test_size=0.2, random_state=42)\n",
        "\n",
        "# Create a Gradient Boosting Classifier\n",
        "gb_classifier = GradientBoostingClassifier(n_estimators=100, random_state=42)\n",
        "\n",
        "# Train the Gradient Boosting Classifier\n",
        "gb_classifier.fit(X_train, y_train)\n",
        "\n",
        "# Get predicted probabilities for the positive class\n",
        "y_prob = gb_classifier.predict_proba(X_test)[:, 1]\n",
        "\n",
        "# Calculate the ROC curve and AUC\n",
        "fpr, tpr, thresholds = roc_curve(y_test, y_prob)\n",
        "roc_auc = auc(fpr, tpr)\n",
        "\n",
        "# Plot the ROC curve\n",
        "plt.figure(figsize=(8, 6))\n",
        "plt.plot(fpr, tpr, color='darkorange', lw=2, label=f'ROC curve (AUC = {roc_auc:.2f})')\n",
        "plt.plot([0, 1], [0, 1], color='navy', lw=2, linestyle='--')\n",
        "plt.xlim([0.0, 1.0])\n",
        "plt.ylim([0.0, 1.05])\n",
        "plt.xlabel('False Positive Rate')\n",
        "plt.ylabel('True Positive Rate')\n",
        "plt.title('Receiver Operating Characteristic (ROC) Curve')\n",
        "plt.legend(loc=\"lower right\")\n",
        "plt.show()"
      ],
      "execution_count": 17,
      "outputs": [
        {
          "output_type": "display_data",
          "data": {
            "text/plain": [
              "<Figure size 800x600 with 1 Axes>"
            ],
            "image/png": "[encoded data removed]"
          },
          "metadata": {}
        }
      ]
    },
    {
      "cell_type": "markdown",
      "source": [
        "27. Train an XGBoost Regressor and tune the learning rate using GridSearchCV"
      ],
      "metadata": {
        "id": "eUgV8L8YLHLI"
      }
    },
    {
      "cell_type": "code",
      "metadata": {
        "colab": {
          "base_uri": "https://localhost:8080/"
        },
        "id": "3107f227",
        "outputId": "af09a4c5-5d8c-458f-9829-8cb743294a92"
      },
      "source": [
        "import xgboost as xgb\n",
        "from sklearn.model_selection import train_test_split, GridSearchCV\n",
        "from sklearn.metrics import mean_squared_error\n",
        "from sklearn.datasets import make_regression\n",
        "\n",
        "# Generate a sample dataset for regression\n",
        "X, y = make_regression(n_samples=200, n_features=20, n_informative=10, random_state=42)\n",
        "\n",
        "# Split the dataset into training and testing sets\n",
        "X_train, X_test, y_train, y_test = train_test_split(X, y, test_size=0.2, random_state=42)\n",
        "\n",
        "# Create an XGBoost Regressor\n",
        "xgboost_regressor = xgb.XGBRegressor(objective='reg:squarederror', n_estimators=100, random_state=42)\n",
        "\n",
        "# Define the parameter grid for learning rate\n",
        "param_grid = {\n",
        "    'learning_rate': [0.01, 0.05, 0.1, 0.2, 0.3]\n",
        "}\n",
        "\n",
        "# Set up GridSearchCV\n",
        "grid_search = GridSearchCV(estimator=xgboost_regressor, param_grid=param_grid,\n",
        "                           scoring='neg_mean_squared_error', cv=3, verbose=1)\n",
        "\n",
        "# Fit GridSearchCV to the training data\n",
        "grid_search.fit(X_train, y_train)\n",
        "\n",
        "# Print the best learning rate and the best score\n",
        "print(f\"Best learning rate: {grid_search.best_params_['learning_rate']}\")\n",
        "print(f\"Best negative Mean Squared Error: {grid_search.best_score_}\")\n",
        "\n",
        "# Evaluate the best model on the test set\n",
        "best_model = grid_search.best_estimator_\n",
        "y_pred = best_model.predict(X_test)\n",
        "mse = mean_squared_error(y_test, y_pred)\n",
        "print(f\"Mean Squared Error on Test Set with best learning rate: {mse}\")"
      ],
      "execution_count": 18,
      "outputs": [
        {
          "output_type": "stream",
          "name": "stdout",
          "text": [
            "Fitting 3 folds for each of 5 candidates, totalling 15 fits\n",
            "Best learning rate: 0.1\n",
            "Best negative Mean Squared Error: -10627.654046432313\n",
            "Mean Squared Error on Test Set with best learning rate: 8813.945204871547\n"
          ]
        }
      ]
    },
    {
      "cell_type": "markdown",
      "source": [
        "28. Train a CatBoost Classifier on an imbalanced dataset and compare performance with class weighting"
      ],
      "metadata": {
        "id": "dDPgrDGpLLsN"
      }
    },
    {
      "cell_type": "markdown",
      "metadata": {
        "id": "1d0c2752"
      },
      "source": [
        "# Task\n",
        "Train a CatBoost Classifier on an imbalanced dataset and compare performance with class weighting"
      ]
    },
    {
      "cell_type": "markdown",
      "metadata": {
        "id": "87b06e3d"
      },
      "source": [
        "## Generate an imbalanced dataset.\n",
        "\n",
        "### Subtask:\n",
        "Create a dataset where the distribution of classes is significantly skewed.\n"
      ]
    },
    {
      "cell_type": "markdown",
      "metadata": {
        "id": "176847f3"
      },
      "source": [
        "**Reasoning**:\n",
        "The subtask is to create an imbalanced dataset. I will use `make_classification` with skewed weights to achieve this.\n",
        "\n"
      ]
    },
    {
      "cell_type": "code",
      "metadata": {
        "id": "3db08cb6"
      },
      "source": [
        "from sklearn.datasets import make_classification\n",
        "\n",
        "# Generate an imbalanced sample dataset\n",
        "X, y = make_classification(n_samples=1000, n_features=20, n_informative=10, n_redundant=10,\n",
        "                           weights=[0.9, 0.1], random_state=42)"
      ],
      "execution_count": 19,
      "outputs": []
    },
    {
      "cell_type": "markdown",
      "metadata": {
        "id": "d06853f6"
      },
      "source": [
        "## Train a catboost classifier without class weighting.\n",
        "\n",
        "### Subtask:\n",
        "Train a CatBoost model on the imbalanced dataset using default settings for class handling.\n"
      ]
    },
    {
      "cell_type": "markdown",
      "metadata": {
        "id": "a58fe8dd"
      },
      "source": [
        "**Reasoning**:\n",
        "The subtask is to train a CatBoost model on the imbalanced dataset using default settings. This requires splitting the data and then initializing and training the CatBoost classifier.\n",
        "\n"
      ]
    },
    {
      "cell_type": "code",
      "metadata": {
        "colab": {
          "base_uri": "https://localhost:8080/"
        },
        "id": "3d1e9380",
        "outputId": "8e0c6773-96a4-45a7-ef96-837ac9916959"
      },
      "source": [
        "from sklearn.model_selection import train_test_split\n",
        "from catboost import CatBoostClassifier\n",
        "\n",
        "# Split the generated imbalanced dataset into training and testing sets\n",
        "X_train, X_test, y_train, y_test = train_test_split(X, y, test_size=0.2, random_state=42)\n",
        "\n",
        "# Create an instance of CatBoostClassifier with default parameters\n",
        "catboost_classifier_default = CatBoostClassifier(iterations=100, random_state=42, verbose=0)\n",
        "\n",
        "# Train the CatBoostClassifier model on the training data\n",
        "catboost_classifier_default.fit(X_train, y_train)"
      ],
      "execution_count": 20,
      "outputs": [
        {
          "output_type": "execute_result",
          "data": {
            "text/plain": [
              "<catboost.core.CatBoostClassifier at 0x7d0c20ff6250>"
            ]
          },
          "metadata": {},
          "execution_count": 20
        }
      ]
    },
    {
      "cell_type": "markdown",
      "metadata": {
        "id": "d74eb163"
      },
      "source": [
        "**Reasoning**:\n",
        "The subtask is to evaluate the performance of the CatBoost model trained with default settings. This involves making predictions on the test set and calculating relevant metrics like accuracy, precision, recall, and F1-score, which are suitable for evaluating performance on imbalanced datasets.\n",
        "\n"
      ]
    },
    {
      "cell_type": "code",
      "metadata": {
        "colab": {
          "base_uri": "https://localhost:8080/"
        },
        "id": "9296e64f",
        "outputId": "204509a4-8591-4706-dd38-76e822e0a381"
      },
      "source": [
        "from sklearn.metrics import accuracy_score, precision_score, recall_score, f1_score\n",
        "\n",
        "# Predict on the test set\n",
        "y_pred_default = catboost_classifier_default.predict(X_test)\n",
        "\n",
        "# Calculate performance metrics\n",
        "accuracy_default = accuracy_score(y_test, y_pred_default)\n",
        "precision_default = precision_score(y_test, y_pred_default)\n",
        "recall_default = recall_score(y_test, y_pred_default)\n",
        "f1_default = f1_score(y_test, y_pred_default)\n",
        "\n",
        "# Print the performance metrics\n",
        "print(f\"CatBoost Classifier (Default) Accuracy: {accuracy_default:.4f}\")\n",
        "print(f\"CatBoost Classifier (Default) Precision: {precision_default:.4f}\")\n",
        "print(f\"CatBoost Classifier (Default) Recall: {recall_default:.4f}\")\n",
        "print(f\"CatBoost Classifier (Default) F1-Score: {f1_default:.4f}\")"
      ],
      "execution_count": 21,
      "outputs": [
        {
          "output_type": "stream",
          "name": "stdout",
          "text": [
            "CatBoost Classifier (Default) Accuracy: 0.9550\n",
            "CatBoost Classifier (Default) Precision: 1.0000\n",
            "CatBoost Classifier (Default) Recall: 0.5714\n",
            "CatBoost Classifier (Default) F1-Score: 0.7273\n"
          ]
        }
      ]
    },
    {
      "cell_type": "markdown",
      "metadata": {
        "id": "d4ef345d"
      },
      "source": [
        "## Train a catboost classifier with class weighting.\n",
        "\n",
        "### Subtask:\n",
        "Train a CatBoost model on the imbalanced dataset, applying class weights to address the imbalance.\n"
      ]
    },
    {
      "cell_type": "markdown",
      "metadata": {
        "id": "d19b66b9"
      },
      "source": [
        "**Reasoning**:\n",
        "Calculate the class weights, create and train the CatBoost classifier with class weights, and predict on the test set.\n",
        "\n"
      ]
    },
    {
      "cell_type": "code",
      "metadata": {
        "id": "28a7abc8"
      },
      "source": [
        "from sklearn.utils.class_weight import compute_class_weight\n",
        "\n",
        "# Calculate class weights\n",
        "class_weights = compute_class_weight(class_weight='balanced', classes=np.unique(y_train), y=y_train)\n",
        "class_weights_dict = {i : class_weights[i] for i in range(len(class_weights))}\n",
        "\n",
        "# Create a CatBoost Classifier with class weights\n",
        "catboost_classifier_weighted = CatBoostClassifier(iterations=100, random_state=42, verbose=0, class_weights=class_weights_dict)\n",
        "\n",
        "# Train the CatBoost Classifier with class weighting\n",
        "catboost_classifier_weighted.fit(X_train, y_train)\n",
        "\n",
        "# Predict on the test set\n",
        "y_pred_weighted = catboost_classifier_weighted.predict(X_test)"
      ],
      "execution_count": 22,
      "outputs": []
    },
    {
      "cell_type": "markdown",
      "metadata": {
        "id": "e6156bb3"
      },
      "source": [
        "## Compare the performance of the two models using appropriate metrics for imbalanced datasets.\n",
        "\n",
        "### Subtask:\n",
        "Compare the performance of the two models using appropriate metrics for imbalanced datasets.\n"
      ]
    },
    {
      "cell_type": "markdown",
      "metadata": {
        "id": "98b0ea55"
      },
      "source": [
        "**Reasoning**:\n",
        "Calculate and print the performance metrics for the weighted model and compare them with the metrics from the default model.\n",
        "\n"
      ]
    },
    {
      "cell_type": "code",
      "metadata": {
        "colab": {
          "base_uri": "https://localhost:8080/"
        },
        "id": "f8588422",
        "outputId": "f1dea024-a19f-4746-de3c-72ad467b9062"
      },
      "source": [
        "from sklearn.metrics import accuracy_score, precision_score, recall_score, f1_score\n",
        "\n",
        "# Calculate performance metrics for the weighted model\n",
        "accuracy_weighted = accuracy_score(y_test, y_pred_weighted)\n",
        "precision_weighted = precision_score(y_test, y_pred_weighted)\n",
        "recall_weighted = recall_score(y_test, y_pred_weighted)\n",
        "f1_weighted = f1_score(y_test, y_pred_weighted)\n",
        "\n",
        "# Print performance metrics for the weighted model\n",
        "print(\"CatBoost Classifier (Weighted) Performance Metrics:\")\n",
        "print(f\"Accuracy: {accuracy_weighted:.4f}\")\n",
        "print(f\"Precision: {precision_weighted:.4f}\")\n",
        "print(f\"Recall: {recall_weighted:.4f}\")\n",
        "print(f\"F1-Score: {f1_weighted:.4f}\")\n",
        "print(\"\\n\")\n",
        "\n",
        "# Compare performance with the default model\n",
        "print(\"Performance Comparison (Default vs. Weighted):\")\n",
        "print(f\"Accuracy: Default={accuracy_default:.4f}, Weighted={accuracy_weighted:.4f}\")\n",
        "print(f\"Precision: Default={precision_default:.4f}, Weighted={precision_weighted:.4f}\")\n",
        "print(f\"Recall: Default={recall_default:.4f}, Weighted={recall_weighted:.4f}\")\n",
        "print(f\"F1-Score: Default={f1_default:.4f}, Weighted={f1_weighted:.4f}\")\n"
      ],
      "execution_count": 23,
      "outputs": [
        {
          "output_type": "stream",
          "name": "stdout",
          "text": [
            "CatBoost Classifier (Weighted) Performance Metrics:\n",
            "Accuracy: 0.9500\n",
            "Precision: 0.7895\n",
            "Recall: 0.7143\n",
            "F1-Score: 0.7500\n",
            "\n",
            "\n",
            "Performance Comparison (Default vs. Weighted):\n",
            "Accuracy: Default=0.9550, Weighted=0.9500\n",
            "Precision: Default=1.0000, Weighted=0.7895\n",
            "Recall: Default=0.5714, Weighted=0.7143\n",
            "F1-Score: Default=0.7273, Weighted=0.7500\n"
          ]
        }
      ]
    },
    {
      "cell_type": "markdown",
      "metadata": {
        "id": "9dfce0d9"
      },
      "source": [
        "## Summary:\n",
        "\n",
        "### Data Analysis Key Findings\n",
        "\n",
        "*   The imbalanced dataset was generated with a class distribution of approximately 90% for one class and 10% for the other.\n",
        "*   The CatBoost model trained with default settings on the imbalanced dataset achieved high accuracy (0.9550) and perfect precision (1.0000) but low recall (0.5714) and F1-score (0.7273), indicating poor performance on the minority class.\n",
        "*   Applying class weighting to the CatBoost model resulted in a slight decrease in accuracy (0.9500) and a significant decrease in precision (0.7895).\n",
        "*   The weighted CatBoost model showed a notable improvement in recall (0.7143) compared to the default model (0.5714).\n",
        "*   The F1-score, a balanced metric for imbalanced datasets, was slightly higher for the weighted model (0.7500) than the default model (0.7273).\n",
        "\n",
        "### Insights or Next Steps\n",
        "\n",
        "*   Class weighting effectively improved the model's ability to identify the minority class, as evidenced by the increased recall and F1-score, despite a trade-off in precision and overall accuracy.\n",
        "*   Further techniques for handling imbalanced datasets, such as oversampling the minority class or exploring different evaluation metrics like the Area Under the Receiver Operating Characteristic Curve (AUC-ROC), could be investigated to potentially further improve performance on the minority class.\n"
      ]
    },
    {
      "cell_type": "markdown",
      "source": [
        "29. Train an AdaBoost Classifier and analyze the effect of different learning rates"
      ],
      "metadata": {
        "id": "3M6RMSf8LmGC"
      }
    },
    {
      "cell_type": "code",
      "metadata": {
        "colab": {
          "base_uri": "https://localhost:8080/"
        },
        "id": "38fab1ac",
        "outputId": "6754c8f8-6924-4fa9-eca7-de1e2a8e9475"
      },
      "source": [
        "from sklearn.ensemble import AdaBoostClassifier\n",
        "from sklearn.model_selection import train_test_split\n",
        "from sklearn.metrics import accuracy_score\n",
        "from sklearn.datasets import make_classification\n",
        "\n",
        "# Generate a sample dataset\n",
        "X, y = make_classification(n_samples=100, n_features=20, n_informative=10, n_redundant=10, random_state=42)\n",
        "\n",
        "# Split the dataset into training and testing sets\n",
        "X_train, X_test, y_train, y_test = train_test_split(X, y, test_size=0.2, random_state=42)\n",
        "\n",
        "# Define a list of different learning rates to try\n",
        "learning_rates = [0.01, 0.05, 0.1, 0.5, 1.0]\n",
        "\n",
        "# Train AdaBoost with different learning rates and store accuracies\n",
        "accuracies_lr = {}\n",
        "for lr in learning_rates:\n",
        "    adaboost = AdaBoostClassifier(n_estimators=50, learning_rate=lr, random_state=42)\n",
        "    adaboost.fit(X_train, y_train)\n",
        "    y_pred = adaboost.predict(X_test)\n",
        "    accuracy = accuracy_score(y_test, y_pred)\n",
        "    accuracies_lr[lr] = accuracy\n",
        "\n",
        "# Print the accuracies for each learning rate\n",
        "print(\"Accuracy of AdaBoost Classifier with different learning rates:\")\n",
        "for lr, accuracy in accuracies_lr.items():\n",
        "    print(f\"Learning Rate: {lr}, Accuracy: {accuracy}\")\n",
        "\n",
        "# Optional: Find the learning rate with the highest accuracy\n",
        "best_lr = max(accuracies_lr, key=accuracies_lr.get)\n",
        "print(f\"\\nBest learning rate: {best_lr} with accuracy: {accuracies_lr[best_lr]}\")"
      ],
      "execution_count": 24,
      "outputs": [
        {
          "output_type": "stream",
          "name": "stdout",
          "text": [
            "Accuracy of AdaBoost Classifier with different learning rates:\n",
            "Learning Rate: 0.01, Accuracy: 0.75\n",
            "Learning Rate: 0.05, Accuracy: 0.8\n",
            "Learning Rate: 0.1, Accuracy: 0.8\n",
            "Learning Rate: 0.5, Accuracy: 0.8\n",
            "Learning Rate: 1.0, Accuracy: 0.8\n",
            "\n",
            "Best learning rate: 0.05 with accuracy: 0.8\n"
          ]
        }
      ]
    },
    {
      "cell_type": "markdown",
      "source": [
        "30.  Train an XGBoost Classifier for multi-class classification and evaluate using log-loss"
      ],
      "metadata": {
        "id": "4edgdcZILvxl"
      }
    },
    {
      "cell_type": "code",
      "metadata": {
        "colab": {
          "base_uri": "https://localhost:8080/"
        },
        "id": "c235e16d",
        "outputId": "08be22ad-b53e-475f-d41e-79ea65f6b7d0"
      },
      "source": [
        "import xgboost as xgb\n",
        "from sklearn.model_selection import train_test_split\n",
        "from sklearn.metrics import log_loss\n",
        "from sklearn.datasets import make_classification\n",
        "\n",
        "# Generate a sample dataset for multi-class classification\n",
        "X, y = make_classification(n_samples=200, n_features=20, n_informative=10, n_redundant=5, n_classes=3, random_state=42)\n",
        "\n",
        "# Split the dataset into training and testing sets\n",
        "X_train, X_test, y_train, y_test = train_test_split(X, y, test_size=0.2, random_state=42)\n",
        "\n",
        "# Create an XGBoost Classifier for multi-class classification\n",
        "# Use 'mlogloss' or 'merror' for multi-class objectives\n",
        "xgboost_classifier = xgb.XGBClassifier(objective='multi:softprob', num_class=3, n_estimators=100, random_state=42)\n",
        "\n",
        "# Train the XGBoost Classifier\n",
        "xgboost_classifier.fit(X_train, y_train)\n",
        "\n",
        "# Get predicted probabilities for each class\n",
        "y_prob = xgboost_classifier.predict_proba(X_test)\n",
        "\n",
        "# Calculate and print the log-loss\n",
        "logloss = log_loss(y_test, y_prob)\n",
        "print(f\"XGBoost Classifier Log-Loss: {logloss}\")"
      ],
      "execution_count": 25,
      "outputs": [
        {
          "output_type": "stream",
          "name": "stdout",
          "text": [
            "XGBoost Classifier Log-Loss: 0.7048634257320068\n"
          ]
        }
      ]
    }
  ]
}