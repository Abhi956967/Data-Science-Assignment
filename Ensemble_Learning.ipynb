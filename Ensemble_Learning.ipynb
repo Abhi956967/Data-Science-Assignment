{
  "nbformat": 4,
  "nbformat_minor": 0,
  "metadata": {
    "colab": {
      "provenance": []
    },
    "kernelspec": {
      "name": "python3",
      "display_name": "Python 3"
    },
    "language_info": {
      "name": "python"
    }
  },
  "cells": [
    {
      "cell_type": "markdown",
      "source": [
        "1. Can we use Bagging for regression problems\n",
        "\n",
        "  Yes, bagging can be used for both classification and regression problems. It is a general ensemble method that can be applied to various types of models, including those used for regression tasks. Single model training involves training a single machine learning model on a given dataset, while multiple model training involves training several models, potentially with different architectures or on different subsets of the data. The key difference lies in the number of models being trained and the strategies employed to leverage them\n",
        "\n",
        "  Elaboration:\n",
        "\n",
        "  Bagging, which stands for Bootstrap Aggregating, is an ensemble learning technique where multiple instances of the same base learning algorithm are trained on different random subsets of the training data. For regression, the final prediction is typically obtained by averaging the predictions of all the individual models. This averaging helps to reduce variance and improve the overall stability and accuracy of the model.\n",
        "\n",
        "2. What is the difference between multiple model training and single model training\n",
        "\n",
        "  Single model training involves training a single machine learning model on a given dataset, while multiple model training involves training several models, potentially with different architectures or on different subsets of the data. The key difference lies in the number of models being trained and the strategies employed to leverage them\n",
        "\n",
        "3. Explain the concept of feature randomness in Random Forest\n",
        "\n",
        "  In a Random Forest, feature randomness (also known as feature bagging or the random subspace method) means that when building each individual decision tree, the algorithm doesn't consider all available features to find the best split. Instead, it randomly selects a subset of features, and only those features are used to determine the best split point at each node. This introduces diversity among the trees in the forest, helping to reduce overfitting and improve overall model accuracy.\n",
        "\n",
        "4. What is OOB (Out-of-Bag) Score\n",
        "\n",
        "  The Out-of-Bag (OOB) score is a performance metric used in ensemble learning methods like Random Forests, particularly when utilizing bootstrapping. It estimates the model's prediction error on data not used during the training of individual learners (decision trees in the case of Random Forests) within the ensemble. Essentially, it provides a way to evaluate the model's generalization ability without needing a separate validation dataset.\n",
        "\n",
        "5.  How can you measure the importance of features in a Random Forest model\n",
        "\n",
        "  Feature importance in a Random Forest model can be measured using the Gini importance (also known as mean decrease impurity) or permutation importance. Gini importance is calculated based on how much each feature reduces impurity when used in splits within the trees of the forest, while permutation importance assesses the impact of shuffling a feature's values on model performance\n",
        "\n",
        "6. Explain the working principle of a Bagging Classifier\n",
        "\n",
        "  A Bagging classifier is an ensemble meta-estimator that fits base classifiers each on random subsets of the original dataset and then aggregate their individual predictions (either by voting or by averaging) to form a final prediction.\n",
        "\n",
        "7. How do you evaluate a Bagging Classifier’s performance\n",
        "\n",
        "\n",
        "  Ensemble Learning — Bagging, Boosting, Stacking and ...A Bagging Classifier's performance can be evaluated using various metrics like accuracy, precision, recall, F1-score, and AUC (Area Under the Curve). For regression tasks, metrics like mean squared error and R-squared are used. Out-of-bag (OOB) error estimation is also a useful technique during training.\n",
        "\n",
        "8. How does a Bagging Regressor work\n",
        "\n",
        "  Bagging Regressor creates an ensemble of multiple base regression models and combines their predictions to produce a final prediction. In Bagging Regressor, the base model is typically a regression algorithm, such as Decision Tree Regressor.\n",
        "\n",
        "9. What is the main advantage of ensemble techniques\n",
        "\n",
        "  The primary advantage of ensemble techniques in machine learning is improved predictive performance and generalization ability. By combining multiple models, ensemble methods can often achieve higher accuracy, reduce overfitting, and create more robust and reliable predictions than individual models.\n",
        "\n",
        "10. What is the main challenge of ensemble methods\n",
        "\n",
        "  The primary challenge of ensemble methods is increased computational cost and complexity. While ensemble methods often improve accuracy, they require training and managing multiple base models, which can significantly increase processing time and resource consumption. Additionally, ensembles can be more difficult to interpret and explain due to the aggregation of multiple models.\n",
        "\n",
        "11. Explain the key idea behind ensemble techniques\n",
        "\n",
        "  The core idea behind ensemble techniques in machine learning is to combine the predictions of multiple individual models to create a single, more accurate and robust model. Instead of relying on the output of a single model, which might be prone to errors or biases, ensembles leverage the collective wisdom of diverse models to achieve better predictive performance and reduce the risk of overfitting\n",
        "\n",
        "\n",
        "12. What is a Random Forest Classifier\n",
        "\n",
        "  A random forest classifier is a machine learning algorithm that uses an ensemble of decision trees to classify data. It works by building multiple decision trees, each trained on a different random subset of the data and features, and then combining their predictions to make a final classification. This approach helps to reduce overfitting and improve accuracy compared to using a single decision tree.\n",
        "\n",
        "13. What is ensemble learning in machine learning\n",
        "\n",
        "  Ensemble learning in machine learning combines the predictions of multiple individual models (often called \"weak learners\") to produce a more accurate and reliable prediction than any single model could achieve. This approach leverages the diversity of different models to mitigate their individual weaknesses and improve overall performance.\n",
        "\n",
        "14. What is ensemble learning in machine learning\n",
        "\n",
        "  Ensemble learning in machine learning combines the predictions of multiple individual models (often called \"weak learners\") to produce a more accurate and reliable prediction than any single model could achieve. This approach leverages the diversity of different models to mitigate their individual weaknesses and improve overall performance.\n",
        "\n",
        "15. When should we avoid using ensemble methods\n",
        "\n",
        "  Ensemble methods, while powerful, may not always be the best choice. Avoid them when computational resources are limited, when interpretability is crucial, or when the base models are highly correlated or the dataset is too small\n",
        "\n",
        "16.  How does Bagging help in reducing overfitting\n",
        "\n",
        "  Bagging, Boosting & Stacking Made Simple [3 How To Tutorials]Bagging, or Bootstrap Aggregating, helps reduce overfitting by creating multiple models on different subsets of the training data and then averaging their predictions. This averaging process smooths out the individual model's errors, leading to a more robust and generalizable final mode\n",
        "\n",
        "17. Why is Random Forest better than a single Decision Tree\n",
        "\n",
        "  Random Forest is generally a better choice than a single Decision Tree, particularly for complex datasets, due to its ability to reduce overfitting and improve accuracy through ensemble learning. Random Forests create multiple decision trees and combine their predictions, which leads to a more robust and reliable model compared to a single Decision Tree.\n",
        "\n",
        "18. What is the role of bootstrap sampling in Bagging\n",
        "\n",
        "  In Bagging (Bootstrap Aggregating), bootstrap sampling is the core mechanism for creating diverse training datasets. It involves randomly sampling data points from the original dataset with replacement, generating multiple subsets (bootstrap samples) on which individual models are trained. This introduces variability and helps to reduce overfitting, leading to improved model stability and accuracy.\n",
        "\n",
        "19. What are some real-world applications of ensemble techniques\n",
        "\n",
        "  Ensemble techniques, which combine multiple machine learning models to improve accuracy and robustness, have numerous real-world applications. These techniques are used across various industries like finance, healthcare, and e-commerce to enhance predictive power and decision-making. Examples include fraud detection, disease diagnosis, and recommendation systems.\n",
        "\n",
        "20. What is the difference between Bagging and Boosting\n",
        "\n",
        "  Bagging and boosting are both ensemble learning methods that combine multiple machine learning models to improve performance. The key difference lies in how they build these ensembles: bagging trains models independently and in parallel, while boosting trains models sequentially, with each model learning from the errors of its predecessors.\n",
        "\n",
        "  "
      ],
      "metadata": {
        "id": "NjDmzcd78JUi"
      }
    },
    {
      "cell_type": "markdown",
      "source": [
        "                                                 #### Practical"
      ],
      "metadata": {
        "id": "mitsKsmu_sF2"
      }
    },
    {
      "cell_type": "markdown",
      "source": [
        "21. Train a Bagging Classifier using Decision Trees on a sample dataset and print model accuracy"
      ],
      "metadata": {
        "id": "Xbr9Yd8e_wRx"
      }
    },
    {
      "cell_type": "code",
      "metadata": {
        "colab": {
          "base_uri": "https://localhost:8080/"
        },
        "id": "d07031bd",
        "outputId": "41bdb002-a280-4b59-decf-04e9b6aff4a3"
      },
      "source": [
        "from sklearn.ensemble import BaggingClassifier\n",
        "from sklearn.tree import DecisionTreeClassifier\n",
        "from sklearn.datasets import make_classification\n",
        "from sklearn.model_selection import train_test_split\n",
        "from sklearn.metrics import accuracy_score\n",
        "\n",
        "# Generate a sample dataset\n",
        "X, y = make_classification(n_samples=1000, n_features=20, random_state=42)\n",
        "\n",
        "# Split the dataset into training and testing sets\n",
        "X_train, X_test, y_train, y_test = train_test_split(X, y, test_size=0.2, random_state=42)\n",
        "\n",
        "# Create a Bagging Classifier with Decision Trees as base estimators\n",
        "bagging_clf = BaggingClassifier(estimator=DecisionTreeClassifier(), n_estimators=10, random_state=42)\n",
        "\n",
        "# Train the Bagging Classifier\n",
        "bagging_clf.fit(X_train, y_train)\n",
        "\n",
        "# Make predictions on the test set\n",
        "y_pred = bagging_clf.predict(X_test)\n",
        "\n",
        "# Calculate and print the accuracy\n",
        "accuracy = accuracy_score(y_test, y_pred)\n",
        "print(f\"Accuracy of Bagging Classifier: {accuracy:.4f}\")"
      ],
      "execution_count": 1,
      "outputs": [
        {
          "output_type": "stream",
          "name": "stdout",
          "text": [
            "Accuracy of Bagging Classifier: 0.8850\n"
          ]
        }
      ]
    },
    {
      "cell_type": "markdown",
      "source": [
        "22. Train a Bagging Regressor using Decision Trees and evaluate using Mean Squared Error (MSE)"
      ],
      "metadata": {
        "id": "-vBuf-CS_4ne"
      }
    },
    {
      "cell_type": "code",
      "metadata": {
        "colab": {
          "base_uri": "https://localhost:8080/"
        },
        "id": "6982cdc2",
        "outputId": "312edf42-8159-44bc-842b-8545f1de38e0"
      },
      "source": [
        "from sklearn.ensemble import BaggingRegressor\n",
        "from sklearn.tree import DecisionTreeRegressor\n",
        "from sklearn.datasets import make_regression\n",
        "from sklearn.model_selection import train_test_split\n",
        "from sklearn.metrics import mean_squared_error\n",
        "\n",
        "# Generate a sample regression dataset\n",
        "X_reg, y_reg = make_regression(n_samples=1000, n_features=20, random_state=42)\n",
        "\n",
        "# Split the dataset into training and testing sets\n",
        "X_train_reg, X_test_reg, y_train_reg, y_test_reg = train_test_split(X_reg, y_reg, test_size=0.2, random_state=42)\n",
        "\n",
        "# Create a Bagging Regressor with Decision Trees as base estimators\n",
        "bagging_reg = BaggingRegressor(estimator=DecisionTreeRegressor(), n_estimators=10, random_state=42)\n",
        "\n",
        "# Train the Bagging Regressor\n",
        "bagging_reg.fit(X_train_reg, y_train_reg)\n",
        "\n",
        "# Make predictions on the test set\n",
        "y_pred_reg = bagging_reg.predict(X_test_reg)\n",
        "\n",
        "# Calculate and print the Mean Squared Error\n",
        "mse = mean_squared_error(y_test_reg, y_pred_reg)\n",
        "print(f\"Mean Squared Error of Bagging Regressor: {mse:.4f}\")"
      ],
      "execution_count": 2,
      "outputs": [
        {
          "output_type": "stream",
          "name": "stdout",
          "text": [
            "Mean Squared Error of Bagging Regressor: 9462.9922\n"
          ]
        }
      ]
    },
    {
      "cell_type": "markdown",
      "source": [
        "23. Train a Random Forest Classifier on the Breast Cancer dataset and print feature importance scores2"
      ],
      "metadata": {
        "id": "qnsDXzxmAMyT"
      }
    },
    {
      "cell_type": "code",
      "metadata": {
        "colab": {
          "base_uri": "https://localhost:8080/"
        },
        "id": "b1c40c86",
        "outputId": "c57d3859-32c8-4ee4-b9d2-5054d603664c"
      },
      "source": [
        "from sklearn.ensemble import RandomForestClassifier\n",
        "from sklearn.datasets import load_breast_cancer\n",
        "from sklearn.model_selection import train_test_split\n",
        "import pandas as pd\n",
        "\n",
        "# Load the Breast Cancer dataset\n",
        "breast_cancer = load_breast_cancer()\n",
        "X, y = breast_cancer.data, breast_cancer.target\n",
        "feature_names = breast_cancer.feature_names\n",
        "\n",
        "# Split the dataset into training and testing sets\n",
        "X_train, X_test, y_train, y_test = train_test_split(X, y, test_size=0.2, random_state=42)\n",
        "\n",
        "# Create a Random Forest Classifier\n",
        "rf_clf = RandomForestClassifier(n_estimators=100, random_state=42)\n",
        "\n",
        "# Train the Random Forest Classifier\n",
        "rf_clf.fit(X_train, y_train)\n",
        "\n",
        "# Get feature importances\n",
        "feature_importances = rf_clf.feature_importances_\n",
        "\n",
        "# Create a pandas Series for better visualization\n",
        "importance_df = pd.Series(feature_importances, index=feature_names)\n",
        "\n",
        "# Sort feature importances in descending order\n",
        "sorted_importance_df = importance_df.sort_values(ascending=False)\n",
        "\n",
        "# Print feature importances\n",
        "print(\"Feature Importances:\")\n",
        "print(sorted_importance_df)"
      ],
      "execution_count": 4,
      "outputs": [
        {
          "output_type": "stream",
          "name": "stdout",
          "text": [
            "Feature Importances:\n",
            "worst area                 0.153892\n",
            "worst concave points       0.144663\n",
            "mean concave points        0.106210\n",
            "worst radius               0.077987\n",
            "mean concavity             0.068001\n",
            "worst perimeter            0.067115\n",
            "mean perimeter             0.053270\n",
            "mean radius                0.048703\n",
            "mean area                  0.047555\n",
            "worst concavity            0.031802\n",
            "area error                 0.022407\n",
            "worst texture              0.021749\n",
            "worst compactness          0.020266\n",
            "radius error               0.020139\n",
            "mean compactness           0.013944\n",
            "mean texture               0.013591\n",
            "perimeter error            0.011303\n",
            "worst smoothness           0.010644\n",
            "worst symmetry             0.010120\n",
            "concavity error            0.009386\n",
            "mean smoothness            0.007285\n",
            "fractal dimension error    0.005321\n",
            "compactness error          0.005253\n",
            "worst fractal dimension    0.005210\n",
            "texture error              0.004724\n",
            "smoothness error           0.004271\n",
            "symmetry error             0.004018\n",
            "mean fractal dimension     0.003886\n",
            "mean symmetry              0.003770\n",
            "concave points error       0.003513\n",
            "dtype: float64\n"
          ]
        }
      ]
    },
    {
      "cell_type": "markdown",
      "source": [
        "24.  Train a Random Forest Regressor and compare its performance with a single Decision Tree"
      ],
      "metadata": {
        "id": "w0GG3bc1ATkH"
      }
    },
    {
      "cell_type": "code",
      "metadata": {
        "colab": {
          "base_uri": "https://localhost:8080/"
        },
        "id": "9374d13b",
        "outputId": "4412b132-7ebb-4d40-dd72-31de476121e2"
      },
      "source": [
        "from sklearn.ensemble import RandomForestRegressor\n",
        "from sklearn.tree import DecisionTreeRegressor\n",
        "from sklearn.datasets import make_regression\n",
        "from sklearn.model_selection import train_test_split\n",
        "from sklearn.metrics import mean_squared_error\n",
        "\n",
        "# Generate a sample regression dataset\n",
        "X_reg, y_reg = make_regression(n_samples=1000, n_features=20, random_state=42)\n",
        "\n",
        "# Split the dataset into training and testing sets\n",
        "X_train_reg, X_test_reg, y_train_reg, y_test_reg = train_test_split(X_reg, y_reg, test_size=0.2, random_state=42)\n",
        "\n",
        "# Create a Random Forest Regressor\n",
        "rf_reg = RandomForestRegressor(n_estimators=100, random_state=42)\n",
        "\n",
        "# Create a single Decision Tree Regressor\n",
        "dt_reg = DecisionTreeRegressor(random_state=42)\n",
        "\n",
        "# Train the Random Forest Regressor\n",
        "rf_reg.fit(X_train_reg, y_train_reg)\n",
        "\n",
        "# Train the single Decision Tree Regressor\n",
        "dt_reg.fit(X_train_reg, y_train_reg)\n",
        "\n",
        "# Make predictions with both models\n",
        "y_pred_rf = rf_reg.predict(X_test_reg)\n",
        "y_pred_dt = dt_reg.predict(X_test_reg)\n",
        "\n",
        "# Calculate Mean Squared Error for both models\n",
        "mse_rf = mean_squared_error(y_test_reg, y_pred_rf)\n",
        "mse_dt = mean_squared_error(y_test_reg, y_pred_dt)\n",
        "\n",
        "# Print the Mean Squared Errors\n",
        "print(f\"Mean Squared Error of Random Forest Regressor: {mse_rf:.4f}\")\n",
        "print(f\"Mean Squared Error of Decision Tree Regressor: {mse_dt:.4f}\")\n",
        "\n",
        "# Compare the performance\n",
        "if mse_rf < mse_dt:\n",
        "    print(\"\\nRandom Forest Regressor performed better (lower MSE).\")\n",
        "elif mse_rf > mse_dt:\n",
        "    print(\"\\nDecision Tree Regressor performed better (lower MSE).\")\n",
        "else:\n",
        "    print(\"\\nBoth models performed equally well (same MSE).\")"
      ],
      "execution_count": 5,
      "outputs": [
        {
          "output_type": "stream",
          "name": "stdout",
          "text": [
            "Mean Squared Error of Random Forest Regressor: 8592.2450\n",
            "Mean Squared Error of Decision Tree Regressor: 21352.5751\n",
            "\n",
            "Random Forest Regressor performed better (lower MSE).\n"
          ]
        }
      ]
    },
    {
      "cell_type": "markdown",
      "source": [
        "25. Compute the Out-of-Bag (OOB) Score for a Random Forest Classifier2"
      ],
      "metadata": {
        "id": "jSSx-fjbAc1o"
      }
    },
    {
      "cell_type": "code",
      "metadata": {
        "colab": {
          "base_uri": "https://localhost:8080/"
        },
        "id": "e57deb68",
        "outputId": "b791ac63-48e9-4965-d5fc-133aef8b2359"
      },
      "source": [
        "from sklearn.ensemble import RandomForestClassifier\n",
        "from sklearn.datasets import load_breast_cancer\n",
        "from sklearn.model_selection import train_test_split\n",
        "\n",
        "# Load the Breast Cancer dataset\n",
        "breast_cancer = load_breast_cancer()\n",
        "X, y = breast_cancer.data, breast_cancer.target\n",
        "\n",
        "# Split the dataset into training and testing sets\n",
        "X_train, X_test, y_train, y_test = train_test_split(X, y, test_size=0.2, random_state=42)\n",
        "\n",
        "# Create a Random Forest Classifier with oob_score set to True\n",
        "rf_clf_oob = RandomForestClassifier(n_estimators=100, oob_score=True, random_state=42)\n",
        "\n",
        "# Train the Random Forest Classifier\n",
        "rf_clf_oob.fit(X_train, y_train)\n",
        "\n",
        "# Get the Out-of-Bag score\n",
        "oob_score = rf_clf_oob.oob_score_\n",
        "\n",
        "# Print the OOB score\n",
        "print(f\"Out-of-Bag (OOB) Score of Random Forest Classifier: {oob_score:.4f}\")"
      ],
      "execution_count": 6,
      "outputs": [
        {
          "output_type": "stream",
          "name": "stdout",
          "text": [
            "Out-of-Bag (OOB) Score of Random Forest Classifier: 0.9560\n"
          ]
        }
      ]
    },
    {
      "cell_type": "markdown",
      "source": [
        "26. Train a Bagging Classifier using SVM as a base estimator and print accuracy"
      ],
      "metadata": {
        "id": "EnEIe_M-AtV5"
      }
    },
    {
      "cell_type": "code",
      "metadata": {
        "colab": {
          "base_uri": "https://localhost:8080/"
        },
        "id": "4cc8dfdc",
        "outputId": "3920db4f-9cb1-497e-d1b9-99f895a26a1c"
      },
      "source": [
        "from sklearn.ensemble import BaggingClassifier\n",
        "from sklearn.svm import SVC\n",
        "from sklearn.datasets import make_classification\n",
        "from sklearn.model_selection import train_test_split\n",
        "from sklearn.metrics import accuracy_score\n",
        "\n",
        "# Generate a sample dataset\n",
        "X, y = make_classification(n_samples=1000, n_features=20, random_state=42)\n",
        "\n",
        "# Split the dataset into training and testing sets\n",
        "X_train, X_test, y_train, y_test = train_test_split(X, y, test_size=0.2, random_state=42)\n",
        "\n",
        "# Create a Bagging Classifier with SVM as base estimator\n",
        "# Using a linear kernel for simplicity and speed\n",
        "bagging_clf_svm = BaggingClassifier(estimator=SVC(kernel='linear'), n_estimators=10, random_state=42)\n",
        "\n",
        "# Train the Bagging Classifier\n",
        "bagging_clf_svm.fit(X_train, y_train)\n",
        "\n",
        "# Make predictions on the test set\n",
        "y_pred_svm = bagging_clf_svm.predict(X_test)\n",
        "\n",
        "# Calculate and print the accuracy\n",
        "accuracy_svm = accuracy_score(y_test, y_pred_svm)\n",
        "print(f\"Accuracy of Bagging Classifier with SVM: {accuracy_svm:.4f}\")"
      ],
      "execution_count": 7,
      "outputs": [
        {
          "output_type": "stream",
          "name": "stdout",
          "text": [
            "Accuracy of Bagging Classifier with SVM: 0.8700\n"
          ]
        }
      ]
    },
    {
      "cell_type": "markdown",
      "source": [
        "27. Train a Random Forest Classifier with different numbers of trees and compare accuracy"
      ],
      "metadata": {
        "id": "lXVCKPU9A13s"
      }
    },
    {
      "cell_type": "code",
      "metadata": {
        "colab": {
          "base_uri": "https://localhost:8080/",
          "height": 651
        },
        "id": "ee8effb6",
        "outputId": "25fd38a1-bf5a-4815-9c6a-2f2f0d8963b3"
      },
      "source": [
        "from sklearn.ensemble import RandomForestClassifier\n",
        "from sklearn.datasets import load_breast_cancer\n",
        "from sklearn.model_selection import train_test_split\n",
        "from sklearn.metrics import accuracy_score\n",
        "import matplotlib.pyplot as plt\n",
        "\n",
        "# Load the Breast Cancer dataset\n",
        "breast_cancer = load_breast_cancer()\n",
        "X, y = breast_cancer.data, breast_cancer.target\n",
        "\n",
        "# Split the dataset into training and testing sets\n",
        "X_train, X_test, y_train, y_test = train_test_split(X, y, test_size=0.2, random_state=42)\n",
        "\n",
        "# Define a list of different numbers of trees to experiment with\n",
        "n_estimators_list = [10, 50, 100, 200, 500]\n",
        "accuracies = []\n",
        "\n",
        "# Train Random Forest Classifiers with different numbers of trees\n",
        "for n_estimators in n_estimators_list:\n",
        "    rf_clf = RandomForestClassifier(n_estimators=n_estimators, random_state=42)\n",
        "    rf_clf.fit(X_train, y_train)\n",
        "    y_pred = rf_clf.predict(X_test)\n",
        "    accuracy = accuracy_score(y_test, y_pred)\n",
        "    accuracies.append(accuracy)\n",
        "    print(f\"Accuracy with {n_estimators} trees: {accuracy:.4f}\")\n",
        "\n",
        "# Plot the accuracies\n",
        "plt.figure(figsize=(10, 6))\n",
        "plt.plot(n_estimators_list, accuracies, marker='o')\n",
        "plt.title('Random Forest Classifier Accuracy vs. Number of Trees')\n",
        "plt.xlabel('Number of Trees')\n",
        "plt.ylabel('Accuracy')\n",
        "plt.grid(True)\n",
        "plt.show()"
      ],
      "execution_count": 8,
      "outputs": [
        {
          "output_type": "stream",
          "name": "stdout",
          "text": [
            "Accuracy with 10 trees: 0.9561\n",
            "Accuracy with 50 trees: 0.9649\n",
            "Accuracy with 100 trees: 0.9649\n",
            "Accuracy with 200 trees: 0.9649\n",
            "Accuracy with 500 trees: 0.9649\n"
          ]
        },
        {
          "output_type": "display_data",
          "data": {
            "text/plain": [
              "<Figure size 1000x600 with 1 Axes>"
            ],
            "image/png": "[encoded data removed]"
          },
          "metadata": {}
        }
      ]
    },
    {
      "cell_type": "markdown",
      "source": [
        "28. Train a Bagging Classifier using Logistic Regression as a base estimator and print AUC score"
      ],
      "metadata": {
        "id": "z4-GzCZAA-N1"
      }
    },
    {
      "cell_type": "code",
      "metadata": {
        "colab": {
          "base_uri": "https://localhost:8080/"
        },
        "id": "b7fb803d",
        "outputId": "9e49144a-feec-4d3d-a1e2-473b0e5a7c72"
      },
      "source": [
        "from sklearn.ensemble import BaggingClassifier\n",
        "from sklearn.linear_model import LogisticRegression\n",
        "from sklearn.datasets import make_classification\n",
        "from sklearn.model_selection import train_test_split\n",
        "from sklearn.metrics import roc_auc_score\n",
        "\n",
        "# Generate a sample dataset\n",
        "X, y = make_classification(n_samples=1000, n_features=20, random_state=42)\n",
        "\n",
        "# Split the dataset into training and testing sets\n",
        "X_train, X_test, y_train, y_test = train_test_split(X, y, test_size=0.2, random_state=42)\n",
        "\n",
        "# Create a Bagging Classifier with Logistic Regression as base estimator\n",
        "bagging_clf_lr = BaggingClassifier(estimator=LogisticRegression(), n_estimators=10, random_state=42)\n",
        "\n",
        "# Train the Bagging Classifier\n",
        "bagging_clf_lr.fit(X_train, y_train)\n",
        "\n",
        "# Make probability predictions on the test set\n",
        "y_pred_proba_lr = bagging_clf_lr.predict_proba(X_test)[:, 1]\n",
        "\n",
        "# Calculate and print the AUC score\n",
        "auc_score = roc_auc_score(y_test, y_pred_proba_lr)\n",
        "print(f\"AUC Score of Bagging Classifier with Logistic Regression: {auc_score:.4f}\")"
      ],
      "execution_count": 9,
      "outputs": [
        {
          "output_type": "stream",
          "name": "stdout",
          "text": [
            "AUC Score of Bagging Classifier with Logistic Regression: 0.9225\n"
          ]
        }
      ]
    },
    {
      "cell_type": "markdown",
      "source": [
        "29. Train a Random Forest Regressor and analyze feature importance scores"
      ],
      "metadata": {
        "id": "pmQ7ZFS9BHuX"
      }
    },
    {
      "cell_type": "code",
      "metadata": {
        "colab": {
          "base_uri": "https://localhost:8080/"
        },
        "id": "ed803bb3",
        "outputId": "160c6cf3-1a1f-4bea-abfd-7bd7354b7eeb"
      },
      "source": [
        "from sklearn.ensemble import RandomForestRegressor\n",
        "from sklearn.datasets import make_regression\n",
        "from sklearn.model_selection import train_test_split\n",
        "import pandas as pd\n",
        "\n",
        "# Generate a sample regression dataset (reusing the one from previous steps)\n",
        "X_reg, y_reg = make_regression(n_samples=1000, n_features=20, random_state=42)\n",
        "# Assuming feature names are not available for make_regression,\n",
        "# we'll create generic names for demonstration\n",
        "feature_names_reg = [f'feature_{i}' for i in range(X_reg.shape[1])]\n",
        "\n",
        "# Split the dataset into training and testing sets\n",
        "X_train_reg, X_test_reg, y_train_reg, y_test_reg = train_test_split(X_reg, y_reg, test_size=0.2, random_state=42)\n",
        "\n",
        "# Create a Random Forest Regressor\n",
        "rf_reg = RandomForestRegressor(n_estimators=100, random_state=42)\n",
        "\n",
        "# Train the Random Forest Regressor\n",
        "rf_reg.fit(X_train_reg, y_train_reg)\n",
        "\n",
        "# Get feature importances\n",
        "feature_importances_reg = rf_reg.feature_importances_\n",
        "\n",
        "# Create a pandas Series for better visualization\n",
        "importance_df_reg = pd.Series(feature_importances_reg, index=feature_names_reg)\n",
        "\n",
        "# Sort feature importances in descending order\n",
        "sorted_importance_df_reg = importance_df_reg.sort_values(ascending=False)\n",
        "\n",
        "# Print feature importances\n",
        "print(\"Feature Importances for Random Forest Regressor:\")\n",
        "print(sorted_importance_df_reg)"
      ],
      "execution_count": 10,
      "outputs": [
        {
          "output_type": "stream",
          "name": "stdout",
          "text": [
            "Feature Importances for Random Forest Regressor:\n",
            "feature_16    0.278247\n",
            "feature_4     0.200561\n",
            "feature_15    0.145842\n",
            "feature_5     0.125427\n",
            "feature_2     0.101418\n",
            "feature_18    0.022312\n",
            "feature_1     0.016148\n",
            "feature_10    0.009990\n",
            "feature_17    0.009499\n",
            "feature_12    0.009324\n",
            "feature_11    0.009227\n",
            "feature_14    0.009062\n",
            "feature_13    0.008921\n",
            "feature_9     0.008675\n",
            "feature_8     0.008085\n",
            "feature_6     0.008013\n",
            "feature_7     0.007857\n",
            "feature_19    0.007358\n",
            "feature_0     0.007162\n",
            "feature_3     0.006872\n",
            "dtype: float64\n"
          ]
        }
      ]
    },
    {
      "cell_type": "markdown",
      "source": [
        "30. Train an ensemble model using both Bagging and Random Forest and compare accuracy"
      ],
      "metadata": {
        "id": "RIR6g_qYBOuI"
      }
    },
    {
      "cell_type": "code",
      "source": [
        "from sklearn.datasets import load_iris\n",
        "from sklearn.ensemble import BaggingClassifier, RandomForestClassifier\n",
        "from sklearn.tree import DecisionTreeClassifier\n",
        "from sklearn.model_selection import train_test_split\n",
        "from sklearn.metrics import accuracy_score\n",
        "import matplotlib.pyplot as plt\n",
        "import numpy as np\n",
        "\n",
        "# Load dataset\n",
        "iris = load_iris()\n",
        "X, y = iris.data, iris.target\n",
        "\n",
        "# Split dataset into training and test sets\n",
        "X_train, X_test, y_train, y_test = train_test_split(X, y, test_size=0.3, random_state=42)\n",
        "\n",
        "# --- 1. Train a Bagging Classifier with DecisionTree as base estimator ---\n",
        "bagging_clf = BaggingClassifier(\n",
        "    base_estimator=DecisionTreeClassifier(),\n",
        "    n_estimators=100,\n",
        "    random_state=42\n",
        ")\n",
        "bagging_clf.fit(X_train, y_train)\n",
        "bagging_pred = bagging_clf.predict(X_test)\n",
        "\n",
        "# --- 2. Train a Random Forest Classifier ---\n",
        "rf_clf = RandomForestClassifier(n_estimators=100, random_state=42)\n",
        "rf_clf.fit(X_train, y_train)\n",
        "rf_pred = rf_clf.predict(X_test)\n",
        "\n",
        "# --- 3. Accuracy Comparison ---\n",
        "bagging_acc = accuracy_score(y_test, bagging_pred)\n",
        "rf_acc = accuracy_score(y_test, rf_pred)\n",
        "\n",
        "print(f\"Bagging Classifier Accuracy:      {bagging_acc:.4f}\")\n",
        "print(f\"Random Forest Classifier Accuracy:{rf_acc:.4f}\")\n",
        "\n",
        "# --- 4. Feature Importance Plot (Random Forest only) ---\n",
        "plt.figure(figsize=(8, 5))\n",
        "plt.bar(iris.feature_names, rf_clf.feature_importances_, color='green')\n",
        "plt.title(\"Feature Importances from Random Forest\")\n",
        "plt.xlabel(\"Features\")\n",
        "plt.ylabel(\"Importance\")\n",
        "plt.grid(True)\n",
        "plt.tight_layout()\n",
        "plt.show()\n"
      ],
      "metadata": {
        "colab": {
          "base_uri": "https://localhost:8080/",
          "height": 211
        },
        "id": "8Xb8DpB8BjFv",
        "outputId": "b621677a-70d2-47f7-918b-d98a4fcd5de9"
      },
      "execution_count": 11,
      "outputs": [
        {
          "output_type": "error",
          "ename": "TypeError",
          "evalue": "BaggingClassifier.__init__() got an unexpected keyword argument 'base_estimator'",
          "traceback": [
            "\u001b[0;31m---------------------------------------------------------------------------\u001b[0m",
            "\u001b[0;31mTypeError\u001b[0m                                 Traceback (most recent call last)",
            "\u001b[0;32m/tmp/ipython-input-11-1246234304.py\u001b[0m in \u001b[0;36m<cell line: 0>\u001b[0;34m()\u001b[0m\n\u001b[1;32m     15\u001b[0m \u001b[0;34m\u001b[0m\u001b[0m\n\u001b[1;32m     16\u001b[0m \u001b[0;31m# --- 1. Train a Bagging Classifier with DecisionTree as base estimator ---\u001b[0m\u001b[0;34m\u001b[0m\u001b[0;34m\u001b[0m\u001b[0m\n\u001b[0;32m---> 17\u001b[0;31m bagging_clf = BaggingClassifier(\n\u001b[0m\u001b[1;32m     18\u001b[0m     \u001b[0mbase_estimator\u001b[0m\u001b[0;34m=\u001b[0m\u001b[0mDecisionTreeClassifier\u001b[0m\u001b[0;34m(\u001b[0m\u001b[0;34m)\u001b[0m\u001b[0;34m,\u001b[0m\u001b[0;34m\u001b[0m\u001b[0;34m\u001b[0m\u001b[0m\n\u001b[1;32m     19\u001b[0m     \u001b[0mn_estimators\u001b[0m\u001b[0;34m=\u001b[0m\u001b[0;36m100\u001b[0m\u001b[0;34m,\u001b[0m\u001b[0;34m\u001b[0m\u001b[0;34m\u001b[0m\u001b[0m\n",
            "\u001b[0;31mTypeError\u001b[0m: BaggingClassifier.__init__() got an unexpected keyword argument 'base_estimator'"
          ]
        }
      ]
    },
    {
      "cell_type": "markdown",
      "source": [
        "31.  Train a Random Forest Classifier and tune hyperparameters using GridSearchCV"
      ],
      "metadata": {
        "id": "cLkc2O7EBnOT"
      }
    },
    {
      "cell_type": "code",
      "metadata": {
        "colab": {
          "base_uri": "https://localhost:8080/"
        },
        "id": "2e915678",
        "outputId": "3ebd03fd-14a6-4bc7-ef20-600bdf4950fe"
      },
      "source": [
        "from sklearn.ensemble import RandomForestClassifier\n",
        "from sklearn.datasets import load_breast_cancer\n",
        "from sklearn.model_selection import train_test_split, GridSearchCV\n",
        "\n",
        "# Load the Breast Cancer dataset\n",
        "breast_cancer = load_breast_cancer()\n",
        "X, y = breast_cancer.data, breast_cancer.target\n",
        "\n",
        "# Split the dataset into training and testing sets (for final evaluation, though GridSearchCV handles its own validation)\n",
        "X_train, X_test, y_train, y_test = train_test_split(X, y, test_size=0.2, random_state=42)\n",
        "\n",
        "# Create a Random Forest Classifier\n",
        "rf_clf = RandomForestClassifier(random_state=42)\n",
        "\n",
        "# Define the parameter grid to tune\n",
        "param_grid = {\n",
        "    'n_estimators': [50, 100, 200],\n",
        "    'max_depth': [None, 10, 20],\n",
        "    'min_samples_split': [2, 5, 10]\n",
        "}\n",
        "\n",
        "# Create GridSearchCV object\n",
        "grid_search = GridSearchCV(estimator=rf_clf, param_grid=param_grid, cv=5, scoring='accuracy', n_jobs=-1)\n",
        "\n",
        "# Perform GridSearchCV to find the best hyperparameters\n",
        "grid_search.fit(X_train, y_train)\n",
        "\n",
        "# Print the best hyperparameters and best score\n",
        "print(\"Best Hyperparameters found by GridSearchCV:\")\n",
        "print(grid_search.best_params_)\n",
        "print(f\"\\nBest Cross-Validation Accuracy: {grid_search.best_score_:.4f}\")\n",
        "\n",
        "# You can also evaluate the best model on the test set\n",
        "best_rf_clf = grid_search.best_estimator_\n",
        "test_accuracy = best_rf_clf.score(X_test, y_test)\n",
        "print(f\"Test Set Accuracy with Best Model: {test_accuracy:.4f}\")"
      ],
      "execution_count": 12,
      "outputs": [
        {
          "output_type": "stream",
          "name": "stdout",
          "text": [
            "Best Hyperparameters found by GridSearchCV:\n",
            "{'max_depth': None, 'min_samples_split': 2, 'n_estimators': 200}\n",
            "\n",
            "Best Cross-Validation Accuracy: 0.9626\n",
            "Test Set Accuracy with Best Model: 0.9649\n"
          ]
        }
      ]
    },
    {
      "cell_type": "markdown",
      "source": [
        "32. Train a Bagging Regressor with different numbers of base estimators and compare performance=\n"
      ],
      "metadata": {
        "id": "raZ7hMOzBxrD"
      }
    },
    {
      "cell_type": "code",
      "metadata": {
        "colab": {
          "base_uri": "https://localhost:8080/",
          "height": 651
        },
        "id": "16c3f875",
        "outputId": "6a8276a5-154d-4a3c-e895-a3dc9bd9d636"
      },
      "source": [
        "from sklearn.ensemble import BaggingRegressor\n",
        "from sklearn.tree import DecisionTreeRegressor\n",
        "from sklearn.datasets import make_regression\n",
        "from sklearn.model_selection import train_test_split\n",
        "from sklearn.metrics import mean_squared_error\n",
        "import matplotlib.pyplot as plt\n",
        "\n",
        "# Generate a sample regression dataset\n",
        "X_reg, y_reg = make_regression(n_samples=1000, n_features=20, random_state=42)\n",
        "\n",
        "# Split the dataset into training and testing sets\n",
        "X_train_reg, X_test_reg, y_train_reg, y_test_reg = train_test_split(X_reg, y_reg, test_size=0.2, random_state=42)\n",
        "\n",
        "# Define a list of different numbers of estimators to experiment with\n",
        "n_estimators_list = [10, 50, 100, 200, 500]\n",
        "mse_scores = []\n",
        "\n",
        "# Train Bagging Regressors with different numbers of estimators\n",
        "for n_estimators in n_estimators_list:\n",
        "    bagging_reg = BaggingRegressor(estimator=DecisionTreeRegressor(), n_estimators=n_estimators, random_state=42)\n",
        "    bagging_reg.fit(X_train_reg, y_train_reg)\n",
        "    y_pred_reg = bagging_reg.predict(X_test_reg)\n",
        "    mse = mean_squared_error(y_test_reg, y_pred_reg)\n",
        "    mse_scores.append(mse)\n",
        "    print(f\"Mean Squared Error with {n_estimators} estimators: {mse:.4f}\")\n",
        "\n",
        "# Plot the MSE scores\n",
        "plt.figure(figsize=(10, 6))\n",
        "plt.plot(n_estimators_list, mse_scores, marker='o')\n",
        "plt.title('Bagging Regressor MSE vs. Number of Estimators')\n",
        "plt.xlabel('Number of Estimators')\n",
        "plt.ylabel('Mean Squared Error')\n",
        "plt.grid(True)\n",
        "plt.show()"
      ],
      "execution_count": 13,
      "outputs": [
        {
          "output_type": "stream",
          "name": "stdout",
          "text": [
            "Mean Squared Error with 10 estimators: 9462.9922\n",
            "Mean Squared Error with 50 estimators: 8308.5761\n",
            "Mean Squared Error with 100 estimators: 8517.4262\n",
            "Mean Squared Error with 200 estimators: 8528.9142\n",
            "Mean Squared Error with 500 estimators: 8455.3053\n"
          ]
        },
        {
          "output_type": "display_data",
          "data": {
            "text/plain": [
              "<Figure size 1000x600 with 1 Axes>"
            ],
            "image/png": "[encoded data removed]"
          },
          "metadata": {}
        }
      ]
    },
    {
      "cell_type": "markdown",
      "source": [
        "33.  Train a Random Forest Classifier and analyze misclassified samples"
      ],
      "metadata": {
        "id": "35hjErRpCA6G"
      }
    },
    {
      "cell_type": "code",
      "metadata": {
        "colab": {
          "base_uri": "https://localhost:8080/",
          "height": 415
        },
        "id": "2433be40",
        "outputId": "d8083101-9f4a-4dec-c872-ed1f434629a5"
      },
      "source": [
        "from sklearn.ensemble import RandomForestClassifier\n",
        "from sklearn.datasets import load_breast_cancer\n",
        "from sklearn.model_selection import train_test_split\n",
        "import pandas as pd\n",
        "\n",
        "# Load the Breast Cancer dataset\n",
        "breast_cancer = load_breast_cancer()\n",
        "X, y = breast_cancer.data, breast_cancer.target\n",
        "feature_names = breast_cancer.feature_names\n",
        "target_names = breast_cancer.target_names # To interpret the class labels\n",
        "\n",
        "# Split the dataset into training and testing sets\n",
        "X_train, X_test, y_train, y_test = train_test_split(X, y, test_size=0.2, random_state=42)\n",
        "\n",
        "# Create a Random Forest Classifier\n",
        "rf_clf = RandomForestClassifier(n_estimators=100, random_state=42)\n",
        "\n",
        "# Train the Random Forest Classifier\n",
        "rf_clf.fit(X_train, y_train)\n",
        "\n",
        "# Make predictions on the test set\n",
        "y_pred = rf_clf.predict(X_test)\n",
        "\n",
        "# Identify misclassified samples\n",
        "misclassified_indices = [i for i, (true, pred) in enumerate(zip(y_test, y_pred)) if true != pred]\n",
        "\n",
        "print(f\"Number of misclassified samples: {len(misclassified_indices)}\")\n",
        "\n",
        "if len(misclassified_indices) > 0:\n",
        "    print(\"\\nDetails of misclassified samples (Index, True Label, Predicted Label):\")\n",
        "    for i in misclassified_indices:\n",
        "        true_label = target_names[y_test[i]]\n",
        "        predicted_label = target_names[y_pred[i]]\n",
        "        print(f\"Index: {i}, True: {true_label}, Predicted: {predicted_label}\")\n",
        "\n",
        "    # Optionally, display the feature values for a few misclassified samples\n",
        "    print(\"\\nFeature values for the first 5 misclassified samples:\")\n",
        "    misclassified_data = pd.DataFrame(X_test[misclassified_indices[:5]], columns=feature_names)\n",
        "    display(misclassified_data)\n",
        "else:\n",
        "    print(\"\\nThere were no misclassified samples in the test set.\")"
      ],
      "execution_count": 14,
      "outputs": [
        {
          "output_type": "stream",
          "name": "stdout",
          "text": [
            "Number of misclassified samples: 4\n",
            "\n",
            "Details of misclassified samples (Index, True Label, Predicted Label):\n",
            "Index: 8, True: benign, Predicted: malignant\n",
            "Index: 20, True: malignant, Predicted: benign\n",
            "Index: 77, True: malignant, Predicted: benign\n",
            "Index: 82, True: malignant, Predicted: benign\n",
            "\n",
            "Feature values for the first 5 misclassified samples:\n"
          ]
        },
        {
          "output_type": "display_data",
          "data": {
            "text/plain": [
              "   mean radius  mean texture  mean perimeter  mean area  mean smoothness  \\\n",
              "0        13.34         15.86           86.49      520.0          0.10780   \n",
              "1        13.80         15.79           90.43      584.1          0.10070   \n",
              "2        13.96         17.05           91.43      602.4          0.10960   \n",
              "3        14.48         21.46           94.25      648.2          0.09444   \n",
              "\n",
              "   mean compactness  mean concavity  mean concave points  mean symmetry  \\\n",
              "0           0.15350         0.11690              0.06987         0.1942   \n",
              "1           0.12800         0.07789              0.05069         0.1662   \n",
              "2           0.12790         0.09789              0.05246         0.1908   \n",
              "3           0.09947         0.12040              0.04938         0.2075   \n",
              "\n",
              "   mean fractal dimension  ...  worst radius  worst texture  worst perimeter  \\\n",
              "0                 0.06902  ...         15.53          23.19            96.66   \n",
              "1                 0.06566  ...         16.57          20.86           110.30   \n",
              "2                 0.06130  ...         16.39          22.07           108.10   \n",
              "3                 0.05636  ...         16.21          29.25           108.40   \n",
              "\n",
              "   worst area  worst smoothness  worst compactness  worst concavity  \\\n",
              "0       614.9            0.1536             0.4791           0.4858   \n",
              "1       812.4            0.1411             0.3542           0.2779   \n",
              "2       826.0            0.1512             0.3262           0.3209   \n",
              "3       808.9            0.1306             0.1976           0.3349   \n",
              "\n",
              "   worst concave points  worst symmetry  worst fractal dimension  \n",
              "0                0.1708          0.3527                  0.10160  \n",
              "1                0.1383          0.2589                  0.10300  \n",
              "2                0.1374          0.3068                  0.07957  \n",
              "3                0.1225          0.3020                  0.06846  \n",
              "\n",
              "[4 rows x 30 columns]"
            ],
            "text/html": [
              "\n",
              "  <div id=\"df-c364b7bc-6e1c-4cc3-9ba2-acb6e00d40fa\" class=\"colab-df-container\">\n",
              "    <div>\n",
              "<style scoped>\n",
              "    .dataframe tbody tr th:only-of-type {\n",
              "        vertical-align: middle;\n",
              "    }\n",
              "\n",
              "    .dataframe tbody tr th {\n",
              "        vertical-align: top;\n",
              "    }\n",
              "\n",
              "    .dataframe thead th {\n",
              "        text-align: right;\n",
              "    }\n",
              "</style>\n",
              "<table border=\"1\" class=\"dataframe\">\n",
              "  <thead>\n",
              "    <tr style=\"text-align: right;\">\n",
              "      <th></th>\n",
              "      <th>mean radius</th>\n",
              "      <th>mean texture</th>\n",
              "      <th>mean perimeter</th>\n",
              "      <th>mean area</th>\n",
              "      <th>mean smoothness</th>\n",
              "      <th>mean compactness</th>\n",
              "      <th>mean concavity</th>\n",
              "      <th>mean concave points</th>\n",
              "      <th>mean symmetry</th>\n",
              "      <th>mean fractal dimension</th>\n",
              "      <th>...</th>\n",
              "      <th>worst radius</th>\n",
              "      <th>worst texture</th>\n",
              "      <th>worst perimeter</th>\n",
              "      <th>worst area</th>\n",
              "      <th>worst smoothness</th>\n",
              "      <th>worst compactness</th>\n",
              "      <th>worst concavity</th>\n",
              "      <th>worst concave points</th>\n",
              "      <th>worst symmetry</th>\n",
              "      <th>worst fractal dimension</th>\n",
              "    </tr>\n",
              "  </thead>\n",
              "  <tbody>\n",
              "    <tr>\n",
              "      <th>0</th>\n",
              "      <td>13.34</td>\n",
              "      <td>15.86</td>\n",
              "      <td>86.49</td>\n",
              "      <td>520.0</td>\n",
              "      <td>0.10780</td>\n",
              "      <td>0.15350</td>\n",
              "      <td>0.11690</td>\n",
              "      <td>0.06987</td>\n",
              "      <td>0.1942</td>\n",
              "      <td>0.06902</td>\n",
              "      <td>...</td>\n",
              "      <td>15.53</td>\n",
              "      <td>23.19</td>\n",
              "      <td>96.66</td>\n",
              "      <td>614.9</td>\n",
              "      <td>0.1536</td>\n",
              "      <td>0.4791</td>\n",
              "      <td>0.4858</td>\n",
              "      <td>0.1708</td>\n",
              "      <td>0.3527</td>\n",
              "      <td>0.10160</td>\n",
              "    </tr>\n",
              "    <tr>\n",
              "      <th>1</th>\n",
              "      <td>13.80</td>\n",
              "      <td>15.79</td>\n",
              "      <td>90.43</td>\n",
              "      <td>584.1</td>\n",
              "      <td>0.10070</td>\n",
              "      <td>0.12800</td>\n",
              "      <td>0.07789</td>\n",
              "      <td>0.05069</td>\n",
              "      <td>0.1662</td>\n",
              "      <td>0.06566</td>\n",
              "      <td>...</td>\n",
              "      <td>16.57</td>\n",
              "      <td>20.86</td>\n",
              "      <td>110.30</td>\n",
              "      <td>812.4</td>\n",
              "      <td>0.1411</td>\n",
              "      <td>0.3542</td>\n",
              "      <td>0.2779</td>\n",
              "      <td>0.1383</td>\n",
              "      <td>0.2589</td>\n",
              "      <td>0.10300</td>\n",
              "    </tr>\n",
              "    <tr>\n",
              "      <th>2</th>\n",
              "      <td>13.96</td>\n",
              "      <td>17.05</td>\n",
              "      <td>91.43</td>\n",
              "      <td>602.4</td>\n",
              "      <td>0.10960</td>\n",
              "      <td>0.12790</td>\n",
              "      <td>0.09789</td>\n",
              "      <td>0.05246</td>\n",
              "      <td>0.1908</td>\n",
              "      <td>0.06130</td>\n",
              "      <td>...</td>\n",
              "      <td>16.39</td>\n",
              "      <td>22.07</td>\n",
              "      <td>108.10</td>\n",
              "      <td>826.0</td>\n",
              "      <td>0.1512</td>\n",
              "      <td>0.3262</td>\n",
              "      <td>0.3209</td>\n",
              "      <td>0.1374</td>\n",
              "      <td>0.3068</td>\n",
              "      <td>0.07957</td>\n",
              "    </tr>\n",
              "    <tr>\n",
              "      <th>3</th>\n",
              "      <td>14.48</td>\n",
              "      <td>21.46</td>\n",
              "      <td>94.25</td>\n",
              "      <td>648.2</td>\n",
              "      <td>0.09444</td>\n",
              "      <td>0.09947</td>\n",
              "      <td>0.12040</td>\n",
              "      <td>0.04938</td>\n",
              "      <td>0.2075</td>\n",
              "      <td>0.05636</td>\n",
              "      <td>...</td>\n",
              "      <td>16.21</td>\n",
              "      <td>29.25</td>\n",
              "      <td>108.40</td>\n",
              "      <td>808.9</td>\n",
              "      <td>0.1306</td>\n",
              "      <td>0.1976</td>\n",
              "      <td>0.3349</td>\n",
              "      <td>0.1225</td>\n",
              "      <td>0.3020</td>\n",
              "      <td>0.06846</td>\n",
              "    </tr>\n",
              "  </tbody>\n",
              "</table>\n",
              "<p>4 rows × 30 columns</p>\n",
              "</div>\n",
              "    <div class=\"colab-df-buttons\">\n",
              "\n",
              "  <div class=\"colab-df-container\">\n",
              "    <button class=\"colab-df-convert\" onclick=\"convertToInteractive('df-c364b7bc-6e1c-4cc3-9ba2-acb6e00d40fa')\"\n",
              "            title=\"Convert this dataframe to an interactive table.\"\n",
              "            style=\"display:none;\">\n",
              "\n",
              "  <svg xmlns=\"http://www.w3.org/2000/svg\" height=\"24px\" viewBox=\"0 -960 960 960\">\n",
              "    <path d=\"M120-120v-720h720v720H120Zm60-500h600v-160H180v160Zm220 220h160v-160H400v160Zm0 220h160v-160H400v160ZM180-400h160v-160H180v160Zm440 0h160v-160H620v160ZM180-180h160v-160H180v160Zm440 0h160v-160H620v160Z\"/>\n",
              "  </svg>\n",
              "    </button>\n",
              "\n",
              "  <style>\n",
              "    .colab-df-container {\n",
              "      display:flex;\n",
              "      gap: 12px;\n",
              "    }\n",
              "\n",
              "    .colab-df-convert {\n",
              "      background-color: #E8F0FE;\n",
              "      border: none;\n",
              "      border-radius: 50%;\n",
              "      cursor: pointer;\n",
              "      display: none;\n",
              "      fill: #1967D2;\n",
              "      height: 32px;\n",
              "      padding: 0 0 0 0;\n",
              "      width: 32px;\n",
              "    }\n",
              "\n",
              "    .colab-df-convert:hover {\n",
              "      background-color: #E2EBFA;\n",
              "      box-shadow: 0px 1px 2px rgba(60, 64, 67, 0.3), 0px 1px 3px 1px rgba(60, 64, 67, 0.15);\n",
              "      fill: #174EA6;\n",
              "    }\n",
              "\n",
              "    .colab-df-buttons div {\n",
              "      margin-bottom: 4px;\n",
              "    }\n",
              "\n",
              "    [theme=dark] .colab-df-convert {\n",
              "      background-color: #3B4455;\n",
              "      fill: #D2E3FC;\n",
              "    }\n",
              "\n",
              "    [theme=dark] .colab-df-convert:hover {\n",
              "      background-color: #434B5C;\n",
              "      box-shadow: 0px 1px 3px 1px rgba(0, 0, 0, 0.15);\n",
              "      filter: drop-shadow(0px 1px 2px rgba(0, 0, 0, 0.3));\n",
              "      fill: #FFFFFF;\n",
              "    }\n",
              "  </style>\n",
              "\n",
              "    <script>\n",
              "      const buttonEl =\n",
              "        document.querySelector('#df-c364b7bc-6e1c-4cc3-9ba2-acb6e00d40fa button.colab-df-convert');\n",
              "      buttonEl.style.display =\n",
              "        google.colab.kernel.accessAllowed ? 'block' : 'none';\n",
              "\n",
              "      async function convertToInteractive(key) {\n",
              "        const element = document.querySelector('#df-c364b7bc-6e1c-4cc3-9ba2-acb6e00d40fa');\n",
              "        const dataTable =\n",
              "          await google.colab.kernel.invokeFunction('convertToInteractive',\n",
              "                                                    [key], {});\n",
              "        if (!dataTable) return;\n",
              "\n",
              "        const docLinkHtml = 'Like what you see? Visit the ' +\n",
              "          '<a target=\"_blank\" href=https://colab.research.google.com/notebooks/data_table.ipynb>data table notebook</a>'\n",
              "          + ' to learn more about interactive tables.';\n",
              "        element.innerHTML = '';\n",
              "        dataTable['output_type'] = 'display_data';\n",
              "        await google.colab.output.renderOutput(dataTable, element);\n",
              "        const docLink = document.createElement('div');\n",
              "        docLink.innerHTML = docLinkHtml;\n",
              "        element.appendChild(docLink);\n",
              "      }\n",
              "    </script>\n",
              "  </div>\n",
              "\n",
              "\n",
              "    <div id=\"df-6b5fe03c-a8df-429e-91bc-595955fd7248\">\n",
              "      <button class=\"colab-df-quickchart\" onclick=\"quickchart('df-6b5fe03c-a8df-429e-91bc-595955fd7248')\"\n",
              "                title=\"Suggest charts\"\n",
              "                style=\"display:none;\">\n",
              "\n",
              "<svg xmlns=\"http://www.w3.org/2000/svg\" height=\"24px\"viewBox=\"0 0 24 24\"\n",
              "     width=\"24px\">\n",
              "    <g>\n",
              "        <path d=\"M19 3H5c-1.1 0-2 .9-2 2v14c0 1.1.9 2 2 2h14c1.1 0 2-.9 2-2V5c0-1.1-.9-2-2-2zM9 17H7v-7h2v7zm4 0h-2V7h2v10zm4 0h-2v-4h2v4z\"/>\n",
              "    </g>\n",
              "</svg>\n",
              "      </button>\n",
              "\n",
              "<style>\n",
              "  .colab-df-quickchart {\n",
              "      --bg-color: #E8F0FE;\n",
              "      --fill-color: #1967D2;\n",
              "      --hover-bg-color: #E2EBFA;\n",
              "      --hover-fill-color: #174EA6;\n",
              "      --disabled-fill-color: #AAA;\n",
              "      --disabled-bg-color: #DDD;\n",
              "  }\n",
              "\n",
              "  [theme=dark] .colab-df-quickchart {\n",
              "      --bg-color: #3B4455;\n",
              "      --fill-color: #D2E3FC;\n",
              "      --hover-bg-color: #434B5C;\n",
              "      --hover-fill-color: #FFFFFF;\n",
              "      --disabled-bg-color: #3B4455;\n",
              "      --disabled-fill-color: #666;\n",
              "  }\n",
              "\n",
              "  .colab-df-quickchart {\n",
              "    background-color: var(--bg-color);\n",
              "    border: none;\n",
              "    border-radius: 50%;\n",
              "    cursor: pointer;\n",
              "    display: none;\n",
              "    fill: var(--fill-color);\n",
              "    height: 32px;\n",
              "    padding: 0;\n",
              "    width: 32px;\n",
              "  }\n",
              "\n",
              "  .colab-df-quickchart:hover {\n",
              "    background-color: var(--hover-bg-color);\n",
              "    box-shadow: 0 1px 2px rgba(60, 64, 67, 0.3), 0 1px 3px 1px rgba(60, 64, 67, 0.15);\n",
              "    fill: var(--button-hover-fill-color);\n",
              "  }\n",
              "\n",
              "  .colab-df-quickchart-complete:disabled,\n",
              "  .colab-df-quickchart-complete:disabled:hover {\n",
              "    background-color: var(--disabled-bg-color);\n",
              "    fill: var(--disabled-fill-color);\n",
              "    box-shadow: none;\n",
              "  }\n",
              "\n",
              "  .colab-df-spinner {\n",
              "    border: 2px solid var(--fill-color);\n",
              "    border-color: transparent;\n",
              "    border-bottom-color: var(--fill-color);\n",
              "    animation:\n",
              "      spin 1s steps(1) infinite;\n",
              "  }\n",
              "\n",
              "  @keyframes spin {\n",
              "    0% {\n",
              "      border-color: transparent;\n",
              "      border-bottom-color: var(--fill-color);\n",
              "      border-left-color: var(--fill-color);\n",
              "    }\n",
              "    20% {\n",
              "      border-color: transparent;\n",
              "      border-left-color: var(--fill-color);\n",
              "      border-top-color: var(--fill-color);\n",
              "    }\n",
              "    30% {\n",
              "      border-color: transparent;\n",
              "      border-left-color: var(--fill-color);\n",
              "      border-top-color: var(--fill-color);\n",
              "      border-right-color: var(--fill-color);\n",
              "    }\n",
              "    40% {\n",
              "      border-color: transparent;\n",
              "      border-right-color: var(--fill-color);\n",
              "      border-top-color: var(--fill-color);\n",
              "    }\n",
              "    60% {\n",
              "      border-color: transparent;\n",
              "      border-right-color: var(--fill-color);\n",
              "    }\n",
              "    80% {\n",
              "      border-color: transparent;\n",
              "      border-right-color: var(--fill-color);\n",
              "      border-bottom-color: var(--fill-color);\n",
              "    }\n",
              "    90% {\n",
              "      border-color: transparent;\n",
              "      border-bottom-color: var(--fill-color);\n",
              "    }\n",
              "  }\n",
              "</style>\n",
              "\n",
              "      <script>\n",
              "        async function quickchart(key) {\n",
              "          const quickchartButtonEl =\n",
              "            document.querySelector('#' + key + ' button');\n",
              "          quickchartButtonEl.disabled = true;  // To prevent multiple clicks.\n",
              "          quickchartButtonEl.classList.add('colab-df-spinner');\n",
              "          try {\n",
              "            const charts = await google.colab.kernel.invokeFunction(\n",
              "                'suggestCharts', [key], {});\n",
              "          } catch (error) {\n",
              "            console.error('Error during call to suggestCharts:', error);\n",
              "          }\n",
              "          quickchartButtonEl.classList.remove('colab-df-spinner');\n",
              "          quickchartButtonEl.classList.add('colab-df-quickchart-complete');\n",
              "        }\n",
              "        (() => {\n",
              "          let quickchartButtonEl =\n",
              "            document.querySelector('#df-6b5fe03c-a8df-429e-91bc-595955fd7248 button');\n",
              "          quickchartButtonEl.style.display =\n",
              "            google.colab.kernel.accessAllowed ? 'block' : 'none';\n",
              "        })();\n",
              "      </script>\n",
              "    </div>\n",
              "\n",
              "  <div id=\"id_cfe90bb7-239d-4f65-8255-ee4a31328bb5\">\n",
              "    <style>\n",
              "      .colab-df-generate {\n",
              "        background-color: #E8F0FE;\n",
              "        border: none;\n",
              "        border-radius: 50%;\n",
              "        cursor: pointer;\n",
              "        display: none;\n",
              "        fill: #1967D2;\n",
              "        height: 32px;\n",
              "        padding: 0 0 0 0;\n",
              "        width: 32px;\n",
              "      }\n",
              "\n",
              "      .colab-df-generate:hover {\n",
              "        background-color: #E2EBFA;\n",
              "        box-shadow: 0px 1px 2px rgba(60, 64, 67, 0.3), 0px 1px 3px 1px rgba(60, 64, 67, 0.15);\n",
              "        fill: #174EA6;\n",
              "      }\n",
              "\n",
              "      [theme=dark] .colab-df-generate {\n",
              "        background-color: #3B4455;\n",
              "        fill: #D2E3FC;\n",
              "      }\n",
              "\n",
              "      [theme=dark] .colab-df-generate:hover {\n",
              "        background-color: #434B5C;\n",
              "        box-shadow: 0px 1px 3px 1px rgba(0, 0, 0, 0.15);\n",
              "        filter: drop-shadow(0px 1px 2px rgba(0, 0, 0, 0.3));\n",
              "        fill: #FFFFFF;\n",
              "      }\n",
              "    </style>\n",
              "    <button class=\"colab-df-generate\" onclick=\"generateWithVariable('misclassified_data')\"\n",
              "            title=\"Generate code using this dataframe.\"\n",
              "            style=\"display:none;\">\n",
              "\n",
              "  <svg xmlns=\"http://www.w3.org/2000/svg\" height=\"24px\"viewBox=\"0 0 24 24\"\n",
              "       width=\"24px\">\n",
              "    <path d=\"M7,19H8.4L18.45,9,17,7.55,7,17.6ZM5,21V16.75L18.45,3.32a2,2,0,0,1,2.83,0l1.4,1.43a1.91,1.91,0,0,1,.58,1.4,1.91,1.91,0,0,1-.58,1.4L9.25,21ZM18.45,9,17,7.55Zm-12,3A5.31,5.31,0,0,0,4.9,8.1,5.31,5.31,0,0,0,1,6.5,5.31,5.31,0,0,0,4.9,4.9,5.31,5.31,0,0,0,6.5,1,5.31,5.31,0,0,0,8.1,4.9,5.31,5.31,0,0,0,12,6.5,5.46,5.46,0,0,0,6.5,12Z\"/>\n",
              "  </svg>\n",
              "    </button>\n",
              "    <script>\n",
              "      (() => {\n",
              "      const buttonEl =\n",
              "        document.querySelector('#id_cfe90bb7-239d-4f65-8255-ee4a31328bb5 button.colab-df-generate');\n",
              "      buttonEl.style.display =\n",
              "        google.colab.kernel.accessAllowed ? 'block' : 'none';\n",
              "\n",
              "      buttonEl.onclick = () => {\n",
              "        google.colab.notebook.generateWithVariable('misclassified_data');\n",
              "      }\n",
              "      })();\n",
              "    </script>\n",
              "  </div>\n",
              "\n",
              "    </div>\n",
              "  </div>\n"
            ],
            "application/vnd.google.colaboratory.intrinsic+json": {
              "type": "dataframe",
              "variable_name": "misclassified_data"
            }
          },
          "metadata": {}
        }
      ]
    },
    {
      "cell_type": "markdown",
      "source": [
        "34. Train a Bagging Classifier and compare its performance with a single Decision Tree Classifier"
      ],
      "metadata": {
        "id": "WnmQSmvHCL3X"
      }
    },
    {
      "cell_type": "code",
      "metadata": {
        "colab": {
          "base_uri": "https://localhost:8080/"
        },
        "id": "741f155d",
        "outputId": "ad869efd-c363-4062-fbca-cf14e429dcdf"
      },
      "source": [
        "from sklearn.ensemble import BaggingClassifier\n",
        "from sklearn.tree import DecisionTreeClassifier\n",
        "from sklearn.datasets import make_classification\n",
        "from sklearn.model_selection import train_test_split\n",
        "from sklearn.metrics import accuracy_score\n",
        "\n",
        "# Generate a sample dataset\n",
        "X, y = make_classification(n_samples=1000, n_features=20, random_state=42)\n",
        "\n",
        "# Split the dataset into training and testing sets\n",
        "X_train, X_test, y_train, y_test = train_test_split(X, y, test_size=0.2, random_state=42)\n",
        "\n",
        "# Create a Bagging Classifier with Decision Trees as base estimators\n",
        "bagging_clf = BaggingClassifier(estimator=DecisionTreeClassifier(), n_estimators=10, random_state=42)\n",
        "\n",
        "# Create a single Decision Tree Classifier\n",
        "dt_clf = DecisionTreeClassifier(random_state=42)\n",
        "\n",
        "# Train the Bagging Classifier\n",
        "bagging_clf.fit(X_train, y_train)\n",
        "\n",
        "# Train the single Decision Tree Classifier\n",
        "dt_clf.fit(X_train, y_train)\n",
        "\n",
        "# Make predictions with both models\n",
        "y_pred_bagging = bagging_clf.predict(X_test)\n",
        "y_pred_dt = dt_clf.predict(X_test)\n",
        "\n",
        "# Calculate accuracy for both models\n",
        "accuracy_bagging = accuracy_score(y_test, y_pred_bagging)\n",
        "accuracy_dt = accuracy_score(y_test, y_pred_dt)\n",
        "\n",
        "# Print the accuracies\n",
        "print(f\"Accuracy of Bagging Classifier: {accuracy_bagging:.4f}\")\n",
        "print(f\"Accuracy of Single Decision Tree Classifier: {accuracy_dt:.4f}\")\n",
        "\n",
        "# Compare the performance\n",
        "if accuracy_bagging > accuracy_dt:\n",
        "    print(\"\\nBagging Classifier performed better (higher accuracy).\")\n",
        "elif accuracy_bagging < accuracy_dt:\n",
        "    print(\"\\nSingle Decision Tree Classifier performed better (higher accuracy).\")\n",
        "else:\n",
        "    print(\"\\nBoth models performed equally well (same accuracy).\")"
      ],
      "execution_count": 15,
      "outputs": [
        {
          "output_type": "stream",
          "name": "stdout",
          "text": [
            "Accuracy of Bagging Classifier: 0.8850\n",
            "Accuracy of Single Decision Tree Classifier: 0.8750\n",
            "\n",
            "Bagging Classifier performed better (higher accuracy).\n"
          ]
        }
      ]
    },
    {
      "cell_type": "markdown",
      "source": [
        "35. Train a Random Forest Classifier and visualize the confusion matrix"
      ],
      "metadata": {
        "id": "7RUNeBoRCRBP"
      }
    },
    {
      "cell_type": "code",
      "metadata": {
        "colab": {
          "base_uri": "https://localhost:8080/",
          "height": 472
        },
        "id": "48e22196",
        "outputId": "323747ca-26c0-438e-d7b7-51dd140ed3b4"
      },
      "source": [
        "from sklearn.ensemble import RandomForestClassifier\n",
        "from sklearn.datasets import load_breast_cancer\n",
        "from sklearn.model_selection import train_test_split\n",
        "from sklearn.metrics import confusion_matrix, ConfusionMatrixDisplay\n",
        "import matplotlib.pyplot as plt\n",
        "\n",
        "# Load the Breast Cancer dataset\n",
        "breast_cancer = load_breast_cancer()\n",
        "X, y = breast_cancer.data, breast_cancer.target\n",
        "target_names = breast_cancer.target_names\n",
        "\n",
        "# Split the dataset into training and testing sets\n",
        "X_train, X_test, y_train, y_test = train_test_split(X, y, test_size=0.2, random_state=42)\n",
        "\n",
        "# Create a Random Forest Classifier\n",
        "rf_clf = RandomForestClassifier(n_estimators=100, random_state=42)\n",
        "\n",
        "# Train the Random Forest Classifier\n",
        "rf_clf.fit(X_train, y_train)\n",
        "\n",
        "# Make predictions on the test set\n",
        "y_pred = rf_clf.predict(X_test)\n",
        "\n",
        "# Calculate the confusion matrix\n",
        "cm = confusion_matrix(y_test, y_pred)\n",
        "\n",
        "# Visualize the confusion matrix\n",
        "disp = ConfusionMatrixDisplay(confusion_matrix=cm, display_labels=target_names)\n",
        "disp.plot(cmap=plt.cm.Blues)\n",
        "plt.title('Confusion Matrix for Random Forest Classifier')\n",
        "plt.show()"
      ],
      "execution_count": 16,
      "outputs": [
        {
          "output_type": "display_data",
          "data": {
            "text/plain": [
              "<Figure size 640x480 with 2 Axes>"
            ],
            "image/png": "[encoded data removed]"
          },
          "metadata": {}
        }
      ]
    },
    {
      "cell_type": "markdown",
      "source": [
        "36. Train a Stacking Classifier using Decision Trees, SVM, and Logistic Regression, and compare accuracy="
      ],
      "metadata": {
        "id": "-HxRAOAvCWcK"
      }
    },
    {
      "cell_type": "code",
      "metadata": {
        "colab": {
          "base_uri": "https://localhost:8080/"
        },
        "id": "1d93b391",
        "outputId": "d3ba7948-857d-44af-96ba-c1249a32d335"
      },
      "source": [
        "from sklearn.ensemble import StackingClassifier\n",
        "from sklearn.tree import DecisionTreeClassifier\n",
        "from sklearn.svm import SVC\n",
        "from sklearn.linear_model import LogisticRegression\n",
        "from sklearn.datasets import load_breast_cancer\n",
        "from sklearn.model_selection import train_test_split\n",
        "from sklearn.metrics import accuracy_score\n",
        "\n",
        "# Load the Breast Cancer dataset\n",
        "breast_cancer = load_breast_cancer()\n",
        "X, y = breast_cancer.data, breast_cancer.target\n",
        "\n",
        "# Split the dataset into training and testing sets\n",
        "X_train, X_test, y_train, y_test = train_test_split(X, y, test_size=0.2, random_state=42)\n",
        "\n",
        "# Define the base estimators\n",
        "estimators = [\n",
        "    ('dt', DecisionTreeClassifier(random_state=42)),\n",
        "    ('svm', SVC(probability=True, random_state=42)), # SVM needs probability=True for stacking\n",
        "    ('lr', LogisticRegression(random_state=42))\n",
        "]\n",
        "\n",
        "# Create a Stacking Classifier\n",
        "# The final_estimator is the meta-model that combines the predictions of the base estimators\n",
        "stacking_clf = StackingClassifier(estimators=estimators, final_estimator=LogisticRegression(), cv=5)\n",
        "\n",
        "# Train the Stacking Classifier\n",
        "stacking_clf.fit(X_train, y_train)\n",
        "\n",
        "# Make predictions on the test set\n",
        "y_pred_stacking = stacking_clf.predict(X_test)\n",
        "\n",
        "# Calculate and print the accuracy\n",
        "accuracy_stacking = accuracy_score(y_test, y_pred_stacking)\n",
        "print(f\"Accuracy of Stacking Classifier: {accuracy_stacking:.4f}\")\n",
        "\n",
        "# Optional: Compare with individual base estimators' accuracies\n",
        "# (Assuming you have trained them separately or want to add code to do so)\n",
        "# For demonstration, let's quickly train and evaluate the individual models as well\n",
        "print(\"\\nAccuracy of individual base estimators:\")\n",
        "\n",
        "dt_clf = DecisionTreeClassifier(random_state=42)\n",
        "dt_clf.fit(X_train, y_train)\n",
        "y_pred_dt = dt_clf.predict(X_test)\n",
        "print(f\"  Decision Tree Classifier: {accuracy_score(y_test, y_pred_dt):.4f}\")\n",
        "\n",
        "svm_clf = SVC(random_state=42) # No probability=True needed for simple prediction\n",
        "svm_clf.fit(X_train, y_train)\n",
        "y_pred_svm = svm_clf.predict(X_test)\n",
        "print(f\"  SVM Classifier: {accuracy_score(y_test, y_pred_svm):.4f}\")\n",
        "\n",
        "lr_clf = LogisticRegression(random_state=42)\n",
        "lr_clf.fit(X_train, y_train)\n",
        "y_pred_lr = lr_clf.predict(X_test)\n",
        "print(f\"  Logistic Regression: {accuracy_score(y_test, y_pred_lr):.4f}\")"
      ],
      "execution_count": 17,
      "outputs": [
        {
          "output_type": "stream",
          "name": "stdout",
          "text": [
            "Accuracy of Stacking Classifier: 0.9737\n",
            "\n",
            "Accuracy of individual base estimators:\n",
            "  Decision Tree Classifier: 0.9474\n",
            "  SVM Classifier: 0.9474\n",
            "  Logistic Regression: 0.9561\n"
          ]
        }
      ]
    },
    {
      "cell_type": "markdown",
      "source": [
        "37. Train a Random Forest Classifier and print the top 5 most important features"
      ],
      "metadata": {
        "id": "cV7haHEYCdD_"
      }
    },
    {
      "cell_type": "code",
      "metadata": {
        "colab": {
          "base_uri": "https://localhost:8080/"
        },
        "id": "9e9eaaa2",
        "outputId": "d713a204-767c-488b-9de4-fd2e9227417e"
      },
      "source": [
        "# The feature importances for the Random Forest Classifier on the Breast Cancer dataset\n",
        "# were already calculated and stored in sorted_importance_df\n",
        "print(\"Top 5 Most Important Features:\")\n",
        "print(sorted_importance_df.head())"
      ],
      "execution_count": 18,
      "outputs": [
        {
          "output_type": "stream",
          "name": "stdout",
          "text": [
            "Top 5 Most Important Features:\n",
            "worst area              0.153892\n",
            "worst concave points    0.144663\n",
            "mean concave points     0.106210\n",
            "worst radius            0.077987\n",
            "mean concavity          0.068001\n",
            "dtype: float64\n"
          ]
        }
      ]
    },
    {
      "cell_type": "markdown",
      "source": [
        "38. Train a Bagging Classifier and evaluate performance using Precision, Recall, and F1-score"
      ],
      "metadata": {
        "id": "Q5rZgfEKCii7"
      }
    },
    {
      "cell_type": "code",
      "metadata": {
        "colab": {
          "base_uri": "https://localhost:8080/"
        },
        "id": "c34e83e1",
        "outputId": "780b2a15-c38c-4ad3-ac53-fbf5fbda734b"
      },
      "source": [
        "from sklearn.ensemble import BaggingClassifier\n",
        "from sklearn.tree import DecisionTreeClassifier\n",
        "from sklearn.datasets import make_classification\n",
        "from sklearn.model_selection import train_test_split\n",
        "from sklearn.metrics import precision_score, recall_score, f1_score\n",
        "\n",
        "# Generate a sample dataset\n",
        "X, y = make_classification(n_samples=1000, n_features=20, random_state=42)\n",
        "\n",
        "# Split the dataset into training and testing sets\n",
        "X_train, X_test, y_train, y_test = train_test_split(X, y, test_size=0.2, random_state=42)\n",
        "\n",
        "# Create a Bagging Classifier with Decision Trees as base estimators\n",
        "bagging_clf = BaggingClassifier(estimator=DecisionTreeClassifier(), n_estimators=10, random_state=42)\n",
        "\n",
        "# Train the Bagging Classifier\n",
        "bagging_clf.fit(X_train, y_train)\n",
        "\n",
        "# Make predictions on the test set\n",
        "y_pred = bagging_clf.predict(X_test)\n",
        "\n",
        "# Calculate and print Precision, Recall, and F1-score\n",
        "precision = precision_score(y_test, y_pred)\n",
        "recall = recall_score(y_test, y_pred)\n",
        "f1 = f1_score(y_test, y_pred)\n",
        "\n",
        "print(f\"Precision of Bagging Classifier: {precision:.4f}\")\n",
        "print(f\"Recall of Bagging Classifier: {recall:.4f}\")\n",
        "print(f\"F1-score of Bagging Classifier: {f1:.4f}\")"
      ],
      "execution_count": 19,
      "outputs": [
        {
          "output_type": "stream",
          "name": "stdout",
          "text": [
            "Precision of Bagging Classifier: 0.9565\n",
            "Recall of Bagging Classifier: 0.8224\n",
            "F1-score of Bagging Classifier: 0.8844\n"
          ]
        }
      ]
    },
    {
      "cell_type": "markdown",
      "source": [
        "39. Train a Random Forest Classifier and analyze the effect of max_depth on accuracy"
      ],
      "metadata": {
        "id": "HHwYuK7UCoB7"
      }
    },
    {
      "cell_type": "code",
      "metadata": {
        "colab": {
          "base_uri": "https://localhost:8080/",
          "height": 651
        },
        "id": "998b777c",
        "outputId": "9bfa478b-f08d-4ba3-9165-7320fcd7740c"
      },
      "source": [
        "from sklearn.ensemble import RandomForestClassifier\n",
        "from sklearn.datasets import load_breast_cancer\n",
        "from sklearn.model_selection import train_test_split\n",
        "from sklearn.metrics import accuracy_score\n",
        "import matplotlib.pyplot as plt\n",
        "\n",
        "# Load the Breast Cancer dataset\n",
        "breast_cancer = load_breast_cancer()\n",
        "X, y = breast_cancer.data, breast_cancer.target\n",
        "\n",
        "# Split the dataset into training and testing sets\n",
        "X_train, X_test, y_train, y_test = train_test_split(X, y, test_size=0.2, random_state=42)\n",
        "\n",
        "# Define a list of different max_depth values to experiment with\n",
        "# None means nodes are expanded until all leaves are pure or contain less than min_samples_split samples.\n",
        "max_depth_list = [None, 5, 10, 15, 20]\n",
        "accuracies = []\n",
        "\n",
        "# Train Random Forest Classifiers with different max_depth values\n",
        "for max_depth in max_depth_list:\n",
        "    rf_clf = RandomForestClassifier(n_estimators=100, max_depth=max_depth, random_state=42)\n",
        "    rf_clf.fit(X_train, y_train)\n",
        "    y_pred = rf_clf.predict(X_test)\n",
        "    accuracy = accuracy_score(y_test, y_pred)\n",
        "    accuracies.append(accuracy)\n",
        "    # Print max_depth as 'None' if it's None for better readability\n",
        "    depth_label = 'None' if max_depth is None else max_depth\n",
        "    print(f\"Accuracy with max_depth={depth_label}: {accuracy:.4f}\")\n",
        "\n",
        "# Plot the accuracies\n",
        "plt.figure(figsize=(10, 6))\n",
        "# Use string labels for the x-axis if None is included\n",
        "x_labels = ['None' if md is None else str(md) for md in max_depth_list]\n",
        "plt.plot(x_labels, accuracies, marker='o')\n",
        "plt.title('Random Forest Classifier Accuracy vs. max_depth')\n",
        "plt.xlabel('max_depth')\n",
        "plt.ylabel('Accuracy')\n",
        "plt.grid(True)\n",
        "plt.show()"
      ],
      "execution_count": 20,
      "outputs": [
        {
          "output_type": "stream",
          "name": "stdout",
          "text": [
            "Accuracy with max_depth=None: 0.9649\n",
            "Accuracy with max_depth=5: 0.9649\n",
            "Accuracy with max_depth=10: 0.9649\n",
            "Accuracy with max_depth=15: 0.9649\n",
            "Accuracy with max_depth=20: 0.9649\n"
          ]
        },
        {
          "output_type": "display_data",
          "data": {
            "text/plain": [
              "<Figure size 1000x600 with 1 Axes>"
            ],
            "image/png": "[encoded data removed]"
          },
          "metadata": {}
        }
      ]
    },
    {
      "cell_type": "markdown",
      "source": [
        "40. Train a Bagging Regressor using different base estimators (DecisionTree and KNeighbors) and compare\n",
        "performance"
      ],
      "metadata": {
        "id": "AvhaZWreCt0w"
      }
    },
    {
      "cell_type": "code",
      "metadata": {
        "colab": {
          "base_uri": "https://localhost:8080/"
        },
        "id": "21f8412f",
        "outputId": "0954f9b7-4cda-4c44-d092-449fe37e87de"
      },
      "source": [
        "from sklearn.ensemble import BaggingRegressor\n",
        "from sklearn.tree import DecisionTreeRegressor\n",
        "from sklearn.neighbors import KNeighborsRegressor\n",
        "from sklearn.datasets import make_regression\n",
        "from sklearn.model_selection import train_test_split\n",
        "from sklearn.metrics import mean_squared_error\n",
        "\n",
        "# Generate a sample regression dataset\n",
        "X_reg, y_reg = make_regression(n_samples=1000, n_features=20, random_state=42)\n",
        "\n",
        "# Split the dataset into training and testing sets\n",
        "X_train_reg, X_test_reg, y_train_reg, y_test_reg = train_test_split(X_reg, y_reg, test_size=0.2, random_state=42)\n",
        "\n",
        "# Create a Bagging Regressor with Decision Trees as base estimators\n",
        "bagging_reg_dt = BaggingRegressor(estimator=DecisionTreeRegressor(), n_estimators=10, random_state=42)\n",
        "\n",
        "# Create a Bagging Regressor with KNeighbors Regressor as base estimators\n",
        "bagging_reg_knn = BaggingRegressor(estimator=KNeighborsRegressor(), n_estimators=10, random_state=42)\n",
        "\n",
        "# Train the Bagging Regressors\n",
        "bagging_reg_dt.fit(X_train_reg, y_train_reg)\n",
        "bagging_reg_knn.fit(X_train_reg, y_train_reg)\n",
        "\n",
        "# Make predictions with both models\n",
        "y_pred_bagging_dt = bagging_reg_dt.predict(X_test_reg)\n",
        "y_pred_bagging_knn = bagging_reg_knn.predict(X_test_reg)\n",
        "\n",
        "# Calculate Mean Squared Error for both models\n",
        "mse_bagging_dt = mean_squared_error(y_test_reg, y_pred_bagging_dt)\n",
        "mse_bagging_knn = mean_squared_error(y_test_reg, y_pred_bagging_knn)\n",
        "\n",
        "# Print the Mean Squared Errors\n",
        "print(f\"Mean Squared Error of Bagging Regressor with Decision Trees: {mse_bagging_dt:.4f}\")\n",
        "print(f\"Mean Squared Error of Bagging Regressor with KNeighbors: {mse_bagging_knn:.4f}\")\n",
        "\n",
        "# Compare the performance\n",
        "if mse_bagging_dt < mse_bagging_knn:\n",
        "    print(\"\\nBagging Regressor with Decision Trees performed better (lower MSE).\")\n",
        "elif mse_bagging_dt > mse_bagging_knn:\n",
        "    print(\"\\nBagging Regressor with KNeighbors performed better (lower MSE).\")\n",
        "else:\n",
        "    print(\"\\nBoth models performed equally well (same MSE).\")"
      ],
      "execution_count": 21,
      "outputs": [
        {
          "output_type": "stream",
          "name": "stdout",
          "text": [
            "Mean Squared Error of Bagging Regressor with Decision Trees: 9462.9922\n",
            "Mean Squared Error of Bagging Regressor with KNeighbors: 14832.1800\n",
            "\n",
            "Bagging Regressor with Decision Trees performed better (lower MSE).\n"
          ]
        }
      ]
    },
    {
      "cell_type": "markdown",
      "source": [
        "41. Train a Random Forest Classifier and evaluate its performance using ROC-AUC Score"
      ],
      "metadata": {
        "id": "qIOFcLqFCygB"
      }
    },
    {
      "cell_type": "code",
      "metadata": {
        "colab": {
          "base_uri": "https://localhost:8080/"
        },
        "id": "d44eeead",
        "outputId": "0a3d2fa9-c5c5-478a-d72b-3cea4ad44c14"
      },
      "source": [
        "from sklearn.ensemble import RandomForestClassifier\n",
        "from sklearn.datasets import load_breast_cancer\n",
        "from sklearn.model_selection import train_test_split\n",
        "from sklearn.metrics import roc_auc_score\n",
        "\n",
        "# Load the Breast Cancer dataset\n",
        "breast_cancer = load_breast_cancer()\n",
        "X, y = breast_cancer.data, breast_cancer.target\n",
        "\n",
        "# Split the dataset into training and testing sets\n",
        "X_train, X_test, y_train, y_test = train_test_split(X, y, test_size=0.2, random_state=42)\n",
        "\n",
        "# Create a Random Forest Classifier\n",
        "rf_clf = RandomForestClassifier(n_estimators=100, random_state=42)\n",
        "\n",
        "# Train the Random Forest Classifier\n",
        "rf_clf.fit(X_train, y_train)\n",
        "\n",
        "# Make probability predictions on the test set\n",
        "# roc_auc_score requires probability estimates for the positive class\n",
        "y_pred_proba = rf_clf.predict_proba(X_test)[:, 1]\n",
        "\n",
        "# Calculate and print the ROC-AUC score\n",
        "roc_auc = roc_auc_score(y_test, y_pred_proba)\n",
        "print(f\"ROC-AUC Score of Random Forest Classifier: {roc_auc:.4f}\")"
      ],
      "execution_count": 22,
      "outputs": [
        {
          "output_type": "stream",
          "name": "stdout",
          "text": [
            "ROC-AUC Score of Random Forest Classifier: 0.9953\n"
          ]
        }
      ]
    },
    {
      "cell_type": "markdown",
      "source": [
        "42. Train a Bagging Classifier and evaluate its performance using cross-validatio."
      ],
      "metadata": {
        "id": "9yDjHPlQC4Vb"
      }
    },
    {
      "cell_type": "code",
      "metadata": {
        "colab": {
          "base_uri": "https://localhost:8080/"
        },
        "id": "1efb075b",
        "outputId": "bd22ef63-2468-4bb7-f04b-76d4e0f5e188"
      },
      "source": [
        "from sklearn.ensemble import BaggingClassifier\n",
        "from sklearn.tree import DecisionTreeClassifier\n",
        "from sklearn.datasets import make_classification\n",
        "from sklearn.model_selection import cross_val_score\n",
        "\n",
        "# Generate a sample dataset\n",
        "X, y = make_classification(n_samples=1000, n_features=20, random_state=42)\n",
        "\n",
        "# Create a Bagging Classifier with Decision Trees as base estimators\n",
        "bagging_clf = BaggingClassifier(estimator=DecisionTreeClassifier(), n_estimators=10, random_state=42)\n",
        "\n",
        "# Perform cross-validation\n",
        "# We'll use 5 folds (cv=5) and accuracy as the scoring metric\n",
        "cv_scores = cross_val_score(bagging_clf, X, y, cv=5, scoring='accuracy')\n",
        "\n",
        "# Print the cross-validation scores\n",
        "print(\"Cross-validation scores:\", cv_scores)\n",
        "print(f\"Mean cross-validation accuracy: {cv_scores.mean():.4f}\")\n",
        "print(f\"Standard deviation of cross-validation accuracy: {cv_scores.std():.4f}\")"
      ],
      "execution_count": 23,
      "outputs": [
        {
          "output_type": "stream",
          "name": "stdout",
          "text": [
            "Cross-validation scores: [0.95  0.9   0.895 0.895 0.86 ]\n",
            "Mean cross-validation accuracy: 0.9000\n",
            "Standard deviation of cross-validation accuracy: 0.0288\n"
          ]
        }
      ]
    },
    {
      "cell_type": "markdown",
      "source": [
        "43. Train a Random Forest Classifier and plot the Precision-Recall curv"
      ],
      "metadata": {
        "id": "_BxN2of-C_Yz"
      }
    },
    {
      "cell_type": "code",
      "metadata": {
        "colab": {
          "base_uri": "https://localhost:8080/",
          "height": 472
        },
        "id": "9c32373c",
        "outputId": "4f211f63-4ed2-4b8a-dbae-40b5c550e05c"
      },
      "source": [
        "from sklearn.ensemble import RandomForestClassifier\n",
        "from sklearn.datasets import load_breast_cancer\n",
        "from sklearn.model_selection import train_test_split\n",
        "from sklearn.metrics import precision_recall_curve, PrecisionRecallDisplay\n",
        "import matplotlib.pyplot as plt\n",
        "\n",
        "# Load the Breast Cancer dataset\n",
        "breast_cancer = load_breast_cancer()\n",
        "X, y = breast_cancer.data, breast_cancer.target\n",
        "\n",
        "# Split the dataset into training and testing sets\n",
        "X_train, X_test, y_train, y_test = train_test_split(X, y, test_size=0.2, random_state=42)\n",
        "\n",
        "# Create a Random Forest Classifier\n",
        "rf_clf = RandomForestClassifier(n_estimators=100, random_state=42)\n",
        "\n",
        "# Train the Random Forest Classifier\n",
        "rf_clf.fit(X_train, y_train)\n",
        "\n",
        "# Get the probability estimates for the positive class\n",
        "y_scores = rf_clf.predict_proba(X_test)[:, 1]\n",
        "\n",
        "# Calculate the Precision-Recall curve\n",
        "precision, recall, _ = precision_recall_curve(y_test, y_scores)\n",
        "\n",
        "# Plot the Precision-Recall curve\n",
        "disp = PrecisionRecallDisplay(precision=precision, recall=recall)\n",
        "disp.plot()\n",
        "plt.title('Precision-Recall Curve for Random Forest Classifier')\n",
        "plt.show()"
      ],
      "execution_count": 24,
      "outputs": [
        {
          "output_type": "display_data",
          "data": {
            "text/plain": [
              "<Figure size 640x480 with 1 Axes>"
            ],
            "image/png": "[encoded data removed]"
          },
          "metadata": {}
        }
      ]
    },
    {
      "cell_type": "markdown",
      "source": [
        "44.  Train a Stacking Classifier with Random Forest and Logistic Regression and compare accuracy"
      ],
      "metadata": {
        "id": "DUC40FHhDIpZ"
      }
    },
    {
      "cell_type": "code",
      "metadata": {
        "colab": {
          "base_uri": "https://localhost:8080/"
        },
        "id": "9098a853",
        "outputId": "0d93362d-d3a6-4789-ea83-5fa42e16f27a"
      },
      "source": [
        "from sklearn.ensemble import StackingClassifier, RandomForestClassifier\n",
        "from sklearn.linear_model import LogisticRegression\n",
        "from sklearn.datasets import load_breast_cancer\n",
        "from sklearn.model_selection import train_test_split\n",
        "from sklearn.metrics import accuracy_score\n",
        "\n",
        "# Load the Breast Cancer dataset\n",
        "breast_cancer = load_breast_cancer()\n",
        "X, y = breast_cancer.data, breast_cancer.target\n",
        "\n",
        "# Split the dataset into training and testing sets\n",
        "X_train, X_test, y_train, y_test = train_test_split(X, y, test_size=0.2, random_state=42)\n",
        "\n",
        "# Define the base estimators\n",
        "estimators = [\n",
        "    ('rf', RandomForestClassifier(n_estimators=100, random_state=42)),\n",
        "    ('lr', LogisticRegression(random_state=42))\n",
        "]\n",
        "\n",
        "# Create a Stacking Classifier\n",
        "# The final_estimator is the meta-model that combines the predictions of the base estimators\n",
        "stacking_clf_rf_lr = StackingClassifier(estimators=estimators, final_estimator=LogisticRegression(), cv=5)\n",
        "\n",
        "# Train the Stacking Classifier\n",
        "stacking_clf_rf_lr.fit(X_train, y_train)\n",
        "\n",
        "# Make predictions on the test set\n",
        "y_pred_stacking_rf_lr = stacking_clf_rf_lr.predict(X_test)\n",
        "\n",
        "# Calculate and print the accuracy\n",
        "accuracy_stacking_rf_lr = accuracy_score(y_test, y_pred_stacking_rf_lr)\n",
        "print(f\"Accuracy of Stacking Classifier with Random Forest and Logistic Regression: {accuracy_stacking_rf_lr:.4f}\")\n",
        "\n",
        "# Optional: Compare with individual base estimators' accuracies\n",
        "print(\"\\nAccuracy of individual base estimators:\")\n",
        "\n",
        "rf_clf = RandomForestClassifier(n_estimators=100, random_state=42)\n",
        "rf_clf.fit(X_train, y_train)\n",
        "y_pred_rf = rf_clf.predict(X_test)\n",
        "print(f\"  Random Forest Classifier: {accuracy_score(y_test, y_pred_rf):.4f}\")\n",
        "\n",
        "lr_clf = LogisticRegression(random_state=42)\n",
        "lr_clf.fit(X_train, y_train)\n",
        "y_pred_lr = lr_clf.predict(X_test)\n",
        "print(f\"  Logistic Regression: {accuracy_score(y_test, y_pred_lr):.4f}\")"
      ],
      "execution_count": 25,
      "outputs": [
        {
          "output_type": "stream",
          "name": "stdout",
          "text": [
            "Accuracy of Stacking Classifier with Random Forest and Logistic Regression: 0.9737\n",
            "\n",
            "Accuracy of individual base estimators:\n",
            "  Random Forest Classifier: 0.9649\n",
            "  Logistic Regression: 0.9561\n"
          ]
        }
      ]
    },
    {
      "cell_type": "markdown",
      "source": [
        "45. Train a Bagging Regressor with different levels of bootstrap samples and compare performance"
      ],
      "metadata": {
        "id": "e7zrt3nPDN8y"
      }
    },
    {
      "cell_type": "code",
      "metadata": {
        "colab": {
          "base_uri": "https://localhost:8080/",
          "height": 633
        },
        "id": "30bdcbe4",
        "outputId": "315e0923-ac2d-4238-8eab-68ea88af5934"
      },
      "source": [
        "from sklearn.ensemble import BaggingRegressor\n",
        "from sklearn.tree import DecisionTreeRegressor\n",
        "from sklearn.datasets import make_regression\n",
        "from sklearn.model_selection import train_test_split\n",
        "from sklearn.metrics import mean_squared_error\n",
        "import matplotlib.pyplot as plt\n",
        "\n",
        "# Generate a sample regression dataset\n",
        "X_reg, y_reg = make_regression(n_samples=1000, n_features=20, random_state=42)\n",
        "\n",
        "# Split the dataset into training and testing sets\n",
        "X_train_reg, X_test_reg, y_train_reg, y_test_reg = train_test_split(X_reg, y_reg, test_size=0.2, random_state=42)\n",
        "\n",
        "# Define a list of different levels of bootstrap samples to experiment with\n",
        "# These values represent the fraction of the original dataset to sample\n",
        "max_samples_list = [0.5, 0.7, 0.9, 1.0]\n",
        "mse_scores = []\n",
        "\n",
        "# Train Bagging Regressors with different max_samples values\n",
        "for max_samples in max_samples_list:\n",
        "    # n_estimators is kept constant for this comparison\n",
        "    bagging_reg = BaggingRegressor(estimator=DecisionTreeRegressor(), n_estimators=100, max_samples=max_samples, random_state=42)\n",
        "    bagging_reg.fit(X_train_reg, y_train_reg)\n",
        "    y_pred_reg = bagging_reg.predict(X_test_reg)\n",
        "    mse = mean_squared_error(y_test_reg, y_pred_reg)\n",
        "    mse_scores.append(mse)\n",
        "    print(f\"Mean Squared Error with max_samples={max_samples:.1f}: {mse:.4f}\")\n",
        "\n",
        "# Plot the MSE scores\n",
        "plt.figure(figsize=(10, 6))\n",
        "plt.plot(max_samples_list, mse_scores, marker='o')\n",
        "plt.title('Bagging Regressor MSE vs. Proportion of Bootstrap Samples')\n",
        "plt.xlabel('Proportion of Bootstrap Samples (max_samples)')\n",
        "plt.ylabel('Mean Squared Error')\n",
        "plt.grid(True)\n",
        "plt.show()"
      ],
      "execution_count": 26,
      "outputs": [
        {
          "output_type": "stream",
          "name": "stdout",
          "text": [
            "Mean Squared Error with max_samples=0.5: 9515.6907\n",
            "Mean Squared Error with max_samples=0.7: 8722.4640\n",
            "Mean Squared Error with max_samples=0.9: 8809.1825\n",
            "Mean Squared Error with max_samples=1.0: 8517.4262\n"
          ]
        },
        {
          "output_type": "display_data",
          "data": {
            "text/plain": [
              "<Figure size 1000x600 with 1 Axes>"
            ],
            "image/png": "[encoded data removed]"
          },
          "metadata": {}
        }
      ]
    }
  ]
}