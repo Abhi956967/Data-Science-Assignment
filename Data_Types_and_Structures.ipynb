{
  "nbformat": 4,
  "nbformat_minor": 0,
  "metadata": {
    "colab": {
      "provenance": []
    },
    "kernelspec": {
      "name": "python3",
      "display_name": "Python 3"
    },
    "language_info": {
      "name": "python"
    }
  },
  "cells": [
    {
      "cell_type": "code",
      "execution_count": null,
      "metadata": {
        "id": "CpuBfNGct7l9"
      },
      "outputs": [],
      "source": []
    },
    {
      "cell_type": "markdown",
      "source": [
        "1.  What are data structures, and why are they important\n",
        "\n",
        "-----> A data structure is a specialized format for organizing, processing, retrieving and storing data. There are several basic and advanced types of data structures, all designed to arrange data to suit a specific purpose. Data structures make it easy for users to access and work with the data they need.\n",
        "\n",
        "*  There are many important data structures of which a few of them are mentioned below:\n",
        "Array. Array is a sequential arrangement of elements of the same data type, stored in contiguous memory locations. ...\n",
        "String. String is a collection of characters that represent text. ...\n",
        "Stacks. ...\n",
        "Queues. ...\n",
        "Linked List. ...\n",
        "Trees. ...\n",
        "Heaps. ...\n",
        "Graphs.\n",
        "\n",
        "2.   Explain the difference between mutable and immutable data types with examples\n",
        "\n",
        "---->  Mutable data types are those whose values can be changed, whereas immutable data types are ones in which the values can't be changed.\n",
        "\n",
        "3. What are the main differences between lists and tuples in Python\n",
        "\n",
        "---->  The key difference between tuples and lists is that while tuples are immutable objects, lists are mutable. This means tuples cannot be changed while lists can be modified. Tuples are also more memory efficient than the lists\n",
        "\n",
        "\n",
        "4.  Describe how dictionaries store data\n",
        "\n",
        "---->  Python's dictionary allows you to store key-value pairs, and then pass the dictionary a key to quickly retrieve its corresponding value. Specifically, you construct the dictionary by specifying one-way mappings from key-objects to value-objects. Each key must map to exactly one value, meaning that a key must be unique.\n",
        "\n",
        "5.  Why might you use a set instead of a list in Python\n",
        "\n",
        "---->  Because sets cannot have multiple occurrences of the same element, it makes sets highly useful to efficiently remove duplicate values from a list or tuple and to perform common math operations like unions and intersections.\n",
        "\n",
        "6. What is a string in Python, and how is it different from a list\n",
        "\n",
        "---->  A string is a sequence of characters between single or double quotes. A list is a sequence of items, where each item could be anything (an integer, a float, a string, etc).\n",
        "\n",
        "7. How do tuples ensure data integrity in Python\n",
        "\n",
        "----->  Tuples are immutable to ensure that their contents remain constant throughout their lifecycle, guaranteeing data integrity and reliability. This immutability allows tuples to be used as keys in dictionaries and elements in sets, as they can be hashed\n",
        "\n",
        "8. What is a hash table, and how does it relate to dictionaries in Python\n",
        "\n",
        "---->  A hash table is a data structure that stores key-value pairs, and Python dictionaries are built using hash tables:\n",
        "----> What is a hash table?\n",
        "A hash table is a data structure that stores key-value pairs, where each key has a unique index value. A hash function is used to convert keys into array indices, where the values are stored. This allows for quick access to data when the index is available.\n",
        "----> How does it relate to Python dictionaries?\n",
        "Python dictionaries are implemented using hash tables. The keys in a Python dictionary are generated using a hashing function.\n",
        "\n",
        "9.  Can lists contain different data types in Python\n",
        "\n",
        "---->  Although it's not really common, a list can also contain a mix of Python types including strings, floats, and booleans.\n",
        "\n",
        " 10.   Explain why strings are immutable in Python\n",
        " ----->  Python strings are \"immutable\" which means they cannot be changed after they are created (Java strings also use this immutable style). Since strings can't be changed, we construct *new* strings as we go to represent computed values.\n",
        "\n",
        " 11. What advantages do dictionaries offer over lists for certain tasks\n",
        "\n",
        " -----> Dictionarys have two parts to every entry the key and the value and these are stored as pairs. This can give you more flexibility when storing data. The primary advantage would be retrieving stored values as it is much simpler to search through a dictionary.\n",
        "\n",
        " 12.  Describe a scenario where using a tuple would be preferable over a list\n",
        "\n",
        " ----->  Tuples are faster than lists. Tuples make the code safe from any accidental modification. If a data is needed in a program which is not supposed to be changed, then it is better to put it in 'tuples' than in 'list'.\n",
        "\n",
        "13.  How do sets handle duplicate values in Python.\n",
        "\n",
        "----> You can eliminate duplicates from a list, tuple, or string by converting it to a set and then back to the original type. For example, you can write: numbers = [1, 2, 3, 3, 4, 5, 5, 6] numbers = list(set(numbers)) print(numbers) This will remove the duplicate 3 and 5 from the numbers list\n",
        "\n",
        "14.   How does the “in” keyword work differently for lists and dictionaries\n",
        "\n",
        "----> The in keyword is a versatile operator in Python, used to check membership within sequences and mappings. However, its behavior differs slightly when used with lists and dictionaries.\n",
        "\n",
        "* Lists\n",
        "When used with lists, the in keyword checks if a specific element is present within the list. It iterates through the list, comparing each element to the target value. If a match is found, it returns True; otherwise, it returns False.\n",
        "\n",
        "* Dictionaries\n",
        "When used with dictionaries, the in keyword checks if a specific key is present in the dictionary. It doesn't check for values, but rather the existence of the key itself.\n",
        "\n",
        "15.   Can you modify the elements of a tuple? Explain why or why not\n",
        "\n",
        "----->  Tuples are immutable data structures, meaning their contents cannot be changed once they are created. This is a fundamental characteristic that distinguishes them from lists, which are mutable.\n",
        "\n",
        "*  Why are tuples immutable?\n",
        "Efficiency: Immutable objects can be optimized by the Python interpreter, leading to faster execution.\n",
        "Reliability: Immutability ensures that the data within a tuple remains constant, preventing accidental modifications and making code more predictable.\n",
        "Hashing: Tuples can be used as keys in dictionaries because their immutability guarantees a consistent hash value.\n",
        "However, you can work around this limitation by:\n",
        "\n",
        "* Converting to a List:\n",
        "\n",
        "Convert the tuple to a list, which is mutable.\n",
        "Modify the list elements.\n",
        "Convert the list back to a tuple.\n",
        "\n",
        "\n",
        "16.  What is a nested dictionary, and give an example of its use case\n",
        "\n",
        "* Nested Dictionary\n",
        "\n",
        "A nested dictionary is a dictionary within another dictionary. It's a powerful data structure for organizing complex hierarchical data."
      ],
      "metadata": {
        "id": "ZukqZ_7B0BkF"
      }
    },
    {
      "cell_type": "code",
      "source": [
        "students = {\n",
        "    \"student1\": {\n",
        "        \"name\": \"Alice\",\n",
        "        \"age\": 15,\n",
        "        \"grades\": {\n",
        "            \"math\": 95,\n",
        "            \"science\": 88,\n",
        "            \"english\": 92\n",
        "        }\n",
        "    },\n",
        "    \"student2\": {\n",
        "        \"name\": \"Bob\",\n",
        "        \"age\": 16,\n",
        "        \"grades\": {\n",
        "            \"math\": 85,\n",
        "            \"science\": 90,\n",
        "            \"english\": 87\n",
        "        }\n",
        "    }\n",
        "}"
      ],
      "metadata": {
        "id": "d1XfwB-POe80"
      },
      "execution_count": 1,
      "outputs": []
    },
    {
      "cell_type": "code",
      "source": [
        "students[\"student1\"]"
      ],
      "metadata": {
        "colab": {
          "base_uri": "https://localhost:8080/"
        },
        "id": "8vQYWqQQOrch",
        "outputId": "b31280ac-c538-47cf-be9e-a3ec168e2b0c"
      },
      "execution_count": 2,
      "outputs": [
        {
          "output_type": "execute_result",
          "data": {
            "text/plain": [
              "{'name': 'Alice',\n",
              " 'age': 15,\n",
              " 'grades': {'math': 95, 'science': 88, 'english': 92}}"
            ]
          },
          "metadata": {},
          "execution_count": 2
        }
      ]
    },
    {
      "cell_type": "markdown",
      "source": [
        "17.  Describe the time complexity of accessing elements in a dictionary\n",
        "\n",
        "----> Typically, accessing an element in a Python dictionary has an average time complexity of O(1). This means that the time taken to retrieve a value based on its key is constant, regardless of the size of the dictionary.\n",
        "\n",
        "18.  In what situations are lists preferred over dictionaries\n",
        "\n",
        "---->  Lists can duplicate values since each values have unique index. Dictionaries cannot contain duplicate keys but can contain duplicate values since each value has unique key. Average time taken to search a value in list takes O[n]. Average time taken to search a key in dictionary takes O[1]\n",
        "\n",
        "\n",
        "19. Why are dictionaries considered unordered, and how does that affect data retrieval\n",
        "\n",
        "---->  Dictionaries in Python are implemented using hash tables. A hash table is a data structure that stores key-value pairs. When you add a key-value pair to a dictionary, a hash function is applied to the key to generate a hash code. This hash code determines the index in the underlying array where the key-value pair will be stored.\n",
        "\n",
        "The key point is that the order of elements in a hash table is determined by the hash function, not by the insertion order. This means that the order of elements in a dictionary is not guaranteed to be the same as the order in which they were inserted.\n",
        "\n",
        "20.   Explain the difference between a list and a dictionary in terms of data retrieval.\n",
        "\n",
        "---->  A list is an ordered collection of items, whereas a dictionary is an unordered data collection in a key: value pair. Elements from the list can be accessed using the index, while the elements of the dictionary can be accessed using keys.\n",
        "\n"
      ],
      "metadata": {
        "id": "NPe7GfpFO1qB"
      }
    },
    {
      "cell_type": "code",
      "source": [
        "                         #  Practical Questions\n",
        "## 1.  Write a code to create a string with your name and print it\n",
        "\n",
        "name = \"Sandeep\"\n",
        "print(name)"
      ],
      "metadata": {
        "colab": {
          "base_uri": "https://localhost:8080/"
        },
        "id": "BH2cNAStXzGr",
        "outputId": "63534554-a487-477e-8bf8-04b333674485"
      },
      "execution_count": 3,
      "outputs": [
        {
          "output_type": "stream",
          "name": "stdout",
          "text": [
            "Sandeep\n"
          ]
        }
      ]
    },
    {
      "cell_type": "code",
      "source": [
        "## 2.  Write a code to find the length of the string \"Hello World\"\n",
        "\n",
        "string = \"Hello World\"\n",
        "len(string)"
      ],
      "metadata": {
        "colab": {
          "base_uri": "https://localhost:8080/"
        },
        "id": "MRzrb0y7YPpj",
        "outputId": "89411a20-bfa6-4d7c-b25e-da4d6e12a73f"
      },
      "execution_count": 4,
      "outputs": [
        {
          "output_type": "execute_result",
          "data": {
            "text/plain": [
              "11"
            ]
          },
          "metadata": {},
          "execution_count": 4
        }
      ]
    },
    {
      "cell_type": "code",
      "source": [
        "## 3.  Write a code to slice the first 3 characters from the string \"Python Programming\"\n",
        "\n",
        "string = \"Python Programming\"\n",
        "string[:3]"
      ],
      "metadata": {
        "colab": {
          "base_uri": "https://localhost:8080/",
          "height": 36
        },
        "id": "UqhEE35uYZQ5",
        "outputId": "81e8dd6b-e53d-4e89-8011-ff58babc2b54"
      },
      "execution_count": 5,
      "outputs": [
        {
          "output_type": "execute_result",
          "data": {
            "text/plain": [
              "'Pyt'"
            ],
            "application/vnd.google.colaboratory.intrinsic+json": {
              "type": "string"
            }
          },
          "metadata": {},
          "execution_count": 5
        }
      ]
    },
    {
      "cell_type": "code",
      "source": [
        "## 4.  Write a code to convert the string \"hello\" to uppercase\n",
        "\n",
        "s = \"hello\"\n",
        "res = s.upper()\n",
        "print(res)"
      ],
      "metadata": {
        "colab": {
          "base_uri": "https://localhost:8080/"
        },
        "id": "j-8hErgEYkd0",
        "outputId": "060a7514-2e11-4652-fbdc-0b15eaad630c"
      },
      "execution_count": 11,
      "outputs": [
        {
          "output_type": "stream",
          "name": "stdout",
          "text": [
            "HELLO\n"
          ]
        }
      ]
    },
    {
      "cell_type": "code",
      "source": [
        "## 5.  Write a code to replace the word \"apple\" with \"orange\" in the string \"I like apple\"\n",
        "\n",
        "s = \"i like apple\"\n",
        "res = s.replace(\"apple\", \"orange\")\n",
        "print(res)\n"
      ],
      "metadata": {
        "colab": {
          "base_uri": "https://localhost:8080/"
        },
        "id": "uPnjH8IGY4fk",
        "outputId": "4b092884-2de7-43f6-b6c8-1aea7e627a6b"
      },
      "execution_count": 13,
      "outputs": [
        {
          "output_type": "stream",
          "name": "stdout",
          "text": [
            "i like orange\n"
          ]
        }
      ]
    },
    {
      "cell_type": "code",
      "source": [
        "## 6.  Write a code to create a list with numbers 1 to 5 and print it\n",
        "\n",
        "list = [1, 2, 3, 4, 5]\n",
        "print(list)"
      ],
      "metadata": {
        "colab": {
          "base_uri": "https://localhost:8080/"
        },
        "id": "H86UXsaJZ8rC",
        "outputId": "39b676b8-a030-480d-be13-892d93aa2312"
      },
      "execution_count": 14,
      "outputs": [
        {
          "output_type": "stream",
          "name": "stdout",
          "text": [
            "[1, 2, 3, 4, 5]\n"
          ]
        }
      ]
    },
    {
      "cell_type": "code",
      "source": [
        "## 7.  Write a code to append the number 10 to the list [1, 2, 3, 4]\n",
        "\n",
        "my_list = [1,2,3,4]\n",
        "my_list.append(10)\n",
        "print(my_list)"
      ],
      "metadata": {
        "colab": {
          "base_uri": "https://localhost:8080/"
        },
        "id": "DvpmVNPHaVm-",
        "outputId": "268f3e9a-2e97-4e57-bb87-ce1e9865c3a8"
      },
      "execution_count": 15,
      "outputs": [
        {
          "output_type": "stream",
          "name": "stdout",
          "text": [
            "[1, 2, 3, 4, 10]\n"
          ]
        }
      ]
    },
    {
      "cell_type": "code",
      "source": [
        "## 8.  Write a code to remove the number 3 from the list [1, 2, 3, 4, 5]\n",
        "\n",
        "list = [1,2,3,4,5]\n",
        "list.remove(3)\n",
        "print(list)"
      ],
      "metadata": {
        "colab": {
          "base_uri": "https://localhost:8080/"
        },
        "id": "D51-PdSsax6j",
        "outputId": "9975f2be-67a0-4d5e-f46b-56f0a3ed868e"
      },
      "execution_count": 16,
      "outputs": [
        {
          "output_type": "stream",
          "name": "stdout",
          "text": [
            "[1, 2, 4, 5]\n"
          ]
        }
      ]
    },
    {
      "cell_type": "code",
      "source": [
        "## 9.  Write a code to access the second element in the list ['a', 'b', 'c', 'd']\n",
        "\n",
        "list = ['a','b','c','d']\n",
        "list[1]"
      ],
      "metadata": {
        "colab": {
          "base_uri": "https://localhost:8080/",
          "height": 36
        },
        "id": "mq-TzHt0bCAR",
        "outputId": "2254109f-b980-41e1-bb91-27c60ca558ca"
      },
      "execution_count": 18,
      "outputs": [
        {
          "output_type": "execute_result",
          "data": {
            "text/plain": [
              "'b'"
            ],
            "application/vnd.google.colaboratory.intrinsic+json": {
              "type": "string"
            }
          },
          "metadata": {},
          "execution_count": 18
        }
      ]
    },
    {
      "cell_type": "code",
      "source": [
        "## 10.  Write a code to reverse the list [10, 20, 30, 40, 50].\n",
        "\n",
        "list = [10,20,30,40,50]\n",
        "# list[::-1]\n",
        "list.reverse()\n",
        "print(list)"
      ],
      "metadata": {
        "colab": {
          "base_uri": "https://localhost:8080/"
        },
        "id": "iZedFD6HbWOz",
        "outputId": "b69787a5-8bcf-40a9-c4a7-d2e3b96c6c19"
      },
      "execution_count": 19,
      "outputs": [
        {
          "output_type": "stream",
          "name": "stdout",
          "text": [
            "[50, 40, 30, 20, 10]\n"
          ]
        }
      ]
    },
    {
      "cell_type": "code",
      "source": [
        "## 11. Write a code to create a tuple with the elements 10, 20, 30 and print it.\n",
        "\n",
        "tuple = (10,20,30)\n",
        "print(tuple)"
      ],
      "metadata": {
        "colab": {
          "base_uri": "https://localhost:8080/"
        },
        "id": "Nkq0MZRsbq9v",
        "outputId": "ae2f7d28-37c6-41dd-9ef3-bba575e7a2b1"
      },
      "execution_count": 20,
      "outputs": [
        {
          "output_type": "stream",
          "name": "stdout",
          "text": [
            "(10, 20, 30)\n"
          ]
        }
      ]
    },
    {
      "cell_type": "code",
      "source": [
        "##  12. Write a code to access the first element of the tuple ('apple', 'banana', 'cherry').\n",
        "\n",
        "tuple = ('apple', 'banana', 'cherry')\n",
        "tuple[0]"
      ],
      "metadata": {
        "colab": {
          "base_uri": "https://localhost:8080/",
          "height": 36
        },
        "id": "w5yXJl_fdnBU",
        "outputId": "3fb0116e-e79a-4765-fc45-103cd923d296"
      },
      "execution_count": 21,
      "outputs": [
        {
          "output_type": "execute_result",
          "data": {
            "text/plain": [
              "'apple'"
            ],
            "application/vnd.google.colaboratory.intrinsic+json": {
              "type": "string"
            }
          },
          "metadata": {},
          "execution_count": 21
        }
      ]
    },
    {
      "cell_type": "code",
      "source": [
        "##  13. Write a code to count how many times the number 2 appears in the tuple (1, 2, 3, 2, 4, 2).\n",
        "\n",
        "tuple = (1,2,3,2,4,2)\n",
        "tuple.count(2)"
      ],
      "metadata": {
        "colab": {
          "base_uri": "https://localhost:8080/"
        },
        "id": "7g8c_HFWd7OF",
        "outputId": "77d94825-bf29-4206-d415-bc71a8d64faa"
      },
      "execution_count": 22,
      "outputs": [
        {
          "output_type": "execute_result",
          "data": {
            "text/plain": [
              "3"
            ]
          },
          "metadata": {},
          "execution_count": 22
        }
      ]
    },
    {
      "cell_type": "code",
      "source": [
        "##  14. Write a code to find the index of the element \"cat\" in the tuple ('dog', 'cat', 'rabbit').\n",
        "\n",
        "tuple = ('dog', 'cat', 'rabbit')\n",
        "tuple.index('cat')"
      ],
      "metadata": {
        "colab": {
          "base_uri": "https://localhost:8080/"
        },
        "id": "E4WcLdKGePeI",
        "outputId": "be742ea7-a079-4607-8ec1-a8697441c89f"
      },
      "execution_count": 26,
      "outputs": [
        {
          "output_type": "execute_result",
          "data": {
            "text/plain": [
              "1"
            ]
          },
          "metadata": {},
          "execution_count": 26
        }
      ]
    },
    {
      "cell_type": "code",
      "source": [
        "##  15. Write a code to check if the element \"banana\" is in the tuple ('apple', 'orange', 'banana').\n",
        "\n",
        "tuple = ('apple', 'orange', 'banana')\n",
        "\"banana\" in tuple"
      ],
      "metadata": {
        "colab": {
          "base_uri": "https://localhost:8080/"
        },
        "id": "nHgyfrbmejM2",
        "outputId": "7461803a-08b6-4e2a-8940-e0cb3860f38b"
      },
      "execution_count": 27,
      "outputs": [
        {
          "output_type": "execute_result",
          "data": {
            "text/plain": [
              "True"
            ]
          },
          "metadata": {},
          "execution_count": 27
        }
      ]
    },
    {
      "cell_type": "code",
      "source": [
        "##  16. Write a code to create a set with the elements 1, 2, 3, 4, 5 and print it.\n",
        "\n",
        "set = {1,2,3,4,5}\n",
        "print(set)"
      ],
      "metadata": {
        "colab": {
          "base_uri": "https://localhost:8080/"
        },
        "id": "WojdbGxJfgtp",
        "outputId": "17f7b366-456d-4289-f0c9-e2440adcd100"
      },
      "execution_count": 28,
      "outputs": [
        {
          "output_type": "stream",
          "name": "stdout",
          "text": [
            "{1, 2, 3, 4, 5}\n"
          ]
        }
      ]
    },
    {
      "cell_type": "code",
      "source": [
        "##  17. Write a code to add the element 6 to the set {1, 2, 3, 4}.\n",
        "\n",
        "set = {1,2,3,4}\n",
        "set.add(6)\n",
        "print(set)"
      ],
      "metadata": {
        "colab": {
          "base_uri": "https://localhost:8080/"
        },
        "id": "d6IkTzUGfuTF",
        "outputId": "d5173942-4fd4-4da7-99ba-30a9baa31d83"
      },
      "execution_count": 29,
      "outputs": [
        {
          "output_type": "stream",
          "name": "stdout",
          "text": [
            "{1, 2, 3, 4, 6}\n"
          ]
        }
      ]
    },
    {
      "cell_type": "code",
      "source": [
        "##  18. Write a code to create a tuple with the elements 10, 20, 30 and print it.\n",
        "\n",
        "tuple = (10,20,30)\n",
        "print(tuple)"
      ],
      "metadata": {
        "colab": {
          "base_uri": "https://localhost:8080/"
        },
        "id": "jCL6BdYsgDuk",
        "outputId": "943f827e-a115-4dde-c716-aa62144e9415"
      },
      "execution_count": 30,
      "outputs": [
        {
          "output_type": "stream",
          "name": "stdout",
          "text": [
            "(10, 20, 30)\n"
          ]
        }
      ]
    },
    {
      "cell_type": "code",
      "source": [
        "##  19. Write a code to access the first element of the tuple ('apple', 'banana', 'cherry').\n",
        "\n",
        "tuple = ('apple', 'banana', 'cherry')\n",
        "tuple[0]"
      ],
      "metadata": {
        "colab": {
          "base_uri": "https://localhost:8080/",
          "height": 36
        },
        "id": "UFXUO41dgQCE",
        "outputId": "5ba02c6e-7869-4efe-ae8d-07ab83afa7c1"
      },
      "execution_count": 32,
      "outputs": [
        {
          "output_type": "execute_result",
          "data": {
            "text/plain": [
              "'apple'"
            ],
            "application/vnd.google.colaboratory.intrinsic+json": {
              "type": "string"
            }
          },
          "metadata": {},
          "execution_count": 32
        }
      ]
    },
    {
      "cell_type": "code",
      "source": [
        "##  20. Write a code to count how many times the number 2 appears in the tuple (1, 2, 3, 2, 4, 2).\n",
        "\n",
        "tuple = (1,2,3,2,4,2)\n",
        "tuple.count(2)"
      ],
      "metadata": {
        "colab": {
          "base_uri": "https://localhost:8080/"
        },
        "id": "8nIOpwBMgk4X",
        "outputId": "715c6b63-edd0-429e-de4c-12f0c84b5804"
      },
      "execution_count": 33,
      "outputs": [
        {
          "output_type": "execute_result",
          "data": {
            "text/plain": [
              "3"
            ]
          },
          "metadata": {},
          "execution_count": 33
        }
      ]
    },
    {
      "cell_type": "code",
      "source": [
        "##  21. Write a code to find the index of the element \"cat\" in the tuple ('dog', 'cat', 'rabbit').\n",
        "\n",
        "tuple = ('dog', 'cat', 'rabbit')\n",
        "tuple.index('cat')\n"
      ],
      "metadata": {
        "colab": {
          "base_uri": "https://localhost:8080/"
        },
        "id": "UvhocNQLg3u3",
        "outputId": "60ec3a1b-e965-439e-eeb3-f9fa76f2ff12"
      },
      "execution_count": 34,
      "outputs": [
        {
          "output_type": "execute_result",
          "data": {
            "text/plain": [
              "1"
            ]
          },
          "metadata": {},
          "execution_count": 34
        }
      ]
    },
    {
      "cell_type": "code",
      "source": [
        "##  22. Write a code to check if the element \"banana\" is in the tuple ('apple', 'orange', 'banana').\n",
        "\n",
        "tuple = ('apple', 'orange', 'banana')\n",
        "\"banana\" in tuple"
      ],
      "metadata": {
        "colab": {
          "base_uri": "https://localhost:8080/"
        },
        "id": "mV3dMu5bhZSq",
        "outputId": "e475710c-7172-41d5-e496-233ef597e102"
      },
      "execution_count": 35,
      "outputs": [
        {
          "output_type": "execute_result",
          "data": {
            "text/plain": [
              "True"
            ]
          },
          "metadata": {},
          "execution_count": 35
        }
      ]
    },
    {
      "cell_type": "code",
      "source": [
        "##  23. Write a code to create a set with the elements 1, 2, 3, 4, 5 and print it.\n",
        "\n",
        "set = {1,2,3,4,5}\n",
        "print(set)"
      ],
      "metadata": {
        "colab": {
          "base_uri": "https://localhost:8080/"
        },
        "id": "ASYzYD54hhi1",
        "outputId": "a2b19578-57a3-4385-8704-a1826e2afa2d"
      },
      "execution_count": 36,
      "outputs": [
        {
          "output_type": "stream",
          "name": "stdout",
          "text": [
            "{1, 2, 3, 4, 5}\n"
          ]
        }
      ]
    },
    {
      "cell_type": "code",
      "source": [
        "##  24. Write a code to add the element 6 to the set {1, 2, 3, 4}.\n",
        "\n",
        "set = {1,2,3,4}\n",
        "set.add(6)\n",
        "print(set)\n",
        "#"
      ],
      "metadata": {
        "colab": {
          "base_uri": "https://localhost:8080/"
        },
        "id": "8GGG8ou6hrHG",
        "outputId": "4edb10c2-1937-4ec3-e3e0-3f92d5b853bf"
      },
      "execution_count": 37,
      "outputs": [
        {
          "output_type": "stream",
          "name": "stdout",
          "text": [
            "{1, 2, 3, 4, 6}\n"
          ]
        }
      ]
    },
    {
      "cell_type": "code",
      "source": [],
      "metadata": {
        "id": "Mo43HeGVh1r6"
      },
      "execution_count": null,
      "outputs": []
    }
  ]
}