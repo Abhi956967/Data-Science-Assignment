{
  "nbformat": 4,
  "nbformat_minor": 0,
  "metadata": {
    "colab": {
      "provenance": []
    },
    "kernelspec": {
      "name": "python3",
      "display_name": "Python 3"
    },
    "language_info": {
      "name": "python"
    }
  },
  "cells": [
    {
      "cell_type": "markdown",
      "source": [
        "1.   What is the difference between a function and a method in Python?\n",
        "\n",
        "\n",
        "---->  In Python, methods and functions have similar purposes but differ in important ways. Functions are independent blocks of code that can be called from anywhere, while methods are tied to objects or classes and need an object or class instance to be invoked. Functions promote code reusability, while methods offer behavior specific to objects. Functions are called by name, while methods are accessed using dot notation. Understanding these distinctions is crucial for writing organized, modular code in Python and harnessing the full power of methods and functions in various programming scenarios.\n",
        "\n",
        " 2. Explain the concept of function arguments and parameters in Python.\n",
        "\n",
        "---->  In Python, parameters are variables defined in a function's parentheses, while arguments are the values passed to the function when it's called:\n",
        "\n",
        "*  Here are some things to know about parameters and arguments in Python:\n",
        "\n",
        "-> Number of arguments\n",
        "A function must be called with the correct number of arguments. For example, if a function expects two arguments, then the function must be called with two arguments.\n",
        "-> Default arguments\n",
        "These are values provided when defining a function. They can be made optional during function calls.\n",
        "-> Keyword arguments\n",
        "These are values that are identifiable by specific parameter names. They are preceded by a parameter and the assignment operator, =.\n",
        "-> Arbitrary arguments\n",
        "These are variable-length arguments that can be accessed using *args and **kwargs. To use an arbitrary argument, add a * before the parameter name in the function definition.\n",
        "\n",
        " 3. What are the different ways to define and call a function in Python?\n",
        "\n",
        "----->  To define a function in Python, you can use the def keyword, followed by the function name, optional parameters in parentheses, and your code. To call a function, you can use the function name followed by parentheses.\n",
        "\n",
        "--> Here are some examples:\n",
        "Defining a function: def my_function(): print(\"Hello from a function\")\n",
        "Calling a function: my_function()\n",
        "Passing arguments: def my_function(fname): print(fname + \" Refsnes\")\n",
        "\n",
        "--> Here are some other things to know about functions in Python:\n",
        "\n",
        "* Docstrings\n",
        "A documentation string, or \"docstring\", is optional but can make code more readable.\n",
        "\n",
        "* Generator functions\n",
        "These functions return an iterator that can be used in a for loop. They are more memory-efficient than traditional functions.\n",
        "\n",
        "* Recursive functions\n",
        "These functions call themselves to solve a problem. They can be useful for solving complex problems, but they can be slower and use more memory than other solutions.\n",
        "\n",
        " 4. What is the purpose of the `return` statement in a Python function?\n",
        "\n",
        "The purpose of the return statement in a Python function is to:\n",
        "\n",
        "* End the function: The return statement marks the end of a function.\n",
        "* Return a value: The return statement specifies the value or values to pass back from the function.\n",
        "* Evaluate expressions: The return statement evaluates expressions and then returns the result from the function.\n"
      ],
      "metadata": {
        "id": "g88e_Zj8EzLj"
      }
    },
    {
      "cell_type": "code",
      "source": [
        "def function_name(parameter1, parameter2):\n",
        "  # Function body\n",
        "  return parameter1 + parameter2"
      ],
      "metadata": {
        "id": "jcdB5OXlHiyI"
      },
      "execution_count": null,
      "outputs": []
    },
    {
      "cell_type": "markdown",
      "source": [
        " 5. What are iterators in Python and how do they differ from iterables?\n",
        "\n",
        "In Python, iterators and iterables are fundamental concepts for working with sequences of elements.\n",
        "\n",
        "---->  Iterables\n",
        "\n",
        "* Definition: Any object that can be iterated over, meaning its elements can be accessed one by one.\n",
        "* Examples: Lists, tuples, strings, dictionaries, sets, and custom-defined objects that implement the __iter__ method.\n",
        "* How they work: When you iterate over an iterable, Python implicitly calls the __iter__ method on it. This method returns an iterator object.\n",
        "\n",
        "----> Iterators\n",
        "\n",
        "* Definition: Objects that produce the next value in a sequence when the next() function is called on them.\n",
        "* How they work:\n",
        "1. Initialization: An iterator is created from an iterable using the iter() function.\n",
        "2. Iteration: The next() function is used to retrieve the next element from the iterator.\n",
        "3. Termination: When there are no more elements, a StopIteration exception is raised.\n"
      ],
      "metadata": {
        "id": "JxKKRXtsHtkg"
      }
    },
    {
      "cell_type": "code",
      "source": [
        "my_list = [1, 2, 3]\n",
        "my_iterator = iter(my_list)\n",
        "\n",
        "print(next(my_iterator))\n",
        "print(next(my_iterator))\n",
        "print(next(my_iterator))"
      ],
      "metadata": {
        "colab": {
          "base_uri": "https://localhost:8080/"
        },
        "id": "D6Wn0FAKIuJq",
        "outputId": "2c8e57c1-e653-4817-d56a-b4a3804fcb04"
      },
      "execution_count": null,
      "outputs": [
        {
          "output_type": "stream",
          "name": "stdout",
          "text": [
            "1\n",
            "2\n",
            "3\n"
          ]
        }
      ]
    },
    {
      "cell_type": "markdown",
      "source": [
        " 6. Explain the concept of generators in Python and how they are defined.\n",
        "\n",
        "-----> Generators in Python\n",
        "\n",
        "* Generators are a special type of function that generates a sequence of values on-the-fly, rather than returning a list of all values at once. This makes them memory-efficient, especially when dealing with large datasets.\n",
        "\n",
        "-----> How Generators Are Defined\n",
        "\n",
        "* Generators are defined using the yield keyword instead of the return keyword. When a generator function is called, it returns an iterator object. 1  Each time the next() function is called on this iterator, the generator function resumes execution from where it left off, until the next yield statement is encountered.\n",
        "\n",
        " 7. What are the advantages of using generators over regular functions?\n",
        "\n",
        "---> Generators have several advantages over regular functions, including:\n",
        "\n",
        "1.  Memory efficiency\n",
        "* Generators are more memory efficient than regular functions because they produce values one at a time, instead of creating an entire sequence in memory. This makes them ideal for working with large or infinite data sets.\n",
        "\n",
        "2. Speed\n",
        "\n",
        "* Generators can be faster than regular loops, especially when working with large data sets.\n",
        "3. Readability\n",
        "* Generators can make code easier to read and understand by breaking up the iteration process into smaller chunks.\n",
        "4. Lazy evaluation\n",
        "* Generators follow the principle of lazy evaluation, where values are computed only when needed.\n",
        "5. Modularity\n",
        "* Generators encapsulate logic for producing sequences or iterating over data within a generator.\n",
        "6. Customizable iterators\n",
        "* Generators allow creating iterators without implementing the entire iterable protocol manually.\n",
        "Generators use the yield keyword instead of return to produce a series of values.\n",
        "\n",
        "-------->> 8. What is a lambda function in Python and when is it typically used?\n",
        "\n",
        "* A lambda function in Python is a small, anonymous function that's created on the fly. It's used when a full function isn't needed, or when a function is only required for a short time.\n",
        "\n",
        "-->Here are some characteristics of lambda functions:\n",
        "\n",
        "1. Definition\n",
        "\n",
        "Lambda functions are defined using the keyword lambda.\n",
        "2. Arguments\n",
        "Lambda functions can take any number of arguments, but they evaluate and return only one expression.\n",
        "3. Parameters\n",
        "Unlike normal functions, lambda function parameters aren't surrounded by parentheses.\n",
        "4. Use\n",
        "Lambda functions are often passed as arguments to higher-order functions, like filter(), map(), or reduce().\n",
        "\n",
        "Lambda functions are syntactically lighter than named functions when the function is only used once or a limited number of times.\n",
        "\n",
        "\n",
        "------->> 9. Explain the purpose and usage of the `map()` function in Python.\n",
        "\n",
        "1.  The map() function in Python applies a function to every item in an iterable, such as a list or tuple, and returns a result. The map() function is useful for a variety of tasks, including:\n",
        "* Performing calculations: Apply a consistent transformation to each element of a list of numbers\n",
        "* Processing strings: Convert all strings in a list to uppercase\n",
        "* Mapping lists: Process multiple lists at once by passing multiple sequences\n",
        "* Filtering and mapping data: Preprocess and filter data in data analytics platforms\n",
        "* Updating data in Django models: Update a list of user records in web applications like Django\n",
        "* Generating HTML elements: Dynamically generate HTML code from a data list in web development frameworks\n",
        "\n",
        "The syntax for the map() function is map(function, iterable, ….). The function is the transformation function, and the iterable can be a list, tuple, dictionary, or set. The map() function returns a map object, which is an iterator that can be used in other parts of the program. The map object can also be converted to sequence objects like a list or tuple using their factory functions.\n",
        "\n",
        "\n",
        "------->> 10. What is the difference between `map()`, `reduce()`, and `filter()` functions in Python?\n",
        "\n",
        "\n",
        "1. In Python, the main difference between the map(), filter(), and reduce() functions is what they do with the elements of an iterable:\n",
        "\n",
        "map()\n",
        "\n",
        "* Applies a function to each element in an iterable and returns a new list of the results. For example, you can use map() to convert integers to strings.\n",
        "\n",
        "filter()\n",
        "\n",
        "* Creates a new list from the elements of an iterable that pass a certain condition. For example, you can use filter() to remove countries with names that don't contain a specific string.\n",
        "\n",
        "reduce()\n",
        "\n",
        "* Applies a computation to sequential pairs of values in an iterable and returns a single value. For example, you can use reduce() to multiply two numbers in a row.\n",
        "\n",
        "Understanding Higher-Order Functions: Python Map, Filter ...\n",
        "These functions are part of functional programming and allow programmers to write shorter, simpler code without needing to worry about loops and branching. They are built into Python, except for reduce(), which needs to be imported from the functools module.\n",
        "While these functions are convenient, it's important to use them judiciously. Using them too much can lead to illegible code that's difficult to maintain. It's better to write a longer for-loop or defined method if you're struggling to fit the logic into one function\n",
        "\n",
        "\n",
        "-------->> 11. Using pen & Paper write the internal mechanism for sum operation using  reduce function on this given\n",
        "\n",
        "\n",
        "Understanding the reduce Function\n",
        "\n",
        "The reduce function is a higher-order function that takes two arguments:\n",
        "\n",
        "Function: A function that takes two arguments and returns a single value.\n",
        "Iterable: An iterable object like a list, tuple, or string.\n",
        "Internal Mechanism of reduce for Sum Operation\n",
        "\n",
        "Let's consider a simple list: [1, 2, 3, 4]\n",
        "\n",
        "Step-by-Step Breakdown:\n",
        "\n",
        "Initial State:\n",
        "\n",
        "The reduce function starts with the first two elements of the list: 1 and 2.\n",
        "It applies the specified function (in this case, addition) to these two elements: 1 + 2 = 3.\n",
        "Iterative Process:\n",
        "\n",
        "The result of the previous step (3) is combined with the next element (3) using the same function: 3 + 3 = 6.\n",
        "This process continues for the remaining elements: 6 + 4 = 10.\n",
        "\n",
        "\n",
        "[1, 2, 3, 4]\n",
        "  ^ ^\n",
        "  | |\n",
        "  +---+\n",
        "    |\n",
        "    3\n",
        "\n",
        "[3, 3, 4]\n",
        "  ^ ^\n",
        "  | |\n",
        "  +---+\n",
        "    |\n",
        "    6\n",
        "\n",
        "[6, 4]\n",
        "  ^ ^\n",
        "  | |\n",
        "  +---+\n",
        "    |\n",
        "    10\n",
        "\n",
        "\n"
      ],
      "metadata": {
        "id": "u_fM1H2AJD1K"
      }
    },
    {
      "cell_type": "code",
      "source": [
        "from functools import reduce\n",
        "\n",
        "numbers = [1, 2, 3, 4]\n",
        "sum_result = reduce(lambda x, y: x + y, numbers)\n",
        "print(sum_result)"
      ],
      "metadata": {
        "colab": {
          "base_uri": "https://localhost:8080/"
        },
        "id": "rKSfDUC4OZ3P",
        "outputId": "fc8ab6aa-03a5-4c53-a48b-6c60d2b36ec3"
      },
      "execution_count": null,
      "outputs": [
        {
          "output_type": "stream",
          "name": "stdout",
          "text": [
            "10\n"
          ]
        }
      ]
    },
    {
      "cell_type": "markdown",
      "source": [
        "                 ## Practical Questions:\n"
      ],
      "metadata": {
        "id": "KPr1s1m_OlBa"
      }
    },
    {
      "cell_type": "code",
      "source": [
        "##   1. Write a Python function that takes a list of numbers as input and returns the sum of all even numbers in the list.\n",
        "\n",
        "def sum_even_numbers(numbers):\n",
        "    sum_even = 0\n",
        "    for num in numbers:\n",
        "        if num % 2 == 0:\n",
        "            sum_even += num\n",
        "    return sum_even"
      ],
      "metadata": {
        "id": "_7WkqmJbPBU1"
      },
      "execution_count": 1,
      "outputs": []
    },
    {
      "cell_type": "code",
      "source": [
        "sum_even_numbers([1, 2, 3, 4, 5, 6, 7, 8, 9, 10])"
      ],
      "metadata": {
        "colab": {
          "base_uri": "https://localhost:8080/"
        },
        "id": "sVhgzqMwPhmV",
        "outputId": "e7c769c0-963d-424e-9d24-c0b45fe0f15d"
      },
      "execution_count": 2,
      "outputs": [
        {
          "output_type": "execute_result",
          "data": {
            "text/plain": [
              "30"
            ]
          },
          "metadata": {},
          "execution_count": 2
        }
      ]
    },
    {
      "cell_type": "code",
      "source": [
        "##  2. Create a Python function that accepts a string and returns the reverse of that string.\n",
        "\n",
        "def reverse_string(string):\n",
        "    return string[::-1]"
      ],
      "metadata": {
        "id": "DOr43CU0Px8a"
      },
      "execution_count": 3,
      "outputs": []
    },
    {
      "cell_type": "code",
      "source": [
        "reverse_string(\"Hello World\")"
      ],
      "metadata": {
        "colab": {
          "base_uri": "https://localhost:8080/",
          "height": 36
        },
        "id": "cohWMjUwQAYz",
        "outputId": "b5b81e52-814b-44df-c613-c4f1e92d1e14"
      },
      "execution_count": 4,
      "outputs": [
        {
          "output_type": "execute_result",
          "data": {
            "text/plain": [
              "'dlroW olleH'"
            ],
            "application/vnd.google.colaboratory.intrinsic+json": {
              "type": "string"
            }
          },
          "metadata": {},
          "execution_count": 4
        }
      ]
    },
    {
      "cell_type": "code",
      "source": [
        "## 3. Implement a Python function that takes a list of integers and returns a new list containing the squares of each number\n",
        "\n",
        "def square_numbers(numbers):\n",
        "    squared_numbers = [num ** 2 for num in numbers]\n",
        "    return squared_numbers"
      ],
      "metadata": {
        "id": "22adJR87QDqi"
      },
      "execution_count": 5,
      "outputs": []
    },
    {
      "cell_type": "code",
      "source": [
        "square_numbers([1, 2, 3, 4, 5])"
      ],
      "metadata": {
        "colab": {
          "base_uri": "https://localhost:8080/"
        },
        "id": "zUufEkJGQccq",
        "outputId": "719b6fec-9d64-46ad-8990-0a5ccf9fbb61"
      },
      "execution_count": 6,
      "outputs": [
        {
          "output_type": "execute_result",
          "data": {
            "text/plain": [
              "[1, 4, 9, 16, 25]"
            ]
          },
          "metadata": {},
          "execution_count": 6
        }
      ]
    },
    {
      "cell_type": "code",
      "source": [
        "##  4. Write a Python function that checks if a given number is prime or not from 1 to 200.\n",
        "\n",
        "def is_prime(number):\n",
        "    if number <= 1:\n",
        "        return False\n",
        "    if number <= 3:\n",
        "        return True\n",
        "    if number % 2 == 0 or number % 3 == 0:\n",
        "        return False"
      ],
      "metadata": {
        "id": "-U1TaTDMQfHs"
      },
      "execution_count": 7,
      "outputs": []
    },
    {
      "cell_type": "code",
      "source": [
        "is_prime(2)"
      ],
      "metadata": {
        "colab": {
          "base_uri": "https://localhost:8080/"
        },
        "id": "uJdxFdTXQ0e3",
        "outputId": "3e73dde5-c2fe-4cda-9cff-c2688e8db4e6"
      },
      "execution_count": 13,
      "outputs": [
        {
          "output_type": "execute_result",
          "data": {
            "text/plain": [
              "True"
            ]
          },
          "metadata": {},
          "execution_count": 13
        }
      ]
    },
    {
      "cell_type": "code",
      "source": [
        "## 5. Create an iterator class in Python that generates the Fibonacci sequence up to a specified number of terms.\n",
        "\n",
        "def fibonacci_sequence(n):\n",
        "    a, b = 0, 1\n",
        "    for _ in range(n):\n",
        "        yield a\n",
        "        a, b = b, a + b"
      ],
      "metadata": {
        "id": "j7auqvy8Q46C"
      },
      "execution_count": 14,
      "outputs": []
    },
    {
      "cell_type": "code",
      "source": [
        "fibonacci_sequence(5)"
      ],
      "metadata": {
        "colab": {
          "base_uri": "https://localhost:8080/"
        },
        "id": "GLcRdjvxR9Hy",
        "outputId": "d86daae9-1df8-4c35-d005-4e6b430ebdb9"
      },
      "execution_count": 16,
      "outputs": [
        {
          "output_type": "execute_result",
          "data": {
            "text/plain": [
              "<generator object fibonacci_sequence at 0x7e63002c10e0>"
            ]
          },
          "metadata": {},
          "execution_count": 16
        }
      ]
    },
    {
      "cell_type": "code",
      "source": [
        "##  6. Write a generator function in Python that yields the powers of 2 up to a given exponent.\n",
        "\n",
        "def powers_of_two(exponent):\n",
        "\n",
        "\n",
        "  result = 1\n",
        "  for i in range(exponent + 1):\n",
        "        yield result\n",
        "        result *= 2\n",
        "\n",
        "  for power in powers_of_two(10):\n",
        "    print(power)"
      ],
      "metadata": {
        "id": "sg0hlXhAR_Mo"
      },
      "execution_count": 23,
      "outputs": []
    },
    {
      "cell_type": "code",
      "source": [
        "powers_of_two(10)"
      ],
      "metadata": {
        "colab": {
          "base_uri": "https://localhost:8080/"
        },
        "id": "mHekSMlqTuD2",
        "outputId": "03df1f1d-fa6f-4dfc-fa2e-132084c81d9c"
      },
      "execution_count": 24,
      "outputs": [
        {
          "output_type": "execute_result",
          "data": {
            "text/plain": [
              "<generator object powers_of_two at 0x7e63002c2880>"
            ]
          },
          "metadata": {},
          "execution_count": 24
        }
      ]
    },
    {
      "cell_type": "code",
      "source": [
        "##  7. Implement a generator function that reads a file line by line and yields each line as a string.\n",
        "\n",
        "def read_file_lines(file_path):\n",
        "    with open(file_path, 'r') as file:\n",
        "        for line in file:\n",
        "            yield line"
      ],
      "metadata": {
        "id": "0B4beiyUUSJ0"
      },
      "execution_count": null,
      "outputs": []
    },
    {
      "cell_type": "code",
      "source": [
        "##  8. Use a lambda function in Python to sort a list of tuples based on the second element of each tuple.\n",
        "\n",
        "def sort_tuples(tuples_list):\n",
        "    sorted_tuples = sorted(tuples_list, key=lambda x: x[1])\n",
        "    return sorted_tuples"
      ],
      "metadata": {
        "id": "3F3TbovjU0nO"
      },
      "execution_count": 32,
      "outputs": []
    },
    {
      "cell_type": "code",
      "source": [
        "sort_tuples([(1, 3), (2, 1), (3, 2)])"
      ],
      "metadata": {
        "colab": {
          "base_uri": "https://localhost:8080/"
        },
        "id": "5THQYOtjU-z3",
        "outputId": "f06794d4-8ff8-412f-dca6-0e16608905d2"
      },
      "execution_count": 33,
      "outputs": [
        {
          "output_type": "execute_result",
          "data": {
            "text/plain": [
              "[(2, 1), (3, 2), (1, 3)]"
            ]
          },
          "metadata": {},
          "execution_count": 33
        }
      ]
    },
    {
      "cell_type": "code",
      "source": [
        "##  9. Write a Python program that uses `map()` to convert a list of temperatures from Celsius to Fahrenheit.\n",
        "\n",
        "def celsius_to_fahrenheit(celsius_list):\n",
        "    fahrenheit_list = list(map(lambda c: (c * 9/5) + 32, celsius_list))\n",
        "    return fahrenheit_list\n"
      ],
      "metadata": {
        "id": "VlaAdmwaVJ74"
      },
      "execution_count": 34,
      "outputs": []
    },
    {
      "cell_type": "code",
      "source": [
        "celsius_to_fahrenheit([0, 10, 20, 30, 40])"
      ],
      "metadata": {
        "colab": {
          "base_uri": "https://localhost:8080/"
        },
        "id": "nF2QLTOGWH_I",
        "outputId": "6a00e797-ba20-49ff-e34e-06223099e665"
      },
      "execution_count": 35,
      "outputs": [
        {
          "output_type": "execute_result",
          "data": {
            "text/plain": [
              "[32.0, 50.0, 68.0, 86.0, 104.0]"
            ]
          },
          "metadata": {},
          "execution_count": 35
        }
      ]
    },
    {
      "cell_type": "code",
      "source": [
        "##  10. Create a Python program that uses `filter()` to remove all the vowels from a given string\n",
        "\n",
        "def remove_vowels(string):\n",
        "    vowels = 'aeiouAEIOU'\n",
        "    filtered_string = ''.join(filter(lambda x: x not in vowels, string))\n",
        "    return filtered_string"
      ],
      "metadata": {
        "id": "UfWwbBW6WKEs"
      },
      "execution_count": 36,
      "outputs": []
    },
    {
      "cell_type": "code",
      "source": [
        "remove_vowels(\"Hello World\")"
      ],
      "metadata": {
        "colab": {
          "base_uri": "https://localhost:8080/",
          "height": 36
        },
        "id": "_retSa1GWSxO",
        "outputId": "f1af4c6b-38a4-4b04-eee0-2ba672293199"
      },
      "execution_count": 37,
      "outputs": [
        {
          "output_type": "execute_result",
          "data": {
            "text/plain": [
              "'Hll Wrld'"
            ],
            "application/vnd.google.colaboratory.intrinsic+json": {
              "type": "string"
            }
          },
          "metadata": {},
          "execution_count": 37
        }
      ]
    },
    {
      "cell_type": "code",
      "source": [
        "## ## The order_values list will contain tuples, where each tuple represents an order number and its calculated value.\n",
        "## This program effectively calculates the order values with the specified logic, incorporating the 10€ increase for orders below 100€, and utilizes lambda and map for a concise and functional approach.\n",
        "\n",
        "orders = [\n",
        "    [1, (\"Book 1\", 12, 2)], [2, (\"Book 2\", 15, 3)],\n",
        "    [3, (\"Book 3\", 8, 5)], [4, (\"Book 4\", 20, 1)]\n",
        "]\n",
        "\n",
        "order_values = list(map(\n",
        "    lambda order: (\n",
        "        order[0],\n",
        "        max(order[1][1] * order[1][2], 100)\n",
        "    ),\n",
        "    orders\n",
        "))\n",
        "\n",
        "print(order_values)\n"
      ],
      "metadata": {
        "colab": {
          "base_uri": "https://localhost:8080/"
        },
        "id": "Q5c_B7JIWVIl",
        "outputId": "2416cf03-b76b-4bb5-9f2c-d1dd9067239a"
      },
      "execution_count": 38,
      "outputs": [
        {
          "output_type": "stream",
          "name": "stdout",
          "text": [
            "[(1, 100), (2, 100), (3, 100), (4, 100)]\n"
          ]
        }
      ]
    },
    {
      "cell_type": "code",
      "source": [],
      "metadata": {
        "id": "h3MMMIBBXQmQ"
      },
      "execution_count": null,
      "outputs": []
    }
  ]
}