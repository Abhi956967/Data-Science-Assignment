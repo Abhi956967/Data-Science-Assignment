{
  "nbformat": 4,
  "nbformat_minor": 0,
  "metadata": {
    "colab": {
      "provenance": []
    },
    "kernelspec": {
      "name": "python3",
      "display_name": "Python 3"
    },
    "language_info": {
      "name": "python"
    }
  },
  "cells": [
    {
      "cell_type": "code",
      "execution_count": null,
      "metadata": {
        "id": "U5ss2kqgSJE0"
      },
      "outputs": [],
      "source": []
    },
    {
      "cell_type": "markdown",
      "source": [
        " 1.  What is Object-Oriented Programming (OOP)\n",
        "\n",
        "---> Object-oriented programming (OOP) in Python is a programming style that uses classes and objects to create software. It's a popular choice for many software projects because it allows developers to:\n",
        "\n",
        "* Model real-world concepts\n",
        "\n",
        "OOP lets developers model real-world entities as objects with attributes and methods. For example, a car can be considered an object with properties like its color, model, and price, and behaviors like acceleration and slowing down.\n",
        "\n",
        "* Create reusable code\n",
        "\n",
        "OOP makes it easier to create reusable code that can be used to develop more advanced modules and libraries.\n",
        "\n",
        "* Improve code quality and productivity\n",
        "\n",
        "OOP concepts like encapsulation, polymorphism, and inheritance make it easier to write flexible and scalable code.\n",
        "\n",
        "* Here are some concepts of OOP in Python:\n",
        "\n",
        "1. Classes: Templates for creating objects. Classes define the properties and behavior of the objects they create.\n",
        "\n",
        "2.  Inheritance: A child class inherits attributes and methods from a parent class.\n",
        "\n",
        "3. Special methods: Functions that are automatically invoked under specific\n",
        " conditions. For example, the repr method controls how an object is represented as a string when it is printed.\n",
        "\n",
        "------>> 2.  What is a class in OOP\n",
        "\n",
        "-- >> In object-oriented programming (OOP), a class is a template that defines the methods and variables for a specific type of object:\n",
        "\n",
        "1. Definition\n",
        "\n",
        "* A class is a user-defined data type that serves as a blueprint for creating objects, attributes, and methods.\n",
        "\n",
        "2. Purpose\n",
        "\n",
        "* Classes are used to create and manage new objects, and to support inheritance, which is a key feature of OOP.\n",
        "\n",
        "3. Structure\n",
        "\n",
        "* A class defines the shared aspects of objects created from it, such as state (variables) and behavior (methods).\n",
        "\n",
        "4. Inheritance\n",
        "\n",
        "* A class can have subclasses that inherit all or some of the class's characteristics. The class is the superclass in relation to its subclasses.\n",
        "\n",
        "5. Subclasses\n",
        "\n",
        "* Subclasses can define their own methods and variables that are not part of their superclass.\n",
        "\n",
        "6. Class hierarchy\n",
        "\n",
        "* The structure of a class and its subclasses is called the class hierarchy.\n",
        "\n",
        "\n",
        "------>> 3. what is an object in OOP\n",
        "\n",
        "-----> In object-oriented programming (OOP), an object is a unit of code that represents a data structure or abstract entity that can perform actions and interact with other parts of a program:\n",
        "\n",
        "1. Definition: An object is a data structure that contains fields (data) and methods (procedures that define the object's behavior).\n",
        "2. Purpose: Objects are the basic building blocks of OOP applications, and are used to carry out computations.\n",
        "3. Creation: Objects are created using classes, which define their structure.\n",
        "4. Interaction: Objects can interact with each other through defined interfaces.\n",
        "5. Examples: Objects can represent real-world objects, like a person, car, or shopping cart, or more abstract entities, like a file or a measurement translator.\n",
        "6. Storage: Objects are typically stored in contiguous regions of memory.\n",
        "\n",
        "------->> 4.  What is the difference between abstraction and encapsulation\n",
        "\n",
        "In Python, abstraction and encapsulation are both techniques that involve hiding data to improve code readability, security, and maintainability:\n",
        "\n",
        "1. Abstraction\n",
        "\n",
        "* Simplifies complex systems by hiding implementation details and exposing only the essential functionalities. For example, the steering wheel and pedals of a car abstract the complex driving mechanisms.\n",
        "\n",
        "2. Encapsulation\n",
        "\n",
        "* Secures data and functions within a class by restricting direct access to an object's data and methods. For example, the internal components of a car engine are encapsulated, hidden under the hood.\n",
        "\n",
        "In Python, encapsulation is enforced at the language level by using name mangling to make private members inaccessible. Private members are identified with a double underscore (__) and cannot be accessed directly from outside the class.\n",
        "\n",
        "------->> 5.  What are dunder methods in Python\n",
        "\n",
        "Dunder methods, also known as magic methods or special methods, are a set of predefined methods in Python that are used to add special functionality to classes and objects:\n",
        "\n",
        "* What they are\n",
        "\n",
        "Dunder methods are recognized by the double underscore format: methodname().\n",
        "\n",
        "* What they do\n",
        "\n",
        "Dunder methods define specific behaviors for built-in operations or functionalities in Python classes. For example, you can use dunder methods to customize the behavior of common operations such as +, -, *, **, ==, %, @ and others.\n",
        "\n",
        "* How they are used\n",
        "\n",
        "Dunder methods are typically not called directly, but are instead called implicitly by the language.\n",
        "\n",
        "* Examples\n",
        "\n",
        "Some examples of dunder methods include init(), add(), sub, mul, divmod, abs, lt, gt, le, contains, getitem, and delitem.\n",
        "\n",
        "The term \"dunder\" is short for \"double underscore\". The double underscores are there to prevent name collision with other methods implemented by unsuspecting programmers\n",
        "\n",
        "------->> 6.  Explain the concept of inheritance in OOP\n",
        "\n",
        "In Python, inheritance is a fundamental concept in object-oriented programming (OOP) that allows new classes to inherit attributes and methods from existing classes. This process creates a hierarchy of classes that share similar properties and methods.\n",
        "\n",
        "---> Here are some key concepts of inheritance in Python:\n",
        "\n",
        "1. Parent class\n",
        "\n",
        "* The class being inherited from, also known as the base class.\n",
        "\n",
        "2. Child class\n",
        "\n",
        "* The class that inherits from another class, also known as the derived class.\n",
        "\n",
        "3. Code reusability\n",
        "\n",
        "* Inheritance promotes code reusability by allowing a child class to inherit all the functionalities of the parent class.\n",
        "\n",
        "---> Types of inheritance\n",
        "\n",
        "There are five types of inheritance in Python: single, multiple, multilevel, hierarchical, and hybrid.\n",
        "\n",
        "----> Here's an example of inheritance in Python:\n",
        "\n",
        "* DataProcessor: The parent class\n",
        "* ImageProcessor: A subclass that inherits from DataProcessor and includes specific processing methods\n",
        "* TextProcessor: A subclass that inherits from DataProcessor and includes specific processing methods\n",
        "\n",
        "\n",
        "--------->> 7.  What is polymorphism in OOP\n",
        "\n",
        "In Python object-oriented programming (OOP), polymorphism is the ability to use the same function name for different types. This is achieved by differentiating each function based on its data type and number of arguments.\n",
        "\n",
        "1. Polymorphism is an essential part of programming that allows developers to write clean, readable, and resilient codes. It can be used in various ways, including:\n",
        "\n",
        "* Class polymorphism: A child class can have methods with the same name as a parent class method.\n",
        "\n",
        "* Method overriding: A derived class can redefine methods for its base class.\n",
        "\n",
        "* Operator overloading: A single type entity can represent multiple types in different contexts.\n",
        "\n",
        "Python does not support traditional method overloading as seen in statically typed languages. Instead, Python allows developers to define a single method with a flexible number of arguments using default values, variable-length argument lists, or keyword arguments.\n",
        "\n",
        "The word \"polymorphism\" comes from the Greek words poly, meaning \"many\", and morphe, meaning \"form\"\n",
        "\n",
        "-------->> 8.  How is encapsulation achieved in Python\n",
        "\n",
        "In Python, encapsulation is achieved by using access modifiers to limit access to a class's variables and methods. Python uses a convention-based approach, rather than keywords like \"public\", \"private\", and \"protected\":\n",
        "\n",
        "1. Private members\n",
        "\n",
        "* Use a double underscore prefix (__) to indicate a private member. Private members are only accessible within the class and are intended for internal use.\n",
        "\n",
        "2. Protected members\n",
        "\n",
        "* Use a single underscore prefix (_) to indicate a protected member. Protected members are intended to be used within the class and its subclasses.\n",
        "\n",
        "3. Public members\n",
        "\n",
        "* By default, all attributes and methods in a Python class are public and can be accessed from outside the class.\n",
        "\n",
        "Encapsulation protects the internal data of a class and instances associated with it. It also allows for controlled access to the internal state of an object, which can help reduce the risk of accidental data modification.\n",
        "\n",
        "\n",
        "\n"
      ],
      "metadata": {
        "id": "yDy6VvYASYS2"
      }
    },
    {
      "cell_type": "code",
      "source": [
        "def __init__(self, account_number):\n",
        "  self.__account_number = account_number # Private attribute\n",
        "def __validate_pin(self, pin): # Private method to validate the PIN\n",
        "  return len(str(pin)) == 4"
      ],
      "metadata": {
        "id": "pmLOi8xYbssO"
      },
      "execution_count": null,
      "outputs": []
    },
    {
      "cell_type": "markdown",
      "source": [
        "--------->>> 9.  What is a constructor in Python\n",
        "\n",
        "A constructor in Python is a special method that creates and initializes an object instance of a class:\n",
        "\n",
        "1. Purpose\n",
        "\n",
        "* A constructor's purpose is to initialize the attributes of an object when it's created. This is useful for ensuring that every object of a class has certain attributes set to specific values.\n",
        "\n",
        "2. How it works\n",
        "\n",
        "* When a new object is created using a class, the constructor method init is automatically called. The init method can use the self keyword to initialize the attributes of the object.\n",
        "\n",
        "3. Types of constructors\n",
        "\n",
        "---> There are two types of constructors:\n",
        "\n",
        "* Default constructor: A simple constructor that doesn't accept any arguments.\n",
        "* Parameterized constructor: A constructor with parameters that takes its first argument as a reference to the instance being constructed.\n",
        "\n",
        "4. Significance\n",
        "\n",
        "Constructors are a foundation of object-oriented programming and are important for streamlining object initialization and optimizing memory usage.\n",
        "\n",
        "--------->> 10. What are class and static methods in Python\n",
        "\n",
        "In Python, class methods are attached to the class itself, while static methods are tied to the class but not its object:\n",
        "\n",
        "1. Class methods\n",
        "\n",
        "* Attached to: The class itself\n",
        "* Access: Can access and modify the class state\n",
        "* Calling: Typically called on the class, but can also be called on an instance with the instance passed as the first argument\n",
        "* Overriding: Can be overridden in subclasses\n",
        "* Use: Suitable for operations that involve the class itself\n",
        "\n",
        "2. Static methods\n",
        "\n",
        "* Attached to: The class, but not its object\n",
        "* Access: Cannot access or modify the class or instance state\n",
        "* Calling: Can be called on the class or on an instance\n",
        "* Overriding: Cannot be overridden in subclasses\n",
        "* Use: Used for utility functions that do not require access to the class or instance\n",
        "\n",
        "------->> 11.  What is method overloading in Python\n",
        "\n",
        "Method overloading is a concept in Python that allows a single function to handle different input types or parameters. It's a form of compile-time polymorphism that can be achieved in Python through the use of default arguments, variable-length arguments, or conditionals.\n",
        "\n",
        "--->> Here's how method overloading works in Python:\n",
        "\n",
        "1. Default arguments\n",
        "\n",
        "* A method can be created that handles multiple parameter lists by using default arguments to provide default values for some parameters. This allows the method to be called with different numbers of arguments.\n",
        "\n",
        "2. Variable-length arguments\n",
        "\n",
        "* A method can be created that can accept any number of arguments using variable-length arguments (*args).\n",
        "\n",
        "3. Variable-length keyword arguments\n",
        "\n",
        "* A method can be created that accepts keyword arguments using variable-length keyword arguments (**kwargs).\n",
        "\n",
        "Method overloading in Python can help reduce code duplication, improve code quality, and make code more reusable and accessible.\n",
        "\n",
        "\n",
        "------->> 12.  What is method overriding in OOP\n",
        "\n",
        "Method overriding is a feature in object-oriented programming (OOP) that allows a subclass to replace a method in its superclass with its own implementation:  \n",
        "\n",
        "1. Explanation\n",
        "\n",
        "* The subclass method has the same name, parameters, and return type as the superclass method. The version of the method that is executed depends on the object used to invoke it.\n",
        "\n",
        "2. Benefits\n",
        "\n",
        "* Method overriding allows developers to customize the behavior of inherited methods without changing the parent class's code. It also enables polymorphism, which allows objects of different classes to be treated interchangeably.\n",
        "\n",
        "3. Examples\n",
        "\n",
        "* GUI libraries: Buttons can be customized to respond differently to user interactions.\n",
        "\n",
        "* Game development: Different game characters can share common behaviors while having unique abilities.\n",
        "\n",
        "Interest rate calculation: A bank class can provide functionality for calculating interest rates, but different banks can have different interest rates\n",
        "\n",
        "\n",
        "------->> 13.  What is a property decorator in Python\n",
        "\n",
        "\n",
        "In Python, a property decorator is a powerful tool that allows you to define class attributes that behave like regular attributes while providing more control and flexibility.\n",
        "\n",
        "---> Here's a breakdown:\n",
        "\n",
        "1. Traditional Attributes:\n",
        "\n",
        "* Directly accessed and modified: object.attribute = value\n",
        "No control over how the attribute is accessed or modified.\n",
        "\n",
        "2. Property Decorators:\n",
        "\n",
        "* Provide a controlled interface for accessing and modifying attributes.\n",
        "*Enable you to:\n",
        "*Encapsulate attribute logic (e.g., validation, calculations)\n",
        "* Implement getter, setter, and deleter methods for fine-grained control.\n",
        "\n",
        "3. Key Points:\n",
        "\n",
        "* @property: This decorator defines the getter method.\n",
        "* @name.setter: This decorator defines the setter method.\n",
        "* @name.deleter: This decorator defines the deleter method.\n",
        "* Underscore Convention: The _name attribute is considered private (although not enforced by Python).\n",
        "\n",
        "4. Benefits of Using Property Decorators:\n",
        "\n",
        "*Encapsulation: Hide implementation details and control how attributes are accessed and modified.\n",
        "* Flexibility: Implement complex logic within the getter, setter, and deleter methods.\n",
        "* Maintainability: Improve code organization and readability.\n",
        "\n",
        "\n",
        "-------->> 14.  Why is polymorphism important in OOP\n",
        "\n",
        "Polymorphism is a feature of object-oriented programming (OOP) that's important because it:\n",
        "\n",
        "1. Improves code readability\n",
        "\n",
        "*Polymorphism allows programmers to define multiple forms of a single object, variable, or method. This can make code easier to read and maintain.\n",
        "\n",
        "2. Saves time\n",
        "\n",
        "* Reusing code can save time and speed up development.\n",
        "\n",
        "3. Reduces redundancy\n",
        "\n",
        "* Polymorphism allows developers to write generic code that can operate on various types of objects. This reduces redundancy and improves efficiency.\n",
        "\n",
        "4. Makes code more extensible\n",
        "\n",
        "* Polymorphism allows developers to easily create new classes derived from existing classes.\n",
        "\n",
        "5. Simplifies debugging\n",
        "\n",
        "* Polymorphism can simplify variable searches and execution, as well as code debugging.\n",
        "\n",
        "6. Makes systems more flexible and adaptable\n",
        "\n",
        "* Polymorphism enables the creation of flexible and adaptable systems, making it easier to maintain and enhance software over time.\n",
        "\n",
        "\n",
        "----------->> 15. What is an abstract class in Python\n",
        "\n",
        "An abstract class in Python is a class that cannot be instantiated on its own and is used as a blueprint for other classes:\n",
        "\n",
        "1. Purpose\n",
        "\n",
        "* Abstract classes define methods that must be implemented by subclasses, ensuring a consistent interface.\n",
        "\n",
        "2. Benefits\n",
        "\n",
        "Abstract classes:\n",
        "\n",
        "* Prevent instantiation of the class itself\n",
        "* Provide a common interface for various implementations of a component\n",
        "* Serve as documentation for the expected behavior of subclasses\n",
        "* Enable polymorphism, simplifying code reusability and type checking\n",
        "Detect errors during design\n",
        "\n",
        "3. How to create abstract classes\n",
        "\n",
        "* Use the abc (Abstract Base Classes) module in Python\n",
        "Use the @abstractmethod decorator to define abstract methods\n",
        "\n",
        "4. Example\n",
        "\n",
        "* An abstract class Shape that defines an abstract method area\n",
        "Derived classes, like Circle and Rectangle, must implement the area method according to their specific geometric shapes\n",
        "\n",
        "\n",
        "------------>> 16.  What are the advantages of OOP?\n",
        "\n",
        "\n",
        "Object-oriented programming (OOP) has many advantages, including:\n",
        "\n",
        "1. Modularity\n",
        "\n",
        "* OOP allows developers to divide a complex system into smaller, more manageable objects. This makes it easier to troubleshoot and collaborate on development.\n",
        "\n",
        "2. Reusability\n",
        "\n",
        "* Code can be reused through inheritance, so teams don't have to write the same code multiple times.\n",
        "\n",
        "3. Flexibility\n",
        "\n",
        "* Polymorphism allows a single function to adapt to the class it's in, and different objects can pass through the same interface.\n",
        "\n",
        "4. Security\n",
        "\n",
        "* Encapsulation bundles data to protect information inside an object, making the code secure.\n",
        "\n",
        "5. Productivity\n",
        "\n",
        "* Programmers can use reusable code and multiple libraries to quickly build new programs.\n",
        "\n",
        "6. Scalability\n",
        "\n",
        "* Programmers can implement system functionalities independently.\n",
        "\n",
        "7. Effective problem solving\n",
        "\n",
        "* OOP breaks down big tasks into smaller parts, making it easier to organize, maintain, and expand large projects.\n",
        "\n",
        "8. Enhanced collaboration\n",
        "\n",
        "* OOP promotes consistency in the codebase and encourages teamwork.\n",
        "\n",
        "\n",
        "------------>> 17. What is the difference between a class variable and an instance variable\n",
        "\n",
        "\n",
        "The main difference between a class variable and an instance variable is that a class variable is shared across all instances of a class, while an instance variable is unique to each instance:\n",
        "\n",
        "1. Class variable\n",
        "\n",
        "* A single copy of a class variable exists, regardless of how many instances of the class are created. Class variables are shared between a class and all its subclasses. They are suitable for data that needs to be consistent across a class hierarchy.\n",
        "\n",
        "2. Instance variable\n",
        "\n",
        "* Each instantiated object of a class has a separate copy of an instance variable. Instance variables are unique to each object, making them ideal for storing instance-specific data.\n",
        "\n",
        "In object-oriented programming, class variables are defined at the class level, while instance variables are defined at the object level.\n",
        "\n",
        "\n",
        "----------->> 18. What is multiple inheritance in Python\n",
        "\n",
        "Multiple inheritance is a feature in Python that allows a class to inherit attributes and methods from more than one parent class. This is different from the default single inheritance in Python, which only allows a class to inherit from one parent class.\n",
        "\n",
        "1. Multiple inheritance can be used to:\n",
        "\n",
        "* Create complex class hierarchies\n",
        "* Promote code reuse\n",
        "* Combine functionalities from different base classes into a single derived class\n",
        "* Result in more flexible and modular code\n",
        "\n",
        "2. Here's an example of multiple inheritance in Python:\n",
        "\n",
        "* SuperClass1: A class with its own features\n",
        "* SuperClass2: A class with its own features\n",
        "* MultiDerived: A class that derives from both SuperClass1 and SuperClass2, and has the features of both\n",
        "\n",
        "---------------- 19.  Explain the purpose of ‘’__str__’ and ‘__repr__’ ‘ methods in Python\n",
        "\n",
        "In Python, the __str__ and __repr__ methods are used to return string representations of an object:\n",
        "\n",
        "1. __str__\n",
        "\n",
        "* Returns a human-readable, informal string representation of an object. This method is used for printing objects for users. It's called by the built-in print(), str(), and format() functions.\n",
        "\n",
        "2. __repr__\n",
        "\n",
        "* Returns a more information-rich, official string representation of an object. This method is used for debugging, logging, and object inspection. It's called by the built-in repr() function.\n",
        "\n",
        "3. Here are some more details about these methods:\n",
        "\n",
        "* If a class doesn't define a __str__() method, Python will call the __repr__() method instead.\n",
        "* The __repr__() method should return a string that can be used to recreate the object.\n",
        "* The __repr__() method is usually more for developers than the end-user.\n",
        "* The __repr__() method can provide detailed insights into objects, making it a powerful ally in debugging.\n",
        "* You can tailor the string representation for different audiences, such as program users or your fellow programmers\n",
        "\n",
        "-------------->> 20.  What is the significance of the ‘super()’ function in Python\n",
        "\n",
        "The super() function in Python is a built-in function that allows access to methods and properties of a parent class from a child class. It is useful for working with inheritance in object-oriented programming.\n",
        "\n",
        "1. Here are some benefits of using the super() function:\n",
        "\n",
        "* Inheritance: Allows a subclass to inherit behavior and attributes from its parent class.\n",
        "* Flexibility: Allows a subclass to override or extend the behavior of the parent class.\n",
        "* Code maintenance: Makes code more flexible and easier to maintain by allowing you to call a method from the parent class without explicitly naming the parent class.\n",
        "* Avoids code duplication: Allows you to avoid rewriting code in every child class.\n",
        "* More general code: Allows you to write more general code.\n",
        "* Complex class hierarchies: Necessary for more complex class hierarchies that use dependency injection and multiple inheritance.\n",
        "\n",
        "\n",
        "---------->> 21. What is the significance of the __del__ method in Python\n",
        "\n",
        "----> The __del__ method in Python is a destructor method that's called when an object is about to be destroyed. It's used to perform actions like closing files, releasing locks, or closing network connections to clean up resources. This helps prevent resource leaks and ensures that resources are properly released, which can make applications more reliable and robust.\n",
        "\n",
        "--->> The __del__ method is called after an object's garbage collection occurs, which happens when all references to the item have been destroyed. This can happen when the reference count of an object reaches zero, or when the Python interpreter shuts down\n",
        "\n",
        "\n",
        "--------->> 22. What is the difference between @staticmethod and @classmethod in Python\n",
        "\n",
        "The main difference between @classmethod and @staticmethod in Python is that a class method can access and modify the class state, while a static method cannot:\n",
        "\n",
        "1. Parameters\n",
        "\n",
        "* A class method takes cls as its first argument, while a static method doesn't require any specific parameters.\n",
        "\n",
        "2. Class binding\n",
        "\n",
        "* A class method is bound to the class, while a static method is not bound to either the class or an instance of the class.\n",
        "\n",
        "3. Overriding\n",
        "\n",
        "* Class methods can be overridden in subclasses, while static methods cannot.\n",
        "\n",
        "4. Access\n",
        "\n",
        "* A class method can access or modify the class state, while a static method cannot.\n",
        "\n",
        "5. Decorators\n",
        "\n",
        "* The @classmethod decorator creates a class method, while the @staticmethod decorator creates a static method.\n",
        "\n",
        "--->> Static methods are utility methods that operate on parameters after receiving them. They can be called on the class or on an instance of the class, but they don't have access to either.\n",
        "\n",
        "---->> Class methods can be called on the class itself, or on an instance of the class. When called on an instance, the instance is automatically passed as the first argument.\n",
        "\n",
        "\n",
        "\n",
        "-------->>> 23.  How does polymorphism work in Python with inheritance\n",
        "\n",
        "\n",
        "Polymorphism and inheritance work together in Python when a child class inherits methods and attributes from a parent class, and then overrides some of those methods to fit the child class:\n",
        "\n",
        "1. Inheritance\n",
        "\n",
        "* The methods and attributes of a parent class are passed down to its child class.\n",
        "\n",
        "2. Method overriding\n",
        "\n",
        "* A child class re-implements a method that it inherited from its parent class. This is useful when the inherited method is not appropriate for the child class.\n",
        "\n",
        "3. Polymorphism\n",
        "\n",
        "* The child class method is allowed to have the same name as the parent class method. When the method is called on an object of the derived class, the version of the method defined in that class will be executed.\n",
        "\n",
        "--->> Here are some examples of polymorphism and inheritance in Python:\n",
        "\n",
        "Animals: In this example, the endangered() method is overridden in the child classes:\n",
        "\n",
        "\n",
        "--------->> 24. What is method chaining in Python OOP?\n",
        "\n",
        "\n",
        "In Python, method chaining is a syntax that allows multiple method calls to be invoked on an object in a single line of code:\n",
        "\n",
        "Explanation\n",
        "\n",
        "1. How it works\n",
        "\n",
        "* Each method call returns the object it modifies, which can then be used as the input for the next method call.\n",
        "\n",
        "2. Benefits\n",
        "\n",
        "* Method chaining makes code more readable and concise, especially when working with objects that require multiple operations. It also avoids the need to store intermediate results in variables.\n",
        "\n",
        "3. How to chain methods\n",
        "\n",
        "* Use the dot operator to call methods one after another in the same line of\n",
        "code. For example, result = obj.method1().method2().method3().\n",
        "\n",
        "In Python, methods are programmed procedures that are part of a class and can be called by any object instantiated from that class.\n",
        "\n",
        "---------->> 25. What is the purpose of the __call__ method in Python?\n",
        "\n",
        "--->> The call method in Python allows programmers to write classes where instances behave like functions and can be called like functions:\n",
        "\n",
        "1. Purpose: The call method allows programmers to invoke class instances as functions. This makes the instances callable objects.\n",
        "\n",
        "2. How it works: To make a class's instances callable, define the call method in the class. The call method works like any other instance method, taking self as\n",
        "its first argument and accepting any additional arguments.\n",
        "\n",
        "Example: For example, in the class Demo, the __call__ method can be defined as:\n",
        "Code\n",
        "\n",
        "  def __call__(self):\n",
        "      print(\"Hello from call.\")\n",
        "\n",
        "3. Shorthand notation\n",
        "\n",
        "* When an instance is called as a function, x(arg1, arg2, ...) is shorthand for x.__call__(arg1, arg2, ...).\n",
        "\n",
        "4. Built-in method\n",
        "\n",
        "* The call method is a built-in method in Python, also known as a dunder or magic method. Dunder methods have two prefixes and suffix underscores in the method name.\n",
        "\n"
      ],
      "metadata": {
        "id": "RZzE47ZzcE8Y"
      }
    },
    {
      "cell_type": "code",
      "source": [
        "## 1.  1. Create a parent class Animal with a method speak() that prints a generic message. Create a child class Dog  that overrides the speak() method to print \"Bark!\".\n",
        "\n",
        "class Animal:\n",
        "    def speak(self):\n",
        "        print(\"The animal speaks.\")\n",
        "\n",
        "class Dog(Animal):\n",
        "    def speak(self):\n",
        "        print(\"The dog barks.\")\n"
      ],
      "metadata": {
        "id": "AdGlfbOaVrqB"
      },
      "execution_count": null,
      "outputs": []
    },
    {
      "cell_type": "code",
      "source": [
        "obj1 = Dog()\n",
        "obj1.speak()"
      ],
      "metadata": {
        "colab": {
          "base_uri": "https://localhost:8080/"
        },
        "id": "dTsyVXM4WODq",
        "outputId": "ac0b3774-4728-46ba-90b1-7bf25ed5103b"
      },
      "execution_count": null,
      "outputs": [
        {
          "output_type": "stream",
          "name": "stdout",
          "text": [
            "The dog barks.\n"
          ]
        }
      ]
    },
    {
      "cell_type": "code",
      "source": [
        "obj2 = Animal()\n",
        "obj2.speak()"
      ],
      "metadata": {
        "colab": {
          "base_uri": "https://localhost:8080/"
        },
        "id": "MNOkHiNVWTgr",
        "outputId": "77bb2a03-3286-4f58-c434-f463ee9875ed"
      },
      "execution_count": null,
      "outputs": [
        {
          "output_type": "stream",
          "name": "stdout",
          "text": [
            "The animal speaks.\n"
          ]
        }
      ]
    },
    {
      "cell_type": "code",
      "source": [
        "## 2.  2. Write a program to create an abstract class Shape with a method area(). Derive classes Circle and Rectangle  from it and implement the area() method in both\n",
        "\n",
        "class Shape:\n",
        "    def area(self):\n",
        "        pass\n",
        "\n",
        "class Circle(Shape):\n",
        "    def area(self, radius):\n",
        "        return 3.14 * radius * radius\n",
        "\n",
        "class Rectangle(Shape):\n",
        "    def area(self, length, width):\n",
        "        return length * width"
      ],
      "metadata": {
        "id": "sXqRlVr4WgII"
      },
      "execution_count": null,
      "outputs": []
    },
    {
      "cell_type": "code",
      "source": [
        "obj1 = Circle()\n",
        "obj1.area(5)"
      ],
      "metadata": {
        "colab": {
          "base_uri": "https://localhost:8080/"
        },
        "id": "YM1hxbIVXlmx",
        "outputId": "a088644d-b0cb-41ca-9d92-a093bb903eca"
      },
      "execution_count": null,
      "outputs": [
        {
          "output_type": "execute_result",
          "data": {
            "text/plain": [
              "78.5"
            ]
          },
          "metadata": {},
          "execution_count": 11
        }
      ]
    },
    {
      "cell_type": "code",
      "source": [
        "## 3.  3. Implement a multi-level inheritance scenario where a class Vehicle has an attribute type. Derive a class Car  and further derive a class ElectricCar that adds a battery attribute.\n",
        "\n",
        "class Vehicle:\n",
        "    def __init__(self, type):\n",
        "        self.type = type\n",
        "\n",
        "class Car(Vehicle):\n",
        "    pass\n",
        "\n",
        "class ElectricCar(Car):\n",
        "    def __init__(self, type, battery):\n",
        "        super().__init__(type)\n",
        "        self.battery = battery\n"
      ],
      "metadata": {
        "id": "38KzzTjeXpag"
      },
      "execution_count": null,
      "outputs": []
    },
    {
      "cell_type": "code",
      "source": [
        "obj1 = ElectricCar(\"Car\", \"50 kWh\")\n",
        "obj1.type"
      ],
      "metadata": {
        "colab": {
          "base_uri": "https://localhost:8080/",
          "height": 36
        },
        "id": "ddTYZg3eYkjy",
        "outputId": "6839cabd-57bf-443c-c986-3c3cec69f584"
      },
      "execution_count": null,
      "outputs": [
        {
          "output_type": "execute_result",
          "data": {
            "text/plain": [
              "'Car'"
            ],
            "application/vnd.google.colaboratory.intrinsic+json": {
              "type": "string"
            }
          },
          "metadata": {},
          "execution_count": 13
        }
      ]
    },
    {
      "cell_type": "code",
      "source": [
        "##   4. Implement a multi-level inheritance scenario where a class Vehicle has an attribute type. Derive a class Car  and further derive a class ElectricCar that adds a battery attribute\n",
        "\n",
        "class Vehicle:\n",
        "    def __init__(self, type):\n",
        "        self.type = type\n",
        "\n",
        "class Car(Vehicle):\n",
        "    pass\n",
        "\n",
        "class ElectricCar(Car):\n",
        "    def __init__(self, type, battery):\n",
        "        super().__init__(type)\n",
        "        self.battery = battery\n"
      ],
      "metadata": {
        "id": "h3BTYWBnYoOb"
      },
      "execution_count": null,
      "outputs": []
    },
    {
      "cell_type": "code",
      "source": [
        "obj1 = ElectricCar(\"Car\", \"50 kWh\")\n",
        "obj1.type"
      ],
      "metadata": {
        "colab": {
          "base_uri": "https://localhost:8080/",
          "height": 36
        },
        "id": "is7kx0YUZlU-",
        "outputId": "569d2478-5ef9-46f9-ca3d-b0bf82c5a181"
      },
      "execution_count": null,
      "outputs": [
        {
          "output_type": "execute_result",
          "data": {
            "text/plain": [
              "'Car'"
            ],
            "application/vnd.google.colaboratory.intrinsic+json": {
              "type": "string"
            }
          },
          "metadata": {},
          "execution_count": 15
        }
      ]
    },
    {
      "cell_type": "code",
      "source": [
        "##  5. Write a program to demonstrate encapsulation by creating a class BankAccount with private attributes balance and methods to deposit, withdraw, and check balance.\n",
        "\n",
        "class BankAccount:\n",
        "    def __init__(self, balance):\n",
        "        self.__balance = balance\n",
        "\n",
        "    def deposit(self, amount):\n",
        "        self.__balance += amount\n",
        "\n",
        "    def withdraw(self, amount):\n",
        "        if amount <= self.__balance:\n",
        "            self.__balance -= amount\n",
        "        else:\n",
        "            print(\"Insufficient balance.\")"
      ],
      "metadata": {
        "id": "VG4kLOalZneW"
      },
      "execution_count": null,
      "outputs": []
    },
    {
      "cell_type": "code",
      "source": [
        "obj1 = BankAccount(1000)\n",
        "obj1.deposit(500)\n",
        "obj1.withdraw(200)"
      ],
      "metadata": {
        "id": "5iU2jKcSa_OD"
      },
      "execution_count": null,
      "outputs": []
    },
    {
      "cell_type": "code",
      "source": [
        "obj1.deposit(1000)"
      ],
      "metadata": {
        "id": "SQ5ZLGEkbBwe"
      },
      "execution_count": null,
      "outputs": []
    },
    {
      "cell_type": "code",
      "source": [
        "obj1.withdraw(500)"
      ],
      "metadata": {
        "id": "RtuRMNYObFgF"
      },
      "execution_count": null,
      "outputs": []
    },
    {
      "cell_type": "code",
      "source": [
        "## 6. Demonstrate runtime polymorphism using a method play() in a base class Instrument. Derive classes Guitar and Piano that implement their own version of play()\n",
        "\n",
        "class Instrument:\n",
        "    def play(self):\n",
        "        pass\n",
        "\n",
        "class Guitar(Instrument):\n",
        "    def play(self):\n",
        "        print(\"Guitar is playing.\")\n",
        "\n",
        "class Piano(Instrument):\n",
        "    def play(self):\n",
        "        print(\"Piano is playing.\")"
      ],
      "metadata": {
        "id": "qrUvaLFBbRhW"
      },
      "execution_count": 1,
      "outputs": []
    },
    {
      "cell_type": "code",
      "source": [
        "obj1 = Guitar()\n",
        "obj1.play()"
      ],
      "metadata": {
        "colab": {
          "base_uri": "https://localhost:8080/"
        },
        "id": "xPJFrwX8vlCX",
        "outputId": "d38a8674-f633-452a-d880-2965eaef2d93"
      },
      "execution_count": 2,
      "outputs": [
        {
          "output_type": "stream",
          "name": "stdout",
          "text": [
            "Guitar is playing.\n"
          ]
        }
      ]
    },
    {
      "cell_type": "code",
      "source": [
        "## 7. Create a class MathOperations with a class method add_numbers() to add two numbers and a static method subtract_numbers() to subtract two numbers.\n",
        "\n",
        "class MathOperations:\n",
        "    @classmethod\n",
        "    def add_numbers(cls, num1, num2):\n",
        "        return num1 + num2\n",
        "\n",
        "    @staticmethod\n",
        "    def subtract_numbers(num1, num2):\n",
        "        return num1 - num2\n",
        "\n"
      ],
      "metadata": {
        "id": "lX7nx0oDvnnJ"
      },
      "execution_count": 6,
      "outputs": []
    },
    {
      "cell_type": "code",
      "source": [
        "obj1 = MathOperations()\n",
        "obj1.add_numbers(2,3)"
      ],
      "metadata": {
        "colab": {
          "base_uri": "https://localhost:8080/"
        },
        "id": "5oA3xRPTwiNC",
        "outputId": "3360dab1-3c6a-4d04-fe68-7750289e9137"
      },
      "execution_count": 7,
      "outputs": [
        {
          "output_type": "execute_result",
          "data": {
            "text/plain": [
              "5"
            ]
          },
          "metadata": {},
          "execution_count": 7
        }
      ]
    },
    {
      "cell_type": "code",
      "source": [
        "obj2 = MathOperations()\n",
        "obj2.subtract_numbers(2,3)"
      ],
      "metadata": {
        "colab": {
          "base_uri": "https://localhost:8080/"
        },
        "id": "TDjfXO7Jwl9Z",
        "outputId": "ee3f9fac-d359-4312-be4d-6ab6caecf95e"
      },
      "execution_count": 8,
      "outputs": [
        {
          "output_type": "execute_result",
          "data": {
            "text/plain": [
              "-1"
            ]
          },
          "metadata": {},
          "execution_count": 8
        }
      ]
    },
    {
      "cell_type": "code",
      "source": [
        "##  8. Implement a class Person with a class method to count the total number of persons created.\n",
        "\n",
        "class Person:\n",
        "    count = 0\n",
        "\n",
        "    def __init__(self):\n",
        "        Person.count += 1\n",
        "\n",
        "    @classmethod\n",
        "    def get_count(cls):\n",
        "        return cls.count"
      ],
      "metadata": {
        "id": "KkSSvTlEw53L"
      },
      "execution_count": 9,
      "outputs": []
    },
    {
      "cell_type": "code",
      "source": [
        "obj1 = Person()\n",
        "obj2 = Person()\n",
        "obj3 = Person()"
      ],
      "metadata": {
        "id": "M-elU6sLxURv"
      },
      "execution_count": 10,
      "outputs": []
    },
    {
      "cell_type": "code",
      "source": [
        "obj1.get_count()"
      ],
      "metadata": {
        "colab": {
          "base_uri": "https://localhost:8080/"
        },
        "id": "K57WKnkdxaWS",
        "outputId": "62396e48-331e-4b90-9a80-c697794888da"
      },
      "execution_count": 12,
      "outputs": [
        {
          "output_type": "execute_result",
          "data": {
            "text/plain": [
              "3"
            ]
          },
          "metadata": {},
          "execution_count": 12
        }
      ]
    },
    {
      "cell_type": "code",
      "source": [
        "## 9. Write a class Fraction with attributes numerator and denominator. Override the str method to display the  fraction as \"numerator/denominator\".\n",
        "\n",
        "class Fraction:\n",
        "    def __init__(self, numerator, denominator):\n",
        "        self.numerator = numerator\n",
        "        self.denominator = denominator\n",
        "\n",
        "    def __str__(self):\n",
        "        return f\"{self.numerator}/{self.denominator}\""
      ],
      "metadata": {
        "id": "p2dHr6SpxkZm"
      },
      "execution_count": 13,
      "outputs": []
    },
    {
      "cell_type": "code",
      "source": [
        "frac1 = Fraction(3, 4)\n",
        "print(frac1)"
      ],
      "metadata": {
        "colab": {
          "base_uri": "https://localhost:8080/"
        },
        "id": "FapEj3oJyRQE",
        "outputId": "d946bdb5-f723-4cdb-dfc2-d21855864766"
      },
      "execution_count": 19,
      "outputs": [
        {
          "output_type": "stream",
          "name": "stdout",
          "text": [
            "3/4\n"
          ]
        }
      ]
    },
    {
      "cell_type": "code",
      "source": [
        "frac2 = Fraction(1, 2)\n",
        "print(frac2)"
      ],
      "metadata": {
        "colab": {
          "base_uri": "https://localhost:8080/"
        },
        "id": "VlrMziJ7ypxO",
        "outputId": "cb63e048-3d14-4900-bb4f-d6a0aad9c2a8"
      },
      "execution_count": 20,
      "outputs": [
        {
          "output_type": "stream",
          "name": "stdout",
          "text": [
            "1/2\n"
          ]
        }
      ]
    },
    {
      "cell_type": "code",
      "source": [
        "##  10. Demonstrate operator overloading by creating a class Vector and overriding the add method to add two vectors\n",
        "\n",
        "class Vector:\n",
        "    def __init__(self, x, y):\n",
        "        self.x = x\n",
        "        self.y = y\n",
        "\n",
        "    def __add__(self, other):\n",
        "        return Vector(self.x + other.x, self.y + other.y)\n"
      ],
      "metadata": {
        "id": "H8X9DspszLvZ"
      },
      "execution_count": 21,
      "outputs": []
    },
    {
      "cell_type": "code",
      "source": [
        "obj1 = Vector(1, 2)\n",
        "obj2 = Vector(3, 4)"
      ],
      "metadata": {
        "id": "ScCHvVQJzy6-"
      },
      "execution_count": 22,
      "outputs": []
    },
    {
      "cell_type": "code",
      "source": [
        "obj3 = obj1 + obj2"
      ],
      "metadata": {
        "id": "vwdHg2SKz6NX"
      },
      "execution_count": 25,
      "outputs": []
    },
    {
      "cell_type": "code",
      "source": [
        "print(obj3.x)\n",
        "print(obj3.y)"
      ],
      "metadata": {
        "colab": {
          "base_uri": "https://localhost:8080/"
        },
        "id": "pVHtSgPuz-6A",
        "outputId": "c6326974-dcd9-4cee-b355-26f7d1f09b72"
      },
      "execution_count": 26,
      "outputs": [
        {
          "output_type": "stream",
          "name": "stdout",
          "text": [
            "7\n",
            "10\n"
          ]
        }
      ]
    },
    {
      "cell_type": "code",
      "source": [
        "##  11. Create a class Person with attributes name and age. Add a method greet() that prints \"Hello, my name is  {name} and I am {age} years old.\n",
        "\n",
        "class Person:\n",
        "    def __init__(self, name, age):\n",
        "        self.name = name\n",
        "        self.age = age\n",
        "\n",
        "    def greet(self):\n",
        "        print(f\"Hello, my name is {self.name} and I am {self.age} years old.\")"
      ],
      "metadata": {
        "id": "mb9_HACO0k3_"
      },
      "execution_count": 36,
      "outputs": []
    },
    {
      "cell_type": "code",
      "source": [
        "person = Person(\"Alice\", 30)\n",
        "person.greet()"
      ],
      "metadata": {
        "colab": {
          "base_uri": "https://localhost:8080/"
        },
        "id": "vFCp6Xv41dkK",
        "outputId": "4eb71f75-3e1c-45c7-ba1d-5ca604249578"
      },
      "execution_count": 40,
      "outputs": [
        {
          "output_type": "stream",
          "name": "stdout",
          "text": [
            "Hello, my name is Alice and I am 30 years old.\n"
          ]
        }
      ]
    },
    {
      "cell_type": "code",
      "source": [
        "## 12. Implement a class Student with attributes name and grades. Create a method average_grade() to compute  the average of the grades.\n",
        "\n",
        "class Student:\n",
        "    def __init__(self, name, grades):\n",
        "        self.name = name\n",
        "        self.grades = grades\n",
        "\n",
        "    def average_grade(self):\n",
        "        return sum(self.grades) / len(self.grades)\n",
        ""
      ],
      "metadata": {
        "id": "vnBedcSB1m77"
      },
      "execution_count": 41,
      "outputs": []
    },
    {
      "cell_type": "code",
      "source": [
        "obj = Student(\"Alice\", [85, 90, 78])\n",
        "obj.average_grade()"
      ],
      "metadata": {
        "colab": {
          "base_uri": "https://localhost:8080/"
        },
        "id": "xlMesu-54Jvd",
        "outputId": "eb20b633-b6ce-4c22-b196-3a5fa2754d5f"
      },
      "execution_count": 42,
      "outputs": [
        {
          "output_type": "execute_result",
          "data": {
            "text/plain": [
              "84.33333333333333"
            ]
          },
          "metadata": {},
          "execution_count": 42
        }
      ]
    },
    {
      "cell_type": "code",
      "source": [
        "##  13. Create a class Rectangle with methods set_dimensions() to set the dimensions and area() to calculate the  area.\n",
        "\n",
        "class Rectangle:\n",
        "    def __init__(self):\n",
        "        self.length = None\n",
        "        self.width = None\n",
        "\n",
        "    def set_dimensions(self, length, width):\n",
        "        self.length = length\n",
        "        self.width = width\n",
        "\n",
        "    def area(self):\n",
        "        if self.length is not None and self.width is not None:\n",
        "            return self.length * self.width"
      ],
      "metadata": {
        "id": "Sez-QxLr4QP7"
      },
      "execution_count": 43,
      "outputs": []
    },
    {
      "cell_type": "code",
      "source": [
        "obj1 = Rectangle()\n",
        "obj1.set_dimensions(5, 10)\n",
        "obj1.area()"
      ],
      "metadata": {
        "colab": {
          "base_uri": "https://localhost:8080/"
        },
        "id": "SLwPyeRm4rrp",
        "outputId": "2d8c7620-4510-4f4a-8877-7df546a5fff8"
      },
      "execution_count": 44,
      "outputs": [
        {
          "output_type": "execute_result",
          "data": {
            "text/plain": [
              "50"
            ]
          },
          "metadata": {},
          "execution_count": 44
        }
      ]
    },
    {
      "cell_type": "code",
      "source": [
        "##  14. Create a class Employee with a method calculate_salary() that computes the salary based on hours worked  and hourly rate. Create a derived class Manager that adds a bonus to the salary\n",
        "\n",
        "\n",
        "class Employee:\n",
        "    def __init__(self, name, hourly_rate):\n",
        "        self.name = name\n",
        "        self.hourly_rate = hourly_rate\n",
        "\n",
        "    def calculate_salary(self, hours_worked):\n",
        "        return self.hourly_rate * hours_worked\n",
        "\n",
        "class Manager(Employee):\n",
        "    def __init__(self, name, hourly_rate, bonus):\n",
        "        super().__init__(name, hourly_rate)\n",
        "        self.bonus = bonus\n",
        "\n",
        "    def calculate_salary(self, hours_worked):\n",
        "        base_salary = super().calculate_salary(hours_worked)\n",
        "        return base_salary + self.bonus\n",
        ""
      ],
      "metadata": {
        "id": "0FnCX0TE4u1X"
      },
      "execution_count": 45,
      "outputs": []
    },
    {
      "cell_type": "code",
      "source": [
        "# Example usage:\n",
        "employee = Employee(\"John Doe\", 20)\n",
        "manager = Manager(\"Jane Smith\", 30, 500)"
      ],
      "metadata": {
        "id": "oNwnf_ji51_m"
      },
      "execution_count": 46,
      "outputs": []
    },
    {
      "cell_type": "code",
      "source": [
        "print(f\"{employee.name}'s salary: ${employee.calculate_salary(40)}\")\n",
        "print(f\"{manager.name}'s salary: ${manager.calculate_salary(40)}\")"
      ],
      "metadata": {
        "colab": {
          "base_uri": "https://localhost:8080/"
        },
        "id": "drTFeeQE54SJ",
        "outputId": "28f84c8c-7965-494e-8894-db0c8f92f9f9"
      },
      "execution_count": 47,
      "outputs": [
        {
          "output_type": "stream",
          "name": "stdout",
          "text": [
            "John Doe's salary: $800\n",
            "Jane Smith's salary: $1700\n"
          ]
        }
      ]
    },
    {
      "cell_type": "code",
      "source": [
        "## 15. Create a class Product with attributes name, price, and quantity. Implement a method total_price() that calculates the total price of the product\n",
        "\n",
        "class Product:\n",
        "    def __init__(self, name, price, quantity):\n",
        "        self.name = name\n",
        "        self.price = price\n",
        "        self.quantity = quantity\n",
        "\n",
        "    def total_price(self):\n",
        "        return self.price * self.quantity\n",
        "\n",
        ""
      ],
      "metadata": {
        "id": "Rx9iw2Xi6Nrj"
      },
      "execution_count": 48,
      "outputs": []
    },
    {
      "cell_type": "code",
      "source": [
        "obj1 = Product(\"Laptop\", 1000, 2)\n",
        "obj1.total_price()"
      ],
      "metadata": {
        "colab": {
          "base_uri": "https://localhost:8080/"
        },
        "id": "l3Dt90Ti6im1",
        "outputId": "78501e7d-229a-418d-ac47-6bc1e30f8ac6"
      },
      "execution_count": 49,
      "outputs": [
        {
          "output_type": "execute_result",
          "data": {
            "text/plain": [
              "2000"
            ]
          },
          "metadata": {},
          "execution_count": 49
        }
      ]
    },
    {
      "cell_type": "code",
      "source": [
        "##  16. Create a class Animal with an abstract method sound(). Create two derived classes Cow and Sheep that implement the sound() method.\n",
        "\n",
        "from abc import ABC, abstractmethod\n",
        "\n",
        "class Animal(ABC):\n",
        "    @abstractmethod\n",
        "    def sound(self):\n",
        "        pass\n",
        "\n",
        "class Cow(Animal):\n",
        "    def sound(self):\n",
        "        print(\"Moo!\")\n",
        "\n",
        "class Sheep(Animal):\n",
        "    def sound(self):\n",
        "        print(\"Baa!\")"
      ],
      "metadata": {
        "id": "CsHRT0Ps6ob-"
      },
      "execution_count": 50,
      "outputs": []
    },
    {
      "cell_type": "code",
      "source": [
        "obj1 = Cow()\n",
        "obj1.sound()"
      ],
      "metadata": {
        "colab": {
          "base_uri": "https://localhost:8080/"
        },
        "id": "koCxMv1367dx",
        "outputId": "04e04a6a-b097-475b-a4d8-c4a5ad4ced60"
      },
      "execution_count": 51,
      "outputs": [
        {
          "output_type": "stream",
          "name": "stdout",
          "text": [
            "Moo!\n"
          ]
        }
      ]
    },
    {
      "cell_type": "code",
      "source": [
        "##  17. Create a class Book with attributes title, author, and year_published. Add a method get_book_info() that  returns a formatted string with the book's details.\n",
        "\n",
        "class Book:\n",
        "    def __init__(self, title, author, year_published):\n",
        "        self.title = title\n",
        "        self.author = author\n",
        "        self.year_published = year_published\n",
        "\n",
        "    def get_book_info(self):\n",
        "        return f\"'{self.title}' by {self.author}, published in {self.year_published}.\"\n",
        "\n",
        "\n"
      ],
      "metadata": {
        "id": "OArrsTy669Ma"
      },
      "execution_count": 52,
      "outputs": []
    },
    {
      "cell_type": "code",
      "source": [
        "# Example usage:\n",
        "book = Book(\"To Kill a Mockingbird\", \"Harper Lee\", 1960)\n",
        "print(book.get_book_info())"
      ],
      "metadata": {
        "colab": {
          "base_uri": "https://localhost:8080/"
        },
        "id": "ADZqzM8e7jXj",
        "outputId": "6b6253ef-2d4c-4b65-c0a2-094f32b22c0d"
      },
      "execution_count": 53,
      "outputs": [
        {
          "output_type": "stream",
          "name": "stdout",
          "text": [
            "'To Kill a Mockingbird' by Harper Lee, published in 1960.\n"
          ]
        }
      ]
    },
    {
      "cell_type": "code",
      "source": [
        "##  18. Create a class House with attributes address and price. Create a derived class Mansion that adds an  attribute number_of_rooms.\n",
        "\n",
        "class House:\n",
        "    def __init__(self, address, price):\n",
        "        self.address = address\n",
        "        self.price = price\n",
        "\n",
        "\n",
        "class Mansion(House):\n",
        "    def __init__(self, address, price, number_of_rooms):\n",
        "        super().__init__(address, price)\n",
        "        self.number_of_rooms = number_of_rooms"
      ],
      "metadata": {
        "id": "dqVPKWfQ7kPD"
      },
      "execution_count": 54,
      "outputs": []
    },
    {
      "cell_type": "code",
      "source": [
        "obj1 = Mansion(\"123 Main St\", 200000, 8)\n",
        "obj1.address"
      ],
      "metadata": {
        "colab": {
          "base_uri": "https://localhost:8080/",
          "height": 36
        },
        "id": "ixVu0mYR8Bk0",
        "outputId": "14d337ef-18d5-454c-d709-e866a5d578c1"
      },
      "execution_count": 55,
      "outputs": [
        {
          "output_type": "execute_result",
          "data": {
            "text/plain": [
              "'123 Main St'"
            ],
            "application/vnd.google.colaboratory.intrinsic+json": {
              "type": "string"
            }
          },
          "metadata": {},
          "execution_count": 55
        }
      ]
    },
    {
      "cell_type": "code",
      "source": [],
      "metadata": {
        "id": "0tbwtIOg8Eh8"
      },
      "execution_count": null,
      "outputs": []
    }
  ]
}