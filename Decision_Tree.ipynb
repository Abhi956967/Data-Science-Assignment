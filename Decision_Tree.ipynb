{
  "nbformat": 4,
  "nbformat_minor": 0,
  "metadata": {
    "colab": {
      "provenance": []
    },
    "kernelspec": {
      "name": "python3",
      "display_name": "Python 3"
    },
    "language_info": {
      "name": "python"
    }
  },
  "cells": [
    {
      "cell_type": "markdown",
      "source": [
        "1. What is a Decision Tree, and how does it work\n",
        "\n",
        "  A decision tree is a supervised learning algorithm used for both classification and regression tasks. It's a tree-like structure that makes predictions by recursively splitting data based on feature values, ultimately leading to a final outcome at a leaf node.\n",
        "\n",
        "2. What are impurity measures in Decision Trees\n",
        "\n",
        "  Splitting Decision Trees with Gini Impurity - Analytics VidhyaIn decision trees, impurity measures quantify the \"mixed-up-ness\" or disorder within a node, indicating how well the data at that node is separated into distinct classes. The goal of a decision tree algorithm is to minimize impurity at each split, creating more homogeneous and predictable nodes. Common impurity measures include Gini impurity and entropy.\n",
        "\n",
        "3. What is the mathematical formula for Gini Impurity\n",
        "\n",
        "  The Gini Impurity formula for a node in a decision tree is: Gini(D) = 1 - Σ [pᵢ²] where 'pᵢ' is the proportion of a specific class 'i' within the node's dataset (D), and the summation is calculated across all classes. This formula essentially measures the probability of misclassifying a randomly chosen data point in the node.\n",
        "\n",
        "4. What is the mathematical formula for Entropy\n",
        "\n",
        "  The Gini Impurity formula for a node in a decision tree is: Gini(D) = 1 - Σ [pᵢ²] where 'pᵢ' is the proportion of a specific class 'i' within the node's dataset (D), and the summation is calculated across all classes. This formula essentially measures the probability of misclassifying a randomly chosen data point in the node.\n",
        "\n",
        "5. What is Information Gain, and how is it used in Decision Trees\n",
        "\n",
        "  Information gain is a metric used in decision tree algorithms to determine the effectiveness of a feature in splitting a dataset into more homogeneous subsets. It quantifies the reduction in entropy (uncertainty) achieved by splitting the data based on a particular feature. Features with higher information gain are preferred for splitting, as they lead to more accurate predictions.\n",
        "\n",
        "6. What is the difference between Gini Impurity and Entropy\n",
        "\n",
        "\n",
        "  Gini impurity and entropy are both impurity measures used in decision tree algorithms to evaluate the quality of a split. While they aim to achieve similar goals, they differ in their mathematical formulas and computational complexity. Gini impurity is generally faster to compute, while entropy can lead to slightly better splits, especially with imbalanced datasets.\n",
        "\n",
        "7. What is Pre-Pruning in Decision Trees\n",
        "\n",
        "\n",
        "  Pre-pruning, also known as early stopping, is a technique used in decision trees to prevent overfitting by halting the tree's growth before it reaches its full potential. This is achieved by setting specific constraints or thresholds that determine when the tree should stop splitting nodes, thereby limiting its complexity and improving generalization on unseen data.\n",
        "\n",
        "8. What is Post-Pruning in Decision Trees\n",
        "\n",
        "  Post-pruning in decision trees, also known as backward pruning, is a technique where a fully grown decision tree is simplified by removing branches or nodes. This process helps to prevent overfitting and improve the model's ability to generalize to new, unseen data.\n",
        "\n",
        "9. What is the difference between Pre-Pruning and Post-Pruning\n",
        "\n",
        "  Pre-pruning and post-pruning are two different strategies used to optimize decision trees in machine learning by preventing overfitting. Pre-pruning (early stopping) involves stopping the tree's growth during construction based on certain criteria, while post-pruning simplifies a fully grown tree by removing branches after its initial formation.\n",
        "\n",
        "10. What is a Decision Tree Regressor\n",
        "\n",
        "  A decision tree regressor is a machine learning model that uses a tree-like structure to predict continuous numerical values. It works by recursively splitting the data based on different features, creating a tree where each path from the root to a leaf node represents a series of decisions that lead to a predicted value.\n",
        "\n",
        "\n",
        "\n",
        "11. What are the advantages and disadvantages of Decision Trees\n",
        "\n",
        "  Decision trees are a popular machine learning algorithm with both advantages and disadvantages. They are known for their interpretability and ease of understanding, allowing users to easily visualize the decision-making process. They also handle both categorical and numerical data, and can effectively capture non-linear relationships. However, decision trees can be prone to overfitting and are sensitive to small changes in the data, leading to instability.\n",
        "\n",
        "13.  How does a Decision Tree handle missing values\n",
        "\n",
        "  Decision trees can handle missing values in a few ways. One approach is to ignore instances with missing values during training, which can lead to data loss. Another method involves imputing the missing values using statistical measures like the mean, median, or mode of the feature, or even more advanced techniques like KNN imputation. Additionally, decision trees can create separate branches for instances with missing values, essentially treating the missingness as another category. During prediction, the tree will follow the same strategy used during training.\n",
        "\n",
        "14. How does a Decision Tree handle categorical features\n",
        "\n",
        "  Decision trees inherently handle categorical features without requiring explicit encoding like one-hot encoding, although some implementations may benefit from it. They evaluate different ways to split the categories into subsets, selecting the split that optimizes a chosen impurity measure like Gini impurity or information gain.\n",
        "\n",
        "15. What are some real-world applications of Decision Trees\n",
        "\n",
        "  Decision trees are versatile machine learning models with numerous real-world applications. They are used for both classification and regression tasks, offering a balance of accuracy and interpretability. Some key areas where decision trees are applied include finance, healthcare, marketing, and fraud detection.\n",
        "\n",
        "\n",
        "\n"
      ],
      "metadata": {
        "id": "jErEokdy8tai"
      }
    },
    {
      "cell_type": "markdown",
      "source": [
        "                                                     ###### Practical"
      ],
      "metadata": {
        "id": "dFqhA-2X_lRK"
      }
    },
    {
      "cell_type": "markdown",
      "source": [
        "16. Write a Python program to train a Decision Tree Classifier on the Iris dataset and print the model accuracy*"
      ],
      "metadata": {
        "id": "Wv6SuE7X_rNq"
      }
    },
    {
      "cell_type": "code",
      "metadata": {
        "colab": {
          "base_uri": "https://localhost:8080/"
        },
        "id": "5e7585a9",
        "outputId": "667b002c-24f8-4ce5-d0e0-51ded56147c9"
      },
      "source": [
        "from sklearn.datasets import load_iris\n",
        "from sklearn.tree import DecisionTreeClassifier\n",
        "from sklearn.model_selection import train_test_split\n",
        "from sklearn.metrics import accuracy_score\n",
        "\n",
        "# Load the Iris dataset\n",
        "iris = load_iris()\n",
        "X, y = iris.data, iris.target\n",
        "\n",
        "# Split the dataset into training and testing sets\n",
        "X_train, X_test, y_train, y_test = train_test_split(X, y, test_size=0.3, random_state=42)\n",
        "\n",
        "# Initialize and train the Decision Tree Classifier\n",
        "clf = DecisionTreeClassifier(random_state=42)\n",
        "clf.fit(X_train, y_train)\n",
        "\n",
        "# Make predictions on the test set\n",
        "y_pred = clf.predict(X_test)\n",
        "\n",
        "# Calculate and print the accuracy\n",
        "accuracy = accuracy_score(y_test, y_pred)\n",
        "print(f\"Accuracy of the Decision Tree Classifier on the Iris dataset: {accuracy:.2f}\")"
      ],
      "execution_count": 2,
      "outputs": [
        {
          "output_type": "stream",
          "name": "stdout",
          "text": [
            "Accuracy of the Decision Tree Classifier on the Iris dataset: 1.00\n"
          ]
        }
      ]
    },
    {
      "cell_type": "markdown",
      "source": [
        "17. Write a Python program to train a Decision Tree Classifier using Gini Impurity as the criterion and print the\n",
        "feature importances*\n"
      ],
      "metadata": {
        "id": "OWh1MbaIEjZr"
      }
    },
    {
      "cell_type": "code",
      "metadata": {
        "colab": {
          "base_uri": "https://localhost:8080/"
        },
        "id": "37fb9c29",
        "outputId": "901ac89c-8ede-465b-8b87-4bc85d216929"
      },
      "source": [
        "from sklearn.datasets import load_iris\n",
        "from sklearn.tree import DecisionTreeClassifier\n",
        "from sklearn.model_selection import train_test_split\n",
        "\n",
        "# Load the Iris dataset\n",
        "iris = load_iris()\n",
        "X, y = iris.data, iris.target\n",
        "\n",
        "# Split the dataset into training and testing sets\n",
        "X_train, X_test, y_train, y_test = train_test_split(X, y, test_size=0.3, random_state=42)\n",
        "\n",
        "# Initialize and train the Decision Tree Classifier using Gini Impurity\n",
        "clf = DecisionTreeClassifier(criterion='gini', random_state=42)\n",
        "clf.fit(X_train, y_train)\n",
        "\n",
        "# Get and print the feature importances\n",
        "feature_importances = clf.feature_importances_\n",
        "feature_names = iris.feature_names\n",
        "\n",
        "print(\"Feature importances:\")\n",
        "for name, importance in zip(feature_names, feature_importances):\n",
        "    print(f\"{name}: {importance:.4f}\")"
      ],
      "execution_count": 1,
      "outputs": [
        {
          "output_type": "stream",
          "name": "stdout",
          "text": [
            "Feature importances:\n",
            "sepal length (cm): 0.0000\n",
            "sepal width (cm): 0.0191\n",
            "petal length (cm): 0.8933\n",
            "petal width (cm): 0.0876\n"
          ]
        }
      ]
    },
    {
      "cell_type": "markdown",
      "source": [
        "18. Write a Python program to train a Decision Tree Classifier using Entropy as the splitting criterion and print the\n",
        "model accuracy*"
      ],
      "metadata": {
        "id": "0xQp1W4OE1eA"
      }
    },
    {
      "cell_type": "code",
      "metadata": {
        "colab": {
          "base_uri": "https://localhost:8080/"
        },
        "id": "1ac24521",
        "outputId": "3bdef781-b603-4f58-93ed-34c29c0e3001"
      },
      "source": [
        "from sklearn.datasets import load_iris\n",
        "from sklearn.tree import DecisionTreeClassifier\n",
        "from sklearn.model_selection import train_test_split\n",
        "from sklearn.metrics import accuracy_score\n",
        "\n",
        "# Load the Iris dataset\n",
        "iris = load_iris()\n",
        "X, y = iris.data, iris.target\n",
        "\n",
        "# Split the dataset into training and testing sets\n",
        "X_train, X_test, y_train, y_test = train_test_split(X, y, test_size=0.3, random_state=42)\n",
        "\n",
        "# Initialize and train the Decision Tree Classifier using Entropy\n",
        "clf = DecisionTreeClassifier(criterion='entropy', random_state=42)\n",
        "clf.fit(X_train, y_train)\n",
        "\n",
        "# Make predictions on the test set\n",
        "y_pred = clf.predict(X_test)\n",
        "\n",
        "# Calculate and print the accuracy\n",
        "accuracy = accuracy_score(y_test, y_pred)\n",
        "print(f\"Accuracy of the Decision Tree Classifier on the Iris dataset (using Entropy): {accuracy:.2f}\")"
      ],
      "execution_count": 3,
      "outputs": [
        {
          "output_type": "stream",
          "name": "stdout",
          "text": [
            "Accuracy of the Decision Tree Classifier on the Iris dataset (using Entropy): 0.98\n"
          ]
        }
      ]
    },
    {
      "cell_type": "markdown",
      "source": [
        "19. Write a Python program to train a Decision Tree Regressor on a housing dataset and evaluate using Mean\n",
        "Squared Error (MSE)"
      ],
      "metadata": {
        "id": "1FnQ6PCYE-VB"
      }
    },
    {
      "cell_type": "code",
      "metadata": {
        "colab": {
          "base_uri": "https://localhost:8080/"
        },
        "id": "b601efa8",
        "outputId": "d65bbc90-310d-4001-9315-c5942466438c"
      },
      "source": [
        "from sklearn.datasets import fetch_california_housing\n",
        "from sklearn.tree import DecisionTreeRegressor\n",
        "from sklearn.model_selection import train_test_split\n",
        "from sklearn.metrics import mean_squared_error\n",
        "\n",
        "# Load the California housing dataset\n",
        "housing = fetch_california_housing()\n",
        "X, y = housing.data, housing.target\n",
        "\n",
        "# Split the dataset into training and testing sets\n",
        "X_train, X_test, y_train, y_test = train_test_split(X, y, test_size=0.3, random_state=42)\n",
        "\n",
        "# Initialize and train the Decision Tree Regressor\n",
        "regressor = DecisionTreeRegressor(random_state=42)\n",
        "regressor.fit(X_train, y_train)\n",
        "\n",
        "# Make predictions on the test set\n",
        "y_pred = regressor.predict(X_test)\n",
        "\n",
        "# Calculate and print the Mean Squared Error\n",
        "mse = mean_squared_error(y_test, y_pred)\n",
        "print(f\"Mean Squared Error of the Decision Tree Regressor on the California housing dataset: {mse:.2f}\")"
      ],
      "execution_count": 4,
      "outputs": [
        {
          "output_type": "stream",
          "name": "stdout",
          "text": [
            "Mean Squared Error of the Decision Tree Regressor on the California housing dataset: 0.53\n"
          ]
        }
      ]
    },
    {
      "cell_type": "markdown",
      "source": [
        "20. Write a Python program to train a Decision Tree Classifier and visualize the tree using graphviz*\n"
      ],
      "metadata": {
        "id": "bqoiImOOF974"
      }
    },
    {
      "cell_type": "code",
      "metadata": {
        "colab": {
          "base_uri": "https://localhost:8080/",
          "height": 35
        },
        "id": "2cb195c1",
        "outputId": "cfac51cc-fa78-4891-d9b4-b6f552c40ce9"
      },
      "source": [
        "from sklearn.datasets import load_iris\n",
        "from sklearn.tree import DecisionTreeClassifier, export_graphviz\n",
        "from sklearn.model_selection import train_test_split\n",
        "import graphviz\n",
        "\n",
        "# Load the Iris dataset\n",
        "iris = load_iris()\n",
        "X, y = iris.data, iris.target\n",
        "feature_names = iris.feature_names\n",
        "class_names = iris.target_names\n",
        "\n",
        "# Split the dataset into training and testing sets (optional for visualization, but good practice)\n",
        "X_train, X_test, y_train, y_test = train_test_split(X, y, test_size=0.3, random_state=42)\n",
        "\n",
        "# Initialize and train the Decision Tree Classifier\n",
        "clf = DecisionTreeClassifier(random_state=42)\n",
        "clf.fit(X_train, y_train)\n",
        "\n",
        "# Export the decision tree to a DOT file\n",
        "dot_data = export_graphviz(clf, out_file=None,\n",
        "                           feature_names=feature_names,\n",
        "                           class_names=class_names,\n",
        "                           filled=True, rounded=True,\n",
        "                           special_characters=True)\n",
        "\n",
        "# Create a Graphviz graph from the DOT data\n",
        "graph = graphviz.Source(dot_data)\n",
        "\n",
        "# Render the graph\n",
        "graph.render(\"iris_decision_tree\", view=True, format='png') # Saves and opens the tree visualization\n",
        "\n",
        "# To display the graph directly in the notebook (if environment supports it)\n",
        "# display(graph)"
      ],
      "execution_count": 5,
      "outputs": [
        {
          "output_type": "execute_result",
          "data": {
            "text/plain": [
              "'iris_decision_tree.png'"
            ],
            "application/vnd.google.colaboratory.intrinsic+json": {
              "type": "string"
            }
          },
          "metadata": {},
          "execution_count": 5
        }
      ]
    },
    {
      "cell_type": "markdown",
      "source": [
        "21. Write a Python program to train a Decision Tree Classifier with a maximum depth of 3 and compare its\n",
        "accuracy with a fully grown tree"
      ],
      "metadata": {
        "id": "ax91K-S9GPec"
      }
    },
    {
      "cell_type": "code",
      "metadata": {
        "colab": {
          "base_uri": "https://localhost:8080/"
        },
        "id": "5ac42ca1",
        "outputId": "3a471b1d-48f5-4334-f25f-81de53a4ce87"
      },
      "source": [
        "from sklearn.datasets import load_iris\n",
        "from sklearn.tree import DecisionTreeClassifier\n",
        "from sklearn.model_selection import train_test_split\n",
        "from sklearn.metrics import accuracy_score\n",
        "\n",
        "# Load the Iris dataset\n",
        "iris = load_iris()\n",
        "X, y = iris.data, iris.target\n",
        "\n",
        "# Split the dataset into training and testing sets\n",
        "X_train, X_test, y_train, y_test = train_test_split(X, y, test_size=0.3, random_state=42)\n",
        "\n",
        "# Initialize and train the Decision Tree Classifier with max_depth=3\n",
        "clf_limited_depth = DecisionTreeClassifier(max_depth=3, random_state=42)\n",
        "clf_limited_depth.fit(X_train, y_train)\n",
        "\n",
        "# Make predictions and calculate accuracy for the limited depth tree\n",
        "y_pred_limited_depth = clf_limited_depth.predict(X_test)\n",
        "accuracy_limited_depth = accuracy_score(y_test, y_pred_limited_depth)\n",
        "print(f\"Accuracy of the Decision Tree Classifier with max_depth=3: {accuracy_limited_depth:.2f}\")\n",
        "\n",
        "# Initialize and train a fully grown Decision Tree Classifier\n",
        "clf_full_depth = DecisionTreeClassifier(random_state=42)\n",
        "clf_full_depth.fit(X_train, y_train)\n",
        "\n",
        "# Make predictions and calculate accuracy for the fully grown tree\n",
        "y_pred_full_depth = clf_full_depth.predict(X_test)\n",
        "accuracy_full_depth = accuracy_score(y_test, y_pred_full_depth)\n",
        "print(f\"Accuracy of the fully grown Decision Tree Classifier: {accuracy_full_depth:.2f}\")"
      ],
      "execution_count": 6,
      "outputs": [
        {
          "output_type": "stream",
          "name": "stdout",
          "text": [
            "Accuracy of the Decision Tree Classifier with max_depth=3: 1.00\n",
            "Accuracy of the fully grown Decision Tree Classifier: 1.00\n"
          ]
        }
      ]
    },
    {
      "cell_type": "markdown",
      "source": [
        "22. Write a Python program to train a Decision Tree Classifier using min_samples_split=5 and compare its\n",
        "accuracy with a default tree"
      ],
      "metadata": {
        "id": "WzIYIDawGZYU"
      }
    },
    {
      "cell_type": "code",
      "metadata": {
        "colab": {
          "base_uri": "https://localhost:8080/"
        },
        "id": "2239d30d",
        "outputId": "6203aa44-462e-4439-a906-0e111ea7fe3b"
      },
      "source": [
        "from sklearn.datasets import load_iris\n",
        "from sklearn.tree import DecisionTreeClassifier\n",
        "from sklearn.model_selection import train_test_split\n",
        "from sklearn.metrics import accuracy_score\n",
        "\n",
        "# Load the Iris dataset\n",
        "iris = load_iris()\n",
        "X, y = iris.data, iris.target\n",
        "\n",
        "# Split the dataset into training and testing sets\n",
        "X_train, X_test, y_train, y_test = train_test_split(X, y, test_size=0.3, random_state=42)\n",
        "\n",
        "# Initialize and train the Decision Tree Classifier with min_samples_split=5\n",
        "clf_min_samples_split = DecisionTreeClassifier(min_samples_split=5, random_state=42)\n",
        "clf_min_samples_split.fit(X_train, y_train)\n",
        "\n",
        "# Make predictions and calculate accuracy for the tree with min_samples_split=5\n",
        "y_pred_min_samples_split = clf_min_samples_split.predict(X_test)\n",
        "accuracy_min_samples_split = accuracy_score(y_test, y_pred_min_samples_split)\n",
        "print(f\"Accuracy of the Decision Tree Classifier with min_samples_split=5: {accuracy_min_samples_split:.2f}\")\n",
        "\n",
        "# Initialize and train a default Decision Tree Classifier\n",
        "clf_default = DecisionTreeClassifier(random_state=42)\n",
        "clf_default.fit(X_train, y_train)\n",
        "\n",
        "# Make predictions and calculate accuracy for the default tree\n",
        "y_pred_default = clf_default.predict(X_test)\n",
        "accuracy_default = accuracy_score(y_test, y_pred_default)\n",
        "print(f\"Accuracy of the default Decision Tree Classifier: {accuracy_default:.2f}\")"
      ],
      "execution_count": 7,
      "outputs": [
        {
          "output_type": "stream",
          "name": "stdout",
          "text": [
            "Accuracy of the Decision Tree Classifier with min_samples_split=5: 1.00\n",
            "Accuracy of the default Decision Tree Classifier: 1.00\n"
          ]
        }
      ]
    },
    {
      "cell_type": "markdown",
      "source": [
        "23. Write a Python program to apply feature scaling before training a Decision Tree Classifier and compare its\n",
        "accuracy with unscaled data"
      ],
      "metadata": {
        "id": "alFTPT9MGfiv"
      }
    },
    {
      "cell_type": "code",
      "metadata": {
        "colab": {
          "base_uri": "https://localhost:8080/"
        },
        "id": "4bcbe80e",
        "outputId": "0ba65adf-8f83-4adc-d6e0-4298d9271ce2"
      },
      "source": [
        "from sklearn.datasets import load_breast_cancer\n",
        "from sklearn.tree import DecisionTreeClassifier\n",
        "from sklearn.model_selection import train_test_split\n",
        "from sklearn.preprocessing import StandardScaler\n",
        "from sklearn.metrics import accuracy_score\n",
        "\n",
        "# Load a dataset where feature scaling might be beneficial (e.g., Breast Cancer dataset)\n",
        "data = load_breast_cancer()\n",
        "X, y = data.data, data.target\n",
        "\n",
        "# Split the dataset into training and testing sets\n",
        "X_train, X_test, y_train, y_test = train_test_split(X, y, test_size=0.3, random_state=42)\n",
        "\n",
        "# --- Train Decision Tree on unscaled data ---\n",
        "clf_unscaled = DecisionTreeClassifier(random_state=42)\n",
        "clf_unscaled.fit(X_train, y_train)\n",
        "\n",
        "# Make predictions and calculate accuracy for unscaled data\n",
        "y_pred_unscaled = clf_unscaled.predict(X_test)\n",
        "accuracy_unscaled = accuracy_score(y_test, y_pred_unscaled)\n",
        "print(f\"Accuracy of the Decision Tree Classifier on unscaled data: {accuracy_unscaled:.2f}\")\n",
        "\n",
        "# --- Apply Feature Scaling ---\n",
        "scaler = StandardScaler()\n",
        "X_train_scaled = scaler.fit_transform(X_train)\n",
        "X_test_scaled = scaler.transform(X_test)\n",
        "\n",
        "# --- Train Decision Tree on scaled data ---\n",
        "clf_scaled = DecisionTreeClassifier(random_state=42)\n",
        "clf_scaled.fit(X_train_scaled, y_train) # Corrected: used y_train\n",
        "\n",
        "# Make predictions and calculate accuracy for scaled data\n",
        "y_pred_scaled = clf_scaled.predict(X_test_scaled)\n",
        "accuracy_scaled = accuracy_score(y_test, y_pred_scaled)\n",
        "print(f\"Accuracy of the Decision Tree Classifier on scaled data: {accuracy_scaled:.2f}\")"
      ],
      "execution_count": 9,
      "outputs": [
        {
          "output_type": "stream",
          "name": "stdout",
          "text": [
            "Accuracy of the Decision Tree Classifier on unscaled data: 0.94\n",
            "Accuracy of the Decision Tree Classifier on scaled data: 0.94\n"
          ]
        }
      ]
    },
    {
      "cell_type": "markdown",
      "source": [
        "24. Write a Python program to train a Decision Tree Classifier using One-vs-Rest (OvR) strategy for multiclass\n",
        "classification"
      ],
      "metadata": {
        "id": "dKCXGGbNGk0j"
      }
    },
    {
      "cell_type": "code",
      "metadata": {
        "colab": {
          "base_uri": "https://localhost:8080/"
        },
        "id": "521101da",
        "outputId": "e4ad5e08-8fc2-444c-c2ce-2029eec2694b"
      },
      "source": [
        "from sklearn.datasets import load_iris\n",
        "from sklearn.tree import DecisionTreeClassifier\n",
        "from sklearn.model_selection import train_test_split\n",
        "from sklearn.multiclass import OneVsRestClassifier\n",
        "from sklearn.metrics import accuracy_score\n",
        "\n",
        "# Load the Iris dataset\n",
        "iris = load_iris()\n",
        "X, y = iris.data, iris.target\n",
        "\n",
        "# Split the dataset into training and testing sets\n",
        "X_train, X_test, y_train, y_test = train_test_split(X, y, test_size=0.3, random_state=42)\n",
        "\n",
        "# Initialize a Decision Tree Classifier\n",
        "dt_classifier = DecisionTreeClassifier(random_state=42)\n",
        "\n",
        "# Initialize the OneVsRestClassifier with the Decision Tree Classifier\n",
        "ovr_classifier = OneVsRestClassifier(dt_classifier)\n",
        "\n",
        "# Train the OneVsRestClassifier\n",
        "ovr_classifier.fit(X_train, y_train)\n",
        "\n",
        "# Make predictions on the test set\n",
        "y_pred = ovr_classifier.predict(X_test)\n",
        "\n",
        "# Calculate and print the accuracy\n",
        "accuracy = accuracy_score(y_test, y_pred)\n",
        "print(f\"Accuracy of the Decision Tree Classifier with One-vs-Rest strategy: {accuracy:.2f}\")"
      ],
      "execution_count": 10,
      "outputs": [
        {
          "output_type": "stream",
          "name": "stdout",
          "text": [
            "Accuracy of the Decision Tree Classifier with One-vs-Rest strategy: 1.00\n"
          ]
        }
      ]
    },
    {
      "cell_type": "markdown",
      "source": [
        "25. Write a Python program to train a Decision Tree Classifier and display the feature importance scores"
      ],
      "metadata": {
        "id": "QqTNIzNMGsg8"
      }
    },
    {
      "cell_type": "code",
      "metadata": {
        "colab": {
          "base_uri": "https://localhost:8080/"
        },
        "id": "1b4ef92b",
        "outputId": "e366a554-6cb7-4c17-da5e-c0cebd69234c"
      },
      "source": [
        "from sklearn.datasets import load_iris\n",
        "from sklearn.tree import DecisionTreeClassifier\n",
        "from sklearn.model_selection import train_test_split\n",
        "\n",
        "# Load the Iris dataset\n",
        "iris = load_iris()\n",
        "X, y = iris.data, iris.target\n",
        "\n",
        "# Split the dataset into training and testing sets\n",
        "X_train, X_test, y_train, y_test = train_test_split(X, y, test_size=0.3, random_state=42)\n",
        "\n",
        "# Initialize and train the Decision Tree Classifier\n",
        "clf = DecisionTreeClassifier(random_state=42)\n",
        "clf.fit(X_train, y_train)\n",
        "\n",
        "# Get and print the feature importances\n",
        "feature_importances = clf.feature_importances_\n",
        "feature_names = iris.feature_names\n",
        "\n",
        "print(\"Feature importances:\")\n",
        "for name, importance in zip(feature_names, feature_importances):\n",
        "    print(f\"{name}: {importance:.4f}\")"
      ],
      "execution_count": 11,
      "outputs": [
        {
          "output_type": "stream",
          "name": "stdout",
          "text": [
            "Feature importances:\n",
            "sepal length (cm): 0.0000\n",
            "sepal width (cm): 0.0191\n",
            "petal length (cm): 0.8933\n",
            "petal width (cm): 0.0876\n"
          ]
        }
      ]
    },
    {
      "cell_type": "markdown",
      "source": [
        "26. Write a Python program to train a Decision Tree Classifier, apply Cost Complexity Pruning (CCP), and\n",
        "visualize its effect on accuracy"
      ],
      "metadata": {
        "id": "umCfeyfZHlv1"
      }
    },
    {
      "cell_type": "code",
      "metadata": {
        "colab": {
          "base_uri": "https://localhost:8080/",
          "height": 599
        },
        "id": "2fe33ef8",
        "outputId": "9ae15ec8-46c0-403f-8790-71117cadbbec"
      },
      "source": [
        "import matplotlib.pyplot as plt\n",
        "from sklearn.datasets import load_iris\n",
        "from sklearn.tree import DecisionTreeClassifier\n",
        "from sklearn.model_selection import train_test_split\n",
        "from sklearn.metrics import accuracy_score\n",
        "\n",
        "# Load the Iris dataset\n",
        "iris = load_iris()\n",
        "X, y = iris.data, iris.target\n",
        "\n",
        "# Split the dataset into training and testing sets\n",
        "X_train, X_test, y_train, y_test = train_test_split(X, y, test_size=0.3, random_state=42)\n",
        "\n",
        "# Train a Decision Tree Classifier to find the effective alphas\n",
        "clf = DecisionTreeClassifier(random_state=42)\n",
        "path = clf.cost_complexity_pruning_path(X_train, y_train)\n",
        "ccp_alphas, impurities = path.ccp_alphas, path.impurities\n",
        "\n",
        "# Train Decision Tree Classifiers with different effective alphas\n",
        "clfs = []\n",
        "for ccp_alpha in ccp_alphas:\n",
        "    clf = DecisionTreeClassifier(random_state=42, ccp_alpha=ccp_alpha)\n",
        "    clf.fit(X_train, y_train)\n",
        "    clfs.append(clf)\n",
        "\n",
        "# Remove the last classifier, which is the trivial tree with only one node\n",
        "clfs = clfs[:-1]\n",
        "ccp_alphas = ccp_alphas[:-1]\n",
        "\n",
        "# Calculate accuracy on the test set for each alpha\n",
        "test_accuracies = []\n",
        "for clf in clfs:\n",
        "    y_pred = clf.predict(X_test)\n",
        "    test_accuracies.append(accuracy_score(y_test, y_pred))\n",
        "\n",
        "# Visualize the effect of ccp_alpha on accuracy\n",
        "plt.figure(figsize=(10, 6))\n",
        "plt.plot(ccp_alphas, test_accuracies, marker='o', drawstyle=\"steps-post\")\n",
        "plt.xlabel(\"alpha\")\n",
        "plt.ylabel(\"Accuracy on test set\")\n",
        "plt.title(\"Accuracy vs alpha for Cost Complexity Pruning\")\n",
        "plt.grid(True)\n",
        "plt.show()\n",
        "\n",
        "# Optional: Find the alpha that gives the highest accuracy on the test set\n",
        "optimal_alpha_index = test_accuracies.index(max(test_accuracies))\n",
        "optimal_alpha = ccp_alphas[optimal_alpha_index]\n",
        "print(f\"\\nOptimal ccp_alpha based on test accuracy: {optimal_alpha:.4f}\")\n",
        "\n",
        "# Optional: Train the final model with the optimal alpha\n",
        "# final_clf = DecisionTreeClassifier(random_state=42, ccp_alpha=optimal_alpha)\n",
        "# final_clf.fit(X_train, y_train)\n",
        "# final_accuracy = accuracy_score(y_test, final_clf.predict(X_test))\n",
        "# print(f\"Accuracy of the final pruned tree with optimal alpha: {final_accuracy:.2f}\")"
      ],
      "execution_count": 12,
      "outputs": [
        {
          "output_type": "display_data",
          "data": {
            "text/plain": [
              "<Figure size 1000x600 with 1 Axes>"
            ],
            "image/png": "[encoded data removed]"
          },
          "metadata": {}
        },
        {
          "output_type": "stream",
          "name": "stdout",
          "text": [
            "\n",
            "Optimal ccp_alpha based on test accuracy: 0.0000\n"
          ]
        }
      ]
    },
    {
      "cell_type": "markdown",
      "source": [
        "27. Write a Python program to train a Decision Tree Classifier, apply Cost Complexity Pruning (CCP), and\n",
        "visualize its effect on accuracy"
      ],
      "metadata": {
        "id": "5_vggAN6IGPd"
      }
    },
    {
      "cell_type": "code",
      "source": [
        "import numpy as np\n",
        "import matplotlib.pyplot as plt\n",
        "from sklearn.datasets import load_iris\n",
        "from sklearn.tree import DecisionTreeClassifier\n",
        "from sklearn.model_selection import train_test_split\n",
        "from sklearn.metrics import accuracy_score\n",
        "\n",
        "# Load dataset\n",
        "iris = load_iris()\n",
        "X, y = iris.data, iris.target\n",
        "\n",
        "# Split into train and test sets\n",
        "X_train, X_test, y_train, y_test = train_test_split(X, y, test_size=0.3, random_state=42)\n",
        "\n",
        "# Train a basic Decision Tree to get cost complexity pruning path\n",
        "clf = DecisionTreeClassifier(random_state=42)\n",
        "path = clf.cost_complexity_pruning_path(X_train, y_train)\n",
        "\n",
        "ccp_alphas = path.ccp_alphas[:-1]  # Exclude the maximum value to avoid single-node tree\n",
        "clfs = []\n",
        "\n",
        "# Train one tree per alpha value\n",
        "for ccp_alpha in ccp_alphas:\n",
        "    clf = DecisionTreeClassifier(random_state=42, ccp_alpha=ccp_alpha)\n",
        "    clf.fit(X_train, y_train)\n",
        "    clfs.append(clf)\n",
        "\n",
        "# Measure accuracy for each pruned tree\n",
        "train_scores = [accuracy_score(y_train, clf.predict(X_train)) for clf in clfs]\n",
        "test_scores = [accuracy_score(y_test, clf.predict(X_test)) for clf in clfs]\n",
        "\n",
        "# Plotting the effect of CCP Alpha on Accuracy\n",
        "plt.figure(figsize=(10, 6))\n",
        "plt.plot(ccp_alphas, train_scores, marker='o', label='Train Accuracy', drawstyle=\"steps-post\")\n",
        "plt.plot(ccp_alphas, test_scores, marker='o', label='Test Accuracy', drawstyle=\"steps-post\")\n",
        "plt.xlabel(\"CCP Alpha\")\n",
        "plt.ylabel(\"Accuracy\")\n",
        "plt.title(\"Effect of Cost Complexity Pruning on Decision Tree Accuracy\")\n",
        "plt.legend()\n",
        "plt.grid(True)\n",
        "plt.show()\n"
      ],
      "metadata": {
        "colab": {
          "base_uri": "https://localhost:8080/",
          "height": 564
        },
        "id": "1CXU7C6eIJy-",
        "outputId": "1de20a61-1278-4502-8552-111f5f893577"
      },
      "execution_count": 1,
      "outputs": [
        {
          "output_type": "display_data",
          "data": {
            "text/plain": [
              "<Figure size 1000x600 with 1 Axes>"
            ],
            "image/png": "[encoded data removed]"
          },
          "metadata": {}
        }
      ]
    },
    {
      "cell_type": "code",
      "source": [],
      "metadata": {
        "id": "WGNJYD2HQnl7"
      },
      "execution_count": null,
      "outputs": []
    },
    {
      "cell_type": "code",
      "metadata": {
        "colab": {
          "base_uri": "https://localhost:8080/"
        },
        "id": "69ad7d7e",
        "outputId": "5246107c-1ff9-4719-f17d-af6f30b2e156"
      },
      "source": [
        "from sklearn.datasets import load_iris\n",
        "from sklearn.tree import DecisionTreeClassifier\n",
        "from sklearn.model_selection import train_test_split\n",
        "from sklearn.metrics import classification_report\n",
        "\n",
        "# Load the Iris dataset\n",
        "iris = load_iris()\n",
        "X, y = iris.data, iris.target\n",
        "target_names = iris.target_names\n",
        "\n",
        "# Split the dataset into training and testing sets\n",
        "X_train, X_test, y_train, y_test = train_test_split(X, y, test_size=0.3, random_state=42)\n",
        "\n",
        "# Initialize and train the Decision Tree Classifier\n",
        "clf = DecisionTreeClassifier(random_state=42)\n",
        "clf.fit(X_train, y_train)\n",
        "\n",
        "# Make predictions on the test set\n",
        "y_pred = clf.predict(X_test)\n",
        "\n",
        "# Print the classification report\n",
        "print(\"Classification Report:\")\n",
        "print(classification_report(y_test, y_pred, target_names=target_names))"
      ],
      "execution_count": 2,
      "outputs": [
        {
          "output_type": "stream",
          "name": "stdout",
          "text": [
            "Classification Report:\n",
            "              precision    recall  f1-score   support\n",
            "\n",
            "      setosa       1.00      1.00      1.00        19\n",
            "  versicolor       1.00      1.00      1.00        13\n",
            "   virginica       1.00      1.00      1.00        13\n",
            "\n",
            "    accuracy                           1.00        45\n",
            "   macro avg       1.00      1.00      1.00        45\n",
            "weighted avg       1.00      1.00      1.00        45\n",
            "\n"
          ]
        }
      ]
    },
    {
      "cell_type": "markdown",
      "source": [
        "29. Write a Python program to train a Decision Tree Classifier and visualize the confusion matrix using seaborn"
      ],
      "metadata": {
        "id": "mw597lQEQ2IJ"
      }
    },
    {
      "cell_type": "code",
      "metadata": {
        "colab": {
          "base_uri": "https://localhost:8080/",
          "height": 564
        },
        "id": "81bbcec6",
        "outputId": "749fb42c-1299-427b-ddcb-28c23fcce81a"
      },
      "source": [
        "import matplotlib.pyplot as plt\n",
        "import seaborn as sns\n",
        "from sklearn.datasets import load_iris\n",
        "from sklearn.tree import DecisionTreeClassifier\n",
        "from sklearn.model_selection import train_test_split\n",
        "from sklearn.metrics import confusion_matrix\n",
        "\n",
        "# Load the Iris dataset\n",
        "iris = load_iris()\n",
        "X, y = iris.data, iris.target\n",
        "target_names = iris.target_names\n",
        "\n",
        "# Split the dataset into training and testing sets\n",
        "X_train, X_test, y_train, y_test = train_test_split(X, y, test_size=0.3, random_state=42)\n",
        "\n",
        "# Initialize and train the Decision Tree Classifier\n",
        "clf = DecisionTreeClassifier(random_state=42)\n",
        "clf.fit(X_train, y_train)\n",
        "\n",
        "# Make predictions on the test set\n",
        "y_pred = clf.predict(X_test)\n",
        "\n",
        "# Generate the confusion matrix\n",
        "cm = confusion_matrix(y_test, y_pred)\n",
        "\n",
        "# Visualize the confusion matrix using seaborn\n",
        "plt.figure(figsize=(8, 6))\n",
        "sns.heatmap(cm, annot=True, fmt='d', cmap='Blues', xticklabels=target_names, yticklabels=target_names)\n",
        "plt.xlabel('Predicted Label')\n",
        "plt.ylabel('True Label')\n",
        "plt.title('Confusion Matrix')\n",
        "plt.show()"
      ],
      "execution_count": 3,
      "outputs": [
        {
          "output_type": "display_data",
          "data": {
            "text/plain": [
              "<Figure size 800x600 with 2 Axes>"
            ],
            "image/png": "[encoded data removed]"
          },
          "metadata": {}
        }
      ]
    },
    {
      "cell_type": "markdown",
      "source": [
        "30.  Write a Python program to train a Decision Tree Classifier and use GridSearchCV to find the optimal values\n",
        "for max_depth and min_samples_split."
      ],
      "metadata": {
        "id": "NlefBOJhQ_gX"
      }
    },
    {
      "cell_type": "code",
      "metadata": {
        "colab": {
          "base_uri": "https://localhost:8080/"
        },
        "id": "98c9feb0",
        "outputId": "19d43c3f-2574-49f4-aca6-8d9244dc6fc4"
      },
      "source": [
        "from sklearn.datasets import load_iris\n",
        "from sklearn.tree import DecisionTreeClassifier\n",
        "from sklearn.model_selection import train_test_split, GridSearchCV\n",
        "\n",
        "# Load the Iris dataset\n",
        "iris = load_iris()\n",
        "X, y = iris.data, iris.target\n",
        "\n",
        "# Split the dataset into training and testing sets\n",
        "X_train, X_test, y_train, y_test = train_test_split(X, y, test_size=0.3, random_state=42)\n",
        "\n",
        "# Initialize the Decision Tree Classifier\n",
        "clf = DecisionTreeClassifier(random_state=42)\n",
        "\n",
        "# Define the parameter grid to search\n",
        "param_grid = {\n",
        "    'max_depth': [None, 5, 10, 15],\n",
        "    'min_samples_split': [2, 5, 10, 15]\n",
        "}\n",
        "\n",
        "# Initialize GridSearchCV\n",
        "grid_search = GridSearchCV(clf, param_grid, cv=5, scoring='accuracy')\n",
        "\n",
        "# Fit GridSearchCV to the training data\n",
        "grid_search.fit(X_train, y_train)\n",
        "\n",
        "# Print the best parameters and best score\n",
        "print(f\"Best parameters found: {grid_search.best_params_}\")\n",
        "print(f\"Best accuracy score found: {grid_search.best_score_:.2f}\")\n",
        "\n",
        "# Optional: Evaluate the best model on the test set\n",
        "best_clf = grid_search.best_estimator_\n",
        "test_accuracy = best_clf.score(X_test, y_test)\n",
        "print(f\"Accuracy of the best model on the test set: {test_accuracy:.2f}\")"
      ],
      "execution_count": 4,
      "outputs": [
        {
          "output_type": "stream",
          "name": "stdout",
          "text": [
            "Best parameters found: {'max_depth': None, 'min_samples_split': 10}\n",
            "Best accuracy score found: 0.94\n",
            "Accuracy of the best model on the test set: 1.00\n"
          ]
        }
      ]
    }
  ]
}